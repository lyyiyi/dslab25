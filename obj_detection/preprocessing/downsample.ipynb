{
 "cells": [
  {
   "cell_type": "markdown",
   "id": "4b17f5ac",
   "metadata": {},
   "source": [
    "# Downsample videos to target fps\n",
    "\n",
    "We downsampled our videos to 5fps to ease the memory constraints.\n",
    "\n",
    "Replace the DATA path with your video path of the original .avi files."
   ]
  },
  {
   "cell_type": "code",
   "execution_count": null,
   "id": "db37dbb5",
   "metadata": {},
   "outputs": [],
   "source": [
    "import cv2\n",
    "from tqdm import tqdm"
   ]
  },
  {
   "cell_type": "code",
   "execution_count": null,
   "id": "ff07b113",
   "metadata": {},
   "outputs": [],
   "source": [
    "def downsample_avi_to_mp4(input_avi, output_mp4, target_fps=1):\n",
    "    \"\"\"Downsample an AVI video to MP4 with a target FPS.\"\"\"\n",
    "    cap = cv2.VideoCapture(input_avi)\n",
    "    if not cap.isOpened():\n",
    "        raise IOError(f\"Cannot open {input_avi}\")\n",
    "\n",
    "    original_fps = cap.get(cv2.CAP_PROP_FPS)\n",
    "    if original_fps % target_fps != 0:\n",
    "        raise ValueError(\"Original FPS must be divisible by target FPS for integer downsampling.\")\n",
    "    stride = int(round(original_fps / target_fps))\n",
    "    if stride < 1:\n",
    "        raise ValueError(f\"Target FPS {target_fps} is too high for source FPS {original_fps}\")\n",
    "\n",
    "    width  = int(cap.get(cv2.CAP_PROP_FRAME_WIDTH))\n",
    "    height = int(cap.get(cv2.CAP_PROP_FRAME_HEIGHT))\n",
    "\n",
    "    fourcc = cv2.VideoWriter_fourcc(*'mp4v')  # Good cross-platform choice\n",
    "    out = cv2.VideoWriter(output_mp4, fourcc, target_fps, (width, height))\n",
    "    if not out.isOpened():\n",
    "        raise IOError(f\"Cannot write to {output_mp4}\")\n",
    "\n",
    "    frame_idx = 0\n",
    "    while True:\n",
    "        ret, frame = cap.read()\n",
    "        if not ret:\n",
    "            break\n",
    "\n",
    "        if frame_idx % stride == 0:\n",
    "            out.write(frame)\n",
    "\n",
    "        frame_idx += 1\n",
    "\n",
    "    cap.release()\n",
    "    out.release()\n",
    "    print(f\"Downsampled video saved to {output_mp4} at {target_fps} FPS\")\n"
   ]
  },
  {
   "cell_type": "code",
   "execution_count": null,
   "id": "04995b10",
   "metadata": {},
   "outputs": [],
   "source": [
    "DATA = \"path/to/your/videos\" # Replace with your path"
   ]
  },
  {
   "cell_type": "code",
   "execution_count": null,
   "id": "d7ef8eee",
   "metadata": {},
   "outputs": [],
   "source": [
    "target_fps = 5\n",
    "# iterate over all people\n",
    "for subject in tqdm(range(1,21)):\n",
    "    #iterate over 1st, 2nd and 3rd run for cam2\n",
    "    for run in range(1,4):\n",
    "        RUN = f'{subject:02}_run{run}_cam_2'\n",
    "        input_path = f'{DATA}/Vacuum_pump/{subject:02}/Full_recordings/{RUN}.avi'\n",
    "        output_path = f'{DATA}/Vacuum_pump/{subject:02}/Full_recordings/{RUN}_{target_fps}fps.mp4'\n",
    "        downsample_avi_to_mp4(input_path, output_path, target_fps=target_fps)"
   ]
  }
 ],
 "metadata": {
  "language_info": {
   "name": "python"
  }
 },
 "nbformat": 4,
 "nbformat_minor": 5
}

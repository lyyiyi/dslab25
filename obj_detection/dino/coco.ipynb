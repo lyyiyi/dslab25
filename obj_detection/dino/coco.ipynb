{
 "cells": [
  {
   "cell_type": "code",
   "execution_count": 1,
   "metadata": {},
   "outputs": [],
   "source": [
    "import os\n",
    "import json\n",
    "import torch.multiprocessing as mp\n",
    "from PIL import Image"
   ]
  },
  {
   "cell_type": "markdown",
   "metadata": {},
   "source": [
    "# From YOLO to COCO annotation"
   ]
  },
  {
   "cell_type": "code",
   "execution_count": 2,
   "metadata": {},
   "outputs": [
    {
     "name": "stdout",
     "output_type": "stream",
     "text": [
      "COCO annotations saved to /workspace/dslab25/training/vacuum_pump/coco_annotations.json\n"
     ]
    }
   ],
   "source": [
    "# CONFIG\n",
    "repo_dir = os.getcwd().split('dslab25')[0] + 'dslab25/'\n",
    "root_dir = repo_dir + \"training/vacuum_pump\"\n",
    "image_dir = os.path.join(root_dir, \"images/augmented\")\n",
    "label_dir = os.path.join(root_dir, \"annotation/augmented\")\n",
    "coco_path = os.path.join(root_dir, \"coco_annotations.json\")\n",
    "\n",
    "# Collect category mapping\n",
    "stage_folders = [f\"stage_{i}\" for i in range(8)]\n",
    "category_mapping = {name: i for i, name in enumerate(stage_folders)}  # name -> ID\n",
    "categories = [{\"id\": i, \"name\": name} for name, i in category_mapping.items()]\n",
    "\n",
    "# Initialize COCO structure\n",
    "coco_output = {\n",
    "\t\"images\": [],\n",
    "\t\"annotations\": [],\n",
    "\t\"categories\": categories\n",
    "}\n",
    "\n",
    "image_id = 0\n",
    "annotation_id = 0\n",
    "\n",
    "# Traverse through each stage folder\n",
    "for class_folder in stage_folders:\n",
    "\timg_folder = os.path.join(image_dir, class_folder)\n",
    "\tlabel_folder = os.path.join(label_dir, class_folder)\n",
    "\tcategory_id = category_mapping[class_folder]\n",
    "\n",
    "\tfor filename in os.listdir(img_folder):\n",
    "\t\tif not filename.endswith(\".jpg\"):\n",
    "\t\t\tcontinue\n",
    "\n",
    "\t\timage_path = os.path.join(img_folder, filename)\n",
    "\t\tlabel_path = os.path.join(label_folder, filename.replace(\".jpg\", \".txt\"))\n",
    "\n",
    "\t\t# Read image size\n",
    "\t\twith Image.open(image_path) as img:\n",
    "\t\t\twidth, height = img.size\n",
    "\n",
    "\t\t# Add image entry\n",
    "\t\tcoco_output[\"images\"].append({\n",
    "\t\t\t\"id\": image_id,\n",
    "\t\t\t\"file_name\": f\"{class_folder}/{filename}\",\n",
    "\t\t\t\"width\": width,\n",
    "\t\t\t\"height\": height\n",
    "\t\t})\n",
    "\n",
    "\t\t# Process annotation\n",
    "\t\tif os.path.exists(label_path):\n",
    "\t\t\twith open(label_path, \"r\") as f:\n",
    "\t\t\t\tfor line in f:\n",
    "\t\t\t\t\tparts = line.strip().split()\n",
    "\t\t\t\t\tif len(parts) != 5:\n",
    "\t\t\t\t\t\tcontinue\n",
    "\t\t\t\t\tcls, x_center, y_center, w, h = map(float, parts)\n",
    "\n",
    "\t\t\t\t\t# Convert YOLO to COCO format\n",
    "\t\t\t\t\tx = (x_center - w / 2) * width\n",
    "\t\t\t\t\ty = (y_center - h / 2) * height\n",
    "\t\t\t\t\tbox_width = w * width\n",
    "\t\t\t\t\tbox_height = h * height\n",
    "\n",
    "\t\t\t\t\tcoco_output[\"annotations\"].append({\n",
    "\t\t\t\t\t\t\"id\": annotation_id,\n",
    "\t\t\t\t\t\t\"image_id\": image_id,\n",
    "\t\t\t\t\t\t\"category_id\": category_id,\n",
    "\t\t\t\t\t\t\"bbox\": [x, y, box_width, box_height],\n",
    "\t\t\t\t\t\t\"area\": box_width * box_height,\n",
    "\t\t\t\t\t\t\"iscrowd\": 0\n",
    "\t\t\t\t\t})\n",
    "\t\t\t\t\tannotation_id += 1\n",
    "\n",
    "\t\timage_id += 1\n",
    "\n",
    "# Save to JSON\n",
    "with open(coco_path, \"w\") as f:\n",
    "\tjson.dump(coco_output, f, indent=2)\n",
    "\n",
    "print(f\"COCO annotations saved to {coco_path}\")"
   ]
  }
 ],
 "metadata": {
  "kernelspec": {
   "display_name": "Python 3",
   "language": "python",
   "name": "python3"
  },
  "language_info": {
   "codemirror_mode": {
    "name": "ipython",
    "version": 3
   },
   "file_extension": ".py",
   "mimetype": "text/x-python",
   "name": "python",
   "nbconvert_exporter": "python",
   "pygments_lexer": "ipython3",
   "version": "3.11.10"
  }
 },
 "nbformat": 4,
 "nbformat_minor": 2
}

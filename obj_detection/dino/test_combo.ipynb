{
 "cells": [
  {
   "cell_type": "code",
   "execution_count": 1,
   "metadata": {},
   "outputs": [],
   "source": [
    "import os\n",
    "# os.environ[\"HF_HOME\"] = \"/workspace/huggingface\"\n",
    "# or\n",
    "# os.environ[\"TRANSFORMERS_CACHE\"] = \"/workspace/hf_models\"\n",
    "import sys\n",
    "sys.path.append(\"/Users/georgye/Documents/repos/ethz/EdgeTAM\")\n",
    "\n",
    "import base64\n",
    "import io\n",
    "import imageio\n",
    "import json\n",
    "import torch\n",
    "import torch.nn.functional as F\n",
    "import numpy as np\n",
    "import cv2\n",
    "from ultralytics import YOLO\n",
    "from PIL import Image, ImageDraw, ImageFont\n",
    "from transformers import AutoImageProcessor\n",
    "from utils import DINOv2Classifier\n",
    "from safetensors.torch import load_file as load_safetensors\n",
    "from IPython.display import display, HTML"
   ]
  },
  {
   "cell_type": "code",
   "execution_count": 2,
   "metadata": {
    "jupyter": {
     "source_hidden": true
    }
   },
   "outputs": [],
   "source": [
    "# CONFIGURATION\n",
    "\n",
    "if torch.cuda.is_available():\n",
    "\tdevice = torch.device(\"cuda\")\n",
    "elif torch.backends.mps.is_available():\n",
    "\tdevice = torch.device(\"mps\")\n",
    "else:\n",
    "\tdevice = torch.device(\"cpu\")\n",
    "\n",
    "repo_dir = os.getcwd().split('dslab25')[0] + 'dslab25/'\n",
    "video_path = os.path.join(repo_dir, \"assets/vacuum_pump/videos/01_run1_cam_2_1024x1024_15fps_3mbps.mp4\")\n",
    "labels_path = os.path.join(repo_dir, \"assets/vacuum_pump/videos/output.txt\")\n",
    "coco_path = os.path.join(repo_dir, \"training/vacuum_pump/coco_annotations.json\")\n",
    "\n",
    "# Path to your trained YOLOv12 weights (adjust as needed)\n",
    "temp_images_dir = os.path.join(repo_dir, \"temp_images\")\n",
    "anno_dir = os.path.join(repo_dir, \"assets/vacuum_pump/eval/anno\")\n",
    "base_dir = os.path.join(repo_dir, \"training/vacuum_pump\")\n",
    "\n",
    "coco_path = os.path.join(base_dir, \"coco_annotations.json\")\n",
    "YOL_THRESHOLD = 0.38\n",
    "\n",
    "os.makedirs(temp_images_dir, exist_ok=True)"
   ]
  },
  {
   "cell_type": "code",
   "execution_count": 3,
   "metadata": {},
   "outputs": [],
   "source": [
    "pretrained_model = \"facebook/dinov2-with-registers-base\"\n",
    "yolo_model_path = os.path.join(repo_dir, \"obj_detection/dino/yolo_runs/yolov12_boundingbox2\", \"weights\", \"best.pt\")\n",
    "model_dir = os.path.join(repo_dir, \"obj_detection/dino/dinov2_finetune/base/final_model/\")"
   ]
  },
  {
   "cell_type": "code",
   "execution_count": 4,
   "metadata": {
    "jupyter": {
     "source_hidden": true
    }
   },
   "outputs": [
    {
     "name": "stdout",
     "output_type": "stream",
     "text": [
      "Loading labels from: /workspace/dslab25/assets/vacuum_pump/videos/output.txt\n",
      "Loading COCO annotations from: /workspace/dslab25/training/vacuum_pump/coco_annotations.json\n"
     ]
    }
   ],
   "source": [
    "def load_labels(labels_path):\n",
    "\t\"\"\"Load ground truth labels from file.\"\"\"\n",
    "\tframe_to_class = {}\n",
    "\twith open(labels_path, 'r') as f:\n",
    "\t\tfor line in f:\n",
    "\t\t\tparts = line.strip().split()\n",
    "\t\t\tif len(parts) == 3:\n",
    "\t\t\t\tstate_class, start_frame, end_frame = int(parts[0]), int(parts[1]), int(parts[2])\n",
    "\t\t\t\tfor frame_idx in range(start_frame, end_frame + 1):\n",
    "\t\t\t\t\tframe_to_class[frame_idx] = state_class\n",
    "\treturn frame_to_class\n",
    "\n",
    "# Load ground truth labels.\n",
    "print(f\"Loading labels from: {labels_path}\")\n",
    "frame_to_class = load_labels(labels_path)\n",
    "\n",
    "# Load COCO annotations to map category IDs to names.\n",
    "print(f\"Loading COCO annotations from: {coco_path}\")\n",
    "try:\n",
    "\twith open(coco_path, 'r') as f:\n",
    "\t\tcoco_data = json.load(f)\n",
    "\tcategory_id_to_name = {cat['id']: cat.get('name', f'category_{cat[\"id\"]}')\n",
    "\t\t\t\t\t\t\t\tfor cat in coco_data.get('categories', [])}\n",
    "except (FileNotFoundError, json.JSONDecodeError) as e:\n",
    "\tprint(f\"Error loading COCO annotations: {e}\")\n",
    "\tcategory_id_to_name = {}\n"
   ]
  },
  {
   "cell_type": "markdown",
   "metadata": {},
   "source": [
    "# Yolo"
   ]
  },
  {
   "cell_type": "code",
   "execution_count": 6,
   "metadata": {},
   "outputs": [],
   "source": [
    "# # Define label grouping logic\n",
    "# def labels_match(pred, true):\n",
    "# \tgroup_1 = {4, 5}\n",
    "# \tgroup_2 = {6, 7}\n",
    "# \tif pred == true:\n",
    "# \t\treturn True\n",
    "# \t# return False\n",
    "# \tif pred in group_1 and true in group_1:\n",
    "# \t\treturn True\n",
    "# \tif pred in group_2 and true in group_2:\n",
    "# \t\treturn True\n",
    "# \treturn False\n",
    "\n",
    "# try:\n",
    "# \tfont = ImageFont.truetype(\"arial.ttf\", 16)\n",
    "# except IOError:\n",
    "# \tfont = ImageFont.load_default()\n",
    "\n",
    "# print(f\"Loading video from: {video_path}\")\n",
    "# video = cv2.VideoCapture(video_path)\n",
    "# if not video.isOpened():\n",
    "# \traise Exception(\"Error: Could not open video file.\")\n",
    "\t\n",
    "# total_frames = int(video.get(cv2.CAP_PROP_FRAME_COUNT))\n",
    "# fps = video.get(cv2.CAP_PROP_FPS)\n",
    "# print(f\"Video info: {total_frames} frames, {fps} fps\")\n",
    "\n",
    "# print(\"\\n--- Starting YOLO Evaluation ---\")\n",
    "# frame_idx = 0\n",
    "# frames_to_process = []\n",
    "# while True:\n",
    "# \tret, frame = video.read()\n",
    "# \tif not ret:\n",
    "# \t\tbreak\n",
    "# \tif frame_idx % 5 == 0 and frame_idx in frame_to_class:\n",
    "# \t\tframes_to_process.append((frame_idx, frame))\n",
    "# \tframe_idx += 1\n",
    "# video.release()\n",
    "# print(f\"Total frames to evaluate: {len(frames_to_process)}\")\n",
    "\n",
    "# os.makedirs(temp_images_dir, exist_ok=True)\n"
   ]
  },
  {
   "cell_type": "code",
   "execution_count": 7,
   "metadata": {},
   "outputs": [],
   "source": [
    "# print(\"Loading YOLO model...\")\n",
    "# yolo_model = YOLO(yolo_model_path)"
   ]
  },
  {
   "cell_type": "code",
   "execution_count": 8,
   "metadata": {
    "jupyter": {
     "source_hidden": true
    }
   },
   "outputs": [],
   "source": [
    "# correct_predictions = 0\n",
    "# total_predictions = 0\n",
    "\n",
    "# for frame_idx, frame in frames_to_process:\n",
    "# \tframe_rgb = cv2.cvtColor(frame, cv2.COLOR_BGR2RGB)\n",
    "# \timage = Image.fromarray(frame_rgb)\n",
    "\n",
    "# \tyolo_results = yolo_model(frame)\n",
    "# \tif len(yolo_results) == 0 or len(yolo_results[0].boxes) == 0:\n",
    "# \t\tprint(f\"Frame {frame_idx}: No detection found. Skipping frame.\")\n",
    "# \t\tcontinue\n",
    "\n",
    "# \tboxes = yolo_results[0].boxes.data\t# Each row: [x1, y1, x2, y2, conf, cls]\n",
    "# \ttrue_label = frame_to_class[frame_idx]\n",
    "# \ttrue_label_name = category_id_to_name.get(true_label, f\"Class_{true_label}\")\n",
    "# \t# Filter boxes by threshold\n",
    "# \tfiltered_boxes = [box for box in boxes if box[4].item() >= YOL_THRESHOLD]\n",
    "\n",
    "# \t# Pick the box with the highest confidence\n",
    "# \tif filtered_boxes:\n",
    "# \t\tbest_box = max(filtered_boxes, key=lambda b: b[4].item())\n",
    "# \t\tconfidence = best_box[4].item()\n",
    "\n",
    "# \t\tpredicted_label = int(best_box[5].item())\n",
    "# \t\tpredicted_label_name = category_id_to_name.get(predicted_label, f\"Class_{predicted_label}\")\n",
    "\n",
    "# \t\tx1, y1, x2, y2 = map(int, best_box[:4].tolist())\n",
    "# \t\tx1 = max(0, x1)\n",
    "# \t\ty1 = max(0, y1)\n",
    "# \t\tx2 = min(image.width, x2)\n",
    "# \t\ty2 = min(image.height, y2)\n",
    "\n",
    "# \t\tcropped_image = image.crop((x1, y1, x2, y2))\n",
    "# \t\tcropped_path = os.path.join(temp_images_dir, f\"frame_{str(frame_idx).zfill(4)}.jpg\")\n",
    "# \t\tcropped_image.save(cropped_path)\n",
    "\n",
    "# \t\tprint(f\"Saved cropped image: {cropped_path}\")\n",
    "\n",
    "# \t\tis_correct = labels_match(predicted_label, true_label)\n",
    "# \t\tif is_correct:\n",
    "# \t\t\t\tcorrect_predictions += 1\n",
    "# \t\ttotal_predictions += 1\n",
    "\n",
    "# \t\tprint(f\"Frame {frame_idx}\")\n",
    "# \t\tprint(f\"\tTrue:\t  {true_label_name} (ID: {true_label})\")\n",
    "# \t\tprint(f\"\tPredicted: {predicted_label_name} (ID: {predicted_label}) | Conf: {confidence:.2f}\")\n",
    "# \t\tprint(f\"\tCorrect:   {'✅ Yes' if is_correct else '❌ No'}\")\n",
    "# \t\tprint(\"-\" * 30)\n",
    "\n",
    "# accuracy = correct_predictions / total_predictions if total_predictions > 0 else 0\n",
    "# print(\"\\nEvaluation Summary:\")\n",
    "# print(f\"\tTotal predictions: {total_predictions}\")\n",
    "# print(f\"\tCorrect predictions: {correct_predictions}\")\n",
    "# print(f\"\tAccuracy: {accuracy:.2f}\")"
   ]
  },
  {
   "cell_type": "markdown",
   "metadata": {},
   "source": [
    "# DinoV2 (init)"
   ]
  },
  {
   "cell_type": "code",
   "execution_count": 5,
   "metadata": {},
   "outputs": [
    {
     "name": "stdout",
     "output_type": "stream",
     "text": [
      "Loading image processor...\n"
     ]
    },
    {
     "name": "stderr",
     "output_type": "stream",
     "text": [
      "Using a slow image processor as `use_fast` is unset and a slow processor was saved with this model. `use_fast=True` will be the default behavior in v4.52, even if the model was saved with a slow processor. This will result in minor differences in outputs. You'll still be able to use a slow processor with `use_fast=False`.\n"
     ]
    },
    {
     "name": "stdout",
     "output_type": "stream",
     "text": [
      "Using device: cuda\n",
      "Number of classes: 8\n",
      "Loading model...\n"
     ]
    },
    {
     "name": "stderr",
     "output_type": "stream",
     "text": [
      "Some weights of Dinov2WithRegistersForImageClassification were not initialized from the model checkpoint at facebook/dinov2-with-registers-base and are newly initialized: ['classifier.bias', 'classifier.weight']\n",
      "You should probably TRAIN this model on a down-stream task to be able to use it for predictions and inference.\n"
     ]
    },
    {
     "name": "stdout",
     "output_type": "stream",
     "text": [
      "Loading model weights from: /workspace/dslab25/obj_detection/dino/dinov2_finetune/base/final_model/model.safetensors\n"
     ]
    },
    {
     "data": {
      "text/plain": [
       "DINOv2Classifier(\n",
       "  (model): Dinov2WithRegistersForImageClassification(\n",
       "    (dinov2_with_registers): Dinov2WithRegistersModel(\n",
       "      (embeddings): Dinov2WithRegistersEmbeddings(\n",
       "        (patch_embeddings): Dinov2WithRegistersPatchEmbeddings(\n",
       "          (projection): Conv2d(3, 768, kernel_size=(14, 14), stride=(14, 14))\n",
       "        )\n",
       "        (dropout): Dropout(p=0.0, inplace=False)\n",
       "      )\n",
       "      (encoder): Dinov2WithRegistersEncoder(\n",
       "        (layer): ModuleList(\n",
       "          (0-11): 12 x Dinov2WithRegistersLayer(\n",
       "            (norm1): LayerNorm((768,), eps=1e-06, elementwise_affine=True)\n",
       "            (attention): Dinov2WithRegistersAttention(\n",
       "              (attention): Dinov2WithRegistersSelfAttention(\n",
       "                (query): Linear(in_features=768, out_features=768, bias=True)\n",
       "                (key): Linear(in_features=768, out_features=768, bias=True)\n",
       "                (value): Linear(in_features=768, out_features=768, bias=True)\n",
       "              )\n",
       "              (output): Dinov2WithRegistersSelfOutput(\n",
       "                (dense): Linear(in_features=768, out_features=768, bias=True)\n",
       "                (dropout): Dropout(p=0.0, inplace=False)\n",
       "              )\n",
       "            )\n",
       "            (layer_scale1): Dinov2WithRegistersLayerScale()\n",
       "            (drop_path): Identity()\n",
       "            (norm2): LayerNorm((768,), eps=1e-06, elementwise_affine=True)\n",
       "            (mlp): Dinov2WithRegistersMLP(\n",
       "              (fc1): Linear(in_features=768, out_features=3072, bias=True)\n",
       "              (activation): GELUActivation()\n",
       "              (fc2): Linear(in_features=3072, out_features=768, bias=True)\n",
       "            )\n",
       "            (layer_scale2): Dinov2WithRegistersLayerScale()\n",
       "          )\n",
       "        )\n",
       "      )\n",
       "      (layernorm): LayerNorm((768,), eps=1e-06, elementwise_affine=True)\n",
       "    )\n",
       "    (classifier): Linear(in_features=1536, out_features=8, bias=True)\n",
       "  )\n",
       ")"
      ]
     },
     "execution_count": 5,
     "metadata": {},
     "output_type": "execute_result"
    }
   ],
   "source": [
    "from glob import glob\n",
    "pretrained_model = \"facebook/dinov2-with-registers-base\"\n",
    "image_files = sorted(glob(os.path.join(temp_images_dir, \"*.jpg\")))\n",
    "correct_predictions = 0\n",
    "total_predictions = 0\n",
    "\n",
    "# Load image processor and model\n",
    "print(\"Loading image processor...\")\n",
    "processor = AutoImageProcessor.from_pretrained(pretrained_model)\n",
    "\n",
    "# Determine device\n",
    "print(f\"Using device: {device}\")\n",
    "\n",
    "# Get number of classes from frame_to_class\n",
    "num_labels = max(frame_to_class.values()) + 1 if frame_to_class else 8\n",
    "print(f\"Number of classes: {num_labels}\")\n",
    "\n",
    "# Load model\n",
    "print(\"Loading model...\")\n",
    "model = DINOv2Classifier(num_labels=num_labels, pretrained_model=pretrained_model)\n",
    "\n",
    "# Load model weights\n",
    "safetensors_path = os.path.join(model_dir, \"model.safetensors\")\n",
    "bin_path = os.path.join(model_dir, \"pytorch_model.bin\")\n",
    "\n",
    "model_weights_path = None\n",
    "if os.path.exists(safetensors_path):\n",
    "\tmodel_weights_path = safetensors_path\n",
    "elif os.path.exists(bin_path):\n",
    "\tmodel_weights_path = bin_path\n",
    "\t\n",
    "if model_weights_path:\n",
    "\tprint(f\"Loading model weights from: {model_weights_path}\")\n",
    "\ttry:\n",
    "\t\tif model_weights_path.endswith(\".safetensors\"):\n",
    "\t\t\tstate_dict = load_safetensors(model_weights_path, device=str(device))\n",
    "\t\telse:\n",
    "\t\t\tstate_dict = torch.load(model_weights_path, map_location=str(device), weights_only=True)\n",
    "\t\t\t\n",
    "\t\t# Handle potential DDP prefix\n",
    "\t\tif next(iter(state_dict)).startswith('module.'):\n",
    "\t\t\tstate_dict = {k.partition('module.')[2]: v for k,v in state_dict.items()}\n",
    "\t\t\t\t\n",
    "\t\tmodel.load_state_dict(state_dict)\n",
    "\texcept Exception as e:\n",
    "\t\traise e\n",
    "else:\n",
    "\traise Exception(f\"Error: Model weights not found in {model_dir}\")\n",
    "\n",
    "\n",
    "model.to(device)\n",
    "model.eval()\n"
   ]
  },
  {
   "cell_type": "markdown",
   "metadata": {},
   "source": [
    "# SAM 2"
   ]
  },
  {
   "cell_type": "code",
   "execution_count": null,
   "metadata": {},
   "outputs": [
    {
     "name": "stdout",
     "output_type": "stream",
     "text": [
      "configuration solved\n",
      "model instantiated\n",
      "checkpoint loaded\n",
      "model ready\n"
     ]
    },
    {
     "ename": "OutOfMemoryError",
     "evalue": "CUDA out of memory. Tried to allocate 21.75 GiB. GPU 0 has a total capacity of 31.37 GiB of which 7.78 GiB is free. Including non-PyTorch memory, this process has 23.57 GiB memory in use. Of the allocated memory 22.78 GiB is allocated by PyTorch, and 193.21 MiB is reserved by PyTorch but unallocated. If reserved but unallocated memory is large try setting PYTORCH_CUDA_ALLOC_CONF=expandable_segments:True to avoid fragmentation.  See documentation for Memory Management  (https://pytorch.org/docs/stable/notes/cuda.html#environment-variables)",
     "output_type": "error",
     "traceback": [
      "\u001b[0;31m---------------------------------------------------------------------------\u001b[0m",
      "\u001b[0;31mOutOfMemoryError\u001b[0m                          Traceback (most recent call last)",
      "Cell \u001b[0;32mIn[7], line 115\u001b[0m\n\u001b[1;32m    112\u001b[0m mask0 \u001b[38;5;241m=\u001b[39m torch\u001b[38;5;241m.\u001b[39mfrom_numpy(best_m[\u001b[38;5;124m\"\u001b[39m\u001b[38;5;124msegmentation\u001b[39m\u001b[38;5;124m\"\u001b[39m])\u001b[38;5;241m.\u001b[39mto(device)\u001b[38;5;241m.\u001b[39mbool()\n\u001b[1;32m    114\u001b[0m \u001b[38;5;66;03m# 8. TRACK & DRAW BOX (SKIPPING FIRST 70 FRAMES) -----------------------------\u001b[39;00m\n\u001b[0;32m--> 115\u001b[0m state \u001b[38;5;241m=\u001b[39m \u001b[43mvid_pred\u001b[49m\u001b[38;5;241;43m.\u001b[39;49m\u001b[43minit_state\u001b[49m\u001b[43m(\u001b[49m\u001b[43mvideo_path\u001b[49m\u001b[38;5;241;43m=\u001b[39;49m\u001b[43mvideo_path\u001b[49m\u001b[43m)\u001b[49m\n\u001b[1;32m    117\u001b[0m vid_pred\u001b[38;5;241m.\u001b[39madd_new_mask(state, frame_idx\u001b[38;5;241m=\u001b[39mskip_frames, mask\u001b[38;5;241m=\u001b[39mmask0, obj_id\u001b[38;5;241m=\u001b[39m\u001b[38;5;241m0\u001b[39m)\n\u001b[1;32m    118\u001b[0m writer \u001b[38;5;241m=\u001b[39m imageio\u001b[38;5;241m.\u001b[39mget_writer(\n\u001b[1;32m    119\u001b[0m \tboxed_out,\n\u001b[1;32m    120\u001b[0m \t\u001b[38;5;28mformat\u001b[39m\u001b[38;5;241m=\u001b[39m\u001b[38;5;124m\"\u001b[39m\u001b[38;5;124mFFMPEG\u001b[39m\u001b[38;5;124m\"\u001b[39m,\n\u001b[0;32m   (...)\u001b[0m\n\u001b[1;32m    123\u001b[0m \tffmpeg_params\u001b[38;5;241m=\u001b[39m[\u001b[38;5;124m\"\u001b[39m\u001b[38;5;124m-pix_fmt\u001b[39m\u001b[38;5;124m\"\u001b[39m, \u001b[38;5;124m\"\u001b[39m\u001b[38;5;124myuv420p\u001b[39m\u001b[38;5;124m\"\u001b[39m],\n\u001b[1;32m    124\u001b[0m )\n",
      "File \u001b[0;32m/usr/local/lib/python3.11/dist-packages/torch/utils/_contextlib.py:116\u001b[0m, in \u001b[0;36mcontext_decorator.<locals>.decorate_context\u001b[0;34m(*args, **kwargs)\u001b[0m\n\u001b[1;32m    113\u001b[0m \u001b[38;5;129m@functools\u001b[39m\u001b[38;5;241m.\u001b[39mwraps(func)\n\u001b[1;32m    114\u001b[0m \u001b[38;5;28;01mdef\u001b[39;00m \u001b[38;5;21mdecorate_context\u001b[39m(\u001b[38;5;241m*\u001b[39margs, \u001b[38;5;241m*\u001b[39m\u001b[38;5;241m*\u001b[39mkwargs):\n\u001b[1;32m    115\u001b[0m     \u001b[38;5;28;01mwith\u001b[39;00m ctx_factory():\n\u001b[0;32m--> 116\u001b[0m         \u001b[38;5;28;01mreturn\u001b[39;00m \u001b[43mfunc\u001b[49m\u001b[43m(\u001b[49m\u001b[38;5;241;43m*\u001b[39;49m\u001b[43margs\u001b[49m\u001b[43m,\u001b[49m\u001b[43m \u001b[49m\u001b[38;5;241;43m*\u001b[39;49m\u001b[38;5;241;43m*\u001b[39;49m\u001b[43mkwargs\u001b[49m\u001b[43m)\u001b[49m\n",
      "File \u001b[0;32m/workspace/EdgeTAM/sam2/sam2_video_predictor.py:53\u001b[0m, in \u001b[0;36mSAM2VideoPredictor.init_state\u001b[0;34m(self, video_path, offload_video_to_cpu, offload_state_to_cpu, async_loading_frames)\u001b[0m\n\u001b[1;32m     51\u001b[0m \u001b[38;5;250m\u001b[39m\u001b[38;5;124;03m\"\"\"Initialize an inference state.\"\"\"\u001b[39;00m\n\u001b[1;32m     52\u001b[0m compute_device \u001b[38;5;241m=\u001b[39m \u001b[38;5;28mself\u001b[39m\u001b[38;5;241m.\u001b[39mdevice  \u001b[38;5;66;03m# device of the model\u001b[39;00m\n\u001b[0;32m---> 53\u001b[0m images, video_height, video_width \u001b[38;5;241m=\u001b[39m \u001b[43mload_video_frames\u001b[49m\u001b[43m(\u001b[49m\n\u001b[1;32m     54\u001b[0m \u001b[43m    \u001b[49m\u001b[43mvideo_path\u001b[49m\u001b[38;5;241;43m=\u001b[39;49m\u001b[43mvideo_path\u001b[49m\u001b[43m,\u001b[49m\n\u001b[1;32m     55\u001b[0m \u001b[43m    \u001b[49m\u001b[43mimage_size\u001b[49m\u001b[38;5;241;43m=\u001b[39;49m\u001b[38;5;28;43mself\u001b[39;49m\u001b[38;5;241;43m.\u001b[39;49m\u001b[43mimage_size\u001b[49m\u001b[43m,\u001b[49m\n\u001b[1;32m     56\u001b[0m \u001b[43m    \u001b[49m\u001b[43moffload_video_to_cpu\u001b[49m\u001b[38;5;241;43m=\u001b[39;49m\u001b[43moffload_video_to_cpu\u001b[49m\u001b[43m,\u001b[49m\n\u001b[1;32m     57\u001b[0m \u001b[43m    \u001b[49m\u001b[43masync_loading_frames\u001b[49m\u001b[38;5;241;43m=\u001b[39;49m\u001b[43masync_loading_frames\u001b[49m\u001b[43m,\u001b[49m\n\u001b[1;32m     58\u001b[0m \u001b[43m    \u001b[49m\u001b[43mcompute_device\u001b[49m\u001b[38;5;241;43m=\u001b[39;49m\u001b[43mcompute_device\u001b[49m\u001b[43m,\u001b[49m\n\u001b[1;32m     59\u001b[0m \u001b[43m\u001b[49m\u001b[43m)\u001b[49m\n\u001b[1;32m     60\u001b[0m inference_state \u001b[38;5;241m=\u001b[39m {}\n\u001b[1;32m     61\u001b[0m inference_state[\u001b[38;5;124m\"\u001b[39m\u001b[38;5;124mimages\u001b[39m\u001b[38;5;124m\"\u001b[39m] \u001b[38;5;241m=\u001b[39m images\n",
      "File \u001b[0;32m/workspace/EdgeTAM/sam2/utils/misc.py:189\u001b[0m, in \u001b[0;36mload_video_frames\u001b[0;34m(video_path, image_size, offload_video_to_cpu, img_mean, img_std, async_loading_frames, compute_device)\u001b[0m\n\u001b[1;32m    187\u001b[0m is_mp4_path \u001b[38;5;241m=\u001b[39m is_str \u001b[38;5;129;01mand\u001b[39;00m os\u001b[38;5;241m.\u001b[39mpath\u001b[38;5;241m.\u001b[39msplitext(video_path)[\u001b[38;5;241m-\u001b[39m\u001b[38;5;241m1\u001b[39m] \u001b[38;5;129;01min\u001b[39;00m [\u001b[38;5;124m\"\u001b[39m\u001b[38;5;124m.mp4\u001b[39m\u001b[38;5;124m\"\u001b[39m, \u001b[38;5;124m\"\u001b[39m\u001b[38;5;124m.MP4\u001b[39m\u001b[38;5;124m\"\u001b[39m]\n\u001b[1;32m    188\u001b[0m \u001b[38;5;28;01mif\u001b[39;00m is_bytes \u001b[38;5;129;01mor\u001b[39;00m is_mp4_path:\n\u001b[0;32m--> 189\u001b[0m     \u001b[38;5;28;01mreturn\u001b[39;00m \u001b[43mload_video_frames_from_video_file\u001b[49m\u001b[43m(\u001b[49m\n\u001b[1;32m    190\u001b[0m \u001b[43m        \u001b[49m\u001b[43mvideo_path\u001b[49m\u001b[38;5;241;43m=\u001b[39;49m\u001b[43mvideo_path\u001b[49m\u001b[43m,\u001b[49m\n\u001b[1;32m    191\u001b[0m \u001b[43m        \u001b[49m\u001b[43mimage_size\u001b[49m\u001b[38;5;241;43m=\u001b[39;49m\u001b[43mimage_size\u001b[49m\u001b[43m,\u001b[49m\n\u001b[1;32m    192\u001b[0m \u001b[43m        \u001b[49m\u001b[43moffload_video_to_cpu\u001b[49m\u001b[38;5;241;43m=\u001b[39;49m\u001b[43moffload_video_to_cpu\u001b[49m\u001b[43m,\u001b[49m\n\u001b[1;32m    193\u001b[0m \u001b[43m        \u001b[49m\u001b[43mimg_mean\u001b[49m\u001b[38;5;241;43m=\u001b[39;49m\u001b[43mimg_mean\u001b[49m\u001b[43m,\u001b[49m\n\u001b[1;32m    194\u001b[0m \u001b[43m        \u001b[49m\u001b[43mimg_std\u001b[49m\u001b[38;5;241;43m=\u001b[39;49m\u001b[43mimg_std\u001b[49m\u001b[43m,\u001b[49m\n\u001b[1;32m    195\u001b[0m \u001b[43m        \u001b[49m\u001b[43mcompute_device\u001b[49m\u001b[38;5;241;43m=\u001b[39;49m\u001b[43mcompute_device\u001b[49m\u001b[43m,\u001b[49m\n\u001b[1;32m    196\u001b[0m \u001b[43m    \u001b[49m\u001b[43m)\u001b[49m\n\u001b[1;32m    197\u001b[0m \u001b[38;5;28;01melif\u001b[39;00m is_str \u001b[38;5;129;01mand\u001b[39;00m os\u001b[38;5;241m.\u001b[39mpath\u001b[38;5;241m.\u001b[39misdir(video_path):\n\u001b[1;32m    198\u001b[0m     \u001b[38;5;28;01mreturn\u001b[39;00m load_video_frames_from_jpg_images(\n\u001b[1;32m    199\u001b[0m         video_path\u001b[38;5;241m=\u001b[39mvideo_path,\n\u001b[1;32m    200\u001b[0m         image_size\u001b[38;5;241m=\u001b[39mimage_size,\n\u001b[0;32m   (...)\u001b[0m\n\u001b[1;32m    205\u001b[0m         compute_device\u001b[38;5;241m=\u001b[39mcompute_device,\n\u001b[1;32m    206\u001b[0m     )\n",
      "File \u001b[0;32m/workspace/EdgeTAM/sam2/utils/misc.py:303\u001b[0m, in \u001b[0;36mload_video_frames_from_video_file\u001b[0;34m(video_path, image_size, offload_video_to_cpu, img_mean, img_std, compute_device)\u001b[0m\n\u001b[1;32m    301\u001b[0m images \u001b[38;5;241m=\u001b[39m torch\u001b[38;5;241m.\u001b[39mstack(images, dim\u001b[38;5;241m=\u001b[39m\u001b[38;5;241m0\u001b[39m)\u001b[38;5;241m.\u001b[39mfloat() \u001b[38;5;241m/\u001b[39m \u001b[38;5;241m255.0\u001b[39m\n\u001b[1;32m    302\u001b[0m \u001b[38;5;28;01mif\u001b[39;00m \u001b[38;5;129;01mnot\u001b[39;00m offload_video_to_cpu:\n\u001b[0;32m--> 303\u001b[0m     images \u001b[38;5;241m=\u001b[39m \u001b[43mimages\u001b[49m\u001b[38;5;241;43m.\u001b[39;49m\u001b[43mto\u001b[49m\u001b[43m(\u001b[49m\u001b[43mcompute_device\u001b[49m\u001b[43m)\u001b[49m\n\u001b[1;32m    304\u001b[0m     img_mean \u001b[38;5;241m=\u001b[39m img_mean\u001b[38;5;241m.\u001b[39mto(compute_device)\n\u001b[1;32m    305\u001b[0m     img_std \u001b[38;5;241m=\u001b[39m img_std\u001b[38;5;241m.\u001b[39mto(compute_device)\n",
      "\u001b[0;31mOutOfMemoryError\u001b[0m: CUDA out of memory. Tried to allocate 21.75 GiB. GPU 0 has a total capacity of 31.37 GiB of which 7.78 GiB is free. Including non-PyTorch memory, this process has 23.57 GiB memory in use. Of the allocated memory 22.78 GiB is allocated by PyTorch, and 193.21 MiB is reserved by PyTorch but unallocated. If reserved but unallocated memory is large try setting PYTORCH_CUDA_ALLOC_CONF=expandable_segments:True to avoid fragmentation.  See documentation for Memory Management  (https://pytorch.org/docs/stable/notes/cuda.html#environment-variables)"
     ]
    }
   ],
   "source": [
    "import hydra\n",
    "from IPython.display import Video\n",
    "# ── EdgeTAM predictors (same namespace) ────────────────────────────────────\n",
    "from sam2.sam2_image_predictor  import SAM2ImagePredictor\n",
    "from sam2.automatic_mask_generator import SAM2AutomaticMaskGenerator\n",
    "from sam2.build_sam import build_sam2, build_sam2_video_predictor   # ← NEW\n",
    "from transformers import AutoModel, AutoImageProcessor\n",
    "\n",
    "hydra.core.global_hydra.GlobalHydra.instance().clear()\n",
    "# reinit hydra with a new search path for configs\n",
    "hydra.initialize_config_dir(os.path.join(repo_dir, \"obj_detection/dino/configs\"), version_base='1.2')\n",
    "\n",
    "# 1. PATHS & OPTIONS ---------------------------------------------------------\n",
    "refs = [\n",
    "\tos.path.join(base_dir, \"images/original/stage_0/stage_0_var_0_case_render_1.jpg\"),\n",
    "\tos.path.join(base_dir, \"images/original/stage_0/stage_0_var_0_case_render_2.jpg\"),\n",
    "\tos.path.join(base_dir, \"images/original/stage_0/stage_0_var_0_case_render_3.jpg\"),\n",
    "\tos.path.join(base_dir, \"images/original/stage_0/stage_0_var_0_case_render_4.jpg\"),\n",
    "\tos.path.join(base_dir, \"images/original/stage_0/stage_0_var_0_case_render_5.jpg\"),\n",
    "\tos.path.join(base_dir, \"images/original/stage_0/stage_0_var_0_case_render_6.jpg\"),\n",
    "\tos.path.join(base_dir, \"images/original/stage_0/stage_0_var_0_case_render_7.jpg\"),\n",
    "\tos.path.join(base_dir, \"images/original/stage_0/stage_0_var_0_case_render_8.jpg\"),\n",
    "\tos.path.join(base_dir, \"images/original/stage_0/stage_0_var_0_case_render_9.jpg\"),\n",
    "]\n",
    "boxed_out = os.path.join(repo_dir, \"obj_detection/dino/edgetam_boxed.mp4\")\n",
    "skip_frames = 70\n",
    "\n",
    "# 2. UTILS -------------------------------------------------------------------\n",
    "def read_video_rgb(path):\n",
    "\tcap = cv2.VideoCapture(path)\n",
    "\tif not cap.isOpened():\n",
    "\t\traise IOError(f\"cannot open {path}\")\n",
    "\tframes = []\n",
    "\twhile True:\n",
    "\t\tret, frm = cap.read()\n",
    "\t\tif not ret:\n",
    "\t\t\tbreak\n",
    "\t\tframes.append(cv2.cvtColor(frm, cv2.COLOR_BGR2RGB))\n",
    "\tfps = cap.get(cv2.CAP_PROP_FPS) or 30\n",
    "\tcap.release()\n",
    "\treturn frames, int(fps)\n",
    "\n",
    "def get_feat(img_rgb):\n",
    "\tipt = dinov2_proc(images=img_rgb, return_tensors=\"pt\").to(device)\n",
    "\twith torch.no_grad():\n",
    "\t\tout = dinov2_backbone(**ipt).last_hidden_state[:, 0]\n",
    "\treturn F.normalize(out.squeeze(0), dim=-1).cpu()\n",
    "\n",
    "# 3. LOAD VIDEO --------------------------------------------------------------\n",
    "frames, FPS = read_video_rgb(video_path)\n",
    "assert len(frames) > skip_frames, f\"Video must have more than {skip_frames} frames!\"\n",
    "H, W = frames[0].shape[:2]\n",
    "\n",
    "# 4. INITIALISE MODELS -------------------------------------------------------\n",
    "backbone_name   = \"facebook/dinov2-with-registers-small\"\n",
    "dinov2_backbone = AutoModel.from_pretrained(backbone_name).to(device).eval()\n",
    "dinov2_proc\t = AutoImageProcessor.from_pretrained(backbone_name)\n",
    "\n",
    "# ---------- EdgeTAM checkpoint / config -------------------------------------\n",
    "\n",
    "ckpt = os.path.join(repo_dir, \"obj_detection/dino/checkpoints/edgetam.pt\")\n",
    "cfg  = 'edgetam.yaml'\n",
    "\n",
    "\n",
    "# image predictor\n",
    "img_pred = build_sam2(cfg, ckpt, device)\n",
    "\n",
    "# video predictor\n",
    "vid_pred = build_sam2_video_predictor(cfg, ckpt, device)\n",
    "\n",
    "# 5. REFERENCE EMBEDDINGS ----------------------------------------------------\n",
    "ref_feats = []\n",
    "for p in refs:\n",
    "\tbgr = cv2.imread(p)\n",
    "\tif bgr is None:\n",
    "\t\traise IOError(f\"cannot open reference image {p}\")\n",
    "\trgb = cv2.cvtColor(bgr, cv2.COLOR_BGR2RGB)\n",
    "\tref_feats.append(get_feat(rgb))\n",
    "\n",
    "# 6. AUTO MASKS ON SEED FRAME ------------------------------------------------\n",
    "seed_frame = frames[skip_frames]\n",
    "mask_gen = SAM2AutomaticMaskGenerator(\n",
    "\timg_pred,\t\t\t\t # still passes encoder\n",
    "\tpoints_per_side=32,\n",
    "\tpred_iou_thresh=0.7,\n",
    "\tstability_score_thresh=0.9,\n",
    "\tbox_nms_thresh=0.3,\n",
    "\tmin_mask_region_area=1000,\n",
    ")\n",
    "masks = mask_gen.generate(seed_frame)\n",
    "\n",
    "# 7. PICK BEST MASK BY COS‑SIM ----------------------------------------------\n",
    "best_m, best_sim = None, -1.0\n",
    "for m in masks:\n",
    "\tx_f, y_f, w_f, h_f = m[\"bbox\"]\n",
    "\tx0 = max(0, int(round(x_f)));\t  y0 = max(0, int(round(y_f)))\n",
    "\tx1 = min(W, int(round(x_f + w_f))); y1 = min(H, int(round(y_f + h_f)))\n",
    "\tif x1 <= x0 or y1 <= y0:\n",
    "\t\tcontinue\n",
    "\tcrop = seed_frame[y0:y1, x0:x1]\n",
    "\tif crop.size == 0:\n",
    "\t\tcontinue\n",
    "\tfeat = get_feat(crop)\n",
    "\tsims = torch.stack(ref_feats) @ feat\n",
    "\tsim  = sims.max().item()\n",
    "\tif sim > best_sim:\n",
    "\t\tbest_m, best_sim = m, sim\n",
    "\n",
    "if best_m is None:\n",
    "\traise RuntimeError(\"No mask matched the reference images!\")\n",
    "\n",
    "mask0 = torch.from_numpy(best_m[\"segmentation\"]).to(device).bool()\n",
    "\n",
    "# 8. TRACK & DRAW BOX (SKIPPING FIRST 70 FRAMES) -----------------------------\n",
    "state = vid_pred.init_state(video_path=video_path, async_loading_frames=True)\n",
    "\n",
    "vid_pred.add_new_mask(state, frame_idx=skip_frames, mask=mask0, obj_id=0)\n",
    "writer = imageio.get_writer(\n",
    "\tboxed_out,\n",
    "\tformat=\"FFMPEG\",\n",
    "\tcodec=\"libx264\",\n",
    "\tfps=FPS,\n",
    "\tffmpeg_params=[\"-pix_fmt\", \"yuv420p\"],\n",
    ")\n",
    "with torch.inference_mode(), torch.autocast(device_type=\"cuda\", dtype=torch.bfloat16):\n",
    "\tfor f_idx, _, logits in vid_pred.propagate_in_video(state):\n",
    "\t\tif f_idx < 76:\n",
    "\t\t\tcontinue\n",
    "\n",
    "\t\tmask2d = logits.sigmoid()[0].squeeze(0) > 0.5\n",
    "\t\tframe   = frames[f_idx].copy()\n",
    "\n",
    "\t\tif mask2d.any():\n",
    "\t\t\tys, xs = np.where(mask2d.cpu().numpy())\n",
    "\t\t\tx0b, y0b, x1b, y1b = xs.min(), ys.min(), xs.max(), ys.max()\n",
    "\t\t\tcv2.rectangle(frame, (x0b, y0b), (x1b, y1b), (0, 255, 0), 2)\n",
    "\n",
    "\t\t\t# ----- classification --------------------------------------------\n",
    "\t\t\tcrop_rgb = frames[f_idx][y0b:y1b, x0b:x1b]\n",
    "\t\t\tbatch\t= processor(images=[crop_rgb], return_tensors=\"pt\").to(device)\n",
    "\t\t\tcls_logits = model(**batch).logits.squeeze(0)\n",
    "\t\t\tprobs   = torch.softmax(cls_logits, dim=-1)\n",
    "\t\t\tcls_id  = probs.argmax().item()\n",
    "\t\t\tconf\t= probs[cls_id].item()\n",
    "\n",
    "\t\t\tlabel_txt = f\"class {cls_id}  {conf*100:.1f}% true: {frame_to_class[f_idx]}\"\n",
    "\t\t\tcv2.putText(frame, label_txt, (10, 30), cv2.FONT_HERSHEY_SIMPLEX,\n",
    "\t\t\t\t\t\t0.9, (0, 0, 0), 3, cv2.LINE_AA)\n",
    "\t\t\tcv2.putText(frame, label_txt, (10, 30), cv2.FONT_HERSHEY_SIMPLEX,\n",
    "\t\t\t\t\t\t0.9, (0, 255, 0), 2, cv2.LINE_AA)\n",
    "\n",
    "\t\twriter.append_data(frame)\n",
    "writer.close()\n",
    "\n",
    "# 9. DISPLAY RESULT ----------------------------------------------------------\n",
    "Video(boxed_out, embed=True, width=min(W, 640))"
   ]
  },
  {
   "cell_type": "markdown",
   "metadata": {},
   "source": [
    "# DinoV2 (inference)"
   ]
  },
  {
   "cell_type": "code",
   "execution_count": null,
   "metadata": {},
   "outputs": [
    {
     "name": "stdout",
     "output_type": "stream",
     "text": [
      "{75: 0, 76: 0, 77: 0, 78: 0, 79: 0, 80: 0, 81: 0, 82: 0, 83: 0, 84: 0, 85: 0, 86: 0, 87: 0, 88: 0, 89: 0, 90: 0, 91: 0, 92: 0, 93: 0, 94: 0, 95: 0, 96: 0, 97: 0, 98: 0, 99: 0, 100: 0, 101: 0, 102: 0, 103: 0, 104: 0, 105: 0, 106: 0, 107: 0, 108: 0, 109: 0, 110: 0, 111: 0, 112: 0, 113: 0, 114: 0, 115: 0, 116: 0, 117: 0, 118: 0, 119: 0, 120: 0, 121: 0, 122: 0, 123: 0, 124: 0, 125: 0, 126: 0, 127: 0, 128: 0, 129: 0, 130: 0, 131: 0, 132: 0, 133: 0, 134: 0, 135: 0, 136: 0, 137: 0, 138: 0, 139: 0, 140: 0, 141: 0, 142: 0, 143: 0, 144: 0, 145: 0, 146: 0, 147: 0, 148: 0, 149: 0, 150: 0, 151: 0, 152: 0, 153: 0, 154: 0, 155: 0, 156: 0, 157: 0, 158: 0, 159: 0, 160: 0, 161: 0, 162: 0, 163: 0, 164: 0, 165: 0, 166: 0, 167: 0, 168: 0, 169: 0, 170: 0, 171: 0, 172: 0, 173: 0, 174: 0, 175: 0, 176: 0, 177: 0, 178: 0, 179: 0, 180: 0, 181: 0, 182: 0, 183: 0, 184: 0, 185: 0, 186: 0, 187: 0, 188: 0, 189: 0, 190: 0, 191: 0, 192: 0, 193: 0, 194: 0, 195: 0, 196: 1, 197: 1, 198: 1, 199: 1, 200: 1, 201: 1, 202: 1, 203: 1, 204: 1, 205: 1, 206: 1, 207: 1, 208: 1, 209: 1, 210: 1, 211: 1, 212: 1, 213: 1, 214: 1, 215: 1, 216: 1, 217: 1, 218: 1, 219: 1, 220: 1, 221: 1, 222: 1, 223: 1, 224: 1, 225: 1, 226: 1, 227: 1, 228: 1, 229: 1, 230: 1, 231: 1, 232: 1, 233: 1, 234: 1, 235: 1, 236: 1, 237: 1, 238: 1, 239: 1, 240: 1, 241: 1, 242: 1, 243: 1, 244: 1, 245: 1, 246: 1, 247: 1, 248: 1, 249: 1, 250: 1, 251: 1, 252: 1, 253: 1, 254: 1, 255: 1, 256: 1, 257: 1, 258: 1, 259: 1, 260: 1, 261: 1, 262: 1, 263: 1, 264: 1, 265: 1, 266: 1, 267: 1, 268: 1, 269: 1, 270: 1, 271: 1, 272: 1, 273: 1, 274: 1, 275: 1, 276: 1, 277: 1, 278: 1, 279: 1, 280: 1, 281: 2, 282: 2, 283: 2, 284: 2, 285: 2, 286: 2, 287: 2, 288: 2, 289: 2, 290: 2, 291: 2, 292: 2, 293: 2, 294: 2, 295: 2, 296: 2, 297: 2, 298: 2, 299: 2, 300: 2, 301: 2, 302: 2, 303: 2, 304: 2, 305: 2, 306: 2, 307: 2, 308: 2, 309: 2, 310: 2, 311: 2, 312: 2, 313: 2, 314: 2, 315: 2, 316: 2, 317: 2, 318: 2, 319: 2, 320: 2, 321: 2, 322: 2, 323: 2, 324: 2, 325: 2, 326: 2, 327: 2, 328: 2, 329: 2, 330: 2, 331: 3, 332: 3, 333: 3, 334: 3, 335: 3, 336: 3, 337: 3, 338: 3, 339: 3, 340: 3, 341: 3, 342: 3, 343: 3, 344: 3, 345: 3, 346: 3, 347: 3, 348: 3, 349: 3, 350: 3, 351: 3, 352: 3, 353: 3, 354: 3, 355: 3, 356: 3, 357: 3, 358: 3, 359: 3, 360: 3, 361: 3, 362: 3, 363: 3, 364: 3, 365: 3, 366: 3, 367: 3, 368: 3, 369: 3, 370: 3, 371: 3, 372: 3, 373: 3, 374: 3, 375: 3, 376: 3, 377: 3, 378: 3, 379: 3, 380: 3, 381: 3, 382: 3, 383: 3, 384: 3, 385: 3, 386: 3, 387: 3, 388: 3, 389: 3, 390: 4, 391: 4, 392: 4, 393: 4, 394: 4, 395: 4, 396: 4, 397: 4, 398: 4, 399: 4, 400: 4, 401: 4, 402: 4, 403: 4, 404: 4, 405: 4, 406: 4, 407: 4, 408: 4, 409: 4, 410: 4, 411: 4, 412: 4, 413: 4, 414: 4, 415: 4, 416: 4, 417: 4, 418: 4, 419: 4, 420: 4, 421: 4, 422: 4, 423: 4, 424: 4, 425: 4, 426: 4, 427: 4, 428: 4, 429: 4, 430: 4, 431: 4, 432: 4, 433: 4, 434: 4, 435: 4, 436: 4, 437: 4, 438: 4, 439: 4, 440: 4, 441: 4, 442: 4, 443: 4, 444: 4, 445: 4, 446: 4, 447: 4, 448: 4, 449: 4, 450: 4, 451: 4, 452: 4, 453: 4, 454: 4, 455: 4, 456: 4, 457: 4, 458: 4, 459: 4, 460: 4, 461: 4, 462: 4, 463: 4, 464: 4, 465: 4, 466: 4, 467: 4, 468: 4, 469: 4, 470: 4, 471: 4, 472: 4, 473: 4, 474: 4, 475: 4, 476: 4, 477: 4, 478: 4, 479: 4, 480: 4, 481: 5, 482: 5, 483: 5, 484: 5, 485: 5, 486: 5, 487: 5, 488: 5, 489: 5, 490: 5, 491: 5, 492: 5, 493: 5, 494: 5, 495: 5, 496: 5, 497: 5, 498: 5, 499: 5, 500: 5, 501: 5, 502: 5, 503: 5, 504: 5, 505: 5, 506: 5, 507: 5, 508: 5, 509: 5, 510: 5, 511: 5, 512: 5, 513: 5, 514: 5, 515: 5, 516: 5, 517: 5, 518: 5, 519: 5, 520: 5, 521: 5, 522: 5, 523: 5, 524: 5, 525: 5, 526: 5, 527: 5, 528: 5, 529: 5, 530: 5, 531: 5, 532: 5, 533: 5, 534: 5, 535: 5, 536: 5, 537: 5, 538: 5, 539: 5, 540: 5, 541: 5, 542: 5, 543: 5, 544: 5, 545: 5, 546: 5, 547: 5, 548: 5, 549: 5, 550: 5, 551: 5, 552: 5, 553: 5, 554: 5, 555: 5, 556: 5, 557: 5, 558: 5, 559: 5, 560: 5, 561: 5, 562: 5, 563: 5, 564: 5, 565: 5, 566: 5, 567: 5, 568: 5, 569: 5, 570: 5, 571: 5, 572: 5, 573: 5, 574: 5, 575: 5, 576: 5, 577: 5, 578: 5, 579: 5, 580: 5, 581: 5, 582: 5, 583: 5, 584: 5, 585: 5, 586: 5, 587: 5, 588: 5, 589: 5, 590: 5, 591: 5, 592: 5, 593: 5, 594: 5, 595: 5, 596: 5, 597: 5, 598: 5, 599: 5, 600: 5, 601: 5, 602: 5, 603: 5, 604: 5, 605: 5, 606: 5, 607: 5, 608: 5, 609: 5, 610: 5, 611: 5, 612: 5, 613: 5, 614: 5, 615: 5, 616: 5, 617: 5, 618: 5, 619: 5, 620: 5, 621: 5, 622: 5, 623: 5, 624: 5, 625: 5, 626: 5, 627: 5, 628: 5, 629: 5, 630: 5, 631: 5, 632: 5, 633: 5, 634: 5, 635: 5, 636: 5, 637: 5, 638: 5, 639: 5, 640: 5, 641: 5, 642: 5, 643: 5, 644: 5, 645: 5, 646: 5, 647: 5, 648: 5, 649: 5, 650: 5, 651: 5, 652: 5, 653: 5, 654: 5, 655: 5, 656: 5, 657: 5, 658: 5, 659: 5, 660: 5, 661: 5, 662: 5, 663: 5, 664: 5, 665: 5, 666: 5, 667: 5, 668: 5, 669: 5, 670: 5, 671: 5, 672: 5, 673: 5, 674: 5, 675: 5, 676: 5, 677: 5, 678: 5, 679: 5, 680: 5, 681: 5, 682: 5, 683: 5, 684: 5, 685: 5, 686: 5, 687: 5, 688: 5, 689: 5, 690: 5, 691: 5, 692: 5, 693: 5, 694: 5, 695: 5, 696: 5, 697: 5, 698: 5, 699: 5, 700: 5, 701: 5, 702: 5, 703: 5, 704: 5, 705: 5, 706: 5, 707: 5, 708: 5, 709: 5, 710: 5, 711: 5, 712: 5, 713: 5, 714: 5, 715: 5, 716: 5, 717: 5, 718: 5, 719: 5, 720: 5, 721: 5, 722: 5, 723: 5, 724: 5, 725: 5, 726: 5, 727: 5, 728: 5, 729: 5, 730: 5, 731: 5, 732: 5, 733: 5, 734: 5, 735: 5, 736: 5, 737: 5, 738: 5, 739: 5, 740: 5, 741: 5, 742: 5, 743: 5, 744: 5, 745: 5, 746: 5, 747: 5, 748: 5, 749: 5, 750: 5, 751: 5, 752: 5, 753: 5, 754: 5, 755: 5, 756: 5, 757: 5, 758: 5, 759: 5, 760: 5, 761: 5, 762: 5, 763: 5, 764: 5, 765: 5, 766: 5, 767: 5, 768: 5, 769: 5, 770: 5, 771: 5, 772: 5, 773: 5, 774: 5, 775: 5, 776: 5, 777: 5, 778: 5, 779: 5, 780: 5, 781: 5, 782: 5, 783: 5, 784: 5, 785: 5, 786: 5, 787: 5, 788: 5, 789: 5, 790: 5, 791: 5, 792: 5, 793: 5, 794: 5, 795: 5, 796: 5, 797: 5, 798: 5, 799: 5, 800: 5, 801: 5, 802: 5, 803: 5, 804: 5, 805: 5, 806: 5, 807: 5, 808: 5, 809: 5, 810: 5, 811: 5, 812: 5, 813: 5, 814: 5, 815: 5, 816: 5, 817: 5, 818: 5, 819: 5, 820: 5, 821: 5, 822: 5, 823: 5, 824: 5, 825: 5, 826: 5, 827: 5, 828: 5, 829: 5, 830: 5, 831: 5, 832: 5, 833: 5, 834: 5, 835: 5, 836: 5, 837: 5, 838: 5, 839: 5, 840: 5, 841: 5, 842: 5, 843: 5, 844: 5, 845: 5, 846: 5, 847: 5, 848: 5, 849: 5, 850: 5, 851: 5, 852: 5, 853: 5, 854: 5, 855: 5, 856: 5, 857: 5, 858: 5, 859: 5, 860: 5, 861: 5, 862: 5, 863: 5, 864: 5, 865: 5, 866: 5, 867: 5, 868: 5, 869: 5, 870: 5, 871: 5, 872: 5, 873: 5, 874: 5, 875: 5, 876: 5, 877: 5, 878: 5, 879: 5, 880: 5, 881: 5, 882: 5, 883: 5, 884: 5, 885: 5, 886: 5, 887: 5, 888: 5, 889: 5, 890: 5, 891: 5, 892: 5, 893: 5, 894: 5, 895: 5, 896: 5, 897: 5, 898: 5, 899: 5, 900: 5, 901: 5, 902: 5, 903: 5, 904: 5, 905: 5, 906: 5, 907: 5, 908: 5, 909: 5, 910: 5, 911: 5, 912: 5, 913: 5, 914: 5, 915: 5, 916: 5, 917: 5, 918: 5, 919: 5, 920: 5, 921: 5, 922: 5, 923: 5, 924: 5, 925: 5, 926: 5, 927: 5, 928: 5, 929: 5, 930: 5, 931: 5, 932: 5, 933: 5, 934: 5, 935: 5, 936: 5, 937: 5, 938: 5, 939: 5, 940: 5, 941: 5, 942: 5, 943: 5, 944: 5, 945: 5, 946: 5, 947: 5, 948: 5, 949: 5, 950: 5, 951: 5, 952: 5, 953: 5, 954: 5, 955: 5, 956: 5, 957: 5, 958: 5, 959: 5, 960: 5, 961: 5, 962: 5, 963: 5, 964: 5, 965: 5, 966: 5, 967: 5, 968: 5, 969: 5, 970: 5, 971: 5, 972: 5, 973: 5, 974: 5, 975: 5, 976: 5, 977: 5, 978: 5, 979: 5, 980: 5, 981: 5, 982: 5, 983: 5, 984: 5, 985: 5, 986: 5, 987: 5, 988: 5, 989: 5, 990: 5, 991: 5, 992: 5, 993: 5, 994: 5, 995: 5, 996: 5, 997: 5, 998: 5, 999: 5, 1000: 5, 1001: 5, 1002: 5, 1003: 5, 1004: 5, 1005: 5, 1006: 5, 1007: 5, 1008: 5, 1009: 5, 1010: 5, 1011: 5, 1012: 5, 1013: 5, 1014: 5, 1015: 5, 1016: 5, 1017: 5, 1018: 5, 1019: 5, 1020: 5, 1021: 5, 1022: 5, 1023: 5, 1024: 5, 1025: 5, 1026: 5, 1027: 5, 1028: 5, 1029: 5, 1030: 5, 1031: 5, 1032: 5, 1033: 5, 1034: 5, 1035: 5, 1036: 5, 1037: 5, 1038: 5, 1039: 5, 1040: 5, 1041: 5, 1042: 5, 1043: 5, 1044: 5, 1045: 5, 1046: 5, 1047: 5, 1048: 5, 1049: 5, 1050: 5, 1051: 5, 1052: 5, 1053: 5, 1054: 5, 1055: 5, 1056: 5, 1057: 5, 1058: 5, 1059: 5, 1060: 5, 1061: 5, 1062: 5, 1063: 5, 1064: 5, 1065: 5, 1066: 5, 1067: 5, 1068: 5, 1069: 5, 1070: 5, 1071: 5, 1072: 5, 1073: 5, 1074: 5, 1075: 5, 1076: 5, 1077: 5, 1078: 5, 1079: 5, 1080: 5, 1081: 5, 1082: 5, 1083: 5, 1084: 5, 1085: 5, 1086: 5, 1087: 5, 1088: 5, 1089: 5, 1090: 5, 1091: 5, 1092: 5, 1093: 5, 1094: 5, 1095: 5, 1096: 5, 1097: 5, 1098: 5, 1099: 5, 1100: 5, 1101: 5, 1102: 5, 1103: 5, 1104: 5, 1105: 5, 1106: 5, 1107: 5, 1108: 5, 1109: 5, 1110: 5, 1111: 5, 1112: 5, 1113: 5, 1114: 5, 1115: 5, 1116: 5, 1117: 5, 1118: 5, 1119: 5, 1120: 5, 1121: 5, 1122: 5, 1123: 5, 1124: 5, 1125: 5, 1126: 5, 1127: 5, 1128: 5, 1129: 5, 1130: 5, 1131: 5, 1132: 5, 1133: 5, 1134: 5, 1135: 5, 1136: 5, 1137: 5, 1138: 5, 1139: 5, 1140: 5, 1141: 5, 1142: 5, 1143: 5, 1144: 5, 1145: 5, 1146: 5, 1147: 5, 1148: 5, 1149: 5, 1150: 5, 1151: 5, 1152: 5, 1153: 5, 1154: 5, 1155: 5, 1156: 5, 1157: 5, 1158: 5, 1159: 5, 1160: 5, 1161: 5, 1162: 5, 1163: 5, 1164: 5, 1165: 5, 1166: 5, 1167: 5, 1168: 5, 1169: 5, 1170: 5, 1171: 5, 1172: 5, 1173: 5, 1174: 5, 1175: 5, 1176: 5, 1177: 5, 1178: 5, 1179: 5, 1180: 5, 1181: 5, 1182: 5, 1183: 5, 1184: 5, 1185: 5, 1186: 5, 1187: 5, 1188: 5, 1189: 5, 1190: 5, 1191: 5, 1192: 5, 1193: 5, 1194: 5, 1195: 5, 1196: 5, 1197: 5, 1198: 5, 1199: 5, 1200: 5, 1201: 5, 1202: 5, 1203: 5, 1204: 5, 1205: 5, 1206: 5, 1207: 5, 1208: 5, 1209: 5, 1210: 5, 1211: 5, 1212: 5, 1213: 5, 1214: 5, 1215: 5, 1216: 5, 1217: 5, 1218: 5, 1219: 5, 1220: 5, 1221: 5, 1222: 5, 1223: 5, 1224: 5, 1225: 5, 1226: 5, 1227: 5, 1228: 5, 1229: 5, 1230: 5, 1231: 5, 1232: 5, 1233: 5, 1234: 5, 1235: 5, 1236: 5, 1237: 5, 1238: 5, 1239: 5, 1240: 5, 1241: 5, 1242: 5, 1243: 5, 1244: 5, 1245: 5, 1246: 5, 1247: 5, 1248: 5, 1249: 5, 1250: 5, 1251: 5, 1252: 5, 1253: 5, 1254: 5, 1255: 5, 1256: 5, 1257: 5, 1258: 5, 1259: 5, 1260: 5, 1261: 5, 1262: 5, 1263: 5, 1264: 5, 1265: 5, 1266: 5, 1267: 5, 1268: 5, 1269: 5, 1270: 5, 1271: 5, 1272: 5, 1273: 5, 1274: 5, 1275: 5, 1276: 5, 1277: 5, 1278: 5, 1279: 5, 1280: 5, 1281: 5, 1282: 5, 1283: 5, 1284: 5, 1285: 5, 1286: 5, 1287: 5, 1288: 5, 1289: 5, 1290: 5, 1291: 5, 1292: 5, 1293: 5, 1294: 5, 1295: 5, 1296: 5, 1297: 5, 1298: 5, 1299: 5, 1300: 5, 1301: 5, 1302: 5, 1303: 5, 1304: 5, 1305: 5, 1306: 5, 1307: 5, 1308: 5, 1309: 5, 1310: 5, 1311: 5, 1312: 5, 1313: 5, 1314: 5, 1315: 5, 1316: 5, 1317: 5, 1318: 5, 1319: 5, 1320: 5, 1321: 5, 1322: 5, 1323: 5, 1324: 5, 1325: 5, 1326: 5, 1327: 5, 1328: 5, 1329: 5, 1330: 5, 1331: 5, 1332: 5, 1333: 5, 1334: 5, 1335: 5, 1336: 5, 1337: 5, 1338: 5, 1339: 5, 1340: 5, 1341: 5, 1342: 5, 1343: 5, 1344: 5, 1345: 5, 1346: 5, 1347: 5, 1348: 5, 1349: 5, 1350: 5, 1351: 5, 1352: 5, 1353: 5, 1354: 5, 1355: 5, 1356: 5, 1357: 5, 1358: 5, 1359: 5, 1360: 5, 1361: 5, 1362: 5, 1363: 5, 1364: 5, 1365: 5, 1366: 5, 1367: 5, 1368: 5, 1369: 5, 1370: 5, 1371: 6, 1372: 6, 1373: 6, 1374: 6, 1375: 6, 1376: 6, 1377: 6, 1378: 6, 1379: 6, 1380: 6, 1381: 6, 1382: 6, 1383: 6, 1384: 6, 1385: 6, 1386: 6, 1387: 6, 1388: 6, 1389: 6, 1390: 6, 1391: 6, 1392: 6, 1393: 6, 1394: 6, 1395: 6, 1396: 6, 1397: 6, 1398: 6, 1399: 6, 1400: 6, 1401: 6, 1402: 6, 1403: 6, 1404: 6, 1405: 6, 1406: 6, 1407: 6, 1408: 6, 1409: 6, 1410: 6, 1411: 6, 1412: 6, 1413: 6, 1414: 6, 1415: 6, 1416: 6, 1417: 6, 1418: 6, 1419: 6, 1420: 6, 1421: 6, 1422: 6, 1423: 6, 1424: 6, 1425: 6, 1426: 6, 1427: 6, 1428: 6, 1429: 6, 1430: 6, 1431: 6, 1432: 6, 1433: 6, 1434: 6, 1435: 6, 1436: 6, 1437: 6, 1438: 6, 1439: 6, 1440: 6, 1441: 6, 1442: 6, 1443: 6, 1444: 6, 1445: 6, 1446: 6, 1447: 6, 1448: 6, 1449: 6, 1450: 7, 1451: 7, 1452: 7, 1453: 7, 1454: 7, 1455: 7, 1456: 7, 1457: 7, 1458: 7, 1459: 7, 1460: 7, 1461: 7, 1462: 7, 1463: 7, 1464: 7, 1465: 7, 1466: 7, 1467: 7, 1468: 7, 1469: 7, 1470: 7, 1471: 7, 1472: 7, 1473: 7, 1474: 7, 1475: 7, 1476: 7, 1477: 7, 1478: 7, 1479: 7, 1480: 7, 1481: 7, 1482: 7, 1483: 7, 1484: 7, 1485: 7, 1486: 7, 1487: 7, 1488: 7, 1489: 7, 1490: 7, 1491: 7, 1492: 7, 1493: 7, 1494: 7, 1495: 7, 1496: 7, 1497: 7, 1498: 7, 1499: 7, 1500: 7, 1501: 7, 1502: 7, 1503: 7, 1504: 7, 1505: 7, 1506: 7, 1507: 7, 1508: 7, 1509: 7, 1510: 7, 1511: 7, 1512: 7, 1513: 7, 1514: 7, 1515: 7, 1516: 7, 1517: 7, 1518: 7, 1519: 7, 1520: 7, 1521: 7, 1522: 7, 1523: 7, 1524: 7, 1525: 7, 1526: 7, 1527: 7, 1528: 7, 1529: 7, 1530: 7, 1531: 7, 1532: 7, 1533: 7, 1534: 7, 1535: 7, 1536: 7, 1537: 7, 1538: 7, 1539: 7, 1540: 7, 1541: 7, 1542: 7, 1543: 7, 1544: 7, 1545: 7, 1546: 7, 1547: 7, 1548: 7, 1549: 7, 1550: 7, 1551: 7, 1552: 7, 1553: 7, 1554: 7, 1555: 7, 1556: 7, 1557: 7, 1558: 7, 1559: 7, 1560: 7, 1561: 7, 1562: 7, 1563: 7, 1564: 7, 1565: 7, 1566: 7, 1567: 7, 1568: 7, 1569: 7, 1570: 7, 1571: 7, 1572: 7, 1573: 7, 1574: 7, 1575: 7, 1576: 7, 1577: 7, 1578: 7, 1579: 7, 1580: 7, 1581: 7, 1582: 7, 1583: 7, 1584: 7, 1585: 7, 1586: 7, 1587: 7, 1588: 7, 1589: 7, 1590: 7, 1591: 7, 1592: 7, 1593: 7, 1594: 7, 1595: 7, 1596: 7, 1597: 7, 1598: 7, 1599: 7, 1600: 7, 1601: 7, 1602: 7, 1603: 7, 1604: 7, 1605: 7, 1606: 7, 1607: 7, 1608: 7, 1609: 7, 1610: 7, 1611: 7, 1612: 7, 1613: 7, 1614: 7, 1615: 7, 1616: 7, 1617: 7, 1618: 7, 1619: 7, 1620: 7, 1621: 7, 1622: 7, 1623: 7, 1624: 7, 1625: 7, 1626: 7, 1627: 7, 1628: 7, 1629: 7, 1630: 7, 1631: 7, 1632: 7, 1633: 7, 1634: 7, 1635: 7, 1636: 7, 1637: 7, 1638: 7, 1639: 7, 1640: 7, 1641: 7, 1642: 7, 1643: 7, 1644: 7, 1645: 7, 1646: 7, 1647: 7, 1648: 7, 1649: 7, 1650: 7, 1651: 7, 1652: 7, 1653: 7, 1654: 7, 1655: 7, 1656: 7, 1657: 7, 1658: 7, 1659: 7, 1660: 7, 1661: 7, 1662: 7, 1663: 7, 1664: 7, 1665: 7, 1666: 7, 1667: 7, 1668: 7, 1669: 7, 1670: 7, 1671: 7, 1672: 7, 1673: 7, 1674: 7, 1675: 7, 1676: 7, 1677: 7, 1678: 7, 1679: 7, 1680: 7, 1681: 7, 1682: 7, 1683: 7, 1684: 7, 1685: 7, 1686: 7, 1687: 7, 1688: 7, 1689: 7, 1690: 7, 1691: 7, 1692: 7, 1693: 7, 1694: 7, 1695: 7, 1696: 7, 1697: 7, 1698: 7, 1699: 7, 1700: 7, 1701: 7, 1702: 7, 1703: 7, 1704: 7, 1705: 7, 1706: 7, 1707: 7, 1708: 7, 1709: 7, 1710: 7, 1711: 7, 1712: 7, 1713: 7, 1714: 7, 1715: 7, 1716: 7, 1717: 7, 1718: 7, 1719: 7, 1720: 7, 1721: 7, 1722: 7, 1723: 7, 1724: 7, 1725: 7, 1726: 7, 1727: 7, 1728: 7, 1729: 7, 1730: 7, 1731: 7, 1732: 7, 1733: 7, 1734: 7, 1735: 7, 1736: 7, 1737: 7, 1738: 7, 1739: 7, 1740: 7, 1741: 7, 1742: 7, 1743: 7, 1744: 7, 1745: 7, 1746: 7, 1747: 7, 1748: 7, 1749: 7, 1750: 7, 1751: 7, 1752: 7, 1753: 7, 1754: 7, 1755: 7, 1756: 7, 1757: 7, 1758: 7, 1759: 7, 1760: 7, 1761: 7, 1762: 7, 1763: 7, 1764: 7, 1765: 7, 1766: 7, 1767: 7, 1768: 7, 1769: 7, 1770: 7, 1771: 7, 1772: 7, 1773: 7, 1774: 7, 1775: 7, 1776: 7, 1777: 7, 1778: 7, 1779: 7, 1780: 7, 1781: 7, 1782: 7, 1783: 7, 1784: 7, 1785: 7, 1786: 7, 1787: 7, 1788: 7, 1789: 7, 1790: 7, 1791: 7, 1792: 7, 1793: 7, 1794: 7, 1795: 7, 1796: 7, 1797: 7, 1798: 7, 1799: 7, 1800: 7, 1801: 7, 1802: 7, 1803: 7, 1804: 7, 1805: 7, 1806: 7, 1807: 7, 1808: 7, 1809: 7, 1810: 7, 1811: 7, 1812: 7, 1813: 7, 1814: 7, 1815: 7, 1816: 7, 1817: 7, 1818: 7, 1819: 7, 1820: 7, 1821: 7, 1822: 7, 1823: 7, 1824: 7, 1825: 7, 1826: 7, 1827: 7, 1828: 7, 1829: 7, 1830: 7, 1831: 7, 1832: 7, 1833: 7, 1834: 7, 1835: 7, 1836: 7, 1837: 7, 1838: 7, 1839: 7, 1840: 7, 1841: 7, 1842: 7, 1843: 7, 1844: 7, 1845: 7, 1846: 7, 1847: 7, 1848: 7, 1849: 7, 1850: 7, 1851: 7, 1852: 7, 1853: 7, 1854: 7, 1855: 7}\n"
     ]
    },
    {
     "name": "stderr",
     "output_type": "stream",
     "text": [
      "propagate in video:   0%|          | 5/1786 [00:00<00:37, 47.17it/s]"
     ]
    },
    {
     "name": "stdout",
     "output_type": "stream",
     "text": [
      "pred: 1  true: 0  ❌\n",
      "pred: 1  true: 0  ❌\n",
      "pred: 1  true: 0  ❌\n",
      "pred: 1  true: 0  ❌\n"
     ]
    },
    {
     "name": "stderr",
     "output_type": "stream",
     "text": [
      "propagate in video:   1%|          | 10/1786 [00:00<01:19, 22.43it/s]"
     ]
    },
    {
     "name": "stdout",
     "output_type": "stream",
     "text": [
      "pred: 1  true: 0  ❌\n"
     ]
    },
    {
     "name": "stderr",
     "output_type": "stream",
     "text": [
      "propagate in video:   1%|          | 13/1786 [00:00<01:25, 20.81it/s]"
     ]
    },
    {
     "name": "stdout",
     "output_type": "stream",
     "text": [
      "pred: 1  true: 0  ❌\n",
      "pred: 0  true: 0  ✅\n",
      "pred: 0  true: 0  ✅\n",
      "pred: 0  true: 0  ✅\n"
     ]
    },
    {
     "name": "stderr",
     "output_type": "stream",
     "text": [
      "propagate in video:   1%|          | 16/1786 [00:00<01:28, 19.89it/s]"
     ]
    },
    {
     "name": "stdout",
     "output_type": "stream",
     "text": [
      "pred: 0  true: 0  ✅\n",
      "pred: 0  true: 0  ✅\n",
      "pred: 0  true: 0  ✅\n",
      "pred: 0  true: 0  ✅\n"
     ]
    },
    {
     "name": "stderr",
     "output_type": "stream",
     "text": [
      "propagate in video:   1%|          | 19/1786 [00:00<01:31, 19.32it/s]"
     ]
    },
    {
     "name": "stdout",
     "output_type": "stream",
     "text": [
      "pred: 0  true: 0  ✅\n",
      "pred: 0  true: 0  ✅\n",
      "pred: 0  true: 0  ✅\n"
     ]
    },
    {
     "name": "stderr",
     "output_type": "stream",
     "text": [
      "propagate in video:   1%|          | 22/1786 [00:01<01:33, 18.95it/s]"
     ]
    },
    {
     "name": "stdout",
     "output_type": "stream",
     "text": [
      "pred: 0  true: 0  ✅\n"
     ]
    },
    {
     "name": "stderr",
     "output_type": "stream",
     "text": [
      "propagate in video:   1%|▏         | 24/1786 [00:01<01:33, 18.76it/s]"
     ]
    },
    {
     "name": "stdout",
     "output_type": "stream",
     "text": [
      "pred: 0  true: 0  ✅\n",
      "pred: 0  true: 0  ✅\n",
      "pred: 0  true: 0  ✅\n"
     ]
    },
    {
     "name": "stderr",
     "output_type": "stream",
     "text": [
      "propagate in video:   1%|▏         | 26/1786 [00:01<01:34, 18.61it/s]"
     ]
    },
    {
     "name": "stdout",
     "output_type": "stream",
     "text": [
      "pred: 0  true: 0  ✅\n"
     ]
    },
    {
     "name": "stderr",
     "output_type": "stream",
     "text": [
      "propagate in video:   2%|▏         | 28/1786 [00:01<01:35, 18.50it/s]"
     ]
    },
    {
     "name": "stdout",
     "output_type": "stream",
     "text": [
      "pred: 0  true: 0  ✅\n",
      "pred: 0  true: 0  ✅\n",
      "pred: 0  true: 0  ✅\n"
     ]
    },
    {
     "name": "stderr",
     "output_type": "stream",
     "text": [
      "propagate in video:   2%|▏         | 30/1786 [00:01<01:35, 18.41it/s]"
     ]
    },
    {
     "name": "stdout",
     "output_type": "stream",
     "text": [
      "pred: 0  true: 0  ✅\n"
     ]
    },
    {
     "name": "stderr",
     "output_type": "stream",
     "text": [
      "propagate in video:   2%|▏         | 32/1786 [00:01<01:35, 18.35it/s]"
     ]
    },
    {
     "name": "stdout",
     "output_type": "stream",
     "text": [
      "pred: 0  true: 0  ✅\n",
      "pred: 1  true: 0  ❌\n",
      "pred: 1  true: 0  ❌\n"
     ]
    },
    {
     "name": "stderr",
     "output_type": "stream",
     "text": [
      "propagate in video:   2%|▏         | 34/1786 [00:01<01:35, 18.32it/s]"
     ]
    },
    {
     "name": "stdout",
     "output_type": "stream",
     "text": [
      "pred: 1  true: 0  ❌\n"
     ]
    },
    {
     "name": "stderr",
     "output_type": "stream",
     "text": [
      "propagate in video:   2%|▏         | 36/1786 [00:01<01:35, 18.28it/s]"
     ]
    },
    {
     "name": "stdout",
     "output_type": "stream",
     "text": [
      "pred: 5  true: 0  ❌\n",
      "pred: 1  true: 0  ❌\n",
      "pred: 1  true: 0  ❌\n"
     ]
    },
    {
     "name": "stderr",
     "output_type": "stream",
     "text": [
      "propagate in video:   2%|▏         | 38/1786 [00:01<01:35, 18.27it/s]"
     ]
    },
    {
     "name": "stdout",
     "output_type": "stream",
     "text": [
      "pred: 4  true: 0  ❌\n"
     ]
    },
    {
     "name": "stderr",
     "output_type": "stream",
     "text": [
      "propagate in video:   2%|▏         | 40/1786 [00:02<01:35, 18.27it/s]"
     ]
    },
    {
     "name": "stdout",
     "output_type": "stream",
     "text": [
      "pred: 4  true: 0  ❌\n",
      "pred: 2  true: 0  ❌\n",
      "pred: 1  true: 0  ❌\n"
     ]
    },
    {
     "name": "stderr",
     "output_type": "stream",
     "text": [
      "propagate in video:   2%|▏         | 42/1786 [00:02<01:35, 18.26it/s]"
     ]
    },
    {
     "name": "stdout",
     "output_type": "stream",
     "text": [
      "pred: 1  true: 0  ❌\n"
     ]
    },
    {
     "name": "stderr",
     "output_type": "stream",
     "text": [
      "propagate in video:   2%|▏         | 44/1786 [00:02<01:35, 18.26it/s]"
     ]
    },
    {
     "name": "stdout",
     "output_type": "stream",
     "text": [
      "pred: 5  true: 0  ❌\n",
      "pred: 1  true: 0  ❌\n",
      "pred: 1  true: 0  ❌\n"
     ]
    },
    {
     "name": "stderr",
     "output_type": "stream",
     "text": [
      "propagate in video:   3%|▎         | 46/1786 [00:02<01:35, 18.24it/s]"
     ]
    },
    {
     "name": "stdout",
     "output_type": "stream",
     "text": [
      "pred: 1  true: 0  ❌\n"
     ]
    },
    {
     "name": "stderr",
     "output_type": "stream",
     "text": [
      "propagate in video:   3%|▎         | 48/1786 [00:02<01:35, 18.21it/s]"
     ]
    },
    {
     "name": "stdout",
     "output_type": "stream",
     "text": [
      "pred: 0  true: 0  ✅\n",
      "pred: 0  true: 0  ✅\n",
      "pred: 0  true: 0  ✅\n"
     ]
    },
    {
     "name": "stderr",
     "output_type": "stream",
     "text": [
      "propagate in video:   3%|▎         | 50/1786 [00:02<01:35, 18.19it/s]"
     ]
    },
    {
     "name": "stdout",
     "output_type": "stream",
     "text": [
      "pred: 0  true: 0  ✅\n"
     ]
    },
    {
     "name": "stderr",
     "output_type": "stream",
     "text": [
      "propagate in video:   3%|▎         | 52/1786 [00:02<01:35, 18.19it/s]"
     ]
    },
    {
     "name": "stdout",
     "output_type": "stream",
     "text": [
      "pred: 0  true: 0  ✅\n",
      "pred: 1  true: 0  ❌\n",
      "pred: 1  true: 0  ❌\n"
     ]
    },
    {
     "name": "stderr",
     "output_type": "stream",
     "text": [
      "propagate in video:   3%|▎         | 54/1786 [00:02<01:35, 18.21it/s]"
     ]
    },
    {
     "name": "stdout",
     "output_type": "stream",
     "text": [
      "pred: 1  true: 0  ❌\n"
     ]
    },
    {
     "name": "stderr",
     "output_type": "stream",
     "text": [
      "propagate in video:   3%|▎         | 56/1786 [00:02<01:34, 18.22it/s]"
     ]
    },
    {
     "name": "stdout",
     "output_type": "stream",
     "text": [
      "pred: 1  true: 0  ❌\n",
      "pred: 1  true: 0  ❌\n",
      "pred: 1  true: 0  ❌\n"
     ]
    },
    {
     "name": "stderr",
     "output_type": "stream",
     "text": [
      "propagate in video:   3%|▎         | 58/1786 [00:03<01:34, 18.23it/s]"
     ]
    },
    {
     "name": "stdout",
     "output_type": "stream",
     "text": [
      "pred: 1  true: 0  ❌\n"
     ]
    },
    {
     "name": "stderr",
     "output_type": "stream",
     "text": [
      "propagate in video:   3%|▎         | 60/1786 [00:03<01:34, 18.24it/s]"
     ]
    },
    {
     "name": "stdout",
     "output_type": "stream",
     "text": [
      "pred: 1  true: 0  ❌\n",
      "pred: 1  true: 0  ❌\n",
      "pred: 1  true: 0  ❌\n"
     ]
    },
    {
     "name": "stderr",
     "output_type": "stream",
     "text": [
      "propagate in video:   3%|▎         | 62/1786 [00:03<01:34, 18.25it/s]"
     ]
    },
    {
     "name": "stdout",
     "output_type": "stream",
     "text": [
      "pred: 0  true: 0  ✅\n"
     ]
    },
    {
     "name": "stderr",
     "output_type": "stream",
     "text": [
      "propagate in video:   4%|▎         | 64/1786 [00:03<01:34, 18.26it/s]"
     ]
    },
    {
     "name": "stdout",
     "output_type": "stream",
     "text": [
      "pred: 0  true: 0  ✅\n",
      "pred: 1  true: 0  ❌\n",
      "pred: 0  true: 0  ✅\n"
     ]
    },
    {
     "name": "stderr",
     "output_type": "stream",
     "text": [
      "propagate in video:   4%|▎         | 66/1786 [00:03<01:34, 18.26it/s]"
     ]
    },
    {
     "name": "stdout",
     "output_type": "stream",
     "text": [
      "pred: 0  true: 0  ✅\n"
     ]
    },
    {
     "name": "stderr",
     "output_type": "stream",
     "text": [
      "propagate in video:   4%|▍         | 68/1786 [00:03<01:34, 18.26it/s]"
     ]
    },
    {
     "name": "stdout",
     "output_type": "stream",
     "text": [
      "pred: 0  true: 0  ✅\n",
      "pred: 0  true: 0  ✅\n",
      "pred: 1  true: 0  ❌\n"
     ]
    },
    {
     "name": "stderr",
     "output_type": "stream",
     "text": [
      "propagate in video:   4%|▍         | 70/1786 [00:03<01:33, 18.26it/s]"
     ]
    },
    {
     "name": "stdout",
     "output_type": "stream",
     "text": [
      "pred: 1  true: 0  ❌\n"
     ]
    },
    {
     "name": "stderr",
     "output_type": "stream",
     "text": [
      "propagate in video:   4%|▍         | 72/1786 [00:03<01:33, 18.26it/s]"
     ]
    },
    {
     "name": "stdout",
     "output_type": "stream",
     "text": [
      "pred: 1  true: 0  ❌\n",
      "pred: 1  true: 0  ❌\n",
      "pred: 1  true: 0  ❌\n"
     ]
    },
    {
     "name": "stderr",
     "output_type": "stream",
     "text": [
      "propagate in video:   4%|▍         | 74/1786 [00:03<01:33, 18.26it/s]"
     ]
    },
    {
     "name": "stdout",
     "output_type": "stream",
     "text": [
      "pred: 1  true: 0  ❌\n"
     ]
    },
    {
     "name": "stderr",
     "output_type": "stream",
     "text": [
      "propagate in video:   4%|▍         | 76/1786 [00:04<01:33, 18.26it/s]"
     ]
    },
    {
     "name": "stdout",
     "output_type": "stream",
     "text": [
      "pred: 1  true: 0  ❌\n",
      "pred: 0  true: 0  ✅\n",
      "pred: 0  true: 0  ✅\n"
     ]
    },
    {
     "name": "stderr",
     "output_type": "stream",
     "text": [
      "propagate in video:   4%|▍         | 78/1786 [00:04<01:33, 18.26it/s]"
     ]
    },
    {
     "name": "stdout",
     "output_type": "stream",
     "text": [
      "pred: 0  true: 0  ✅\n"
     ]
    },
    {
     "name": "stderr",
     "output_type": "stream",
     "text": [
      "propagate in video:   4%|▍         | 80/1786 [00:04<01:33, 18.25it/s]"
     ]
    },
    {
     "name": "stdout",
     "output_type": "stream",
     "text": [
      "pred: 0  true: 0  ✅\n",
      "pred: 0  true: 0  ✅\n",
      "pred: 0  true: 0  ✅\n"
     ]
    },
    {
     "name": "stderr",
     "output_type": "stream",
     "text": [
      "propagate in video:   5%|▍         | 82/1786 [00:04<01:33, 18.25it/s]"
     ]
    },
    {
     "name": "stdout",
     "output_type": "stream",
     "text": [
      "pred: 2  true: 0  ❌\n"
     ]
    },
    {
     "name": "stderr",
     "output_type": "stream",
     "text": [
      "propagate in video:   5%|▍         | 84/1786 [00:04<01:33, 18.25it/s]"
     ]
    },
    {
     "name": "stdout",
     "output_type": "stream",
     "text": [
      "pred: 0  true: 0  ✅\n",
      "pred: 0  true: 0  ✅\n",
      "pred: 2  true: 0  ❌\n"
     ]
    },
    {
     "name": "stderr",
     "output_type": "stream",
     "text": [
      "propagate in video:   5%|▍         | 86/1786 [00:04<01:33, 18.25it/s]"
     ]
    },
    {
     "name": "stdout",
     "output_type": "stream",
     "text": [
      "pred: 2  true: 0  ❌\n"
     ]
    },
    {
     "name": "stderr",
     "output_type": "stream",
     "text": [
      "propagate in video:   5%|▍         | 88/1786 [00:04<01:33, 18.18it/s]"
     ]
    },
    {
     "name": "stdout",
     "output_type": "stream",
     "text": [
      "pred: 2  true: 0  ❌\n",
      "pred: 2  true: 0  ❌\n",
      "pred: 2  true: 0  ❌\n"
     ]
    },
    {
     "name": "stderr",
     "output_type": "stream",
     "text": [
      "propagate in video:   5%|▌         | 90/1786 [00:04<01:33, 18.19it/s]"
     ]
    },
    {
     "name": "stdout",
     "output_type": "stream",
     "text": [
      "pred: 0  true: 0  ✅\n"
     ]
    },
    {
     "name": "stderr",
     "output_type": "stream",
     "text": [
      "propagate in video:   5%|▌         | 92/1786 [00:04<01:33, 18.19it/s]"
     ]
    },
    {
     "name": "stdout",
     "output_type": "stream",
     "text": [
      "pred: 0  true: 0  ✅\n",
      "pred: 0  true: 0  ✅\n",
      "pred: 0  true: 0  ✅\n"
     ]
    },
    {
     "name": "stderr",
     "output_type": "stream",
     "text": [
      "propagate in video:   5%|▌         | 94/1786 [00:05<01:32, 18.19it/s]"
     ]
    },
    {
     "name": "stdout",
     "output_type": "stream",
     "text": [
      "pred: 2  true: 0  ❌\n"
     ]
    },
    {
     "name": "stderr",
     "output_type": "stream",
     "text": [
      "propagate in video:   5%|▌         | 96/1786 [00:05<01:32, 18.19it/s]"
     ]
    },
    {
     "name": "stdout",
     "output_type": "stream",
     "text": [
      "pred: 5  true: 0  ❌\n",
      "pred: 3  true: 0  ❌\n",
      "pred: 3  true: 0  ❌\n"
     ]
    },
    {
     "name": "stderr",
     "output_type": "stream",
     "text": [
      "propagate in video:   5%|▌         | 98/1786 [00:05<01:32, 18.19it/s]"
     ]
    },
    {
     "name": "stdout",
     "output_type": "stream",
     "text": [
      "pred: 1  true: 0  ❌\n"
     ]
    },
    {
     "name": "stderr",
     "output_type": "stream",
     "text": [
      "propagate in video:   6%|▌         | 100/1786 [00:05<01:32, 18.19it/s]"
     ]
    },
    {
     "name": "stdout",
     "output_type": "stream",
     "text": [
      "pred: 1  true: 0  ❌\n",
      "pred: 1  true: 0  ❌\n",
      "pred: 1  true: 0  ❌\n"
     ]
    },
    {
     "name": "stderr",
     "output_type": "stream",
     "text": [
      "propagate in video:   6%|▌         | 102/1786 [00:05<01:32, 18.19it/s]"
     ]
    },
    {
     "name": "stdout",
     "output_type": "stream",
     "text": [
      "pred: 0  true: 0  ✅\n"
     ]
    },
    {
     "name": "stderr",
     "output_type": "stream",
     "text": [
      "propagate in video:   6%|▌         | 104/1786 [00:05<01:32, 18.19it/s]"
     ]
    },
    {
     "name": "stdout",
     "output_type": "stream",
     "text": [
      "pred: 0  true: 0  ✅\n",
      "pred: 0  true: 0  ✅\n",
      "pred: 2  true: 0  ❌\n"
     ]
    },
    {
     "name": "stderr",
     "output_type": "stream",
     "text": [
      "propagate in video:   6%|▌         | 106/1786 [00:05<01:32, 18.18it/s]"
     ]
    },
    {
     "name": "stdout",
     "output_type": "stream",
     "text": [
      "pred: 2  true: 0  ❌\n"
     ]
    },
    {
     "name": "stderr",
     "output_type": "stream",
     "text": [
      "propagate in video:   6%|▌         | 108/1786 [00:05<01:32, 18.16it/s]"
     ]
    },
    {
     "name": "stdout",
     "output_type": "stream",
     "text": [
      "pred: 2  true: 0  ❌\n",
      "pred: 2  true: 0  ❌\n",
      "pred: 3  true: 0  ❌\n"
     ]
    },
    {
     "name": "stderr",
     "output_type": "stream",
     "text": [
      "propagate in video:   6%|▌         | 110/1786 [00:05<01:32, 18.15it/s]"
     ]
    },
    {
     "name": "stdout",
     "output_type": "stream",
     "text": [
      "pred: 0  true: 0  ✅\n"
     ]
    },
    {
     "name": "stderr",
     "output_type": "stream",
     "text": [
      "propagate in video:   6%|▋         | 112/1786 [00:06<01:32, 18.17it/s]"
     ]
    },
    {
     "name": "stdout",
     "output_type": "stream",
     "text": [
      "pred: 1  true: 0  ❌\n",
      "pred: 0  true: 0  ✅\n",
      "pred: 0  true: 0  ✅\n"
     ]
    },
    {
     "name": "stderr",
     "output_type": "stream",
     "text": [
      "propagate in video:   6%|▋         | 114/1786 [00:06<01:32, 18.17it/s]"
     ]
    },
    {
     "name": "stdout",
     "output_type": "stream",
     "text": [
      "pred: 1  true: 0  ❌\n"
     ]
    },
    {
     "name": "stderr",
     "output_type": "stream",
     "text": [
      "propagate in video:   6%|▋         | 116/1786 [00:06<01:31, 18.17it/s]"
     ]
    },
    {
     "name": "stdout",
     "output_type": "stream",
     "text": [
      "pred: 1  true: 0  ❌\n",
      "pred: 1  true: 0  ❌\n",
      "pred: 3  true: 0  ❌\n"
     ]
    },
    {
     "name": "stderr",
     "output_type": "stream",
     "text": [
      "propagate in video:   7%|▋         | 118/1786 [00:06<01:31, 18.17it/s]"
     ]
    },
    {
     "name": "stdout",
     "output_type": "stream",
     "text": [
      "pred: 0  true: 0  ✅\n"
     ]
    },
    {
     "name": "stderr",
     "output_type": "stream",
     "text": [
      "propagate in video:   7%|▋         | 120/1786 [00:06<01:31, 18.17it/s]"
     ]
    },
    {
     "name": "stdout",
     "output_type": "stream",
     "text": [
      "pred: 0  true: 0  ✅\n",
      "pred: 6  true: 0  ❌\n",
      "pred: 2  true: 0  ❌\n"
     ]
    },
    {
     "name": "stderr",
     "output_type": "stream",
     "text": [
      "propagate in video:   7%|▋         | 122/1786 [00:06<01:31, 18.18it/s]"
     ]
    },
    {
     "name": "stdout",
     "output_type": "stream",
     "text": [
      "pred: 5  true: 0  ❌\n"
     ]
    },
    {
     "name": "stderr",
     "output_type": "stream",
     "text": [
      "propagate in video:   7%|▋         | 124/1786 [00:06<01:31, 18.20it/s]"
     ]
    },
    {
     "name": "stdout",
     "output_type": "stream",
     "text": [
      "pred: 5  true: 0  ❌\n",
      "pred: 0  true: 0  ✅\n",
      "pred: 0  true: 0  ✅\n"
     ]
    },
    {
     "name": "stderr",
     "output_type": "stream",
     "text": [
      "propagate in video:   7%|▋         | 126/1786 [00:06<01:31, 18.20it/s]"
     ]
    },
    {
     "name": "stdout",
     "output_type": "stream",
     "text": [
      "pred: 0  true: 0  ✅\n"
     ]
    },
    {
     "name": "stderr",
     "output_type": "stream",
     "text": [
      "propagate in video:   7%|▋         | 128/1786 [00:06<01:31, 18.18it/s]"
     ]
    },
    {
     "name": "stdout",
     "output_type": "stream",
     "text": [
      "pred: 0  true: 1  ❌\n",
      "pred: 1  true: 1  ✅\n",
      "pred: 1  true: 1  ✅\n"
     ]
    },
    {
     "name": "stderr",
     "output_type": "stream",
     "text": [
      "propagate in video:   7%|▋         | 130/1786 [00:07<01:31, 18.18it/s]"
     ]
    },
    {
     "name": "stdout",
     "output_type": "stream",
     "text": [
      "pred: 1  true: 1  ✅\n"
     ]
    },
    {
     "name": "stderr",
     "output_type": "stream",
     "text": [
      "propagate in video:   7%|▋         | 132/1786 [00:07<01:31, 18.17it/s]"
     ]
    },
    {
     "name": "stdout",
     "output_type": "stream",
     "text": [
      "pred: 1  true: 1  ✅\n",
      "pred: 1  true: 1  ✅\n",
      "pred: 1  true: 1  ✅\n"
     ]
    },
    {
     "name": "stderr",
     "output_type": "stream",
     "text": [
      "propagate in video:   8%|▊         | 134/1786 [00:07<01:31, 18.15it/s]"
     ]
    },
    {
     "name": "stdout",
     "output_type": "stream",
     "text": [
      "pred: 1  true: 1  ✅\n"
     ]
    },
    {
     "name": "stderr",
     "output_type": "stream",
     "text": [
      "propagate in video:   8%|▊         | 136/1786 [00:07<01:30, 18.13it/s]"
     ]
    },
    {
     "name": "stdout",
     "output_type": "stream",
     "text": [
      "pred: 1  true: 1  ✅\n",
      "pred: 1  true: 1  ✅\n",
      "pred: 1  true: 1  ✅\n"
     ]
    },
    {
     "name": "stderr",
     "output_type": "stream",
     "text": [
      "propagate in video:   8%|▊         | 138/1786 [00:07<01:31, 18.10it/s]"
     ]
    },
    {
     "name": "stdout",
     "output_type": "stream",
     "text": [
      "pred: 1  true: 1  ✅\n"
     ]
    },
    {
     "name": "stderr",
     "output_type": "stream",
     "text": [
      "propagate in video:   8%|▊         | 140/1786 [00:07<01:30, 18.09it/s]"
     ]
    },
    {
     "name": "stdout",
     "output_type": "stream",
     "text": [
      "pred: 1  true: 1  ✅\n",
      "pred: 1  true: 1  ✅\n",
      "pred: 1  true: 1  ✅\n"
     ]
    },
    {
     "name": "stderr",
     "output_type": "stream",
     "text": [
      "propagate in video:   8%|▊         | 142/1786 [00:07<01:30, 18.08it/s]"
     ]
    },
    {
     "name": "stdout",
     "output_type": "stream",
     "text": [
      "pred: 1  true: 1  ✅\n"
     ]
    },
    {
     "name": "stderr",
     "output_type": "stream",
     "text": [
      "propagate in video:   8%|▊         | 144/1786 [00:07<01:30, 18.07it/s]"
     ]
    },
    {
     "name": "stdout",
     "output_type": "stream",
     "text": [
      "pred: 1  true: 1  ✅\n",
      "pred: 1  true: 1  ✅\n",
      "pred: 1  true: 1  ✅\n"
     ]
    },
    {
     "name": "stderr",
     "output_type": "stream",
     "text": [
      "propagate in video:   8%|▊         | 146/1786 [00:07<01:30, 18.07it/s]"
     ]
    },
    {
     "name": "stdout",
     "output_type": "stream",
     "text": [
      "pred: 1  true: 1  ✅\n"
     ]
    },
    {
     "name": "stderr",
     "output_type": "stream",
     "text": [
      "propagate in video:   8%|▊         | 148/1786 [00:07<01:30, 18.07it/s]"
     ]
    },
    {
     "name": "stdout",
     "output_type": "stream",
     "text": [
      "pred: 1  true: 1  ✅\n",
      "pred: 1  true: 1  ✅\n",
      "pred: 1  true: 1  ✅\n"
     ]
    },
    {
     "name": "stderr",
     "output_type": "stream",
     "text": [
      "propagate in video:   8%|▊         | 150/1786 [00:08<01:30, 18.07it/s]"
     ]
    },
    {
     "name": "stdout",
     "output_type": "stream",
     "text": [
      "pred: 1  true: 1  ✅\n"
     ]
    },
    {
     "name": "stderr",
     "output_type": "stream",
     "text": [
      "propagate in video:   9%|▊         | 152/1786 [00:08<01:30, 18.06it/s]"
     ]
    },
    {
     "name": "stdout",
     "output_type": "stream",
     "text": [
      "pred: 1  true: 1  ✅\n",
      "pred: 1  true: 1  ✅\n",
      "pred: 1  true: 1  ✅\n"
     ]
    },
    {
     "name": "stderr",
     "output_type": "stream",
     "text": [
      "propagate in video:   9%|▊         | 154/1786 [00:08<01:30, 18.10it/s]"
     ]
    },
    {
     "name": "stdout",
     "output_type": "stream",
     "text": [
      "pred: 0  true: 1  ❌\n"
     ]
    },
    {
     "name": "stderr",
     "output_type": "stream",
     "text": [
      "propagate in video:   9%|▊         | 156/1786 [00:08<01:29, 18.13it/s]"
     ]
    },
    {
     "name": "stdout",
     "output_type": "stream",
     "text": [
      "pred: 0  true: 1  ❌\n",
      "pred: 0  true: 1  ❌\n",
      "pred: 0  true: 1  ❌\n"
     ]
    },
    {
     "name": "stderr",
     "output_type": "stream",
     "text": [
      "propagate in video:   9%|▉         | 158/1786 [00:08<01:29, 18.14it/s]"
     ]
    },
    {
     "name": "stdout",
     "output_type": "stream",
     "text": [
      "pred: 0  true: 1  ❌\n"
     ]
    },
    {
     "name": "stderr",
     "output_type": "stream",
     "text": [
      "propagate in video:   9%|▉         | 160/1786 [00:08<01:29, 18.16it/s]"
     ]
    },
    {
     "name": "stdout",
     "output_type": "stream",
     "text": [
      "pred: 0  true: 1  ❌\n",
      "pred: 0  true: 1  ❌\n",
      "pred: 0  true: 1  ❌\n"
     ]
    },
    {
     "name": "stderr",
     "output_type": "stream",
     "text": [
      "propagate in video:   9%|▉         | 162/1786 [00:08<01:29, 18.19it/s]"
     ]
    },
    {
     "name": "stdout",
     "output_type": "stream",
     "text": [
      "pred: 0  true: 1  ❌\n"
     ]
    },
    {
     "name": "stderr",
     "output_type": "stream",
     "text": [
      "propagate in video:   9%|▉         | 164/1786 [00:08<01:29, 18.14it/s]"
     ]
    },
    {
     "name": "stdout",
     "output_type": "stream",
     "text": [
      "pred: 1  true: 1  ✅\n",
      "pred: 0  true: 1  ❌\n",
      "pred: 3  true: 1  ❌\n"
     ]
    },
    {
     "name": "stderr",
     "output_type": "stream",
     "text": [
      "propagate in video:   9%|▉         | 166/1786 [00:08<01:29, 18.08it/s]"
     ]
    },
    {
     "name": "stdout",
     "output_type": "stream",
     "text": [
      "pred: 0  true: 1  ❌\n"
     ]
    },
    {
     "name": "stderr",
     "output_type": "stream",
     "text": [
      "propagate in video:   9%|▉         | 168/1786 [00:09<01:29, 18.10it/s]"
     ]
    },
    {
     "name": "stdout",
     "output_type": "stream",
     "text": [
      "pred: 1  true: 1  ✅\n",
      "pred: 3  true: 1  ❌\n",
      "pred: 3  true: 1  ❌\n"
     ]
    },
    {
     "name": "stderr",
     "output_type": "stream",
     "text": [
      "propagate in video:  10%|▉         | 170/1786 [00:09<01:29, 18.13it/s]"
     ]
    },
    {
     "name": "stdout",
     "output_type": "stream",
     "text": [
      "pred: 3  true: 1  ❌\n"
     ]
    },
    {
     "name": "stderr",
     "output_type": "stream",
     "text": [
      "propagate in video:  10%|▉         | 172/1786 [00:09<01:28, 18.14it/s]"
     ]
    },
    {
     "name": "stdout",
     "output_type": "stream",
     "text": [
      "pred: 3  true: 1  ❌\n",
      "pred: 5  true: 1  ❌\n",
      "pred: 2  true: 1  ❌\n"
     ]
    },
    {
     "name": "stderr",
     "output_type": "stream",
     "text": [
      "propagate in video:  10%|▉         | 174/1786 [00:09<01:28, 18.15it/s]"
     ]
    },
    {
     "name": "stdout",
     "output_type": "stream",
     "text": [
      "pred: 2  true: 1  ❌\n"
     ]
    },
    {
     "name": "stderr",
     "output_type": "stream",
     "text": [
      "propagate in video:  10%|▉         | 176/1786 [00:09<01:28, 18.15it/s]"
     ]
    },
    {
     "name": "stdout",
     "output_type": "stream",
     "text": [
      "pred: 2  true: 1  ❌\n",
      "pred: 2  true: 1  ❌\n",
      "pred: 2  true: 1  ❌\n"
     ]
    },
    {
     "name": "stderr",
     "output_type": "stream",
     "text": [
      "propagate in video:  10%|▉         | 178/1786 [00:09<01:28, 18.16it/s]"
     ]
    },
    {
     "name": "stdout",
     "output_type": "stream",
     "text": [
      "pred: 2  true: 1  ❌\n"
     ]
    },
    {
     "name": "stderr",
     "output_type": "stream",
     "text": [
      "propagate in video:  10%|█         | 180/1786 [00:09<01:28, 18.17it/s]"
     ]
    },
    {
     "name": "stdout",
     "output_type": "stream",
     "text": [
      "pred: 3  true: 1  ❌\n",
      "pred: 3  true: 1  ❌\n",
      "pred: 3  true: 1  ❌\n"
     ]
    },
    {
     "name": "stderr",
     "output_type": "stream",
     "text": [
      "propagate in video:  10%|█         | 182/1786 [00:09<01:28, 18.18it/s]"
     ]
    },
    {
     "name": "stdout",
     "output_type": "stream",
     "text": [
      "pred: 2  true: 1  ❌\n"
     ]
    },
    {
     "name": "stderr",
     "output_type": "stream",
     "text": [
      "propagate in video:  10%|█         | 184/1786 [00:09<01:28, 18.19it/s]"
     ]
    },
    {
     "name": "stdout",
     "output_type": "stream",
     "text": [
      "pred: 2  true: 1  ❌\n",
      "pred: 3  true: 1  ❌\n",
      "pred: 3  true: 1  ❌\n"
     ]
    },
    {
     "name": "stderr",
     "output_type": "stream",
     "text": [
      "propagate in video:  10%|█         | 186/1786 [00:10<01:27, 18.19it/s]"
     ]
    },
    {
     "name": "stdout",
     "output_type": "stream",
     "text": [
      "pred: 3  true: 1  ❌\n"
     ]
    },
    {
     "name": "stderr",
     "output_type": "stream",
     "text": [
      "propagate in video:  11%|█         | 188/1786 [00:10<01:27, 18.19it/s]"
     ]
    },
    {
     "name": "stdout",
     "output_type": "stream",
     "text": [
      "pred: 3  true: 1  ❌\n",
      "pred: 3  true: 1  ❌\n",
      "pred: 3  true: 1  ❌\n"
     ]
    },
    {
     "name": "stderr",
     "output_type": "stream",
     "text": [
      "propagate in video:  11%|█         | 190/1786 [00:10<01:27, 18.20it/s]"
     ]
    },
    {
     "name": "stdout",
     "output_type": "stream",
     "text": [
      "pred: 3  true: 1  ❌\n"
     ]
    },
    {
     "name": "stderr",
     "output_type": "stream",
     "text": [
      "propagate in video:  11%|█         | 192/1786 [00:10<01:27, 18.20it/s]"
     ]
    },
    {
     "name": "stdout",
     "output_type": "stream",
     "text": [
      "pred: 3  true: 1  ❌\n",
      "pred: 3  true: 1  ❌\n",
      "pred: 2  true: 1  ❌\n"
     ]
    },
    {
     "name": "stderr",
     "output_type": "stream",
     "text": [
      "propagate in video:  11%|█         | 194/1786 [00:10<01:27, 18.20it/s]"
     ]
    },
    {
     "name": "stdout",
     "output_type": "stream",
     "text": [
      "pred: 2  true: 1  ❌\n"
     ]
    },
    {
     "name": "stderr",
     "output_type": "stream",
     "text": [
      "propagate in video:  11%|█         | 196/1786 [00:10<01:27, 18.20it/s]"
     ]
    },
    {
     "name": "stdout",
     "output_type": "stream",
     "text": [
      "pred: 3  true: 1  ❌\n",
      "pred: 3  true: 1  ❌\n",
      "pred: 3  true: 1  ❌\n"
     ]
    },
    {
     "name": "stderr",
     "output_type": "stream",
     "text": [
      "propagate in video:  11%|█         | 198/1786 [00:10<01:27, 18.20it/s]"
     ]
    },
    {
     "name": "stdout",
     "output_type": "stream",
     "text": [
      "pred: 3  true: 1  ❌\n"
     ]
    },
    {
     "name": "stderr",
     "output_type": "stream",
     "text": [
      "propagate in video:  11%|█         | 200/1786 [00:10<01:27, 18.20it/s]"
     ]
    },
    {
     "name": "stdout",
     "output_type": "stream",
     "text": [
      "pred: 3  true: 1  ❌\n",
      "pred: 3  true: 1  ❌\n",
      "pred: 3  true: 1  ❌\n"
     ]
    },
    {
     "name": "stderr",
     "output_type": "stream",
     "text": [
      "propagate in video:  11%|█▏        | 202/1786 [00:10<01:27, 18.20it/s]"
     ]
    },
    {
     "name": "stdout",
     "output_type": "stream",
     "text": [
      "pred: 3  true: 1  ❌\n"
     ]
    },
    {
     "name": "stderr",
     "output_type": "stream",
     "text": [
      "propagate in video:  11%|█▏        | 204/1786 [00:11<01:26, 18.20it/s]"
     ]
    },
    {
     "name": "stdout",
     "output_type": "stream",
     "text": [
      "pred: 5  true: 1  ❌\n",
      "pred: 5  true: 1  ❌\n",
      "pred: 3  true: 1  ❌\n"
     ]
    },
    {
     "name": "stderr",
     "output_type": "stream",
     "text": [
      "propagate in video:  12%|█▏        | 206/1786 [00:11<01:26, 18.20it/s]"
     ]
    },
    {
     "name": "stdout",
     "output_type": "stream",
     "text": [
      "pred: 5  true: 1  ❌\n"
     ]
    },
    {
     "name": "stderr",
     "output_type": "stream",
     "text": [
      "propagate in video:  12%|█▏        | 208/1786 [00:11<01:26, 18.20it/s]"
     ]
    },
    {
     "name": "stdout",
     "output_type": "stream",
     "text": [
      "pred: 5  true: 1  ❌\n",
      "pred: 4  true: 1  ❌\n",
      "pred: 4  true: 1  ❌\n"
     ]
    },
    {
     "name": "stderr",
     "output_type": "stream",
     "text": [
      "propagate in video:  12%|█▏        | 210/1786 [00:11<01:26, 18.20it/s]"
     ]
    },
    {
     "name": "stdout",
     "output_type": "stream",
     "text": [
      "pred: 4  true: 1  ❌\n"
     ]
    },
    {
     "name": "stderr",
     "output_type": "stream",
     "text": [
      "propagate in video:  12%|█▏        | 212/1786 [00:11<01:26, 18.20it/s]"
     ]
    },
    {
     "name": "stdout",
     "output_type": "stream",
     "text": [
      "pred: 4  true: 1  ❌\n",
      "pred: 4  true: 2  ❌\n",
      "pred: 4  true: 2  ❌\n"
     ]
    },
    {
     "name": "stderr",
     "output_type": "stream",
     "text": [
      "propagate in video:  12%|█▏        | 214/1786 [00:11<01:26, 18.20it/s]"
     ]
    },
    {
     "name": "stdout",
     "output_type": "stream",
     "text": [
      "pred: 4  true: 2  ❌\n"
     ]
    },
    {
     "name": "stderr",
     "output_type": "stream",
     "text": [
      "propagate in video:  12%|█▏        | 216/1786 [00:11<01:26, 18.19it/s]"
     ]
    },
    {
     "name": "stdout",
     "output_type": "stream",
     "text": [
      "pred: 5  true: 2  ❌\n",
      "pred: 4  true: 2  ❌\n",
      "pred: 5  true: 2  ❌\n"
     ]
    },
    {
     "name": "stderr",
     "output_type": "stream",
     "text": [
      "propagate in video:  12%|█▏        | 218/1786 [00:11<01:26, 18.19it/s]"
     ]
    },
    {
     "name": "stdout",
     "output_type": "stream",
     "text": [
      "pred: 5  true: 2  ❌\n"
     ]
    },
    {
     "name": "stderr",
     "output_type": "stream",
     "text": [
      "propagate in video:  12%|█▏        | 220/1786 [00:11<01:26, 18.18it/s]"
     ]
    },
    {
     "name": "stdout",
     "output_type": "stream",
     "text": [
      "pred: 5  true: 2  ❌\n",
      "pred: 5  true: 2  ❌\n",
      "pred: 5  true: 2  ❌\n"
     ]
    },
    {
     "name": "stderr",
     "output_type": "stream",
     "text": [
      "propagate in video:  12%|█▏        | 222/1786 [00:12<01:26, 18.18it/s]"
     ]
    },
    {
     "name": "stdout",
     "output_type": "stream",
     "text": [
      "pred: 4  true: 2  ❌\n"
     ]
    },
    {
     "name": "stderr",
     "output_type": "stream",
     "text": [
      "propagate in video:  13%|█▎        | 224/1786 [00:12<01:25, 18.18it/s]"
     ]
    },
    {
     "name": "stdout",
     "output_type": "stream",
     "text": [
      "pred: 5  true: 2  ❌\n",
      "pred: 5  true: 2  ❌\n",
      "pred: 5  true: 2  ❌\n"
     ]
    },
    {
     "name": "stderr",
     "output_type": "stream",
     "text": [
      "propagate in video:  13%|█▎        | 226/1786 [00:12<01:25, 18.18it/s]"
     ]
    },
    {
     "name": "stdout",
     "output_type": "stream",
     "text": [
      "pred: 4  true: 2  ❌\n"
     ]
    },
    {
     "name": "stderr",
     "output_type": "stream",
     "text": [
      "propagate in video:  13%|█▎        | 228/1786 [00:12<01:25, 18.18it/s]"
     ]
    },
    {
     "name": "stdout",
     "output_type": "stream",
     "text": [
      "pred: 4  true: 2  ❌\n",
      "pred: 4  true: 2  ❌\n",
      "pred: 5  true: 2  ❌\n"
     ]
    },
    {
     "name": "stderr",
     "output_type": "stream",
     "text": [
      "propagate in video:  13%|█▎        | 230/1786 [00:12<01:25, 18.18it/s]"
     ]
    },
    {
     "name": "stdout",
     "output_type": "stream",
     "text": [
      "pred: 4  true: 2  ❌\n"
     ]
    },
    {
     "name": "stderr",
     "output_type": "stream",
     "text": [
      "propagate in video:  13%|█▎        | 232/1786 [00:12<01:25, 18.18it/s]"
     ]
    },
    {
     "name": "stdout",
     "output_type": "stream",
     "text": [
      "pred: 4  true: 2  ❌\n",
      "pred: 5  true: 2  ❌\n",
      "pred: 3  true: 2  ❌\n"
     ]
    },
    {
     "name": "stderr",
     "output_type": "stream",
     "text": [
      "propagate in video:  13%|█▎        | 234/1786 [00:12<01:25, 18.16it/s]"
     ]
    },
    {
     "name": "stdout",
     "output_type": "stream",
     "text": [
      "pred: 4  true: 2  ❌\n"
     ]
    },
    {
     "name": "stderr",
     "output_type": "stream",
     "text": [
      "propagate in video:  13%|█▎        | 236/1786 [00:12<01:25, 18.15it/s]"
     ]
    },
    {
     "name": "stdout",
     "output_type": "stream",
     "text": [
      "pred: 4  true: 2  ❌\n",
      "pred: 3  true: 2  ❌\n",
      "pred: 4  true: 2  ❌\n"
     ]
    },
    {
     "name": "stderr",
     "output_type": "stream",
     "text": [
      "propagate in video:  13%|█▎        | 238/1786 [00:12<01:25, 18.10it/s]"
     ]
    },
    {
     "name": "stdout",
     "output_type": "stream",
     "text": [
      "pred: 4  true: 2  ❌\n"
     ]
    },
    {
     "name": "stderr",
     "output_type": "stream",
     "text": [
      "propagate in video:  13%|█▎        | 240/1786 [00:13<01:25, 18.09it/s]"
     ]
    },
    {
     "name": "stdout",
     "output_type": "stream",
     "text": [
      "pred: 2  true: 2  ✅\n",
      "pred: 2  true: 2  ✅\n",
      "pred: 2  true: 2  ✅\n"
     ]
    },
    {
     "name": "stderr",
     "output_type": "stream",
     "text": [
      "propagate in video:  14%|█▎        | 242/1786 [00:13<01:25, 18.09it/s]"
     ]
    },
    {
     "name": "stdout",
     "output_type": "stream",
     "text": [
      "pred: 4  true: 2  ❌\n"
     ]
    },
    {
     "name": "stderr",
     "output_type": "stream",
     "text": [
      "propagate in video:  14%|█▎        | 244/1786 [00:13<01:25, 18.08it/s]"
     ]
    },
    {
     "name": "stdout",
     "output_type": "stream",
     "text": [
      "pred: 4  true: 2  ❌\n",
      "pred: 4  true: 2  ❌\n",
      "pred: 4  true: 2  ❌\n"
     ]
    },
    {
     "name": "stderr",
     "output_type": "stream",
     "text": [
      "propagate in video:  14%|█▍        | 246/1786 [00:13<01:25, 18.09it/s]"
     ]
    },
    {
     "name": "stdout",
     "output_type": "stream",
     "text": [
      "pred: 4  true: 2  ❌\n"
     ]
    },
    {
     "name": "stderr",
     "output_type": "stream",
     "text": [
      "propagate in video:  14%|█▍        | 248/1786 [00:13<01:24, 18.10it/s]"
     ]
    },
    {
     "name": "stdout",
     "output_type": "stream",
     "text": [
      "pred: 2  true: 2  ✅\n",
      "pred: 0  true: 2  ❌\n",
      "pred: 0  true: 2  ❌\n"
     ]
    },
    {
     "name": "stderr",
     "output_type": "stream",
     "text": [
      "propagate in video:  14%|█▍        | 250/1786 [00:13<01:24, 18.12it/s]"
     ]
    },
    {
     "name": "stdout",
     "output_type": "stream",
     "text": [
      "pred: 4  true: 2  ❌\n"
     ]
    },
    {
     "name": "stderr",
     "output_type": "stream",
     "text": [
      "propagate in video:  14%|█▍        | 252/1786 [00:13<01:24, 18.13it/s]"
     ]
    },
    {
     "name": "stdout",
     "output_type": "stream",
     "text": [
      "pred: 3  true: 2  ❌\n",
      "pred: 3  true: 2  ❌\n",
      "pred: 0  true: 2  ❌\n"
     ]
    },
    {
     "name": "stderr",
     "output_type": "stream",
     "text": [
      "propagate in video:  14%|█▍        | 254/1786 [00:13<01:24, 18.11it/s]"
     ]
    },
    {
     "name": "stdout",
     "output_type": "stream",
     "text": [
      "pred: 3  true: 2  ❌\n"
     ]
    },
    {
     "name": "stderr",
     "output_type": "stream",
     "text": [
      "propagate in video:  14%|█▍        | 256/1786 [00:13<01:24, 18.08it/s]"
     ]
    },
    {
     "name": "stdout",
     "output_type": "stream",
     "text": [
      "pred: 3  true: 2  ❌\n",
      "pred: 3  true: 2  ❌\n",
      "pred: 0  true: 2  ❌\n"
     ]
    },
    {
     "name": "stderr",
     "output_type": "stream",
     "text": [
      "propagate in video:  14%|█▍        | 258/1786 [00:14<01:24, 18.07it/s]"
     ]
    },
    {
     "name": "stdout",
     "output_type": "stream",
     "text": [
      "pred: 2  true: 2  ✅\n"
     ]
    },
    {
     "name": "stderr",
     "output_type": "stream",
     "text": [
      "propagate in video:  15%|█▍        | 260/1786 [00:14<01:24, 18.07it/s]"
     ]
    },
    {
     "name": "stdout",
     "output_type": "stream",
     "text": [
      "pred: 2  true: 2  ✅\n",
      "pred: 3  true: 2  ❌\n",
      "pred: 3  true: 2  ❌\n"
     ]
    },
    {
     "name": "stderr",
     "output_type": "stream",
     "text": [
      "propagate in video:  15%|█▍        | 262/1786 [00:14<01:24, 18.07it/s]"
     ]
    },
    {
     "name": "stdout",
     "output_type": "stream",
     "text": [
      "pred: 3  true: 3  ✅\n"
     ]
    },
    {
     "name": "stderr",
     "output_type": "stream",
     "text": [
      "propagate in video:  15%|█▍        | 264/1786 [00:14<01:24, 18.08it/s]"
     ]
    },
    {
     "name": "stdout",
     "output_type": "stream",
     "text": [
      "pred: 3  true: 3  ✅\n",
      "pred: 3  true: 3  ✅\n",
      "pred: 3  true: 3  ✅\n"
     ]
    },
    {
     "name": "stderr",
     "output_type": "stream",
     "text": [
      "propagate in video:  15%|█▍        | 266/1786 [00:14<01:23, 18.10it/s]"
     ]
    },
    {
     "name": "stdout",
     "output_type": "stream",
     "text": [
      "pred: 4  true: 3  ❌\n"
     ]
    },
    {
     "name": "stderr",
     "output_type": "stream",
     "text": [
      "propagate in video:  15%|█▌        | 268/1786 [00:14<01:23, 18.10it/s]"
     ]
    },
    {
     "name": "stdout",
     "output_type": "stream",
     "text": [
      "pred: 4  true: 3  ❌\n",
      "pred: 4  true: 3  ❌\n",
      "pred: 3  true: 3  ✅\n"
     ]
    },
    {
     "name": "stderr",
     "output_type": "stream",
     "text": [
      "propagate in video:  15%|█▌        | 270/1786 [00:14<01:23, 18.10it/s]"
     ]
    },
    {
     "name": "stdout",
     "output_type": "stream",
     "text": [
      "pred: 3  true: 3  ✅\n"
     ]
    },
    {
     "name": "stderr",
     "output_type": "stream",
     "text": [
      "propagate in video:  15%|█▌        | 272/1786 [00:14<01:23, 18.10it/s]"
     ]
    },
    {
     "name": "stdout",
     "output_type": "stream",
     "text": [
      "pred: 4  true: 3  ❌\n",
      "pred: 5  true: 3  ❌\n",
      "pred: 5  true: 3  ❌\n"
     ]
    },
    {
     "name": "stderr",
     "output_type": "stream",
     "text": [
      "propagate in video:  15%|█▌        | 274/1786 [00:14<01:23, 18.10it/s]"
     ]
    },
    {
     "name": "stdout",
     "output_type": "stream",
     "text": [
      "pred: 3  true: 3  ✅\n"
     ]
    },
    {
     "name": "stderr",
     "output_type": "stream",
     "text": [
      "propagate in video:  15%|█▌        | 276/1786 [00:15<01:23, 18.08it/s]"
     ]
    },
    {
     "name": "stdout",
     "output_type": "stream",
     "text": [
      "pred: 3  true: 3  ✅\n",
      "pred: 4  true: 3  ❌\n",
      "pred: 4  true: 3  ❌\n"
     ]
    },
    {
     "name": "stderr",
     "output_type": "stream",
     "text": [
      "propagate in video:  16%|█▌        | 278/1786 [00:15<01:23, 18.08it/s]"
     ]
    },
    {
     "name": "stdout",
     "output_type": "stream",
     "text": [
      "pred: 4  true: 3  ❌\n"
     ]
    },
    {
     "name": "stderr",
     "output_type": "stream",
     "text": [
      "propagate in video:  16%|█▌        | 280/1786 [00:15<01:23, 18.10it/s]"
     ]
    },
    {
     "name": "stdout",
     "output_type": "stream",
     "text": [
      "pred: 3  true: 3  ✅\n",
      "pred: 4  true: 3  ❌\n",
      "pred: 3  true: 3  ✅\n"
     ]
    },
    {
     "name": "stderr",
     "output_type": "stream",
     "text": [
      "propagate in video:  16%|█▌        | 282/1786 [00:15<01:23, 18.09it/s]"
     ]
    },
    {
     "name": "stdout",
     "output_type": "stream",
     "text": [
      "pred: 4  true: 3  ❌\n"
     ]
    },
    {
     "name": "stderr",
     "output_type": "stream",
     "text": [
      "propagate in video:  16%|█▌        | 284/1786 [00:15<01:23, 18.07it/s]"
     ]
    },
    {
     "name": "stdout",
     "output_type": "stream",
     "text": [
      "pred: 4  true: 3  ❌\n",
      "pred: 3  true: 3  ✅\n",
      "pred: 4  true: 3  ❌\n"
     ]
    },
    {
     "name": "stderr",
     "output_type": "stream",
     "text": [
      "propagate in video:  16%|█▌        | 286/1786 [00:15<01:23, 18.07it/s]"
     ]
    },
    {
     "name": "stdout",
     "output_type": "stream",
     "text": [
      "pred: 3  true: 3  ✅\n"
     ]
    },
    {
     "name": "stderr",
     "output_type": "stream",
     "text": [
      "propagate in video:  16%|█▌        | 288/1786 [00:15<01:22, 18.07it/s]"
     ]
    },
    {
     "name": "stdout",
     "output_type": "stream",
     "text": [
      "pred: 4  true: 3  ❌\n",
      "pred: 4  true: 3  ❌\n",
      "pred: 4  true: 3  ❌\n"
     ]
    },
    {
     "name": "stderr",
     "output_type": "stream",
     "text": [
      "propagate in video:  16%|█▌        | 290/1786 [00:15<01:22, 18.07it/s]"
     ]
    },
    {
     "name": "stdout",
     "output_type": "stream",
     "text": [
      "pred: 4  true: 3  ❌\n"
     ]
    },
    {
     "name": "stderr",
     "output_type": "stream",
     "text": [
      "propagate in video:  16%|█▋        | 292/1786 [00:15<01:22, 18.08it/s]"
     ]
    },
    {
     "name": "stdout",
     "output_type": "stream",
     "text": [
      "pred: 3  true: 3  ✅\n",
      "pred: 3  true: 3  ✅\n",
      "pred: 3  true: 3  ✅\n"
     ]
    },
    {
     "name": "stderr",
     "output_type": "stream",
     "text": [
      "propagate in video:  16%|█▋        | 294/1786 [00:16<01:22, 18.10it/s]"
     ]
    },
    {
     "name": "stdout",
     "output_type": "stream",
     "text": [
      "pred: 3  true: 3  ✅\n"
     ]
    },
    {
     "name": "stderr",
     "output_type": "stream",
     "text": [
      "propagate in video:  17%|█▋        | 296/1786 [00:16<01:22, 18.11it/s]"
     ]
    },
    {
     "name": "stdout",
     "output_type": "stream",
     "text": [
      "pred: 3  true: 3  ✅\n",
      "pred: 3  true: 3  ✅\n",
      "pred: 3  true: 3  ✅\n"
     ]
    },
    {
     "name": "stderr",
     "output_type": "stream",
     "text": [
      "propagate in video:  17%|█▋        | 298/1786 [00:16<01:22, 18.09it/s]"
     ]
    },
    {
     "name": "stdout",
     "output_type": "stream",
     "text": [
      "pred: 3  true: 3  ✅\n"
     ]
    },
    {
     "name": "stderr",
     "output_type": "stream",
     "text": [
      "propagate in video:  17%|█▋        | 300/1786 [00:16<01:22, 18.09it/s]"
     ]
    },
    {
     "name": "stdout",
     "output_type": "stream",
     "text": [
      "pred: 3  true: 3  ✅\n",
      "pred: 3  true: 3  ✅\n",
      "pred: 3  true: 3  ✅\n"
     ]
    },
    {
     "name": "stderr",
     "output_type": "stream",
     "text": [
      "propagate in video:  17%|█▋        | 302/1786 [00:16<01:21, 18.11it/s]"
     ]
    },
    {
     "name": "stdout",
     "output_type": "stream",
     "text": [
      "pred: 3  true: 3  ✅\n"
     ]
    },
    {
     "name": "stderr",
     "output_type": "stream",
     "text": [
      "propagate in video:  17%|█▋        | 304/1786 [00:16<01:21, 18.13it/s]"
     ]
    },
    {
     "name": "stdout",
     "output_type": "stream",
     "text": [
      "pred: 3  true: 3  ✅\n",
      "pred: 3  true: 3  ✅\n",
      "pred: 3  true: 3  ✅\n"
     ]
    },
    {
     "name": "stderr",
     "output_type": "stream",
     "text": [
      "propagate in video:  17%|█▋        | 306/1786 [00:16<01:21, 18.13it/s]"
     ]
    },
    {
     "name": "stdout",
     "output_type": "stream",
     "text": [
      "pred: 3  true: 3  ✅\n"
     ]
    },
    {
     "name": "stderr",
     "output_type": "stream",
     "text": [
      "propagate in video:  17%|█▋        | 308/1786 [00:16<01:21, 18.14it/s]"
     ]
    },
    {
     "name": "stdout",
     "output_type": "stream",
     "text": [
      "pred: 3  true: 3  ✅\n",
      "pred: 3  true: 3  ✅\n",
      "pred: 3  true: 3  ✅\n"
     ]
    },
    {
     "name": "stderr",
     "output_type": "stream",
     "text": [
      "propagate in video:  17%|█▋        | 310/1786 [00:16<01:21, 18.14it/s]"
     ]
    },
    {
     "name": "stdout",
     "output_type": "stream",
     "text": [
      "pred: 3  true: 3  ✅\n"
     ]
    },
    {
     "name": "stderr",
     "output_type": "stream",
     "text": [
      "propagate in video:  17%|█▋        | 312/1786 [00:17<01:21, 18.16it/s]"
     ]
    },
    {
     "name": "stdout",
     "output_type": "stream",
     "text": [
      "pred: 3  true: 3  ✅\n",
      "pred: 4  true: 3  ❌\n",
      "pred: 3  true: 3  ✅\n"
     ]
    },
    {
     "name": "stderr",
     "output_type": "stream",
     "text": [
      "propagate in video:  18%|█▊        | 314/1786 [00:17<01:20, 18.17it/s]"
     ]
    },
    {
     "name": "stdout",
     "output_type": "stream",
     "text": [
      "pred: 3  true: 3  ✅\n"
     ]
    },
    {
     "name": "stderr",
     "output_type": "stream",
     "text": [
      "propagate in video:  18%|█▊        | 316/1786 [00:17<01:20, 18.17it/s]"
     ]
    },
    {
     "name": "stdout",
     "output_type": "stream",
     "text": [
      "pred: 3  true: 3  ✅\n",
      "pred: 3  true: 3  ✅\n",
      "pred: 3  true: 3  ✅\n"
     ]
    },
    {
     "name": "stderr",
     "output_type": "stream",
     "text": [
      "propagate in video:  18%|█▊        | 318/1786 [00:17<01:20, 18.18it/s]"
     ]
    },
    {
     "name": "stdout",
     "output_type": "stream",
     "text": [
      "pred: 3  true: 3  ✅\n"
     ]
    },
    {
     "name": "stderr",
     "output_type": "stream",
     "text": [
      "propagate in video:  18%|█▊        | 320/1786 [00:17<01:20, 18.18it/s]"
     ]
    },
    {
     "name": "stdout",
     "output_type": "stream",
     "text": [
      "pred: 3  true: 3  ✅\n",
      "pred: 3  true: 3  ✅\n",
      "pred: 3  true: 4  ❌\n"
     ]
    },
    {
     "name": "stderr",
     "output_type": "stream",
     "text": [
      "propagate in video:  18%|█▊        | 322/1786 [00:17<01:20, 18.19it/s]"
     ]
    },
    {
     "name": "stdout",
     "output_type": "stream",
     "text": [
      "pred: 4  true: 4  ✅\n"
     ]
    },
    {
     "name": "stderr",
     "output_type": "stream",
     "text": [
      "propagate in video:  18%|█▊        | 324/1786 [00:17<01:20, 18.17it/s]"
     ]
    },
    {
     "name": "stdout",
     "output_type": "stream",
     "text": [
      "pred: 3  true: 4  ❌\n",
      "pred: 4  true: 4  ✅\n",
      "pred: 4  true: 4  ✅\n"
     ]
    },
    {
     "name": "stderr",
     "output_type": "stream",
     "text": [
      "propagate in video:  18%|█▊        | 326/1786 [00:17<01:20, 18.17it/s]"
     ]
    },
    {
     "name": "stdout",
     "output_type": "stream",
     "text": [
      "pred: 5  true: 4  ❌\n"
     ]
    },
    {
     "name": "stderr",
     "output_type": "stream",
     "text": [
      "propagate in video:  18%|█▊        | 328/1786 [00:17<01:20, 18.15it/s]"
     ]
    },
    {
     "name": "stdout",
     "output_type": "stream",
     "text": [
      "pred: 4  true: 4  ✅\n",
      "pred: 4  true: 4  ✅\n",
      "pred: 4  true: 4  ✅\n"
     ]
    },
    {
     "name": "stderr",
     "output_type": "stream",
     "text": [
      "propagate in video:  18%|█▊        | 330/1786 [00:18<01:20, 18.15it/s]"
     ]
    },
    {
     "name": "stdout",
     "output_type": "stream",
     "text": [
      "pred: 4  true: 4  ✅\n"
     ]
    },
    {
     "name": "stderr",
     "output_type": "stream",
     "text": [
      "propagate in video:  19%|█▊        | 332/1786 [00:18<01:20, 18.14it/s]"
     ]
    },
    {
     "name": "stdout",
     "output_type": "stream",
     "text": [
      "pred: 4  true: 4  ✅\n",
      "pred: 5  true: 4  ❌\n",
      "pred: 5  true: 4  ❌\n"
     ]
    },
    {
     "name": "stderr",
     "output_type": "stream",
     "text": [
      "propagate in video:  19%|█▊        | 334/1786 [00:18<01:20, 18.14it/s]"
     ]
    },
    {
     "name": "stdout",
     "output_type": "stream",
     "text": [
      "pred: 4  true: 4  ✅\n"
     ]
    },
    {
     "name": "stderr",
     "output_type": "stream",
     "text": [
      "propagate in video:  19%|█▉        | 336/1786 [00:18<01:19, 18.15it/s]"
     ]
    },
    {
     "name": "stdout",
     "output_type": "stream",
     "text": [
      "pred: 5  true: 4  ❌\n",
      "pred: 4  true: 4  ✅\n",
      "pred: 4  true: 4  ✅\n"
     ]
    },
    {
     "name": "stderr",
     "output_type": "stream",
     "text": [
      "propagate in video:  19%|█▉        | 338/1786 [00:18<01:19, 18.15it/s]"
     ]
    },
    {
     "name": "stdout",
     "output_type": "stream",
     "text": [
      "pred: 5  true: 4  ❌\n"
     ]
    },
    {
     "name": "stderr",
     "output_type": "stream",
     "text": [
      "propagate in video:  19%|█▉        | 340/1786 [00:18<01:19, 18.15it/s]"
     ]
    },
    {
     "name": "stdout",
     "output_type": "stream",
     "text": [
      "pred: 4  true: 4  ✅\n",
      "pred: 4  true: 4  ✅\n",
      "pred: 4  true: 4  ✅\n"
     ]
    },
    {
     "name": "stderr",
     "output_type": "stream",
     "text": [
      "propagate in video:  19%|█▉        | 342/1786 [00:18<01:19, 18.14it/s]"
     ]
    },
    {
     "name": "stdout",
     "output_type": "stream",
     "text": [
      "pred: 4  true: 4  ✅\n"
     ]
    },
    {
     "name": "stderr",
     "output_type": "stream",
     "text": [
      "propagate in video:  19%|█▉        | 344/1786 [00:18<01:19, 18.12it/s]"
     ]
    },
    {
     "name": "stdout",
     "output_type": "stream",
     "text": [
      "pred: 5  true: 4  ❌\n",
      "pred: 5  true: 4  ❌\n",
      "pred: 5  true: 4  ❌\n"
     ]
    },
    {
     "name": "stderr",
     "output_type": "stream",
     "text": [
      "propagate in video:  19%|█▉        | 346/1786 [00:18<01:19, 18.11it/s]"
     ]
    },
    {
     "name": "stdout",
     "output_type": "stream",
     "text": [
      "pred: 5  true: 4  ❌\n"
     ]
    },
    {
     "name": "stderr",
     "output_type": "stream",
     "text": [
      "propagate in video:  19%|█▉        | 348/1786 [00:19<01:19, 18.10it/s]"
     ]
    },
    {
     "name": "stdout",
     "output_type": "stream",
     "text": [
      "pred: 5  true: 4  ❌\n",
      "pred: 5  true: 4  ❌\n",
      "pred: 5  true: 4  ❌\n"
     ]
    },
    {
     "name": "stderr",
     "output_type": "stream",
     "text": [
      "propagate in video:  20%|█▉        | 350/1786 [00:19<01:19, 18.08it/s]"
     ]
    },
    {
     "name": "stdout",
     "output_type": "stream",
     "text": [
      "pred: 5  true: 4  ❌\n"
     ]
    },
    {
     "name": "stderr",
     "output_type": "stream",
     "text": [
      "propagate in video:  20%|█▉        | 352/1786 [00:19<01:19, 18.08it/s]"
     ]
    },
    {
     "name": "stdout",
     "output_type": "stream",
     "text": [
      "pred: 5  true: 4  ❌\n",
      "pred: 5  true: 4  ❌\n",
      "pred: 5  true: 4  ❌\n"
     ]
    },
    {
     "name": "stderr",
     "output_type": "stream",
     "text": [
      "propagate in video:  20%|█▉        | 354/1786 [00:19<01:19, 18.07it/s]"
     ]
    },
    {
     "name": "stdout",
     "output_type": "stream",
     "text": [
      "pred: 5  true: 4  ❌\n"
     ]
    },
    {
     "name": "stderr",
     "output_type": "stream",
     "text": [
      "propagate in video:  20%|█▉        | 356/1786 [00:19<01:19, 18.06it/s]"
     ]
    },
    {
     "name": "stdout",
     "output_type": "stream",
     "text": [
      "pred: 5  true: 4  ❌\n",
      "pred: 5  true: 4  ❌\n",
      "pred: 5  true: 4  ❌\n"
     ]
    },
    {
     "name": "stderr",
     "output_type": "stream",
     "text": [
      "propagate in video:  20%|██        | 358/1786 [00:19<01:19, 18.06it/s]"
     ]
    },
    {
     "name": "stdout",
     "output_type": "stream",
     "text": [
      "pred: 5  true: 4  ❌\n"
     ]
    },
    {
     "name": "stderr",
     "output_type": "stream",
     "text": [
      "propagate in video:  20%|██        | 360/1786 [00:19<01:18, 18.05it/s]"
     ]
    },
    {
     "name": "stdout",
     "output_type": "stream",
     "text": [
      "pred: 5  true: 4  ❌\n",
      "pred: 5  true: 4  ❌\n",
      "pred: 5  true: 4  ❌\n"
     ]
    },
    {
     "name": "stderr",
     "output_type": "stream",
     "text": [
      "propagate in video:  20%|██        | 362/1786 [00:19<01:18, 18.06it/s]"
     ]
    },
    {
     "name": "stdout",
     "output_type": "stream",
     "text": [
      "pred: 5  true: 4  ❌\n"
     ]
    },
    {
     "name": "stderr",
     "output_type": "stream",
     "text": [
      "propagate in video:  20%|██        | 364/1786 [00:19<01:18, 18.06it/s]"
     ]
    },
    {
     "name": "stdout",
     "output_type": "stream",
     "text": [
      "pred: 5  true: 4  ❌\n",
      "pred: 4  true: 4  ✅\n",
      "pred: 5  true: 4  ❌\n"
     ]
    },
    {
     "name": "stderr",
     "output_type": "stream",
     "text": [
      "propagate in video:  20%|██        | 366/1786 [00:20<01:18, 18.06it/s]"
     ]
    },
    {
     "name": "stdout",
     "output_type": "stream",
     "text": [
      "pred: 5  true: 4  ❌\n"
     ]
    },
    {
     "name": "stderr",
     "output_type": "stream",
     "text": [
      "propagate in video:  21%|██        | 368/1786 [00:20<01:18, 18.06it/s]"
     ]
    },
    {
     "name": "stdout",
     "output_type": "stream",
     "text": [
      "pred: 5  true: 4  ❌\n",
      "pred: 5  true: 4  ❌\n",
      "pred: 5  true: 4  ❌\n"
     ]
    },
    {
     "name": "stderr",
     "output_type": "stream",
     "text": [
      "propagate in video:  21%|██        | 370/1786 [00:20<01:18, 18.06it/s]"
     ]
    },
    {
     "name": "stdout",
     "output_type": "stream",
     "text": [
      "pred: 5  true: 4  ❌\n"
     ]
    },
    {
     "name": "stderr",
     "output_type": "stream",
     "text": [
      "propagate in video:  21%|██        | 372/1786 [00:20<01:18, 18.07it/s]"
     ]
    },
    {
     "name": "stdout",
     "output_type": "stream",
     "text": [
      "pred: 5  true: 4  ❌\n",
      "pred: 4  true: 4  ✅\n",
      "pred: 5  true: 4  ❌\n"
     ]
    },
    {
     "name": "stderr",
     "output_type": "stream",
     "text": [
      "propagate in video:  21%|██        | 374/1786 [00:20<01:18, 18.07it/s]"
     ]
    },
    {
     "name": "stdout",
     "output_type": "stream",
     "text": [
      "pred: 4  true: 4  ✅\n"
     ]
    },
    {
     "name": "stderr",
     "output_type": "stream",
     "text": [
      "propagate in video:  21%|██        | 376/1786 [00:20<01:18, 18.07it/s]"
     ]
    },
    {
     "name": "stdout",
     "output_type": "stream",
     "text": [
      "pred: 4  true: 4  ✅\n",
      "pred: 4  true: 4  ✅\n",
      "pred: 4  true: 4  ✅\n"
     ]
    },
    {
     "name": "stderr",
     "output_type": "stream",
     "text": [
      "propagate in video:  21%|██        | 378/1786 [00:20<01:17, 18.08it/s]"
     ]
    },
    {
     "name": "stdout",
     "output_type": "stream",
     "text": [
      "pred: 4  true: 4  ✅\n"
     ]
    },
    {
     "name": "stderr",
     "output_type": "stream",
     "text": [
      "propagate in video:  21%|██▏       | 380/1786 [00:20<01:17, 18.08it/s]"
     ]
    },
    {
     "name": "stdout",
     "output_type": "stream",
     "text": [
      "pred: 4  true: 4  ✅\n",
      "pred: 4  true: 4  ✅\n",
      "pred: 4  true: 4  ✅\n"
     ]
    },
    {
     "name": "stderr",
     "output_type": "stream",
     "text": [
      "propagate in video:  21%|██▏       | 382/1786 [00:20<01:17, 18.09it/s]"
     ]
    },
    {
     "name": "stdout",
     "output_type": "stream",
     "text": [
      "pred: 4  true: 4  ✅\n"
     ]
    },
    {
     "name": "stderr",
     "output_type": "stream",
     "text": [
      "propagate in video:  22%|██▏       | 384/1786 [00:21<01:17, 18.09it/s]"
     ]
    },
    {
     "name": "stdout",
     "output_type": "stream",
     "text": [
      "pred: 4  true: 4  ✅\n",
      "pred: 4  true: 4  ✅\n",
      "pred: 4  true: 4  ✅\n"
     ]
    },
    {
     "name": "stderr",
     "output_type": "stream",
     "text": [
      "propagate in video:  22%|██▏       | 386/1786 [00:21<01:17, 18.10it/s]"
     ]
    },
    {
     "name": "stdout",
     "output_type": "stream",
     "text": [
      "pred: 4  true: 4  ✅\n"
     ]
    },
    {
     "name": "stderr",
     "output_type": "stream",
     "text": [
      "propagate in video:  22%|██▏       | 388/1786 [00:21<01:17, 18.11it/s]"
     ]
    },
    {
     "name": "stdout",
     "output_type": "stream",
     "text": [
      "pred: 4  true: 4  ✅\n",
      "pred: 4  true: 4  ✅\n",
      "pred: 4  true: 4  ✅\n"
     ]
    },
    {
     "name": "stderr",
     "output_type": "stream",
     "text": [
      "propagate in video:  22%|██▏       | 390/1786 [00:21<01:16, 18.13it/s]"
     ]
    },
    {
     "name": "stdout",
     "output_type": "stream",
     "text": [
      "pred: 2  true: 4  ❌\n"
     ]
    },
    {
     "name": "stderr",
     "output_type": "stream",
     "text": [
      "propagate in video:  22%|██▏       | 392/1786 [00:21<01:16, 18.11it/s]"
     ]
    },
    {
     "name": "stdout",
     "output_type": "stream",
     "text": [
      "pred: 6  true: 4  ❌\n",
      "pred: 6  true: 4  ❌\n",
      "pred: 6  true: 4  ❌\n"
     ]
    },
    {
     "name": "stderr",
     "output_type": "stream",
     "text": [
      "propagate in video:  22%|██▏       | 394/1786 [00:21<01:16, 18.11it/s]"
     ]
    },
    {
     "name": "stdout",
     "output_type": "stream",
     "text": [
      "pred: 3  true: 4  ❌\n"
     ]
    },
    {
     "name": "stderr",
     "output_type": "stream",
     "text": [
      "propagate in video:  22%|██▏       | 396/1786 [00:21<01:16, 18.10it/s]"
     ]
    },
    {
     "name": "stdout",
     "output_type": "stream",
     "text": [
      "pred: 0  true: 4  ❌\n",
      "pred: 6  true: 4  ❌\n",
      "pred: 0  true: 4  ❌\n"
     ]
    },
    {
     "name": "stderr",
     "output_type": "stream",
     "text": [
      "propagate in video:  22%|██▏       | 398/1786 [00:21<01:16, 18.10it/s]"
     ]
    },
    {
     "name": "stdout",
     "output_type": "stream",
     "text": [
      "pred: 0  true: 4  ❌\n"
     ]
    },
    {
     "name": "stderr",
     "output_type": "stream",
     "text": [
      "propagate in video:  22%|██▏       | 400/1786 [00:21<01:16, 18.10it/s]"
     ]
    },
    {
     "name": "stdout",
     "output_type": "stream",
     "text": [
      "pred: 6  true: 4  ❌\n",
      "pred: 6  true: 4  ❌\n",
      "pred: 6  true: 4  ❌\n"
     ]
    },
    {
     "name": "stderr",
     "output_type": "stream",
     "text": [
      "propagate in video:  23%|██▎       | 402/1786 [00:22<01:16, 18.10it/s]"
     ]
    },
    {
     "name": "stdout",
     "output_type": "stream",
     "text": [
      "pred: 5  true: 4  ❌\n"
     ]
    },
    {
     "name": "stderr",
     "output_type": "stream",
     "text": [
      "propagate in video:  23%|██▎       | 404/1786 [00:22<01:16, 18.09it/s]"
     ]
    },
    {
     "name": "stdout",
     "output_type": "stream",
     "text": [
      "pred: 2  true: 4  ❌\n",
      "pred: 2  true: 4  ❌\n",
      "pred: 5  true: 4  ❌\n"
     ]
    },
    {
     "name": "stderr",
     "output_type": "stream",
     "text": [
      "propagate in video:  23%|██▎       | 406/1786 [00:22<01:16, 18.09it/s]"
     ]
    },
    {
     "name": "stdout",
     "output_type": "stream",
     "text": [
      "pred: 0  true: 4  ❌\n"
     ]
    },
    {
     "name": "stderr",
     "output_type": "stream",
     "text": [
      "propagate in video:  23%|██▎       | 408/1786 [00:22<01:16, 18.10it/s]"
     ]
    },
    {
     "name": "stdout",
     "output_type": "stream",
     "text": [
      "pred: 4  true: 4  ✅\n",
      "pred: 6  true: 4  ❌\n",
      "pred: 5  true: 4  ❌\n"
     ]
    },
    {
     "name": "stderr",
     "output_type": "stream",
     "text": [
      "propagate in video:  23%|██▎       | 410/1786 [00:22<01:16, 18.10it/s]"
     ]
    },
    {
     "name": "stdout",
     "output_type": "stream",
     "text": [
      "pred: 5  true: 4  ❌\n"
     ]
    },
    {
     "name": "stderr",
     "output_type": "stream",
     "text": [
      "propagate in video:  23%|██▎       | 412/1786 [00:22<01:15, 18.12it/s]"
     ]
    },
    {
     "name": "stdout",
     "output_type": "stream",
     "text": [
      "pred: 2  true: 4  ❌\n",
      "pred: 5  true: 5  ✅\n",
      "pred: 5  true: 5  ✅\n"
     ]
    },
    {
     "name": "stderr",
     "output_type": "stream",
     "text": [
      "propagate in video:  23%|██▎       | 414/1786 [00:22<01:15, 18.12it/s]"
     ]
    },
    {
     "name": "stdout",
     "output_type": "stream",
     "text": [
      "pred: 5  true: 5  ✅\n"
     ]
    },
    {
     "name": "stderr",
     "output_type": "stream",
     "text": [
      "propagate in video:  23%|██▎       | 416/1786 [00:22<01:15, 18.11it/s]"
     ]
    },
    {
     "name": "stdout",
     "output_type": "stream",
     "text": [
      "pred: 2  true: 5  ❌\n",
      "pred: 2  true: 5  ❌\n",
      "pred: 2  true: 5  ❌\n"
     ]
    },
    {
     "name": "stderr",
     "output_type": "stream",
     "text": [
      "propagate in video:  23%|██▎       | 418/1786 [00:22<01:15, 18.11it/s]"
     ]
    },
    {
     "name": "stdout",
     "output_type": "stream",
     "text": [
      "pred: 2  true: 5  ❌\n"
     ]
    },
    {
     "name": "stderr",
     "output_type": "stream",
     "text": [
      "propagate in video:  24%|██▎       | 420/1786 [00:23<01:15, 18.10it/s]"
     ]
    },
    {
     "name": "stdout",
     "output_type": "stream",
     "text": [
      "pred: 6  true: 5  ❌\n",
      "pred: 6  true: 5  ❌\n",
      "pred: 6  true: 5  ❌\n"
     ]
    },
    {
     "name": "stderr",
     "output_type": "stream",
     "text": [
      "propagate in video:  24%|██▎       | 422/1786 [00:23<01:15, 18.09it/s]"
     ]
    },
    {
     "name": "stdout",
     "output_type": "stream",
     "text": [
      "pred: 2  true: 5  ❌\n"
     ]
    },
    {
     "name": "stderr",
     "output_type": "stream",
     "text": [
      "propagate in video:  24%|██▎       | 424/1786 [00:23<01:15, 18.10it/s]"
     ]
    },
    {
     "name": "stdout",
     "output_type": "stream",
     "text": [
      "pred: 5  true: 5  ✅\n",
      "pred: 5  true: 5  ✅\n",
      "pred: 7  true: 5  ❌\n"
     ]
    },
    {
     "name": "stderr",
     "output_type": "stream",
     "text": [
      "propagate in video:  24%|██▍       | 426/1786 [00:23<01:15, 18.07it/s]"
     ]
    },
    {
     "name": "stdout",
     "output_type": "stream",
     "text": [
      "pred: 5  true: 5  ✅\n"
     ]
    },
    {
     "name": "stderr",
     "output_type": "stream",
     "text": [
      "propagate in video:  24%|██▍       | 428/1786 [00:23<01:15, 18.05it/s]"
     ]
    },
    {
     "name": "stdout",
     "output_type": "stream",
     "text": [
      "pred: 5  true: 5  ✅\n",
      "pred: 5  true: 5  ✅\n",
      "pred: 5  true: 5  ✅\n"
     ]
    },
    {
     "name": "stderr",
     "output_type": "stream",
     "text": [
      "propagate in video:  24%|██▍       | 430/1786 [00:23<01:15, 18.06it/s]"
     ]
    },
    {
     "name": "stdout",
     "output_type": "stream",
     "text": [
      "pred: 5  true: 5  ✅\n"
     ]
    },
    {
     "name": "stderr",
     "output_type": "stream",
     "text": [
      "propagate in video:  24%|██▍       | 432/1786 [00:23<01:14, 18.09it/s]"
     ]
    },
    {
     "name": "stdout",
     "output_type": "stream",
     "text": [
      "pred: 5  true: 5  ✅\n",
      "pred: 3  true: 5  ❌\n",
      "pred: 2  true: 5  ❌\n"
     ]
    },
    {
     "name": "stderr",
     "output_type": "stream",
     "text": [
      "propagate in video:  24%|██▍       | 434/1786 [00:23<01:14, 18.09it/s]"
     ]
    },
    {
     "name": "stdout",
     "output_type": "stream",
     "text": [
      "pred: 6  true: 5  ❌\n"
     ]
    },
    {
     "name": "stderr",
     "output_type": "stream",
     "text": [
      "propagate in video:  24%|██▍       | 436/1786 [00:23<01:14, 18.10it/s]"
     ]
    },
    {
     "name": "stdout",
     "output_type": "stream",
     "text": [
      "pred: 1  true: 5  ❌\n",
      "pred: 6  true: 5  ❌\n",
      "pred: 0  true: 5  ❌\n"
     ]
    },
    {
     "name": "stderr",
     "output_type": "stream",
     "text": [
      "propagate in video:  25%|██▍       | 438/1786 [00:23<01:14, 18.12it/s]"
     ]
    },
    {
     "name": "stdout",
     "output_type": "stream",
     "text": [
      "pred: 0  true: 5  ❌\n"
     ]
    },
    {
     "name": "stderr",
     "output_type": "stream",
     "text": [
      "propagate in video:  25%|██▍       | 440/1786 [00:24<01:14, 18.13it/s]"
     ]
    },
    {
     "name": "stdout",
     "output_type": "stream",
     "text": [
      "pred: 6  true: 5  ❌\n",
      "pred: 5  true: 5  ✅\n",
      "pred: 3  true: 5  ❌\n"
     ]
    },
    {
     "name": "stderr",
     "output_type": "stream",
     "text": [
      "propagate in video:  25%|██▍       | 442/1786 [00:24<01:14, 18.13it/s]"
     ]
    },
    {
     "name": "stdout",
     "output_type": "stream",
     "text": [
      "pred: 2  true: 5  ❌\n"
     ]
    },
    {
     "name": "stderr",
     "output_type": "stream",
     "text": [
      "propagate in video:  25%|██▍       | 444/1786 [00:24<01:14, 18.12it/s]"
     ]
    },
    {
     "name": "stdout",
     "output_type": "stream",
     "text": [
      "pred: 2  true: 5  ❌\n",
      "pred: 3  true: 5  ❌\n",
      "pred: 2  true: 5  ❌\n"
     ]
    },
    {
     "name": "stderr",
     "output_type": "stream",
     "text": [
      "propagate in video:  25%|██▍       | 446/1786 [00:24<01:13, 18.13it/s]"
     ]
    },
    {
     "name": "stdout",
     "output_type": "stream",
     "text": [
      "pred: 2  true: 5  ❌\n"
     ]
    },
    {
     "name": "stderr",
     "output_type": "stream",
     "text": [
      "propagate in video:  25%|██▌       | 448/1786 [00:24<01:13, 18.14it/s]"
     ]
    },
    {
     "name": "stdout",
     "output_type": "stream",
     "text": [
      "pred: 2  true: 5  ❌\n",
      "pred: 2  true: 5  ❌\n",
      "pred: 2  true: 5  ❌\n"
     ]
    },
    {
     "name": "stderr",
     "output_type": "stream",
     "text": [
      "propagate in video:  25%|██▌       | 450/1786 [00:24<01:13, 18.15it/s]"
     ]
    },
    {
     "name": "stdout",
     "output_type": "stream",
     "text": [
      "pred: 3  true: 5  ❌\n"
     ]
    },
    {
     "name": "stderr",
     "output_type": "stream",
     "text": [
      "propagate in video:  25%|██▌       | 452/1786 [00:24<01:13, 18.16it/s]"
     ]
    },
    {
     "name": "stdout",
     "output_type": "stream",
     "text": [
      "pred: 0  true: 5  ❌\n",
      "pred: 2  true: 5  ❌\n",
      "pred: 0  true: 5  ❌\n"
     ]
    },
    {
     "name": "stderr",
     "output_type": "stream",
     "text": [
      "propagate in video:  25%|██▌       | 454/1786 [00:24<01:13, 18.16it/s]"
     ]
    },
    {
     "name": "stdout",
     "output_type": "stream",
     "text": [
      "pred: 0  true: 5  ❌\n"
     ]
    },
    {
     "name": "stderr",
     "output_type": "stream",
     "text": [
      "propagate in video:  26%|██▌       | 456/1786 [00:24<01:13, 18.17it/s]"
     ]
    },
    {
     "name": "stdout",
     "output_type": "stream",
     "text": [
      "pred: 2  true: 5  ❌\n",
      "pred: 3  true: 5  ❌\n",
      "pred: 2  true: 5  ❌\n"
     ]
    },
    {
     "name": "stderr",
     "output_type": "stream",
     "text": [
      "propagate in video:  26%|██▌       | 458/1786 [00:25<01:13, 18.17it/s]"
     ]
    },
    {
     "name": "stdout",
     "output_type": "stream",
     "text": [
      "pred: 0  true: 5  ❌\n"
     ]
    },
    {
     "name": "stderr",
     "output_type": "stream",
     "text": [
      "propagate in video:  26%|██▌       | 460/1786 [00:25<01:12, 18.17it/s]"
     ]
    },
    {
     "name": "stdout",
     "output_type": "stream",
     "text": [
      "pred: 2  true: 5  ❌\n",
      "pred: 0  true: 5  ❌\n",
      "pred: 3  true: 5  ❌\n"
     ]
    },
    {
     "name": "stderr",
     "output_type": "stream",
     "text": [
      "propagate in video:  26%|██▌       | 462/1786 [00:25<01:12, 18.16it/s]"
     ]
    },
    {
     "name": "stdout",
     "output_type": "stream",
     "text": [
      "pred: 2  true: 5  ❌\n"
     ]
    },
    {
     "name": "stderr",
     "output_type": "stream",
     "text": [
      "propagate in video:  26%|██▌       | 464/1786 [00:25<01:12, 18.16it/s]"
     ]
    },
    {
     "name": "stdout",
     "output_type": "stream",
     "text": [
      "pred: 2  true: 5  ❌\n",
      "pred: 0  true: 5  ❌\n",
      "pred: 3  true: 5  ❌\n"
     ]
    },
    {
     "name": "stderr",
     "output_type": "stream",
     "text": [
      "propagate in video:  26%|██▌       | 466/1786 [00:25<01:12, 18.18it/s]"
     ]
    },
    {
     "name": "stdout",
     "output_type": "stream",
     "text": [
      "pred: 2  true: 5  ❌\n"
     ]
    },
    {
     "name": "stderr",
     "output_type": "stream",
     "text": [
      "propagate in video:  26%|██▌       | 468/1786 [00:25<01:12, 18.18it/s]"
     ]
    },
    {
     "name": "stdout",
     "output_type": "stream",
     "text": [
      "pred: 2  true: 5  ❌\n",
      "pred: 2  true: 5  ❌\n",
      "pred: 0  true: 5  ❌\n"
     ]
    },
    {
     "name": "stderr",
     "output_type": "stream",
     "text": [
      "propagate in video:  26%|██▋       | 470/1786 [00:25<01:12, 18.19it/s]"
     ]
    },
    {
     "name": "stdout",
     "output_type": "stream",
     "text": [
      "pred: 0  true: 5  ❌\n"
     ]
    },
    {
     "name": "stderr",
     "output_type": "stream",
     "text": [
      "propagate in video:  26%|██▋       | 472/1786 [00:25<01:12, 18.19it/s]"
     ]
    },
    {
     "name": "stdout",
     "output_type": "stream",
     "text": [
      "pred: 0  true: 5  ❌\n",
      "pred: 0  true: 5  ❌\n",
      "pred: 3  true: 5  ❌\n"
     ]
    },
    {
     "name": "stderr",
     "output_type": "stream",
     "text": [
      "propagate in video:  27%|██▋       | 474/1786 [00:25<01:12, 18.19it/s]"
     ]
    },
    {
     "name": "stdout",
     "output_type": "stream",
     "text": [
      "pred: 3  true: 5  ❌\n"
     ]
    },
    {
     "name": "stderr",
     "output_type": "stream",
     "text": [
      "propagate in video:  27%|██▋       | 476/1786 [00:26<01:12, 18.19it/s]"
     ]
    },
    {
     "name": "stdout",
     "output_type": "stream",
     "text": [
      "pred: 3  true: 5  ❌\n",
      "pred: 3  true: 5  ❌\n",
      "pred: 3  true: 5  ❌\n"
     ]
    },
    {
     "name": "stderr",
     "output_type": "stream",
     "text": [
      "propagate in video:  27%|██▋       | 478/1786 [00:26<01:11, 18.19it/s]"
     ]
    },
    {
     "name": "stdout",
     "output_type": "stream",
     "text": [
      "pred: 3  true: 5  ❌\n"
     ]
    },
    {
     "name": "stderr",
     "output_type": "stream",
     "text": [
      "propagate in video:  27%|██▋       | 480/1786 [00:26<01:11, 18.18it/s]"
     ]
    },
    {
     "name": "stdout",
     "output_type": "stream",
     "text": [
      "pred: 3  true: 5  ❌\n",
      "pred: 2  true: 5  ❌\n",
      "pred: 3  true: 5  ❌\n"
     ]
    },
    {
     "name": "stderr",
     "output_type": "stream",
     "text": [
      "propagate in video:  27%|██▋       | 482/1786 [00:26<01:11, 18.19it/s]"
     ]
    },
    {
     "name": "stdout",
     "output_type": "stream",
     "text": [
      "pred: 3  true: 5  ❌\n"
     ]
    },
    {
     "name": "stderr",
     "output_type": "stream",
     "text": [
      "propagate in video:  27%|██▋       | 484/1786 [00:26<01:11, 18.18it/s]"
     ]
    },
    {
     "name": "stdout",
     "output_type": "stream",
     "text": [
      "pred: 3  true: 5  ❌\n",
      "pred: 3  true: 5  ❌\n",
      "pred: 3  true: 5  ❌\n"
     ]
    },
    {
     "name": "stderr",
     "output_type": "stream",
     "text": [
      "propagate in video:  27%|██▋       | 486/1786 [00:26<01:11, 18.19it/s]"
     ]
    },
    {
     "name": "stdout",
     "output_type": "stream",
     "text": [
      "pred: 5  true: 5  ✅\n"
     ]
    },
    {
     "name": "stderr",
     "output_type": "stream",
     "text": [
      "propagate in video:  27%|██▋       | 488/1786 [00:26<01:11, 18.18it/s]"
     ]
    },
    {
     "name": "stdout",
     "output_type": "stream",
     "text": [
      "pred: 3  true: 5  ❌\n",
      "pred: 0  true: 5  ❌\n",
      "pred: 4  true: 5  ❌\n"
     ]
    },
    {
     "name": "stderr",
     "output_type": "stream",
     "text": [
      "propagate in video:  27%|██▋       | 490/1786 [00:26<01:11, 18.18it/s]"
     ]
    },
    {
     "name": "stdout",
     "output_type": "stream",
     "text": [
      "pred: 4  true: 5  ❌\n"
     ]
    },
    {
     "name": "stderr",
     "output_type": "stream",
     "text": [
      "propagate in video:  28%|██▊       | 492/1786 [00:26<01:11, 18.17it/s]"
     ]
    },
    {
     "name": "stdout",
     "output_type": "stream",
     "text": [
      "pred: 4  true: 5  ❌\n",
      "pred: 4  true: 5  ❌\n",
      "pred: 4  true: 5  ❌\n"
     ]
    },
    {
     "name": "stderr",
     "output_type": "stream",
     "text": [
      "propagate in video:  28%|██▊       | 494/1786 [00:27<01:11, 18.17it/s]"
     ]
    },
    {
     "name": "stdout",
     "output_type": "stream",
     "text": [
      "pred: 5  true: 5  ✅\n"
     ]
    },
    {
     "name": "stderr",
     "output_type": "stream",
     "text": [
      "propagate in video:  28%|██▊       | 496/1786 [00:27<01:11, 18.17it/s]"
     ]
    },
    {
     "name": "stdout",
     "output_type": "stream",
     "text": [
      "pred: 5  true: 5  ✅\n",
      "pred: 4  true: 5  ❌\n",
      "pred: 5  true: 5  ✅\n"
     ]
    },
    {
     "name": "stderr",
     "output_type": "stream",
     "text": [
      "propagate in video:  28%|██▊       | 498/1786 [00:27<01:10, 18.15it/s]"
     ]
    },
    {
     "name": "stdout",
     "output_type": "stream",
     "text": [
      "pred: 4  true: 5  ❌\n"
     ]
    },
    {
     "name": "stderr",
     "output_type": "stream",
     "text": [
      "propagate in video:  28%|██▊       | 500/1786 [00:27<01:10, 18.15it/s]"
     ]
    },
    {
     "name": "stdout",
     "output_type": "stream",
     "text": [
      "pred: 5  true: 5  ✅\n",
      "pred: 4  true: 5  ❌\n",
      "pred: 5  true: 5  ✅\n"
     ]
    },
    {
     "name": "stderr",
     "output_type": "stream",
     "text": [
      "propagate in video:  28%|██▊       | 502/1786 [00:27<01:10, 18.13it/s]"
     ]
    },
    {
     "name": "stdout",
     "output_type": "stream",
     "text": [
      "pred: 5  true: 5  ✅\n"
     ]
    },
    {
     "name": "stderr",
     "output_type": "stream",
     "text": [
      "propagate in video:  28%|██▊       | 504/1786 [00:27<01:10, 18.12it/s]"
     ]
    },
    {
     "name": "stdout",
     "output_type": "stream",
     "text": [
      "pred: 5  true: 5  ✅\n",
      "pred: 5  true: 5  ✅\n",
      "pred: 5  true: 5  ✅\n"
     ]
    },
    {
     "name": "stderr",
     "output_type": "stream",
     "text": [
      "propagate in video:  28%|██▊       | 506/1786 [00:27<01:10, 18.11it/s]"
     ]
    },
    {
     "name": "stdout",
     "output_type": "stream",
     "text": [
      "pred: 5  true: 5  ✅\n"
     ]
    },
    {
     "name": "stderr",
     "output_type": "stream",
     "text": [
      "propagate in video:  28%|██▊       | 508/1786 [00:27<01:10, 18.10it/s]"
     ]
    },
    {
     "name": "stdout",
     "output_type": "stream",
     "text": [
      "pred: 5  true: 5  ✅\n",
      "pred: 1  true: 5  ❌\n",
      "pred: 2  true: 5  ❌\n"
     ]
    },
    {
     "name": "stderr",
     "output_type": "stream",
     "text": [
      "propagate in video:  29%|██▊       | 510/1786 [00:27<01:10, 18.10it/s]"
     ]
    },
    {
     "name": "stdout",
     "output_type": "stream",
     "text": [
      "pred: 3  true: 5  ❌\n"
     ]
    },
    {
     "name": "stderr",
     "output_type": "stream",
     "text": [
      "propagate in video:  29%|██▊       | 512/1786 [00:28<01:10, 18.12it/s]"
     ]
    },
    {
     "name": "stdout",
     "output_type": "stream",
     "text": [
      "pred: 5  true: 5  ✅\n",
      "pred: 5  true: 5  ✅\n",
      "pred: 5  true: 5  ✅\n"
     ]
    },
    {
     "name": "stderr",
     "output_type": "stream",
     "text": [
      "propagate in video:  29%|██▉       | 514/1786 [00:28<01:10, 18.12it/s]"
     ]
    },
    {
     "name": "stdout",
     "output_type": "stream",
     "text": [
      "pred: 5  true: 5  ✅\n"
     ]
    },
    {
     "name": "stderr",
     "output_type": "stream",
     "text": [
      "propagate in video:  29%|██▉       | 516/1786 [00:28<01:10, 18.11it/s]"
     ]
    },
    {
     "name": "stdout",
     "output_type": "stream",
     "text": [
      "pred: 5  true: 5  ✅\n",
      "pred: 5  true: 5  ✅\n",
      "pred: 5  true: 5  ✅\n"
     ]
    },
    {
     "name": "stderr",
     "output_type": "stream",
     "text": [
      "propagate in video:  29%|██▉       | 518/1786 [00:28<01:09, 18.13it/s]"
     ]
    },
    {
     "name": "stdout",
     "output_type": "stream",
     "text": [
      "pred: 5  true: 5  ✅\n"
     ]
    },
    {
     "name": "stderr",
     "output_type": "stream",
     "text": [
      "propagate in video:  29%|██▉       | 520/1786 [00:28<01:09, 18.15it/s]"
     ]
    },
    {
     "name": "stdout",
     "output_type": "stream",
     "text": [
      "pred: 5  true: 5  ✅\n",
      "pred: 5  true: 5  ✅\n",
      "pred: 3  true: 5  ❌\n"
     ]
    },
    {
     "name": "stderr",
     "output_type": "stream",
     "text": [
      "propagate in video:  29%|██▉       | 522/1786 [00:28<01:09, 18.13it/s]"
     ]
    },
    {
     "name": "stdout",
     "output_type": "stream",
     "text": [
      "pred: 3  true: 5  ❌\n"
     ]
    },
    {
     "name": "stderr",
     "output_type": "stream",
     "text": [
      "propagate in video:  29%|██▉       | 524/1786 [00:28<01:09, 18.11it/s]"
     ]
    },
    {
     "name": "stdout",
     "output_type": "stream",
     "text": [
      "pred: 4  true: 5  ❌\n",
      "pred: 6  true: 5  ❌\n",
      "pred: 6  true: 5  ❌\n"
     ]
    },
    {
     "name": "stderr",
     "output_type": "stream",
     "text": [
      "propagate in video:  29%|██▉       | 526/1786 [00:28<01:09, 18.10it/s]"
     ]
    },
    {
     "name": "stdout",
     "output_type": "stream",
     "text": [
      "pred: 3  true: 5  ❌\n"
     ]
    },
    {
     "name": "stderr",
     "output_type": "stream",
     "text": [
      "propagate in video:  30%|██▉       | 528/1786 [00:28<01:09, 18.09it/s]"
     ]
    },
    {
     "name": "stdout",
     "output_type": "stream",
     "text": [
      "pred: 3  true: 5  ❌\n",
      "pred: 2  true: 5  ❌\n",
      "pred: 2  true: 5  ❌\n"
     ]
    },
    {
     "name": "stderr",
     "output_type": "stream",
     "text": [
      "propagate in video:  30%|██▉       | 530/1786 [00:29<01:09, 18.08it/s]"
     ]
    },
    {
     "name": "stdout",
     "output_type": "stream",
     "text": [
      "pred: 5  true: 5  ✅\n"
     ]
    },
    {
     "name": "stderr",
     "output_type": "stream",
     "text": [
      "propagate in video:  30%|██▉       | 532/1786 [00:29<01:09, 18.09it/s]"
     ]
    },
    {
     "name": "stdout",
     "output_type": "stream",
     "text": [
      "pred: 5  true: 5  ✅\n",
      "pred: 5  true: 5  ✅\n",
      "pred: 3  true: 5  ❌\n"
     ]
    },
    {
     "name": "stderr",
     "output_type": "stream",
     "text": [
      "propagate in video:  30%|██▉       | 534/1786 [00:29<01:09, 18.12it/s]"
     ]
    },
    {
     "name": "stdout",
     "output_type": "stream",
     "text": [
      "pred: 3  true: 5  ❌\n"
     ]
    },
    {
     "name": "stderr",
     "output_type": "stream",
     "text": [
      "propagate in video:  30%|███       | 536/1786 [00:29<01:08, 18.12it/s]"
     ]
    },
    {
     "name": "stdout",
     "output_type": "stream",
     "text": [
      "pred: 3  true: 5  ❌\n",
      "pred: 5  true: 5  ✅\n",
      "pred: 4  true: 5  ❌\n"
     ]
    },
    {
     "name": "stderr",
     "output_type": "stream",
     "text": [
      "propagate in video:  30%|███       | 538/1786 [00:29<01:08, 18.11it/s]"
     ]
    },
    {
     "name": "stdout",
     "output_type": "stream",
     "text": [
      "pred: 5  true: 5  ✅\n"
     ]
    },
    {
     "name": "stderr",
     "output_type": "stream",
     "text": [
      "propagate in video:  30%|███       | 540/1786 [00:29<01:08, 18.10it/s]"
     ]
    },
    {
     "name": "stdout",
     "output_type": "stream",
     "text": [
      "pred: 3  true: 5  ❌\n",
      "pred: 5  true: 5  ✅\n",
      "pred: 5  true: 5  ✅\n"
     ]
    },
    {
     "name": "stderr",
     "output_type": "stream",
     "text": [
      "propagate in video:  30%|███       | 542/1786 [00:29<01:08, 18.10it/s]"
     ]
    },
    {
     "name": "stdout",
     "output_type": "stream",
     "text": [
      "pred: 4  true: 5  ❌\n"
     ]
    },
    {
     "name": "stderr",
     "output_type": "stream",
     "text": [
      "propagate in video:  30%|███       | 544/1786 [00:29<01:08, 18.09it/s]"
     ]
    },
    {
     "name": "stdout",
     "output_type": "stream",
     "text": [
      "pred: 5  true: 5  ✅\n",
      "pred: 4  true: 5  ❌\n",
      "pred: 4  true: 5  ❌\n"
     ]
    },
    {
     "name": "stderr",
     "output_type": "stream",
     "text": [
      "propagate in video:  31%|███       | 546/1786 [00:29<01:08, 18.10it/s]"
     ]
    },
    {
     "name": "stdout",
     "output_type": "stream",
     "text": [
      "pred: 4  true: 5  ❌\n"
     ]
    },
    {
     "name": "stderr",
     "output_type": "stream",
     "text": [
      "propagate in video:  31%|███       | 548/1786 [00:30<01:08, 18.10it/s]"
     ]
    },
    {
     "name": "stdout",
     "output_type": "stream",
     "text": [
      "pred: 5  true: 5  ✅\n",
      "pred: 5  true: 5  ✅\n",
      "pred: 5  true: 5  ✅\n"
     ]
    },
    {
     "name": "stderr",
     "output_type": "stream",
     "text": [
      "propagate in video:  31%|███       | 550/1786 [00:30<01:08, 18.10it/s]"
     ]
    },
    {
     "name": "stdout",
     "output_type": "stream",
     "text": [
      "pred: 3  true: 5  ❌\n"
     ]
    },
    {
     "name": "stderr",
     "output_type": "stream",
     "text": [
      "propagate in video:  31%|███       | 552/1786 [00:30<01:08, 18.09it/s]"
     ]
    },
    {
     "name": "stdout",
     "output_type": "stream",
     "text": [
      "pred: 5  true: 5  ✅\n",
      "pred: 4  true: 5  ❌\n",
      "pred: 5  true: 5  ✅\n"
     ]
    },
    {
     "name": "stderr",
     "output_type": "stream",
     "text": [
      "propagate in video:  31%|███       | 554/1786 [00:30<01:08, 18.10it/s]"
     ]
    },
    {
     "name": "stdout",
     "output_type": "stream",
     "text": [
      "pred: 5  true: 5  ✅\n"
     ]
    },
    {
     "name": "stderr",
     "output_type": "stream",
     "text": [
      "propagate in video:  31%|███       | 556/1786 [00:30<01:07, 18.09it/s]"
     ]
    },
    {
     "name": "stdout",
     "output_type": "stream",
     "text": [
      "pred: 4  true: 5  ❌\n",
      "pred: 5  true: 5  ✅\n",
      "pred: 5  true: 5  ✅\n"
     ]
    },
    {
     "name": "stderr",
     "output_type": "stream",
     "text": [
      "propagate in video:  31%|███       | 558/1786 [00:30<01:07, 18.09it/s]"
     ]
    },
    {
     "name": "stdout",
     "output_type": "stream",
     "text": [
      "pred: 4  true: 5  ❌\n"
     ]
    },
    {
     "name": "stderr",
     "output_type": "stream",
     "text": [
      "propagate in video:  31%|███▏      | 560/1786 [00:30<01:07, 18.09it/s]"
     ]
    },
    {
     "name": "stdout",
     "output_type": "stream",
     "text": [
      "pred: 5  true: 5  ✅\n",
      "pred: 4  true: 5  ❌\n",
      "pred: 4  true: 5  ❌\n"
     ]
    },
    {
     "name": "stderr",
     "output_type": "stream",
     "text": [
      "propagate in video:  31%|███▏      | 562/1786 [00:30<01:07, 18.09it/s]"
     ]
    },
    {
     "name": "stdout",
     "output_type": "stream",
     "text": [
      "pred: 5  true: 5  ✅\n"
     ]
    },
    {
     "name": "stderr",
     "output_type": "stream",
     "text": [
      "propagate in video:  32%|███▏      | 564/1786 [00:30<01:07, 18.09it/s]"
     ]
    },
    {
     "name": "stdout",
     "output_type": "stream",
     "text": [
      "pred: 5  true: 5  ✅\n",
      "pred: 5  true: 5  ✅\n",
      "pred: 4  true: 5  ❌\n"
     ]
    },
    {
     "name": "stderr",
     "output_type": "stream",
     "text": [
      "propagate in video:  32%|███▏      | 566/1786 [00:31<01:07, 18.09it/s]"
     ]
    },
    {
     "name": "stdout",
     "output_type": "stream",
     "text": [
      "pred: 5  true: 5  ✅\n"
     ]
    },
    {
     "name": "stderr",
     "output_type": "stream",
     "text": [
      "propagate in video:  32%|███▏      | 568/1786 [00:31<01:07, 18.10it/s]"
     ]
    },
    {
     "name": "stdout",
     "output_type": "stream",
     "text": [
      "pred: 5  true: 5  ✅\n",
      "pred: 4  true: 5  ❌\n",
      "pred: 4  true: 5  ❌\n"
     ]
    },
    {
     "name": "stderr",
     "output_type": "stream",
     "text": [
      "propagate in video:  32%|███▏      | 570/1786 [00:31<01:07, 18.10it/s]"
     ]
    },
    {
     "name": "stdout",
     "output_type": "stream",
     "text": [
      "pred: 5  true: 5  ✅\n"
     ]
    },
    {
     "name": "stderr",
     "output_type": "stream",
     "text": [
      "propagate in video:  32%|███▏      | 572/1786 [00:31<01:06, 18.12it/s]"
     ]
    },
    {
     "name": "stdout",
     "output_type": "stream",
     "text": [
      "pred: 3  true: 5  ❌\n",
      "pred: 5  true: 5  ✅\n",
      "pred: 5  true: 5  ✅\n"
     ]
    },
    {
     "name": "stderr",
     "output_type": "stream",
     "text": [
      "propagate in video:  32%|███▏      | 574/1786 [00:31<01:06, 18.14it/s]"
     ]
    },
    {
     "name": "stdout",
     "output_type": "stream",
     "text": [
      "pred: 5  true: 5  ✅\n"
     ]
    },
    {
     "name": "stderr",
     "output_type": "stream",
     "text": [
      "propagate in video:  32%|███▏      | 576/1786 [00:31<01:06, 18.11it/s]"
     ]
    },
    {
     "name": "stdout",
     "output_type": "stream",
     "text": [
      "pred: 5  true: 5  ✅\n",
      "pred: 0  true: 5  ❌\n",
      "pred: 5  true: 5  ✅\n"
     ]
    },
    {
     "name": "stderr",
     "output_type": "stream",
     "text": [
      "propagate in video:  32%|███▏      | 578/1786 [00:31<01:06, 18.09it/s]"
     ]
    },
    {
     "name": "stdout",
     "output_type": "stream",
     "text": [
      "pred: 2  true: 5  ❌\n"
     ]
    },
    {
     "name": "stderr",
     "output_type": "stream",
     "text": [
      "propagate in video:  32%|███▏      | 580/1786 [00:31<01:06, 18.09it/s]"
     ]
    },
    {
     "name": "stdout",
     "output_type": "stream",
     "text": [
      "pred: 3  true: 5  ❌\n",
      "pred: 3  true: 5  ❌\n",
      "pred: 5  true: 5  ✅\n"
     ]
    },
    {
     "name": "stderr",
     "output_type": "stream",
     "text": [
      "propagate in video:  33%|███▎      | 582/1786 [00:31<01:06, 18.12it/s]"
     ]
    },
    {
     "name": "stdout",
     "output_type": "stream",
     "text": [
      "pred: 5  true: 5  ✅\n"
     ]
    },
    {
     "name": "stderr",
     "output_type": "stream",
     "text": [
      "propagate in video:  33%|███▎      | 584/1786 [00:32<01:06, 18.11it/s]"
     ]
    },
    {
     "name": "stdout",
     "output_type": "stream",
     "text": [
      "pred: 3  true: 5  ❌\n",
      "pred: 2  true: 5  ❌\n",
      "pred: 2  true: 5  ❌\n"
     ]
    },
    {
     "name": "stderr",
     "output_type": "stream",
     "text": [
      "propagate in video:  33%|███▎      | 586/1786 [00:32<01:06, 18.11it/s]"
     ]
    },
    {
     "name": "stdout",
     "output_type": "stream",
     "text": [
      "pred: 3  true: 5  ❌\n"
     ]
    },
    {
     "name": "stderr",
     "output_type": "stream",
     "text": [
      "propagate in video:  33%|███▎      | 588/1786 [00:32<01:06, 18.14it/s]"
     ]
    },
    {
     "name": "stdout",
     "output_type": "stream",
     "text": [
      "pred: 3  true: 5  ❌\n",
      "pred: 3  true: 5  ❌\n",
      "pred: 6  true: 5  ❌\n"
     ]
    },
    {
     "name": "stderr",
     "output_type": "stream",
     "text": [
      "propagate in video:  33%|███▎      | 590/1786 [00:32<01:05, 18.14it/s]"
     ]
    },
    {
     "name": "stdout",
     "output_type": "stream",
     "text": [
      "pred: 3  true: 5  ❌\n"
     ]
    },
    {
     "name": "stderr",
     "output_type": "stream",
     "text": [
      "propagate in video:  33%|███▎      | 592/1786 [00:32<01:05, 18.15it/s]"
     ]
    },
    {
     "name": "stdout",
     "output_type": "stream",
     "text": [
      "pred: 6  true: 5  ❌\n",
      "pred: 6  true: 5  ❌\n",
      "pred: 6  true: 5  ❌\n"
     ]
    },
    {
     "name": "stderr",
     "output_type": "stream",
     "text": [
      "propagate in video:  33%|███▎      | 594/1786 [00:32<01:05, 18.17it/s]"
     ]
    },
    {
     "name": "stdout",
     "output_type": "stream",
     "text": [
      "pred: 6  true: 5  ❌\n"
     ]
    },
    {
     "name": "stderr",
     "output_type": "stream",
     "text": [
      "propagate in video:  33%|███▎      | 596/1786 [00:32<01:05, 18.18it/s]"
     ]
    },
    {
     "name": "stdout",
     "output_type": "stream",
     "text": [
      "pred: 6  true: 5  ❌\n",
      "pred: 6  true: 5  ❌\n",
      "pred: 6  true: 5  ❌\n"
     ]
    },
    {
     "name": "stderr",
     "output_type": "stream",
     "text": [
      "propagate in video:  33%|███▎      | 598/1786 [00:32<01:05, 18.17it/s]"
     ]
    },
    {
     "name": "stdout",
     "output_type": "stream",
     "text": [
      "pred: 5  true: 5  ✅\n"
     ]
    },
    {
     "name": "stderr",
     "output_type": "stream",
     "text": [
      "propagate in video:  34%|███▎      | 600/1786 [00:32<01:05, 18.17it/s]"
     ]
    },
    {
     "name": "stdout",
     "output_type": "stream",
     "text": [
      "pred: 5  true: 5  ✅\n",
      "pred: 5  true: 5  ✅\n",
      "pred: 5  true: 5  ✅\n"
     ]
    },
    {
     "name": "stderr",
     "output_type": "stream",
     "text": [
      "propagate in video:  34%|███▎      | 602/1786 [00:33<01:05, 18.18it/s]"
     ]
    },
    {
     "name": "stdout",
     "output_type": "stream",
     "text": [
      "pred: 4  true: 5  ❌\n"
     ]
    },
    {
     "name": "stderr",
     "output_type": "stream",
     "text": [
      "propagate in video:  34%|███▍      | 604/1786 [00:33<01:05, 18.18it/s]"
     ]
    },
    {
     "name": "stdout",
     "output_type": "stream",
     "text": [
      "pred: 3  true: 5  ❌\n",
      "pred: 2  true: 5  ❌\n",
      "pred: 2  true: 5  ❌\n"
     ]
    },
    {
     "name": "stderr",
     "output_type": "stream",
     "text": [
      "propagate in video:  34%|███▍      | 606/1786 [00:33<01:04, 18.18it/s]"
     ]
    },
    {
     "name": "stdout",
     "output_type": "stream",
     "text": [
      "pred: 2  true: 5  ❌\n"
     ]
    },
    {
     "name": "stderr",
     "output_type": "stream",
     "text": [
      "propagate in video:  34%|███▍      | 608/1786 [00:33<01:04, 18.18it/s]"
     ]
    },
    {
     "name": "stdout",
     "output_type": "stream",
     "text": [
      "pred: 2  true: 5  ❌\n",
      "pred: 2  true: 5  ❌\n",
      "pred: 2  true: 5  ❌\n"
     ]
    },
    {
     "name": "stderr",
     "output_type": "stream",
     "text": [
      "propagate in video:  34%|███▍      | 610/1786 [00:33<01:04, 18.17it/s]"
     ]
    },
    {
     "name": "stdout",
     "output_type": "stream",
     "text": [
      "pred: 3  true: 5  ❌\n"
     ]
    },
    {
     "name": "stderr",
     "output_type": "stream",
     "text": [
      "propagate in video:  34%|███▍      | 612/1786 [00:33<01:04, 18.16it/s]"
     ]
    },
    {
     "name": "stdout",
     "output_type": "stream",
     "text": [
      "pred: 2  true: 5  ❌\n",
      "pred: 6  true: 5  ❌\n",
      "pred: 6  true: 5  ❌\n"
     ]
    },
    {
     "name": "stderr",
     "output_type": "stream",
     "text": [
      "propagate in video:  34%|███▍      | 614/1786 [00:33<01:04, 18.14it/s]"
     ]
    },
    {
     "name": "stdout",
     "output_type": "stream",
     "text": [
      "pred: 6  true: 5  ❌\n"
     ]
    },
    {
     "name": "stderr",
     "output_type": "stream",
     "text": [
      "propagate in video:  34%|███▍      | 616/1786 [00:33<01:04, 18.15it/s]"
     ]
    },
    {
     "name": "stdout",
     "output_type": "stream",
     "text": [
      "pred: 6  true: 5  ❌\n",
      "pred: 2  true: 5  ❌\n",
      "pred: 4  true: 5  ❌\n"
     ]
    },
    {
     "name": "stderr",
     "output_type": "stream",
     "text": [
      "propagate in video:  35%|███▍      | 618/1786 [00:33<01:04, 18.15it/s]"
     ]
    },
    {
     "name": "stdout",
     "output_type": "stream",
     "text": [
      "pred: 4  true: 5  ❌\n"
     ]
    },
    {
     "name": "stderr",
     "output_type": "stream",
     "text": [
      "propagate in video:  35%|███▍      | 620/1786 [00:34<01:04, 18.15it/s]"
     ]
    },
    {
     "name": "stdout",
     "output_type": "stream",
     "text": [
      "pred: 1  true: 5  ❌\n",
      "pred: 1  true: 5  ❌\n",
      "pred: 1  true: 5  ❌\n"
     ]
    },
    {
     "name": "stderr",
     "output_type": "stream",
     "text": [
      "propagate in video:  35%|███▍      | 622/1786 [00:34<01:04, 18.15it/s]"
     ]
    },
    {
     "name": "stdout",
     "output_type": "stream",
     "text": [
      "pred: 1  true: 5  ❌\n"
     ]
    },
    {
     "name": "stderr",
     "output_type": "stream",
     "text": [
      "propagate in video:  35%|███▍      | 624/1786 [00:34<01:04, 18.14it/s]"
     ]
    },
    {
     "name": "stdout",
     "output_type": "stream",
     "text": [
      "pred: 1  true: 5  ❌\n",
      "pred: 1  true: 5  ❌\n",
      "pred: 1  true: 5  ❌\n"
     ]
    },
    {
     "name": "stderr",
     "output_type": "stream",
     "text": [
      "propagate in video:  35%|███▌      | 626/1786 [00:34<01:03, 18.14it/s]"
     ]
    },
    {
     "name": "stdout",
     "output_type": "stream",
     "text": [
      "pred: 4  true: 5  ❌\n"
     ]
    },
    {
     "name": "stderr",
     "output_type": "stream",
     "text": [
      "propagate in video:  35%|███▌      | 628/1786 [00:34<01:03, 18.14it/s]"
     ]
    },
    {
     "name": "stdout",
     "output_type": "stream",
     "text": [
      "pred: 4  true: 5  ❌\n",
      "pred: 1  true: 5  ❌\n",
      "pred: 4  true: 5  ❌\n"
     ]
    },
    {
     "name": "stderr",
     "output_type": "stream",
     "text": [
      "propagate in video:  35%|███▌      | 630/1786 [00:34<01:03, 18.15it/s]"
     ]
    },
    {
     "name": "stdout",
     "output_type": "stream",
     "text": [
      "pred: 4  true: 5  ❌\n"
     ]
    },
    {
     "name": "stderr",
     "output_type": "stream",
     "text": [
      "propagate in video:  35%|███▌      | 632/1786 [00:34<01:03, 18.13it/s]"
     ]
    },
    {
     "name": "stdout",
     "output_type": "stream",
     "text": [
      "pred: 4  true: 5  ❌\n",
      "pred: 4  true: 5  ❌\n",
      "pred: 4  true: 5  ❌\n"
     ]
    },
    {
     "name": "stderr",
     "output_type": "stream",
     "text": [
      "propagate in video:  35%|███▌      | 634/1786 [00:34<01:03, 18.13it/s]"
     ]
    },
    {
     "name": "stdout",
     "output_type": "stream",
     "text": [
      "pred: 4  true: 5  ❌\n"
     ]
    },
    {
     "name": "stderr",
     "output_type": "stream",
     "text": [
      "propagate in video:  36%|███▌      | 636/1786 [00:34<01:03, 18.12it/s]"
     ]
    },
    {
     "name": "stdout",
     "output_type": "stream",
     "text": [
      "pred: 4  true: 5  ❌\n",
      "pred: 4  true: 5  ❌\n",
      "pred: 4  true: 5  ❌\n"
     ]
    },
    {
     "name": "stderr",
     "output_type": "stream",
     "text": [
      "propagate in video:  36%|███▌      | 638/1786 [00:35<01:03, 18.13it/s]"
     ]
    },
    {
     "name": "stdout",
     "output_type": "stream",
     "text": [
      "pred: 4  true: 5  ❌\n"
     ]
    },
    {
     "name": "stderr",
     "output_type": "stream",
     "text": [
      "propagate in video:  36%|███▌      | 640/1786 [00:35<01:03, 18.08it/s]"
     ]
    },
    {
     "name": "stdout",
     "output_type": "stream",
     "text": [
      "pred: 4  true: 5  ❌\n",
      "pred: 4  true: 5  ❌\n",
      "pred: 4  true: 5  ❌\n"
     ]
    },
    {
     "name": "stderr",
     "output_type": "stream",
     "text": [
      "propagate in video:  36%|███▌      | 642/1786 [00:35<01:03, 18.08it/s]"
     ]
    },
    {
     "name": "stdout",
     "output_type": "stream",
     "text": [
      "pred: 4  true: 5  ❌\n"
     ]
    },
    {
     "name": "stderr",
     "output_type": "stream",
     "text": [
      "propagate in video:  36%|███▌      | 644/1786 [00:35<01:03, 18.10it/s]"
     ]
    },
    {
     "name": "stdout",
     "output_type": "stream",
     "text": [
      "pred: 3  true: 5  ❌\n",
      "pred: 0  true: 5  ❌\n",
      "pred: 0  true: 5  ❌\n"
     ]
    },
    {
     "name": "stderr",
     "output_type": "stream",
     "text": [
      "propagate in video:  36%|███▌      | 646/1786 [00:35<01:02, 18.11it/s]"
     ]
    },
    {
     "name": "stdout",
     "output_type": "stream",
     "text": [
      "pred: 0  true: 5  ❌\n"
     ]
    },
    {
     "name": "stderr",
     "output_type": "stream",
     "text": [
      "propagate in video:  36%|███▋      | 648/1786 [00:35<01:02, 18.11it/s]"
     ]
    },
    {
     "name": "stdout",
     "output_type": "stream",
     "text": [
      "pred: 0  true: 5  ❌\n",
      "pred: 0  true: 5  ❌\n",
      "pred: 2  true: 5  ❌\n"
     ]
    },
    {
     "name": "stderr",
     "output_type": "stream",
     "text": [
      "propagate in video:  36%|███▋      | 650/1786 [00:35<01:02, 18.10it/s]"
     ]
    },
    {
     "name": "stdout",
     "output_type": "stream",
     "text": [
      "pred: 0  true: 5  ❌\n"
     ]
    },
    {
     "name": "stderr",
     "output_type": "stream",
     "text": [
      "propagate in video:  37%|███▋      | 652/1786 [00:35<01:02, 18.08it/s]"
     ]
    },
    {
     "name": "stdout",
     "output_type": "stream",
     "text": [
      "pred: 3  true: 5  ❌\n",
      "pred: 3  true: 5  ❌\n",
      "pred: 3  true: 5  ❌\n"
     ]
    },
    {
     "name": "stderr",
     "output_type": "stream",
     "text": [
      "propagate in video:  37%|███▋      | 654/1786 [00:35<01:02, 18.08it/s]"
     ]
    },
    {
     "name": "stdout",
     "output_type": "stream",
     "text": [
      "pred: 3  true: 5  ❌\n"
     ]
    },
    {
     "name": "stderr",
     "output_type": "stream",
     "text": [
      "propagate in video:  37%|███▋      | 656/1786 [00:36<01:02, 18.10it/s]"
     ]
    },
    {
     "name": "stdout",
     "output_type": "stream",
     "text": [
      "pred: 3  true: 5  ❌\n",
      "pred: 2  true: 5  ❌\n",
      "pred: 2  true: 5  ❌\n"
     ]
    },
    {
     "name": "stderr",
     "output_type": "stream",
     "text": [
      "propagate in video:  37%|███▋      | 658/1786 [00:36<01:02, 18.13it/s]"
     ]
    },
    {
     "name": "stdout",
     "output_type": "stream",
     "text": [
      "pred: 0  true: 5  ❌\n"
     ]
    },
    {
     "name": "stderr",
     "output_type": "stream",
     "text": [
      "propagate in video:  37%|███▋      | 660/1786 [00:36<01:02, 18.15it/s]"
     ]
    },
    {
     "name": "stdout",
     "output_type": "stream",
     "text": [
      "pred: 5  true: 5  ✅\n",
      "pred: 3  true: 5  ❌\n",
      "pred: 3  true: 5  ❌\n"
     ]
    },
    {
     "name": "stderr",
     "output_type": "stream",
     "text": [
      "propagate in video:  37%|███▋      | 662/1786 [00:36<01:01, 18.17it/s]"
     ]
    },
    {
     "name": "stdout",
     "output_type": "stream",
     "text": [
      "pred: 2  true: 5  ❌\n"
     ]
    },
    {
     "name": "stderr",
     "output_type": "stream",
     "text": [
      "propagate in video:  37%|███▋      | 664/1786 [00:36<01:01, 18.17it/s]"
     ]
    },
    {
     "name": "stdout",
     "output_type": "stream",
     "text": [
      "pred: 3  true: 5  ❌\n",
      "pred: 3  true: 5  ❌\n",
      "pred: 3  true: 5  ❌\n"
     ]
    },
    {
     "name": "stderr",
     "output_type": "stream",
     "text": [
      "propagate in video:  37%|███▋      | 666/1786 [00:36<01:01, 18.17it/s]"
     ]
    },
    {
     "name": "stdout",
     "output_type": "stream",
     "text": [
      "pred: 3  true: 5  ❌\n"
     ]
    },
    {
     "name": "stderr",
     "output_type": "stream",
     "text": [
      "propagate in video:  37%|███▋      | 668/1786 [00:36<01:01, 18.17it/s]"
     ]
    },
    {
     "name": "stdout",
     "output_type": "stream",
     "text": [
      "pred: 3  true: 5  ❌\n",
      "pred: 3  true: 5  ❌\n",
      "pred: 3  true: 5  ❌\n"
     ]
    },
    {
     "name": "stderr",
     "output_type": "stream",
     "text": [
      "propagate in video:  38%|███▊      | 670/1786 [00:36<01:01, 18.18it/s]"
     ]
    },
    {
     "name": "stdout",
     "output_type": "stream",
     "text": [
      "pred: 3  true: 5  ❌\n"
     ]
    },
    {
     "name": "stderr",
     "output_type": "stream",
     "text": [
      "propagate in video:  38%|███▊      | 672/1786 [00:36<01:01, 18.18it/s]"
     ]
    },
    {
     "name": "stdout",
     "output_type": "stream",
     "text": [
      "pred: 3  true: 5  ❌\n",
      "pred: 3  true: 5  ❌\n",
      "pred: 3  true: 5  ❌\n"
     ]
    },
    {
     "name": "stderr",
     "output_type": "stream",
     "text": [
      "propagate in video:  38%|███▊      | 674/1786 [00:37<01:01, 18.18it/s]"
     ]
    },
    {
     "name": "stdout",
     "output_type": "stream",
     "text": [
      "pred: 3  true: 5  ❌\n"
     ]
    },
    {
     "name": "stderr",
     "output_type": "stream",
     "text": [
      "propagate in video:  38%|███▊      | 676/1786 [00:37<01:01, 18.18it/s]"
     ]
    },
    {
     "name": "stdout",
     "output_type": "stream",
     "text": [
      "pred: 3  true: 5  ❌\n",
      "pred: 3  true: 5  ❌\n",
      "pred: 3  true: 5  ❌\n"
     ]
    },
    {
     "name": "stderr",
     "output_type": "stream",
     "text": [
      "propagate in video:  38%|███▊      | 678/1786 [00:37<01:00, 18.19it/s]"
     ]
    },
    {
     "name": "stdout",
     "output_type": "stream",
     "text": [
      "pred: 3  true: 5  ❌\n"
     ]
    },
    {
     "name": "stderr",
     "output_type": "stream",
     "text": [
      "propagate in video:  38%|███▊      | 680/1786 [00:37<01:00, 18.19it/s]"
     ]
    },
    {
     "name": "stdout",
     "output_type": "stream",
     "text": [
      "pred: 2  true: 5  ❌\n",
      "pred: 3  true: 5  ❌\n",
      "pred: 3  true: 5  ❌\n"
     ]
    },
    {
     "name": "stderr",
     "output_type": "stream",
     "text": [
      "propagate in video:  38%|███▊      | 682/1786 [00:37<01:00, 18.19it/s]"
     ]
    },
    {
     "name": "stdout",
     "output_type": "stream",
     "text": [
      "pred: 3  true: 5  ❌\n"
     ]
    },
    {
     "name": "stderr",
     "output_type": "stream",
     "text": [
      "propagate in video:  38%|███▊      | 684/1786 [00:37<01:00, 18.19it/s]"
     ]
    },
    {
     "name": "stdout",
     "output_type": "stream",
     "text": [
      "pred: 3  true: 5  ❌\n",
      "pred: 3  true: 5  ❌\n",
      "pred: 3  true: 5  ❌\n"
     ]
    },
    {
     "name": "stderr",
     "output_type": "stream",
     "text": [
      "propagate in video:  38%|███▊      | 686/1786 [00:37<01:00, 18.18it/s]"
     ]
    },
    {
     "name": "stdout",
     "output_type": "stream",
     "text": [
      "pred: 3  true: 5  ❌\n"
     ]
    },
    {
     "name": "stderr",
     "output_type": "stream",
     "text": [
      "propagate in video:  39%|███▊      | 688/1786 [00:37<01:00, 18.18it/s]"
     ]
    },
    {
     "name": "stdout",
     "output_type": "stream",
     "text": [
      "pred: 3  true: 5  ❌\n",
      "pred: 3  true: 5  ❌\n",
      "pred: 3  true: 5  ❌\n"
     ]
    },
    {
     "name": "stderr",
     "output_type": "stream",
     "text": [
      "propagate in video:  39%|███▊      | 690/1786 [00:37<01:00, 18.18it/s]"
     ]
    },
    {
     "name": "stdout",
     "output_type": "stream",
     "text": [
      "pred: 3  true: 5  ❌\n"
     ]
    },
    {
     "name": "stderr",
     "output_type": "stream",
     "text": [
      "propagate in video:  39%|███▊      | 692/1786 [00:38<01:00, 18.18it/s]"
     ]
    },
    {
     "name": "stdout",
     "output_type": "stream",
     "text": [
      "pred: 3  true: 5  ❌\n",
      "pred: 2  true: 5  ❌\n",
      "pred: 3  true: 5  ❌\n"
     ]
    },
    {
     "name": "stderr",
     "output_type": "stream",
     "text": [
      "propagate in video:  39%|███▉      | 694/1786 [00:38<01:00, 18.19it/s]"
     ]
    },
    {
     "name": "stdout",
     "output_type": "stream",
     "text": [
      "pred: 3  true: 5  ❌\n"
     ]
    },
    {
     "name": "stderr",
     "output_type": "stream",
     "text": [
      "propagate in video:  39%|███▉      | 696/1786 [00:38<00:59, 18.19it/s]"
     ]
    },
    {
     "name": "stdout",
     "output_type": "stream",
     "text": [
      "pred: 3  true: 5  ❌\n",
      "pred: 3  true: 5  ❌\n",
      "pred: 3  true: 5  ❌\n"
     ]
    },
    {
     "name": "stderr",
     "output_type": "stream",
     "text": [
      "propagate in video:  39%|███▉      | 698/1786 [00:38<00:59, 18.18it/s]"
     ]
    },
    {
     "name": "stdout",
     "output_type": "stream",
     "text": [
      "pred: 3  true: 5  ❌\n"
     ]
    },
    {
     "name": "stderr",
     "output_type": "stream",
     "text": [
      "propagate in video:  39%|███▉      | 700/1786 [00:38<00:59, 18.18it/s]"
     ]
    },
    {
     "name": "stdout",
     "output_type": "stream",
     "text": [
      "pred: 3  true: 5  ❌\n",
      "pred: 3  true: 5  ❌\n",
      "pred: 3  true: 5  ❌\n"
     ]
    },
    {
     "name": "stderr",
     "output_type": "stream",
     "text": [
      "propagate in video:  39%|███▉      | 702/1786 [00:38<00:59, 18.17it/s]"
     ]
    },
    {
     "name": "stdout",
     "output_type": "stream",
     "text": [
      "pred: 2  true: 5  ❌\n"
     ]
    },
    {
     "name": "stderr",
     "output_type": "stream",
     "text": [
      "propagate in video:  39%|███▉      | 704/1786 [00:38<00:59, 18.17it/s]"
     ]
    },
    {
     "name": "stdout",
     "output_type": "stream",
     "text": [
      "pred: 3  true: 5  ❌\n",
      "pred: 3  true: 5  ❌\n",
      "pred: 3  true: 5  ❌\n"
     ]
    },
    {
     "name": "stderr",
     "output_type": "stream",
     "text": [
      "propagate in video:  40%|███▉      | 706/1786 [00:38<00:59, 18.18it/s]"
     ]
    },
    {
     "name": "stdout",
     "output_type": "stream",
     "text": [
      "pred: 3  true: 5  ❌\n"
     ]
    },
    {
     "name": "stderr",
     "output_type": "stream",
     "text": [
      "propagate in video:  40%|███▉      | 708/1786 [00:38<00:59, 18.17it/s]"
     ]
    },
    {
     "name": "stdout",
     "output_type": "stream",
     "text": [
      "pred: 3  true: 5  ❌\n",
      "pred: 3  true: 5  ❌\n",
      "pred: 2  true: 5  ❌\n"
     ]
    },
    {
     "name": "stderr",
     "output_type": "stream",
     "text": [
      "propagate in video:  40%|███▉      | 710/1786 [00:38<00:59, 18.15it/s]"
     ]
    },
    {
     "name": "stdout",
     "output_type": "stream",
     "text": [
      "pred: 6  true: 5  ❌\n"
     ]
    },
    {
     "name": "stderr",
     "output_type": "stream",
     "text": [
      "propagate in video:  40%|███▉      | 712/1786 [00:39<00:59, 18.14it/s]"
     ]
    },
    {
     "name": "stdout",
     "output_type": "stream",
     "text": [
      "pred: 6  true: 5  ❌\n",
      "pred: 2  true: 5  ❌\n",
      "pred: 6  true: 5  ❌\n"
     ]
    },
    {
     "name": "stderr",
     "output_type": "stream",
     "text": [
      "propagate in video:  40%|███▉      | 714/1786 [00:39<00:59, 18.10it/s]"
     ]
    },
    {
     "name": "stdout",
     "output_type": "stream",
     "text": [
      "pred: 6  true: 5  ❌\n"
     ]
    },
    {
     "name": "stderr",
     "output_type": "stream",
     "text": [
      "propagate in video:  40%|████      | 716/1786 [00:39<00:59, 18.11it/s]"
     ]
    },
    {
     "name": "stdout",
     "output_type": "stream",
     "text": [
      "pred: 6  true: 5  ❌\n",
      "pred: 4  true: 5  ❌\n",
      "pred: 0  true: 5  ❌\n"
     ]
    },
    {
     "name": "stderr",
     "output_type": "stream",
     "text": [
      "propagate in video:  40%|████      | 718/1786 [00:39<00:59, 18.00it/s]"
     ]
    },
    {
     "name": "stdout",
     "output_type": "stream",
     "text": [
      "pred: 4  true: 5  ❌\n"
     ]
    },
    {
     "name": "stderr",
     "output_type": "stream",
     "text": [
      "propagate in video:  40%|████      | 720/1786 [00:39<00:59, 18.05it/s]"
     ]
    },
    {
     "name": "stdout",
     "output_type": "stream",
     "text": [
      "pred: 0  true: 5  ❌\n",
      "pred: 6  true: 5  ❌\n",
      "pred: 0  true: 5  ❌\n"
     ]
    },
    {
     "name": "stderr",
     "output_type": "stream",
     "text": [
      "propagate in video:  40%|████      | 722/1786 [00:39<00:58, 18.07it/s]"
     ]
    },
    {
     "name": "stdout",
     "output_type": "stream",
     "text": [
      "pred: 0  true: 5  ❌\n"
     ]
    },
    {
     "name": "stderr",
     "output_type": "stream",
     "text": [
      "propagate in video:  41%|████      | 724/1786 [00:39<00:58, 18.09it/s]"
     ]
    },
    {
     "name": "stdout",
     "output_type": "stream",
     "text": [
      "pred: 0  true: 5  ❌\n",
      "pred: 0  true: 5  ❌\n",
      "pred: 0  true: 5  ❌\n"
     ]
    },
    {
     "name": "stderr",
     "output_type": "stream",
     "text": [
      "propagate in video:  41%|████      | 726/1786 [00:39<00:58, 18.12it/s]"
     ]
    },
    {
     "name": "stdout",
     "output_type": "stream",
     "text": [
      "pred: 0  true: 5  ❌\n"
     ]
    },
    {
     "name": "stderr",
     "output_type": "stream",
     "text": [
      "propagate in video:  41%|████      | 728/1786 [00:39<00:58, 18.12it/s]"
     ]
    },
    {
     "name": "stdout",
     "output_type": "stream",
     "text": [
      "pred: 0  true: 5  ❌\n",
      "pred: 3  true: 5  ❌\n",
      "pred: 6  true: 5  ❌\n"
     ]
    },
    {
     "name": "stderr",
     "output_type": "stream",
     "text": [
      "propagate in video:  41%|████      | 730/1786 [00:40<00:58, 18.11it/s]"
     ]
    },
    {
     "name": "stdout",
     "output_type": "stream",
     "text": [
      "pred: 0  true: 5  ❌\n"
     ]
    },
    {
     "name": "stderr",
     "output_type": "stream",
     "text": [
      "propagate in video:  41%|████      | 732/1786 [00:40<00:58, 18.12it/s]"
     ]
    },
    {
     "name": "stdout",
     "output_type": "stream",
     "text": [
      "pred: 3  true: 5  ❌\n",
      "pred: 3  true: 5  ❌\n",
      "pred: 5  true: 5  ✅\n"
     ]
    },
    {
     "name": "stderr",
     "output_type": "stream",
     "text": [
      "propagate in video:  41%|████      | 734/1786 [00:40<00:57, 18.14it/s]"
     ]
    },
    {
     "name": "stdout",
     "output_type": "stream",
     "text": [
      "pred: 5  true: 5  ✅\n"
     ]
    },
    {
     "name": "stderr",
     "output_type": "stream",
     "text": [
      "propagate in video:  41%|████      | 736/1786 [00:40<00:57, 18.14it/s]"
     ]
    },
    {
     "name": "stdout",
     "output_type": "stream",
     "text": [
      "pred: 4  true: 5  ❌\n",
      "pred: 5  true: 5  ✅\n",
      "pred: 5  true: 5  ✅\n"
     ]
    },
    {
     "name": "stderr",
     "output_type": "stream",
     "text": [
      "propagate in video:  41%|████▏     | 738/1786 [00:40<00:57, 18.16it/s]"
     ]
    },
    {
     "name": "stdout",
     "output_type": "stream",
     "text": [
      "pred: 5  true: 5  ✅\n"
     ]
    },
    {
     "name": "stderr",
     "output_type": "stream",
     "text": [
      "propagate in video:  41%|████▏     | 740/1786 [00:40<00:57, 18.17it/s]"
     ]
    },
    {
     "name": "stdout",
     "output_type": "stream",
     "text": [
      "pred: 5  true: 5  ✅\n",
      "pred: 5  true: 5  ✅\n",
      "pred: 5  true: 5  ✅\n"
     ]
    },
    {
     "name": "stderr",
     "output_type": "stream",
     "text": [
      "propagate in video:  42%|████▏     | 742/1786 [00:40<00:57, 18.17it/s]"
     ]
    },
    {
     "name": "stdout",
     "output_type": "stream",
     "text": [
      "pred: 5  true: 5  ✅\n"
     ]
    },
    {
     "name": "stderr",
     "output_type": "stream",
     "text": [
      "propagate in video:  42%|████▏     | 744/1786 [00:40<00:57, 18.16it/s]"
     ]
    },
    {
     "name": "stdout",
     "output_type": "stream",
     "text": [
      "pred: 5  true: 5  ✅\n",
      "pred: 4  true: 5  ❌\n",
      "pred: 5  true: 5  ✅\n"
     ]
    },
    {
     "name": "stderr",
     "output_type": "stream",
     "text": [
      "propagate in video:  42%|████▏     | 746/1786 [00:40<00:57, 18.15it/s]"
     ]
    },
    {
     "name": "stdout",
     "output_type": "stream",
     "text": [
      "pred: 5  true: 5  ✅\n"
     ]
    },
    {
     "name": "stderr",
     "output_type": "stream",
     "text": [
      "propagate in video:  42%|████▏     | 748/1786 [00:41<00:57, 18.13it/s]"
     ]
    },
    {
     "name": "stdout",
     "output_type": "stream",
     "text": [
      "pred: 5  true: 5  ✅\n",
      "pred: 5  true: 5  ✅\n",
      "pred: 5  true: 5  ✅\n"
     ]
    },
    {
     "name": "stderr",
     "output_type": "stream",
     "text": [
      "propagate in video:  42%|████▏     | 750/1786 [00:41<00:57, 18.12it/s]"
     ]
    },
    {
     "name": "stdout",
     "output_type": "stream",
     "text": [
      "pred: 5  true: 5  ✅\n"
     ]
    },
    {
     "name": "stderr",
     "output_type": "stream",
     "text": [
      "propagate in video:  42%|████▏     | 752/1786 [00:41<00:57, 18.11it/s]"
     ]
    },
    {
     "name": "stdout",
     "output_type": "stream",
     "text": [
      "pred: 5  true: 5  ✅\n",
      "pred: 5  true: 5  ✅\n",
      "pred: 5  true: 5  ✅\n"
     ]
    },
    {
     "name": "stderr",
     "output_type": "stream",
     "text": [
      "propagate in video:  42%|████▏     | 754/1786 [00:41<00:57, 18.11it/s]"
     ]
    },
    {
     "name": "stdout",
     "output_type": "stream",
     "text": [
      "pred: 5  true: 5  ✅\n"
     ]
    },
    {
     "name": "stderr",
     "output_type": "stream",
     "text": [
      "propagate in video:  42%|████▏     | 756/1786 [00:41<00:56, 18.10it/s]"
     ]
    },
    {
     "name": "stdout",
     "output_type": "stream",
     "text": [
      "pred: 5  true: 5  ✅\n",
      "pred: 5  true: 5  ✅\n",
      "pred: 5  true: 5  ✅\n"
     ]
    },
    {
     "name": "stderr",
     "output_type": "stream",
     "text": [
      "propagate in video:  42%|████▏     | 758/1786 [00:41<00:56, 18.10it/s]"
     ]
    },
    {
     "name": "stdout",
     "output_type": "stream",
     "text": [
      "pred: 5  true: 5  ✅\n"
     ]
    },
    {
     "name": "stderr",
     "output_type": "stream",
     "text": [
      "propagate in video:  43%|████▎     | 760/1786 [00:41<00:56, 18.08it/s]"
     ]
    },
    {
     "name": "stdout",
     "output_type": "stream",
     "text": [
      "pred: 5  true: 5  ✅\n",
      "pred: 5  true: 5  ✅\n",
      "pred: 5  true: 5  ✅\n"
     ]
    },
    {
     "name": "stderr",
     "output_type": "stream",
     "text": [
      "propagate in video:  43%|████▎     | 762/1786 [00:41<00:56, 18.07it/s]"
     ]
    },
    {
     "name": "stdout",
     "output_type": "stream",
     "text": [
      "pred: 5  true: 5  ✅\n"
     ]
    },
    {
     "name": "stderr",
     "output_type": "stream",
     "text": [
      "propagate in video:  43%|████▎     | 764/1786 [00:41<00:56, 18.06it/s]"
     ]
    },
    {
     "name": "stdout",
     "output_type": "stream",
     "text": [
      "pred: 5  true: 5  ✅\n",
      "pred: 5  true: 5  ✅\n",
      "pred: 5  true: 5  ✅\n"
     ]
    },
    {
     "name": "stderr",
     "output_type": "stream",
     "text": [
      "propagate in video:  43%|████▎     | 766/1786 [00:42<00:56, 18.05it/s]"
     ]
    },
    {
     "name": "stdout",
     "output_type": "stream",
     "text": [
      "pred: 5  true: 5  ✅\n"
     ]
    },
    {
     "name": "stderr",
     "output_type": "stream",
     "text": [
      "propagate in video:  43%|████▎     | 768/1786 [00:42<00:56, 18.06it/s]"
     ]
    },
    {
     "name": "stdout",
     "output_type": "stream",
     "text": [
      "pred: 5  true: 5  ✅\n",
      "pred: 4  true: 5  ❌\n",
      "pred: 0  true: 5  ❌\n"
     ]
    },
    {
     "name": "stderr",
     "output_type": "stream",
     "text": [
      "propagate in video:  43%|████▎     | 770/1786 [00:42<00:56, 18.09it/s]"
     ]
    },
    {
     "name": "stdout",
     "output_type": "stream",
     "text": [
      "pred: 0  true: 5  ❌\n"
     ]
    },
    {
     "name": "stderr",
     "output_type": "stream",
     "text": [
      "propagate in video:  43%|████▎     | 772/1786 [00:42<00:55, 18.11it/s]"
     ]
    },
    {
     "name": "stdout",
     "output_type": "stream",
     "text": [
      "pred: 3  true: 5  ❌\n",
      "pred: 3  true: 5  ❌\n",
      "pred: 4  true: 5  ❌\n"
     ]
    },
    {
     "name": "stderr",
     "output_type": "stream",
     "text": [
      "propagate in video:  43%|████▎     | 774/1786 [00:42<00:55, 18.13it/s]"
     ]
    },
    {
     "name": "stdout",
     "output_type": "stream",
     "text": [
      "pred: 4  true: 5  ❌\n"
     ]
    },
    {
     "name": "stderr",
     "output_type": "stream",
     "text": [
      "propagate in video:  43%|████▎     | 776/1786 [00:42<00:55, 18.14it/s]"
     ]
    },
    {
     "name": "stdout",
     "output_type": "stream",
     "text": [
      "pred: 5  true: 5  ✅\n",
      "pred: 4  true: 5  ❌\n",
      "pred: 2  true: 5  ❌\n"
     ]
    },
    {
     "name": "stderr",
     "output_type": "stream",
     "text": [
      "propagate in video:  44%|████▎     | 778/1786 [00:42<00:55, 18.12it/s]"
     ]
    },
    {
     "name": "stdout",
     "output_type": "stream",
     "text": [
      "pred: 4  true: 5  ❌\n"
     ]
    },
    {
     "name": "stderr",
     "output_type": "stream",
     "text": [
      "propagate in video:  44%|████▎     | 780/1786 [00:42<00:55, 18.12it/s]"
     ]
    },
    {
     "name": "stdout",
     "output_type": "stream",
     "text": [
      "pred: 4  true: 5  ❌\n",
      "pred: 5  true: 5  ✅\n",
      "pred: 5  true: 5  ✅\n"
     ]
    },
    {
     "name": "stderr",
     "output_type": "stream",
     "text": [
      "propagate in video:  44%|████▍     | 782/1786 [00:42<00:55, 18.09it/s]"
     ]
    },
    {
     "name": "stdout",
     "output_type": "stream",
     "text": [
      "pred: 5  true: 5  ✅\n"
     ]
    },
    {
     "name": "stderr",
     "output_type": "stream",
     "text": [
      "propagate in video:  44%|████▍     | 784/1786 [00:43<00:55, 18.05it/s]"
     ]
    },
    {
     "name": "stdout",
     "output_type": "stream",
     "text": [
      "pred: 2  true: 5  ❌\n",
      "pred: 2  true: 5  ❌\n",
      "pred: 0  true: 5  ❌\n"
     ]
    },
    {
     "name": "stderr",
     "output_type": "stream",
     "text": [
      "propagate in video:  44%|████▍     | 786/1786 [00:43<00:55, 18.05it/s]"
     ]
    },
    {
     "name": "stdout",
     "output_type": "stream",
     "text": [
      "pred: 5  true: 5  ✅\n"
     ]
    },
    {
     "name": "stderr",
     "output_type": "stream",
     "text": [
      "propagate in video:  44%|████▍     | 788/1786 [00:43<00:55, 18.06it/s]"
     ]
    },
    {
     "name": "stdout",
     "output_type": "stream",
     "text": [
      "pred: 5  true: 5  ✅\n",
      "pred: 2  true: 5  ❌\n",
      "pred: 2  true: 5  ❌\n"
     ]
    },
    {
     "name": "stderr",
     "output_type": "stream",
     "text": [
      "propagate in video:  44%|████▍     | 790/1786 [00:43<00:55, 18.08it/s]"
     ]
    },
    {
     "name": "stdout",
     "output_type": "stream",
     "text": [
      "pred: 2  true: 5  ❌\n"
     ]
    },
    {
     "name": "stderr",
     "output_type": "stream",
     "text": [
      "propagate in video:  44%|████▍     | 792/1786 [00:43<00:55, 18.07it/s]"
     ]
    },
    {
     "name": "stdout",
     "output_type": "stream",
     "text": [
      "pred: 3  true: 5  ❌\n",
      "pred: 3  true: 5  ❌\n",
      "pred: 2  true: 5  ❌\n"
     ]
    },
    {
     "name": "stderr",
     "output_type": "stream",
     "text": [
      "propagate in video:  44%|████▍     | 794/1786 [00:43<00:54, 18.08it/s]"
     ]
    },
    {
     "name": "stdout",
     "output_type": "stream",
     "text": [
      "pred: 2  true: 5  ❌\n"
     ]
    },
    {
     "name": "stderr",
     "output_type": "stream",
     "text": [
      "propagate in video:  45%|████▍     | 796/1786 [00:43<00:54, 18.09it/s]"
     ]
    },
    {
     "name": "stdout",
     "output_type": "stream",
     "text": [
      "pred: 3  true: 5  ❌\n",
      "pred: 3  true: 5  ❌\n",
      "pred: 2  true: 5  ❌\n"
     ]
    },
    {
     "name": "stderr",
     "output_type": "stream",
     "text": [
      "propagate in video:  45%|████▍     | 798/1786 [00:43<00:54, 18.10it/s]"
     ]
    },
    {
     "name": "stdout",
     "output_type": "stream",
     "text": [
      "pred: 2  true: 5  ❌\n"
     ]
    },
    {
     "name": "stderr",
     "output_type": "stream",
     "text": [
      "propagate in video:  45%|████▍     | 800/1786 [00:43<00:54, 18.10it/s]"
     ]
    },
    {
     "name": "stdout",
     "output_type": "stream",
     "text": [
      "pred: 2  true: 5  ❌\n",
      "pred: 3  true: 5  ❌\n",
      "pred: 3  true: 5  ❌\n"
     ]
    },
    {
     "name": "stderr",
     "output_type": "stream",
     "text": [
      "propagate in video:  45%|████▍     | 802/1786 [00:44<00:54, 18.10it/s]"
     ]
    },
    {
     "name": "stdout",
     "output_type": "stream",
     "text": [
      "pred: 3  true: 5  ❌\n"
     ]
    },
    {
     "name": "stderr",
     "output_type": "stream",
     "text": [
      "propagate in video:  45%|████▌     | 804/1786 [00:44<00:54, 18.10it/s]"
     ]
    },
    {
     "name": "stdout",
     "output_type": "stream",
     "text": [
      "pred: 3  true: 5  ❌\n",
      "pred: 2  true: 5  ❌\n",
      "pred: 2  true: 5  ❌\n"
     ]
    },
    {
     "name": "stderr",
     "output_type": "stream",
     "text": [
      "propagate in video:  45%|████▌     | 806/1786 [00:44<00:54, 18.09it/s]"
     ]
    },
    {
     "name": "stdout",
     "output_type": "stream",
     "text": [
      "pred: 2  true: 5  ❌\n"
     ]
    },
    {
     "name": "stderr",
     "output_type": "stream",
     "text": [
      "propagate in video:  45%|████▌     | 808/1786 [00:44<00:54, 18.09it/s]"
     ]
    },
    {
     "name": "stdout",
     "output_type": "stream",
     "text": [
      "pred: 5  true: 5  ✅\n",
      "pred: 2  true: 5  ❌\n",
      "pred: 3  true: 5  ❌\n"
     ]
    },
    {
     "name": "stderr",
     "output_type": "stream",
     "text": [
      "propagate in video:  45%|████▌     | 810/1786 [00:44<00:53, 18.10it/s]"
     ]
    },
    {
     "name": "stdout",
     "output_type": "stream",
     "text": [
      "pred: 3  true: 5  ❌\n"
     ]
    },
    {
     "name": "stderr",
     "output_type": "stream",
     "text": [
      "propagate in video:  45%|████▌     | 812/1786 [00:44<00:53, 18.09it/s]"
     ]
    },
    {
     "name": "stdout",
     "output_type": "stream",
     "text": [
      "pred: 2  true: 5  ❌\n",
      "pred: 5  true: 5  ✅\n",
      "pred: 5  true: 5  ✅\n"
     ]
    },
    {
     "name": "stderr",
     "output_type": "stream",
     "text": [
      "propagate in video:  46%|████▌     | 814/1786 [00:44<00:53, 18.09it/s]"
     ]
    },
    {
     "name": "stdout",
     "output_type": "stream",
     "text": [
      "pred: 3  true: 5  ❌\n"
     ]
    },
    {
     "name": "stderr",
     "output_type": "stream",
     "text": [
      "propagate in video:  46%|████▌     | 816/1786 [00:44<00:53, 18.08it/s]"
     ]
    },
    {
     "name": "stdout",
     "output_type": "stream",
     "text": [
      "pred: 2  true: 5  ❌\n",
      "pred: 3  true: 5  ❌\n",
      "pred: 3  true: 5  ❌\n"
     ]
    },
    {
     "name": "stderr",
     "output_type": "stream",
     "text": [
      "propagate in video:  46%|████▌     | 818/1786 [00:44<00:53, 18.09it/s]"
     ]
    },
    {
     "name": "stdout",
     "output_type": "stream",
     "text": [
      "pred: 3  true: 5  ❌\n"
     ]
    },
    {
     "name": "stderr",
     "output_type": "stream",
     "text": [
      "propagate in video:  46%|████▌     | 820/1786 [00:45<00:53, 18.08it/s]"
     ]
    },
    {
     "name": "stdout",
     "output_type": "stream",
     "text": [
      "pred: 3  true: 5  ❌\n",
      "pred: 3  true: 5  ❌\n",
      "pred: 2  true: 5  ❌\n"
     ]
    },
    {
     "name": "stderr",
     "output_type": "stream",
     "text": [
      "propagate in video:  46%|████▌     | 822/1786 [00:45<00:53, 18.09it/s]"
     ]
    },
    {
     "name": "stdout",
     "output_type": "stream",
     "text": [
      "pred: 3  true: 5  ❌\n"
     ]
    },
    {
     "name": "stderr",
     "output_type": "stream",
     "text": [
      "propagate in video:  46%|████▌     | 824/1786 [00:45<00:53, 18.09it/s]"
     ]
    },
    {
     "name": "stdout",
     "output_type": "stream",
     "text": [
      "pred: 2  true: 5  ❌\n",
      "pred: 2  true: 5  ❌\n",
      "pred: 3  true: 5  ❌\n"
     ]
    },
    {
     "name": "stderr",
     "output_type": "stream",
     "text": [
      "propagate in video:  46%|████▌     | 826/1786 [00:45<00:53, 18.10it/s]"
     ]
    },
    {
     "name": "stdout",
     "output_type": "stream",
     "text": [
      "pred: 3  true: 5  ❌\n"
     ]
    },
    {
     "name": "stderr",
     "output_type": "stream",
     "text": [
      "propagate in video:  46%|████▋     | 828/1786 [00:45<00:52, 18.10it/s]"
     ]
    },
    {
     "name": "stdout",
     "output_type": "stream",
     "text": [
      "pred: 3  true: 5  ❌\n",
      "pred: 5  true: 5  ✅\n",
      "pred: 5  true: 5  ✅\n"
     ]
    },
    {
     "name": "stderr",
     "output_type": "stream",
     "text": [
      "propagate in video:  46%|████▋     | 830/1786 [00:45<00:52, 18.12it/s]"
     ]
    },
    {
     "name": "stdout",
     "output_type": "stream",
     "text": [
      "pred: 5  true: 5  ✅\n"
     ]
    },
    {
     "name": "stderr",
     "output_type": "stream",
     "text": [
      "propagate in video:  47%|████▋     | 832/1786 [00:45<00:52, 18.11it/s]"
     ]
    },
    {
     "name": "stdout",
     "output_type": "stream",
     "text": [
      "pred: 5  true: 5  ✅\n",
      "pred: 5  true: 5  ✅\n",
      "pred: 5  true: 5  ✅\n"
     ]
    },
    {
     "name": "stderr",
     "output_type": "stream",
     "text": [
      "propagate in video:  47%|████▋     | 834/1786 [00:45<00:52, 18.10it/s]"
     ]
    },
    {
     "name": "stdout",
     "output_type": "stream",
     "text": [
      "pred: 5  true: 5  ✅\n"
     ]
    },
    {
     "name": "stderr",
     "output_type": "stream",
     "text": [
      "propagate in video:  47%|████▋     | 836/1786 [00:45<00:52, 18.10it/s]"
     ]
    },
    {
     "name": "stdout",
     "output_type": "stream",
     "text": [
      "pred: 5  true: 5  ✅\n",
      "pred: 5  true: 5  ✅\n",
      "pred: 4  true: 5  ❌\n"
     ]
    },
    {
     "name": "stderr",
     "output_type": "stream",
     "text": [
      "propagate in video:  47%|████▋     | 838/1786 [00:46<00:52, 18.10it/s]"
     ]
    },
    {
     "name": "stdout",
     "output_type": "stream",
     "text": [
      "pred: 4  true: 5  ❌\n"
     ]
    },
    {
     "name": "stderr",
     "output_type": "stream",
     "text": [
      "propagate in video:  47%|████▋     | 840/1786 [00:46<00:52, 18.09it/s]"
     ]
    },
    {
     "name": "stdout",
     "output_type": "stream",
     "text": [
      "pred: 4  true: 5  ❌\n",
      "pred: 4  true: 5  ❌\n",
      "pred: 4  true: 5  ❌\n"
     ]
    },
    {
     "name": "stderr",
     "output_type": "stream",
     "text": [
      "propagate in video:  47%|████▋     | 842/1786 [00:46<00:52, 18.09it/s]"
     ]
    },
    {
     "name": "stdout",
     "output_type": "stream",
     "text": [
      "pred: 4  true: 5  ❌\n"
     ]
    },
    {
     "name": "stderr",
     "output_type": "stream",
     "text": [
      "propagate in video:  47%|████▋     | 844/1786 [00:46<00:52, 18.09it/s]"
     ]
    },
    {
     "name": "stdout",
     "output_type": "stream",
     "text": [
      "pred: 5  true: 5  ✅\n",
      "pred: 5  true: 5  ✅\n",
      "pred: 4  true: 5  ❌\n"
     ]
    },
    {
     "name": "stderr",
     "output_type": "stream",
     "text": [
      "propagate in video:  47%|████▋     | 846/1786 [00:46<00:51, 18.09it/s]"
     ]
    },
    {
     "name": "stdout",
     "output_type": "stream",
     "text": [
      "pred: 4  true: 5  ❌\n"
     ]
    },
    {
     "name": "stderr",
     "output_type": "stream",
     "text": [
      "propagate in video:  47%|████▋     | 848/1786 [00:46<00:51, 18.08it/s]"
     ]
    },
    {
     "name": "stdout",
     "output_type": "stream",
     "text": [
      "pred: 5  true: 5  ✅\n",
      "pred: 4  true: 5  ❌\n",
      "pred: 4  true: 5  ❌\n"
     ]
    },
    {
     "name": "stderr",
     "output_type": "stream",
     "text": [
      "propagate in video:  48%|████▊     | 850/1786 [00:46<00:51, 18.08it/s]"
     ]
    },
    {
     "name": "stdout",
     "output_type": "stream",
     "text": [
      "pred: 4  true: 5  ❌\n"
     ]
    },
    {
     "name": "stderr",
     "output_type": "stream",
     "text": [
      "propagate in video:  48%|████▊     | 852/1786 [00:46<00:51, 18.08it/s]"
     ]
    },
    {
     "name": "stdout",
     "output_type": "stream",
     "text": [
      "pred: 4  true: 5  ❌\n",
      "pred: 4  true: 5  ❌\n",
      "pred: 4  true: 5  ❌\n"
     ]
    },
    {
     "name": "stderr",
     "output_type": "stream",
     "text": [
      "propagate in video:  48%|████▊     | 854/1786 [00:46<00:51, 18.08it/s]"
     ]
    },
    {
     "name": "stdout",
     "output_type": "stream",
     "text": [
      "pred: 4  true: 5  ❌\n"
     ]
    },
    {
     "name": "stderr",
     "output_type": "stream",
     "text": [
      "propagate in video:  48%|████▊     | 856/1786 [00:47<00:51, 18.03it/s]"
     ]
    },
    {
     "name": "stdout",
     "output_type": "stream",
     "text": [
      "pred: 4  true: 5  ❌\n",
      "pred: 4  true: 5  ❌\n",
      "pred: 4  true: 5  ❌\n"
     ]
    },
    {
     "name": "stderr",
     "output_type": "stream",
     "text": [
      "propagate in video:  48%|████▊     | 858/1786 [00:47<00:51, 18.03it/s]"
     ]
    },
    {
     "name": "stdout",
     "output_type": "stream",
     "text": [
      "pred: 4  true: 5  ❌\n"
     ]
    },
    {
     "name": "stderr",
     "output_type": "stream",
     "text": [
      "propagate in video:  48%|████▊     | 860/1786 [00:47<00:51, 18.04it/s]"
     ]
    },
    {
     "name": "stdout",
     "output_type": "stream",
     "text": [
      "pred: 4  true: 5  ❌\n",
      "pred: 4  true: 5  ❌\n",
      "pred: 4  true: 5  ❌\n"
     ]
    },
    {
     "name": "stderr",
     "output_type": "stream",
     "text": [
      "propagate in video:  48%|████▊     | 862/1786 [00:47<00:51, 18.05it/s]"
     ]
    },
    {
     "name": "stdout",
     "output_type": "stream",
     "text": [
      "pred: 4  true: 5  ❌\n"
     ]
    },
    {
     "name": "stderr",
     "output_type": "stream",
     "text": [
      "propagate in video:  48%|████▊     | 864/1786 [00:47<00:51, 18.06it/s]"
     ]
    },
    {
     "name": "stdout",
     "output_type": "stream",
     "text": [
      "pred: 4  true: 5  ❌\n",
      "pred: 4  true: 5  ❌\n",
      "pred: 4  true: 5  ❌\n"
     ]
    },
    {
     "name": "stderr",
     "output_type": "stream",
     "text": [
      "propagate in video:  48%|████▊     | 866/1786 [00:47<00:50, 18.06it/s]"
     ]
    },
    {
     "name": "stdout",
     "output_type": "stream",
     "text": [
      "pred: 4  true: 5  ❌\n"
     ]
    },
    {
     "name": "stderr",
     "output_type": "stream",
     "text": [
      "propagate in video:  49%|████▊     | 868/1786 [00:47<00:50, 18.06it/s]"
     ]
    },
    {
     "name": "stdout",
     "output_type": "stream",
     "text": [
      "pred: 4  true: 5  ❌\n",
      "pred: 4  true: 5  ❌\n",
      "pred: 4  true: 5  ❌\n"
     ]
    },
    {
     "name": "stderr",
     "output_type": "stream",
     "text": [
      "propagate in video:  49%|████▊     | 870/1786 [00:47<00:50, 18.06it/s]"
     ]
    },
    {
     "name": "stdout",
     "output_type": "stream",
     "text": [
      "pred: 4  true: 5  ❌\n"
     ]
    },
    {
     "name": "stderr",
     "output_type": "stream",
     "text": [
      "propagate in video:  49%|████▉     | 872/1786 [00:47<00:50, 18.05it/s]"
     ]
    },
    {
     "name": "stdout",
     "output_type": "stream",
     "text": [
      "pred: 5  true: 5  ✅\n",
      "pred: 5  true: 5  ✅\n",
      "pred: 5  true: 5  ✅\n"
     ]
    },
    {
     "name": "stderr",
     "output_type": "stream",
     "text": [
      "propagate in video:  49%|████▉     | 874/1786 [00:48<00:50, 18.04it/s]"
     ]
    },
    {
     "name": "stdout",
     "output_type": "stream",
     "text": [
      "pred: 5  true: 5  ✅\n"
     ]
    },
    {
     "name": "stderr",
     "output_type": "stream",
     "text": [
      "propagate in video:  49%|████▉     | 876/1786 [00:48<00:50, 18.03it/s]"
     ]
    },
    {
     "name": "stdout",
     "output_type": "stream",
     "text": [
      "pred: 5  true: 5  ✅\n",
      "pred: 5  true: 5  ✅\n",
      "pred: 5  true: 5  ✅\n"
     ]
    },
    {
     "name": "stderr",
     "output_type": "stream",
     "text": [
      "propagate in video:  49%|████▉     | 878/1786 [00:48<00:50, 18.03it/s]"
     ]
    },
    {
     "name": "stdout",
     "output_type": "stream",
     "text": [
      "pred: 5  true: 5  ✅\n"
     ]
    },
    {
     "name": "stderr",
     "output_type": "stream",
     "text": [
      "propagate in video:  49%|████▉     | 880/1786 [00:48<00:50, 18.02it/s]"
     ]
    },
    {
     "name": "stdout",
     "output_type": "stream",
     "text": [
      "pred: 5  true: 5  ✅\n",
      "pred: 5  true: 5  ✅\n",
      "pred: 5  true: 5  ✅\n"
     ]
    },
    {
     "name": "stderr",
     "output_type": "stream",
     "text": [
      "propagate in video:  49%|████▉     | 882/1786 [00:48<00:50, 18.03it/s]"
     ]
    },
    {
     "name": "stdout",
     "output_type": "stream",
     "text": [
      "pred: 5  true: 5  ✅\n"
     ]
    },
    {
     "name": "stderr",
     "output_type": "stream",
     "text": [
      "propagate in video:  49%|████▉     | 884/1786 [00:48<00:50, 18.02it/s]"
     ]
    },
    {
     "name": "stdout",
     "output_type": "stream",
     "text": [
      "pred: 5  true: 5  ✅\n",
      "pred: 5  true: 5  ✅\n",
      "pred: 5  true: 5  ✅\n"
     ]
    },
    {
     "name": "stderr",
     "output_type": "stream",
     "text": [
      "propagate in video:  50%|████▉     | 886/1786 [00:48<00:49, 18.04it/s]"
     ]
    },
    {
     "name": "stdout",
     "output_type": "stream",
     "text": [
      "pred: 5  true: 5  ✅\n"
     ]
    },
    {
     "name": "stderr",
     "output_type": "stream",
     "text": [
      "propagate in video:  50%|████▉     | 888/1786 [00:48<00:49, 18.05it/s]"
     ]
    },
    {
     "name": "stdout",
     "output_type": "stream",
     "text": [
      "pred: 5  true: 5  ✅\n",
      "pred: 5  true: 5  ✅\n",
      "pred: 5  true: 5  ✅\n"
     ]
    },
    {
     "name": "stderr",
     "output_type": "stream",
     "text": [
      "propagate in video:  50%|████▉     | 890/1786 [00:48<00:49, 18.06it/s]"
     ]
    },
    {
     "name": "stdout",
     "output_type": "stream",
     "text": [
      "pred: 5  true: 5  ✅\n"
     ]
    },
    {
     "name": "stderr",
     "output_type": "stream",
     "text": [
      "propagate in video:  50%|████▉     | 892/1786 [00:49<00:49, 18.08it/s]"
     ]
    },
    {
     "name": "stdout",
     "output_type": "stream",
     "text": [
      "pred: 5  true: 5  ✅\n",
      "pred: 5  true: 5  ✅\n",
      "pred: 5  true: 5  ✅\n"
     ]
    },
    {
     "name": "stderr",
     "output_type": "stream",
     "text": [
      "propagate in video:  50%|█████     | 894/1786 [00:49<00:49, 18.09it/s]"
     ]
    },
    {
     "name": "stdout",
     "output_type": "stream",
     "text": [
      "pred: 5  true: 5  ✅\n"
     ]
    },
    {
     "name": "stderr",
     "output_type": "stream",
     "text": [
      "propagate in video:  50%|█████     | 896/1786 [00:49<00:49, 18.08it/s]"
     ]
    },
    {
     "name": "stdout",
     "output_type": "stream",
     "text": [
      "pred: 5  true: 5  ✅\n",
      "pred: 5  true: 5  ✅\n",
      "pred: 5  true: 5  ✅\n"
     ]
    },
    {
     "name": "stderr",
     "output_type": "stream",
     "text": [
      "propagate in video:  50%|█████     | 898/1786 [00:49<00:49, 18.10it/s]"
     ]
    },
    {
     "name": "stdout",
     "output_type": "stream",
     "text": [
      "pred: 5  true: 5  ✅\n"
     ]
    },
    {
     "name": "stderr",
     "output_type": "stream",
     "text": [
      "propagate in video:  50%|█████     | 900/1786 [00:49<00:48, 18.10it/s]"
     ]
    },
    {
     "name": "stdout",
     "output_type": "stream",
     "text": [
      "pred: 5  true: 5  ✅\n",
      "pred: 5  true: 5  ✅\n",
      "pred: 5  true: 5  ✅\n"
     ]
    },
    {
     "name": "stderr",
     "output_type": "stream",
     "text": [
      "propagate in video:  51%|█████     | 902/1786 [00:49<00:48, 18.11it/s]"
     ]
    },
    {
     "name": "stdout",
     "output_type": "stream",
     "text": [
      "pred: 5  true: 5  ✅\n"
     ]
    },
    {
     "name": "stderr",
     "output_type": "stream",
     "text": [
      "propagate in video:  51%|█████     | 904/1786 [00:49<00:48, 18.10it/s]"
     ]
    },
    {
     "name": "stdout",
     "output_type": "stream",
     "text": [
      "pred: 5  true: 5  ✅\n",
      "pred: 5  true: 5  ✅\n",
      "pred: 5  true: 5  ✅\n"
     ]
    },
    {
     "name": "stderr",
     "output_type": "stream",
     "text": [
      "propagate in video:  51%|█████     | 906/1786 [00:49<00:48, 18.09it/s]"
     ]
    },
    {
     "name": "stdout",
     "output_type": "stream",
     "text": [
      "pred: 5  true: 5  ✅\n"
     ]
    },
    {
     "name": "stderr",
     "output_type": "stream",
     "text": [
      "propagate in video:  51%|█████     | 908/1786 [00:49<00:48, 18.10it/s]"
     ]
    },
    {
     "name": "stdout",
     "output_type": "stream",
     "text": [
      "pred: 5  true: 5  ✅\n",
      "pred: 1  true: 5  ❌\n",
      "pred: 5  true: 5  ✅\n"
     ]
    },
    {
     "name": "stderr",
     "output_type": "stream",
     "text": [
      "propagate in video:  51%|█████     | 910/1786 [00:50<00:48, 18.10it/s]"
     ]
    },
    {
     "name": "stdout",
     "output_type": "stream",
     "text": [
      "pred: 6  true: 5  ❌\n"
     ]
    },
    {
     "name": "stderr",
     "output_type": "stream",
     "text": [
      "propagate in video:  51%|█████     | 912/1786 [00:50<00:48, 18.12it/s]"
     ]
    },
    {
     "name": "stdout",
     "output_type": "stream",
     "text": [
      "pred: 6  true: 5  ❌\n",
      "pred: 5  true: 5  ✅\n",
      "pred: 5  true: 5  ✅\n"
     ]
    },
    {
     "name": "stderr",
     "output_type": "stream",
     "text": [
      "propagate in video:  51%|█████     | 914/1786 [00:50<00:48, 18.12it/s]"
     ]
    },
    {
     "name": "stdout",
     "output_type": "stream",
     "text": [
      "pred: 0  true: 5  ❌\n"
     ]
    },
    {
     "name": "stderr",
     "output_type": "stream",
     "text": [
      "propagate in video:  51%|█████▏    | 916/1786 [00:50<00:48, 18.10it/s]"
     ]
    },
    {
     "name": "stdout",
     "output_type": "stream",
     "text": [
      "pred: 5  true: 5  ✅\n",
      "pred: 1  true: 5  ❌\n",
      "pred: 7  true: 5  ❌\n"
     ]
    },
    {
     "name": "stderr",
     "output_type": "stream",
     "text": [
      "propagate in video:  51%|█████▏    | 918/1786 [00:50<00:47, 18.12it/s]"
     ]
    },
    {
     "name": "stdout",
     "output_type": "stream",
     "text": [
      "pred: 2  true: 5  ❌\n"
     ]
    },
    {
     "name": "stderr",
     "output_type": "stream",
     "text": [
      "propagate in video:  52%|█████▏    | 920/1786 [00:50<00:47, 18.12it/s]"
     ]
    },
    {
     "name": "stdout",
     "output_type": "stream",
     "text": [
      "pred: 6  true: 5  ❌\n",
      "pred: 2  true: 5  ❌\n",
      "pred: 6  true: 5  ❌\n"
     ]
    },
    {
     "name": "stderr",
     "output_type": "stream",
     "text": [
      "propagate in video:  52%|█████▏    | 922/1786 [00:50<00:47, 18.13it/s]"
     ]
    },
    {
     "name": "stdout",
     "output_type": "stream",
     "text": [
      "pred: 6  true: 5  ❌\n"
     ]
    },
    {
     "name": "stderr",
     "output_type": "stream",
     "text": [
      "propagate in video:  52%|█████▏    | 924/1786 [00:50<00:47, 18.15it/s]"
     ]
    },
    {
     "name": "stdout",
     "output_type": "stream",
     "text": [
      "pred: 6  true: 5  ❌\n",
      "pred: 6  true: 5  ❌\n",
      "pred: 6  true: 5  ❌\n"
     ]
    },
    {
     "name": "stderr",
     "output_type": "stream",
     "text": [
      "propagate in video:  52%|█████▏    | 926/1786 [00:50<00:47, 18.17it/s]"
     ]
    },
    {
     "name": "stdout",
     "output_type": "stream",
     "text": [
      "pred: 6  true: 5  ❌\n"
     ]
    },
    {
     "name": "stderr",
     "output_type": "stream",
     "text": [
      "propagate in video:  52%|█████▏    | 928/1786 [00:51<00:47, 18.17it/s]"
     ]
    },
    {
     "name": "stdout",
     "output_type": "stream",
     "text": [
      "pred: 6  true: 5  ❌\n",
      "pred: 6  true: 5  ❌\n",
      "pred: 2  true: 5  ❌\n"
     ]
    },
    {
     "name": "stderr",
     "output_type": "stream",
     "text": [
      "propagate in video:  52%|█████▏    | 930/1786 [00:51<00:47, 18.09it/s]"
     ]
    },
    {
     "name": "stdout",
     "output_type": "stream",
     "text": [
      "pred: 2  true: 5  ❌\n"
     ]
    },
    {
     "name": "stderr",
     "output_type": "stream",
     "text": [
      "propagate in video:  52%|█████▏    | 932/1786 [00:51<00:47, 18.04it/s]"
     ]
    },
    {
     "name": "stdout",
     "output_type": "stream",
     "text": [
      "pred: 2  true: 5  ❌\n",
      "pred: 2  true: 5  ❌\n",
      "pred: 2  true: 5  ❌\n"
     ]
    },
    {
     "name": "stderr",
     "output_type": "stream",
     "text": [
      "propagate in video:  52%|█████▏    | 934/1786 [00:51<00:47, 18.05it/s]"
     ]
    },
    {
     "name": "stdout",
     "output_type": "stream",
     "text": [
      "pred: 2  true: 5  ❌\n"
     ]
    },
    {
     "name": "stderr",
     "output_type": "stream",
     "text": [
      "propagate in video:  52%|█████▏    | 936/1786 [00:51<00:47, 18.07it/s]"
     ]
    },
    {
     "name": "stdout",
     "output_type": "stream",
     "text": [
      "pred: 6  true: 5  ❌\n",
      "pred: 2  true: 5  ❌\n",
      "pred: 6  true: 5  ❌\n"
     ]
    },
    {
     "name": "stderr",
     "output_type": "stream",
     "text": [
      "propagate in video:  53%|█████▎    | 938/1786 [00:51<00:46, 18.09it/s]"
     ]
    },
    {
     "name": "stdout",
     "output_type": "stream",
     "text": [
      "pred: 2  true: 5  ❌\n"
     ]
    },
    {
     "name": "stderr",
     "output_type": "stream",
     "text": [
      "propagate in video:  53%|█████▎    | 940/1786 [00:51<00:46, 18.13it/s]"
     ]
    },
    {
     "name": "stdout",
     "output_type": "stream",
     "text": [
      "pred: 5  true: 5  ✅\n",
      "pred: 2  true: 5  ❌\n",
      "pred: 2  true: 5  ❌\n"
     ]
    },
    {
     "name": "stderr",
     "output_type": "stream",
     "text": [
      "propagate in video:  53%|█████▎    | 942/1786 [00:51<00:46, 18.13it/s]"
     ]
    },
    {
     "name": "stdout",
     "output_type": "stream",
     "text": [
      "pred: 2  true: 5  ❌\n"
     ]
    },
    {
     "name": "stderr",
     "output_type": "stream",
     "text": [
      "propagate in video:  53%|█████▎    | 944/1786 [00:51<00:46, 18.16it/s]"
     ]
    },
    {
     "name": "stdout",
     "output_type": "stream",
     "text": [
      "pred: 6  true: 5  ❌\n",
      "pred: 6  true: 5  ❌\n",
      "pred: 0  true: 5  ❌\n"
     ]
    },
    {
     "name": "stderr",
     "output_type": "stream",
     "text": [
      "propagate in video:  53%|█████▎    | 946/1786 [00:52<00:46, 18.15it/s]"
     ]
    },
    {
     "name": "stdout",
     "output_type": "stream",
     "text": [
      "pred: 6  true: 5  ❌\n"
     ]
    },
    {
     "name": "stderr",
     "output_type": "stream",
     "text": [
      "propagate in video:  53%|█████▎    | 948/1786 [00:52<00:46, 18.18it/s]"
     ]
    },
    {
     "name": "stdout",
     "output_type": "stream",
     "text": [
      "pred: 5  true: 5  ✅\n",
      "pred: 2  true: 5  ❌\n",
      "pred: 0  true: 5  ❌\n"
     ]
    },
    {
     "name": "stderr",
     "output_type": "stream",
     "text": [
      "propagate in video:  53%|█████▎    | 950/1786 [00:52<00:46, 18.17it/s]"
     ]
    },
    {
     "name": "stdout",
     "output_type": "stream",
     "text": [
      "pred: 6  true: 5  ❌\n"
     ]
    },
    {
     "name": "stderr",
     "output_type": "stream",
     "text": [
      "propagate in video:  53%|█████▎    | 952/1786 [00:52<00:45, 18.19it/s]"
     ]
    },
    {
     "name": "stdout",
     "output_type": "stream",
     "text": [
      "pred: 6  true: 5  ❌\n",
      "pred: 6  true: 5  ❌\n",
      "pred: 6  true: 5  ❌\n"
     ]
    },
    {
     "name": "stderr",
     "output_type": "stream",
     "text": [
      "propagate in video:  53%|█████▎    | 954/1786 [00:52<00:45, 18.19it/s]"
     ]
    },
    {
     "name": "stdout",
     "output_type": "stream",
     "text": [
      "pred: 6  true: 5  ❌\n"
     ]
    },
    {
     "name": "stderr",
     "output_type": "stream",
     "text": [
      "propagate in video:  54%|█████▎    | 956/1786 [00:52<00:45, 18.20it/s]"
     ]
    },
    {
     "name": "stdout",
     "output_type": "stream",
     "text": [
      "pred: 6  true: 5  ❌\n",
      "pred: 6  true: 5  ❌\n",
      "pred: 2  true: 5  ❌\n"
     ]
    },
    {
     "name": "stderr",
     "output_type": "stream",
     "text": [
      "propagate in video:  54%|█████▎    | 958/1786 [00:52<00:45, 18.22it/s]"
     ]
    },
    {
     "name": "stdout",
     "output_type": "stream",
     "text": [
      "pred: 6  true: 5  ❌\n"
     ]
    },
    {
     "name": "stderr",
     "output_type": "stream",
     "text": [
      "propagate in video:  54%|█████▍    | 960/1786 [00:52<00:45, 18.22it/s]"
     ]
    },
    {
     "name": "stdout",
     "output_type": "stream",
     "text": [
      "pred: 2  true: 5  ❌\n",
      "pred: 6  true: 5  ❌\n",
      "pred: 6  true: 5  ❌\n"
     ]
    },
    {
     "name": "stderr",
     "output_type": "stream",
     "text": [
      "propagate in video:  54%|█████▍    | 962/1786 [00:52<00:45, 18.23it/s]"
     ]
    },
    {
     "name": "stdout",
     "output_type": "stream",
     "text": [
      "pred: 2  true: 5  ❌\n"
     ]
    },
    {
     "name": "stderr",
     "output_type": "stream",
     "text": [
      "propagate in video:  54%|█████▍    | 964/1786 [00:53<00:45, 18.23it/s]"
     ]
    },
    {
     "name": "stdout",
     "output_type": "stream",
     "text": [
      "pred: 6  true: 5  ❌\n",
      "pred: 6  true: 5  ❌\n",
      "pred: 6  true: 5  ❌\n"
     ]
    },
    {
     "name": "stderr",
     "output_type": "stream",
     "text": [
      "propagate in video:  54%|█████▍    | 966/1786 [00:53<00:44, 18.22it/s]"
     ]
    },
    {
     "name": "stdout",
     "output_type": "stream",
     "text": [
      "pred: 6  true: 5  ❌\n"
     ]
    },
    {
     "name": "stderr",
     "output_type": "stream",
     "text": [
      "propagate in video:  54%|█████▍    | 968/1786 [00:53<00:44, 18.21it/s]"
     ]
    },
    {
     "name": "stdout",
     "output_type": "stream",
     "text": [
      "pred: 6  true: 5  ❌\n",
      "pred: 2  true: 5  ❌\n",
      "pred: 2  true: 5  ❌\n"
     ]
    },
    {
     "name": "stderr",
     "output_type": "stream",
     "text": [
      "propagate in video:  54%|█████▍    | 970/1786 [00:53<00:44, 18.19it/s]"
     ]
    },
    {
     "name": "stdout",
     "output_type": "stream",
     "text": [
      "pred: 2  true: 5  ❌\n"
     ]
    },
    {
     "name": "stderr",
     "output_type": "stream",
     "text": [
      "propagate in video:  54%|█████▍    | 972/1786 [00:53<00:44, 18.14it/s]"
     ]
    },
    {
     "name": "stdout",
     "output_type": "stream",
     "text": [
      "pred: 1  true: 5  ❌\n",
      "pred: 0  true: 5  ❌\n",
      "pred: 5  true: 5  ✅\n"
     ]
    },
    {
     "name": "stderr",
     "output_type": "stream",
     "text": [
      "propagate in video:  55%|█████▍    | 974/1786 [00:53<00:44, 18.13it/s]"
     ]
    },
    {
     "name": "stdout",
     "output_type": "stream",
     "text": [
      "pred: 4  true: 5  ❌\n"
     ]
    },
    {
     "name": "stderr",
     "output_type": "stream",
     "text": [
      "propagate in video:  55%|█████▍    | 976/1786 [00:53<00:44, 18.12it/s]"
     ]
    },
    {
     "name": "stdout",
     "output_type": "stream",
     "text": [
      "pred: 2  true: 5  ❌\n",
      "pred: 0  true: 5  ❌\n",
      "pred: 2  true: 5  ❌\n"
     ]
    },
    {
     "name": "stderr",
     "output_type": "stream",
     "text": [
      "propagate in video:  55%|█████▍    | 978/1786 [00:53<00:44, 18.12it/s]"
     ]
    },
    {
     "name": "stdout",
     "output_type": "stream",
     "text": [
      "pred: 2  true: 5  ❌\n"
     ]
    },
    {
     "name": "stderr",
     "output_type": "stream",
     "text": [
      "propagate in video:  55%|█████▍    | 980/1786 [00:53<00:44, 18.13it/s]"
     ]
    },
    {
     "name": "stdout",
     "output_type": "stream",
     "text": [
      "pred: 5  true: 5  ✅\n",
      "pred: 4  true: 5  ❌\n",
      "pred: 5  true: 5  ✅\n"
     ]
    },
    {
     "name": "stderr",
     "output_type": "stream",
     "text": [
      "propagate in video:  55%|█████▍    | 982/1786 [00:54<00:44, 18.15it/s]"
     ]
    },
    {
     "name": "stdout",
     "output_type": "stream",
     "text": [
      "pred: 1  true: 5  ❌\n"
     ]
    },
    {
     "name": "stderr",
     "output_type": "stream",
     "text": [
      "propagate in video:  55%|█████▌    | 984/1786 [00:54<00:44, 18.16it/s]"
     ]
    },
    {
     "name": "stdout",
     "output_type": "stream",
     "text": [
      "pred: 4  true: 5  ❌\n",
      "pred: 4  true: 5  ❌\n",
      "pred: 5  true: 5  ✅\n"
     ]
    },
    {
     "name": "stderr",
     "output_type": "stream",
     "text": [
      "propagate in video:  55%|█████▌    | 986/1786 [00:54<00:44, 18.16it/s]"
     ]
    },
    {
     "name": "stdout",
     "output_type": "stream",
     "text": [
      "pred: 4  true: 5  ❌\n"
     ]
    },
    {
     "name": "stderr",
     "output_type": "stream",
     "text": [
      "propagate in video:  55%|█████▌    | 988/1786 [00:54<00:43, 18.15it/s]"
     ]
    },
    {
     "name": "stdout",
     "output_type": "stream",
     "text": [
      "pred: 5  true: 5  ✅\n",
      "pred: 4  true: 5  ❌\n",
      "pred: 5  true: 5  ✅\n"
     ]
    },
    {
     "name": "stderr",
     "output_type": "stream",
     "text": [
      "propagate in video:  55%|█████▌    | 990/1786 [00:54<00:43, 18.15it/s]"
     ]
    },
    {
     "name": "stdout",
     "output_type": "stream",
     "text": [
      "pred: 5  true: 5  ✅\n"
     ]
    },
    {
     "name": "stderr",
     "output_type": "stream",
     "text": [
      "propagate in video:  56%|█████▌    | 992/1786 [00:54<00:43, 18.15it/s]"
     ]
    },
    {
     "name": "stdout",
     "output_type": "stream",
     "text": [
      "pred: 5  true: 5  ✅\n",
      "pred: 5  true: 5  ✅\n",
      "pred: 5  true: 5  ✅\n"
     ]
    },
    {
     "name": "stderr",
     "output_type": "stream",
     "text": [
      "propagate in video:  56%|█████▌    | 994/1786 [00:54<00:43, 18.16it/s]"
     ]
    },
    {
     "name": "stdout",
     "output_type": "stream",
     "text": [
      "pred: 4  true: 5  ❌\n"
     ]
    },
    {
     "name": "stderr",
     "output_type": "stream",
     "text": [
      "propagate in video:  56%|█████▌    | 996/1786 [00:54<00:43, 18.15it/s]"
     ]
    },
    {
     "name": "stdout",
     "output_type": "stream",
     "text": [
      "pred: 4  true: 5  ❌\n",
      "pred: 4  true: 5  ❌\n",
      "pred: 4  true: 5  ❌\n"
     ]
    },
    {
     "name": "stderr",
     "output_type": "stream",
     "text": [
      "propagate in video:  56%|█████▌    | 998/1786 [00:54<00:43, 18.15it/s]"
     ]
    },
    {
     "name": "stdout",
     "output_type": "stream",
     "text": [
      "pred: 4  true: 5  ❌\n"
     ]
    },
    {
     "name": "stderr",
     "output_type": "stream",
     "text": [
      "propagate in video:  56%|█████▌    | 1000/1786 [00:55<00:43, 18.15it/s]"
     ]
    },
    {
     "name": "stdout",
     "output_type": "stream",
     "text": [
      "pred: 5  true: 5  ✅\n",
      "pred: 4  true: 5  ❌\n",
      "pred: 4  true: 5  ❌\n"
     ]
    },
    {
     "name": "stderr",
     "output_type": "stream",
     "text": [
      "propagate in video:  56%|█████▌    | 1002/1786 [00:55<00:43, 18.15it/s]"
     ]
    },
    {
     "name": "stdout",
     "output_type": "stream",
     "text": [
      "pred: 4  true: 5  ❌\n"
     ]
    },
    {
     "name": "stderr",
     "output_type": "stream",
     "text": [
      "propagate in video:  56%|█████▌    | 1004/1786 [00:55<00:43, 18.15it/s]"
     ]
    },
    {
     "name": "stdout",
     "output_type": "stream",
     "text": [
      "pred: 5  true: 5  ✅\n",
      "pred: 4  true: 5  ❌\n",
      "pred: 5  true: 5  ✅\n"
     ]
    },
    {
     "name": "stderr",
     "output_type": "stream",
     "text": [
      "propagate in video:  56%|█████▋    | 1006/1786 [00:55<00:42, 18.16it/s]"
     ]
    },
    {
     "name": "stdout",
     "output_type": "stream",
     "text": [
      "pred: 5  true: 5  ✅\n"
     ]
    },
    {
     "name": "stderr",
     "output_type": "stream",
     "text": [
      "propagate in video:  56%|█████▋    | 1008/1786 [00:55<00:42, 18.16it/s]"
     ]
    },
    {
     "name": "stdout",
     "output_type": "stream",
     "text": [
      "pred: 5  true: 5  ✅\n",
      "pred: 5  true: 5  ✅\n",
      "pred: 5  true: 5  ✅\n"
     ]
    },
    {
     "name": "stderr",
     "output_type": "stream",
     "text": [
      "propagate in video:  57%|█████▋    | 1010/1786 [00:55<00:42, 18.16it/s]"
     ]
    },
    {
     "name": "stdout",
     "output_type": "stream",
     "text": [
      "pred: 4  true: 5  ❌\n"
     ]
    },
    {
     "name": "stderr",
     "output_type": "stream",
     "text": [
      "propagate in video:  57%|█████▋    | 1012/1786 [00:55<00:42, 18.16it/s]"
     ]
    },
    {
     "name": "stdout",
     "output_type": "stream",
     "text": [
      "pred: 4  true: 5  ❌\n",
      "pred: 5  true: 5  ✅\n",
      "pred: 5  true: 5  ✅\n"
     ]
    },
    {
     "name": "stderr",
     "output_type": "stream",
     "text": [
      "propagate in video:  57%|█████▋    | 1014/1786 [00:55<00:42, 18.15it/s]"
     ]
    },
    {
     "name": "stdout",
     "output_type": "stream",
     "text": [
      "pred: 3  true: 5  ❌\n"
     ]
    },
    {
     "name": "stderr",
     "output_type": "stream",
     "text": [
      "propagate in video:  57%|█████▋    | 1016/1786 [00:55<00:42, 18.15it/s]"
     ]
    },
    {
     "name": "stdout",
     "output_type": "stream",
     "text": [
      "pred: 3  true: 5  ❌\n",
      "pred: 3  true: 5  ❌\n",
      "pred: 3  true: 5  ❌\n"
     ]
    },
    {
     "name": "stderr",
     "output_type": "stream",
     "text": [
      "propagate in video:  57%|█████▋    | 1018/1786 [00:56<00:42, 18.13it/s]"
     ]
    },
    {
     "name": "stdout",
     "output_type": "stream",
     "text": [
      "pred: 3  true: 5  ❌\n"
     ]
    },
    {
     "name": "stderr",
     "output_type": "stream",
     "text": [
      "propagate in video:  57%|█████▋    | 1020/1786 [00:56<00:42, 18.12it/s]"
     ]
    },
    {
     "name": "stdout",
     "output_type": "stream",
     "text": [
      "pred: 2  true: 5  ❌\n",
      "pred: 3  true: 5  ❌\n",
      "pred: 3  true: 5  ❌\n"
     ]
    },
    {
     "name": "stderr",
     "output_type": "stream",
     "text": [
      "propagate in video:  57%|█████▋    | 1022/1786 [00:56<00:42, 18.11it/s]"
     ]
    },
    {
     "name": "stdout",
     "output_type": "stream",
     "text": [
      "pred: 4  true: 5  ❌\n"
     ]
    },
    {
     "name": "stderr",
     "output_type": "stream",
     "text": [
      "propagate in video:  57%|█████▋    | 1024/1786 [00:56<00:42, 18.14it/s]"
     ]
    },
    {
     "name": "stdout",
     "output_type": "stream",
     "text": [
      "pred: 3  true: 5  ❌\n",
      "pred: 4  true: 5  ❌\n",
      "pred: 4  true: 5  ❌\n"
     ]
    },
    {
     "name": "stderr",
     "output_type": "stream",
     "text": [
      "propagate in video:  57%|█████▋    | 1026/1786 [00:56<00:41, 18.15it/s]"
     ]
    },
    {
     "name": "stdout",
     "output_type": "stream",
     "text": [
      "pred: 5  true: 5  ✅\n"
     ]
    },
    {
     "name": "stderr",
     "output_type": "stream",
     "text": [
      "propagate in video:  58%|█████▊    | 1028/1786 [00:56<00:41, 18.16it/s]"
     ]
    },
    {
     "name": "stdout",
     "output_type": "stream",
     "text": [
      "pred: 5  true: 5  ✅\n",
      "pred: 5  true: 5  ✅\n",
      "pred: 5  true: 5  ✅\n"
     ]
    },
    {
     "name": "stderr",
     "output_type": "stream",
     "text": [
      "propagate in video:  58%|█████▊    | 1030/1786 [00:56<00:41, 18.16it/s]"
     ]
    },
    {
     "name": "stdout",
     "output_type": "stream",
     "text": [
      "pred: 4  true: 5  ❌\n"
     ]
    },
    {
     "name": "stderr",
     "output_type": "stream",
     "text": [
      "propagate in video:  58%|█████▊    | 1032/1786 [00:56<00:41, 18.16it/s]"
     ]
    },
    {
     "name": "stdout",
     "output_type": "stream",
     "text": [
      "pred: 5  true: 5  ✅\n",
      "pred: 3  true: 5  ❌\n",
      "pred: 4  true: 5  ❌\n"
     ]
    },
    {
     "name": "stderr",
     "output_type": "stream",
     "text": [
      "propagate in video:  58%|█████▊    | 1034/1786 [00:56<00:41, 18.17it/s]"
     ]
    },
    {
     "name": "stdout",
     "output_type": "stream",
     "text": [
      "pred: 3  true: 5  ❌\n"
     ]
    },
    {
     "name": "stderr",
     "output_type": "stream",
     "text": [
      "propagate in video:  58%|█████▊    | 1036/1786 [00:56<00:41, 18.17it/s]"
     ]
    },
    {
     "name": "stdout",
     "output_type": "stream",
     "text": [
      "pred: 5  true: 5  ✅\n",
      "pred: 4  true: 5  ❌\n",
      "pred: 5  true: 5  ✅\n"
     ]
    },
    {
     "name": "stderr",
     "output_type": "stream",
     "text": [
      "propagate in video:  58%|█████▊    | 1038/1786 [00:57<00:41, 18.17it/s]"
     ]
    },
    {
     "name": "stdout",
     "output_type": "stream",
     "text": [
      "pred: 3  true: 5  ❌\n"
     ]
    },
    {
     "name": "stderr",
     "output_type": "stream",
     "text": [
      "propagate in video:  58%|█████▊    | 1040/1786 [00:57<00:41, 18.18it/s]"
     ]
    },
    {
     "name": "stdout",
     "output_type": "stream",
     "text": [
      "pred: 3  true: 5  ❌\n",
      "pred: 4  true: 5  ❌\n",
      "pred: 3  true: 5  ❌\n"
     ]
    },
    {
     "name": "stderr",
     "output_type": "stream",
     "text": [
      "propagate in video:  58%|█████▊    | 1042/1786 [00:57<00:40, 18.18it/s]"
     ]
    },
    {
     "name": "stdout",
     "output_type": "stream",
     "text": [
      "pred: 3  true: 5  ❌\n"
     ]
    },
    {
     "name": "stderr",
     "output_type": "stream",
     "text": [
      "propagate in video:  58%|█████▊    | 1044/1786 [00:57<00:40, 18.15it/s]"
     ]
    },
    {
     "name": "stdout",
     "output_type": "stream",
     "text": [
      "pred: 4  true: 5  ❌\n",
      "pred: 4  true: 5  ❌\n",
      "pred: 3  true: 5  ❌\n"
     ]
    },
    {
     "name": "stderr",
     "output_type": "stream",
     "text": [
      "propagate in video:  59%|█████▊    | 1046/1786 [00:57<00:40, 18.08it/s]"
     ]
    },
    {
     "name": "stdout",
     "output_type": "stream",
     "text": [
      "pred: 4  true: 5  ❌\n"
     ]
    },
    {
     "name": "stderr",
     "output_type": "stream",
     "text": [
      "propagate in video:  59%|█████▊    | 1048/1786 [00:57<00:40, 18.09it/s]"
     ]
    },
    {
     "name": "stdout",
     "output_type": "stream",
     "text": [
      "pred: 4  true: 5  ❌\n",
      "pred: 4  true: 5  ❌\n",
      "pred: 4  true: 5  ❌\n"
     ]
    },
    {
     "name": "stderr",
     "output_type": "stream",
     "text": [
      "propagate in video:  59%|█████▉    | 1050/1786 [00:57<00:40, 18.10it/s]"
     ]
    },
    {
     "name": "stdout",
     "output_type": "stream",
     "text": [
      "pred: 5  true: 5  ✅\n"
     ]
    },
    {
     "name": "stderr",
     "output_type": "stream",
     "text": [
      "propagate in video:  59%|█████▉    | 1052/1786 [00:57<00:40, 18.11it/s]"
     ]
    },
    {
     "name": "stdout",
     "output_type": "stream",
     "text": [
      "pred: 4  true: 5  ❌\n",
      "pred: 5  true: 5  ✅\n",
      "pred: 3  true: 5  ❌\n"
     ]
    },
    {
     "name": "stderr",
     "output_type": "stream",
     "text": [
      "propagate in video:  59%|█████▉    | 1054/1786 [00:57<00:40, 18.13it/s]"
     ]
    },
    {
     "name": "stdout",
     "output_type": "stream",
     "text": [
      "pred: 4  true: 5  ❌\n"
     ]
    },
    {
     "name": "stderr",
     "output_type": "stream",
     "text": [
      "propagate in video:  59%|█████▉    | 1056/1786 [00:58<00:40, 18.13it/s]"
     ]
    },
    {
     "name": "stdout",
     "output_type": "stream",
     "text": [
      "pred: 4  true: 5  ❌\n",
      "pred: 4  true: 5  ❌\n",
      "pred: 5  true: 5  ✅\n"
     ]
    },
    {
     "name": "stderr",
     "output_type": "stream",
     "text": [
      "propagate in video:  59%|█████▉    | 1058/1786 [00:58<00:40, 18.14it/s]"
     ]
    },
    {
     "name": "stdout",
     "output_type": "stream",
     "text": [
      "pred: 3  true: 5  ❌\n"
     ]
    },
    {
     "name": "stderr",
     "output_type": "stream",
     "text": [
      "propagate in video:  59%|█████▉    | 1060/1786 [00:58<00:40, 18.12it/s]"
     ]
    },
    {
     "name": "stdout",
     "output_type": "stream",
     "text": [
      "pred: 3  true: 5  ❌\n",
      "pred: 4  true: 5  ❌\n",
      "pred: 4  true: 5  ❌\n"
     ]
    },
    {
     "name": "stderr",
     "output_type": "stream",
     "text": [
      "propagate in video:  59%|█████▉    | 1062/1786 [00:58<00:39, 18.14it/s]"
     ]
    },
    {
     "name": "stdout",
     "output_type": "stream",
     "text": [
      "pred: 4  true: 5  ❌\n"
     ]
    },
    {
     "name": "stderr",
     "output_type": "stream",
     "text": [
      "propagate in video:  60%|█████▉    | 1064/1786 [00:58<00:39, 18.14it/s]"
     ]
    },
    {
     "name": "stdout",
     "output_type": "stream",
     "text": [
      "pred: 5  true: 5  ✅\n",
      "pred: 5  true: 5  ✅\n",
      "pred: 4  true: 5  ❌\n"
     ]
    },
    {
     "name": "stderr",
     "output_type": "stream",
     "text": [
      "propagate in video:  60%|█████▉    | 1066/1786 [00:58<00:39, 18.15it/s]"
     ]
    },
    {
     "name": "stdout",
     "output_type": "stream",
     "text": [
      "pred: 3  true: 5  ❌\n"
     ]
    },
    {
     "name": "stderr",
     "output_type": "stream",
     "text": [
      "propagate in video:  60%|█████▉    | 1068/1786 [00:58<00:39, 18.15it/s]"
     ]
    },
    {
     "name": "stdout",
     "output_type": "stream",
     "text": [
      "pred: 4  true: 5  ❌\n",
      "pred: 4  true: 5  ❌\n",
      "pred: 4  true: 5  ❌\n"
     ]
    },
    {
     "name": "stderr",
     "output_type": "stream",
     "text": [
      "propagate in video:  60%|█████▉    | 1070/1786 [00:58<00:39, 18.15it/s]"
     ]
    },
    {
     "name": "stdout",
     "output_type": "stream",
     "text": [
      "pred: 4  true: 5  ❌\n"
     ]
    },
    {
     "name": "stderr",
     "output_type": "stream",
     "text": [
      "propagate in video:  60%|██████    | 1072/1786 [00:58<00:39, 18.11it/s]"
     ]
    },
    {
     "name": "stdout",
     "output_type": "stream",
     "text": [
      "pred: 4  true: 5  ❌\n",
      "pred: 4  true: 5  ❌\n",
      "pred: 5  true: 5  ✅\n"
     ]
    },
    {
     "name": "stderr",
     "output_type": "stream",
     "text": [
      "propagate in video:  60%|██████    | 1074/1786 [00:59<00:39, 18.13it/s]"
     ]
    },
    {
     "name": "stdout",
     "output_type": "stream",
     "text": [
      "pred: 4  true: 5  ❌\n"
     ]
    },
    {
     "name": "stderr",
     "output_type": "stream",
     "text": [
      "propagate in video:  60%|██████    | 1076/1786 [00:59<00:39, 18.14it/s]"
     ]
    },
    {
     "name": "stdout",
     "output_type": "stream",
     "text": [
      "pred: 5  true: 5  ✅\n",
      "pred: 5  true: 5  ✅\n",
      "pred: 5  true: 5  ✅\n"
     ]
    },
    {
     "name": "stderr",
     "output_type": "stream",
     "text": [
      "propagate in video:  60%|██████    | 1078/1786 [00:59<00:39, 18.15it/s]"
     ]
    },
    {
     "name": "stdout",
     "output_type": "stream",
     "text": [
      "pred: 5  true: 5  ✅\n"
     ]
    },
    {
     "name": "stderr",
     "output_type": "stream",
     "text": [
      "propagate in video:  60%|██████    | 1080/1786 [00:59<00:38, 18.16it/s]"
     ]
    },
    {
     "name": "stdout",
     "output_type": "stream",
     "text": [
      "pred: 5  true: 5  ✅\n",
      "pred: 3  true: 5  ❌\n",
      "pred: 3  true: 5  ❌\n"
     ]
    },
    {
     "name": "stderr",
     "output_type": "stream",
     "text": [
      "propagate in video:  61%|██████    | 1082/1786 [00:59<00:38, 18.16it/s]"
     ]
    },
    {
     "name": "stdout",
     "output_type": "stream",
     "text": [
      "pred: 2  true: 5  ❌\n"
     ]
    },
    {
     "name": "stderr",
     "output_type": "stream",
     "text": [
      "propagate in video:  61%|██████    | 1084/1786 [00:59<00:38, 18.14it/s]"
     ]
    },
    {
     "name": "stdout",
     "output_type": "stream",
     "text": [
      "pred: 2  true: 5  ❌\n",
      "pred: 2  true: 5  ❌\n",
      "pred: 2  true: 5  ❌\n"
     ]
    },
    {
     "name": "stderr",
     "output_type": "stream",
     "text": [
      "propagate in video:  61%|██████    | 1086/1786 [00:59<00:38, 18.13it/s]"
     ]
    },
    {
     "name": "stdout",
     "output_type": "stream",
     "text": [
      "pred: 2  true: 5  ❌\n"
     ]
    },
    {
     "name": "stderr",
     "output_type": "stream",
     "text": [
      "propagate in video:  61%|██████    | 1088/1786 [00:59<00:38, 18.12it/s]"
     ]
    },
    {
     "name": "stdout",
     "output_type": "stream",
     "text": [
      "pred: 2  true: 5  ❌\n",
      "pred: 2  true: 5  ❌\n",
      "pred: 0  true: 5  ❌\n"
     ]
    },
    {
     "name": "stderr",
     "output_type": "stream",
     "text": [
      "propagate in video:  61%|██████    | 1090/1786 [00:59<00:38, 18.12it/s]"
     ]
    },
    {
     "name": "stdout",
     "output_type": "stream",
     "text": [
      "pred: 6  true: 5  ❌\n"
     ]
    },
    {
     "name": "stderr",
     "output_type": "stream",
     "text": [
      "propagate in video:  61%|██████    | 1092/1786 [01:00<00:38, 18.11it/s]"
     ]
    },
    {
     "name": "stdout",
     "output_type": "stream",
     "text": [
      "pred: 6  true: 5  ❌\n",
      "pred: 3  true: 5  ❌\n",
      "pred: 3  true: 5  ❌\n"
     ]
    },
    {
     "name": "stderr",
     "output_type": "stream",
     "text": [
      "propagate in video:  61%|██████▏   | 1094/1786 [01:00<00:38, 18.11it/s]"
     ]
    },
    {
     "name": "stdout",
     "output_type": "stream",
     "text": [
      "pred: 3  true: 5  ❌\n"
     ]
    },
    {
     "name": "stderr",
     "output_type": "stream",
     "text": [
      "propagate in video:  61%|██████▏   | 1096/1786 [01:00<00:38, 18.10it/s]"
     ]
    },
    {
     "name": "stdout",
     "output_type": "stream",
     "text": [
      "pred: 3  true: 5  ❌\n",
      "pred: 3  true: 5  ❌\n",
      "pred: 3  true: 5  ❌\n"
     ]
    },
    {
     "name": "stderr",
     "output_type": "stream",
     "text": [
      "propagate in video:  61%|██████▏   | 1098/1786 [01:00<00:37, 18.11it/s]"
     ]
    },
    {
     "name": "stdout",
     "output_type": "stream",
     "text": [
      "pred: 4  true: 5  ❌\n"
     ]
    },
    {
     "name": "stderr",
     "output_type": "stream",
     "text": [
      "propagate in video:  62%|██████▏   | 1100/1786 [01:00<00:37, 18.11it/s]"
     ]
    },
    {
     "name": "stdout",
     "output_type": "stream",
     "text": [
      "pred: 3  true: 5  ❌\n",
      "pred: 3  true: 5  ❌\n",
      "pred: 3  true: 5  ❌\n"
     ]
    },
    {
     "name": "stderr",
     "output_type": "stream",
     "text": [
      "propagate in video:  62%|██████▏   | 1102/1786 [01:00<00:37, 18.12it/s]"
     ]
    },
    {
     "name": "stdout",
     "output_type": "stream",
     "text": [
      "pred: 3  true: 5  ❌\n"
     ]
    },
    {
     "name": "stderr",
     "output_type": "stream",
     "text": [
      "propagate in video:  62%|██████▏   | 1104/1786 [01:00<00:37, 18.12it/s]"
     ]
    },
    {
     "name": "stdout",
     "output_type": "stream",
     "text": [
      "pred: 3  true: 5  ❌\n",
      "pred: 5  true: 5  ✅\n",
      "pred: 5  true: 5  ✅\n"
     ]
    },
    {
     "name": "stderr",
     "output_type": "stream",
     "text": [
      "propagate in video:  62%|██████▏   | 1106/1786 [01:00<00:37, 18.12it/s]"
     ]
    },
    {
     "name": "stdout",
     "output_type": "stream",
     "text": [
      "pred: 5  true: 5  ✅\n"
     ]
    },
    {
     "name": "stderr",
     "output_type": "stream",
     "text": [
      "propagate in video:  62%|██████▏   | 1108/1786 [01:00<00:37, 18.12it/s]"
     ]
    },
    {
     "name": "stdout",
     "output_type": "stream",
     "text": [
      "pred: 5  true: 5  ✅\n",
      "pred: 3  true: 5  ❌\n",
      "pred: 5  true: 5  ✅\n"
     ]
    },
    {
     "name": "stderr",
     "output_type": "stream",
     "text": [
      "propagate in video:  62%|██████▏   | 1110/1786 [01:01<00:37, 18.11it/s]"
     ]
    },
    {
     "name": "stdout",
     "output_type": "stream",
     "text": [
      "pred: 5  true: 5  ✅\n"
     ]
    },
    {
     "name": "stderr",
     "output_type": "stream",
     "text": [
      "propagate in video:  62%|██████▏   | 1112/1786 [01:01<00:37, 18.10it/s]"
     ]
    },
    {
     "name": "stdout",
     "output_type": "stream",
     "text": [
      "pred: 5  true: 5  ✅\n",
      "pred: 5  true: 5  ✅\n",
      "pred: 4  true: 5  ❌\n"
     ]
    },
    {
     "name": "stderr",
     "output_type": "stream",
     "text": [
      "propagate in video:  62%|██████▏   | 1114/1786 [01:01<00:37, 18.08it/s]"
     ]
    },
    {
     "name": "stdout",
     "output_type": "stream",
     "text": [
      "pred: 4  true: 5  ❌\n"
     ]
    },
    {
     "name": "stderr",
     "output_type": "stream",
     "text": [
      "propagate in video:  62%|██████▏   | 1116/1786 [01:01<00:36, 18.12it/s]"
     ]
    },
    {
     "name": "stdout",
     "output_type": "stream",
     "text": [
      "pred: 3  true: 5  ❌\n",
      "pred: 3  true: 5  ❌\n",
      "pred: 2  true: 5  ❌\n"
     ]
    },
    {
     "name": "stderr",
     "output_type": "stream",
     "text": [
      "propagate in video:  63%|██████▎   | 1118/1786 [01:01<00:36, 18.13it/s]"
     ]
    },
    {
     "name": "stdout",
     "output_type": "stream",
     "text": [
      "pred: 0  true: 5  ❌\n"
     ]
    },
    {
     "name": "stderr",
     "output_type": "stream",
     "text": [
      "propagate in video:  63%|██████▎   | 1120/1786 [01:01<00:36, 18.15it/s]"
     ]
    },
    {
     "name": "stdout",
     "output_type": "stream",
     "text": [
      "pred: 0  true: 5  ❌\n",
      "pred: 0  true: 5  ❌\n",
      "pred: 0  true: 5  ❌\n"
     ]
    },
    {
     "name": "stderr",
     "output_type": "stream",
     "text": [
      "propagate in video:  63%|██████▎   | 1122/1786 [01:01<00:36, 18.15it/s]"
     ]
    },
    {
     "name": "stdout",
     "output_type": "stream",
     "text": [
      "pred: 0  true: 5  ❌\n"
     ]
    },
    {
     "name": "stderr",
     "output_type": "stream",
     "text": [
      "propagate in video:  63%|██████▎   | 1124/1786 [01:01<00:36, 18.14it/s]"
     ]
    },
    {
     "name": "stdout",
     "output_type": "stream",
     "text": [
      "pred: 3  true: 5  ❌\n",
      "pred: 0  true: 5  ❌\n",
      "pred: 0  true: 5  ❌\n"
     ]
    },
    {
     "name": "stderr",
     "output_type": "stream",
     "text": [
      "propagate in video:  63%|██████▎   | 1126/1786 [01:01<00:36, 18.15it/s]"
     ]
    },
    {
     "name": "stdout",
     "output_type": "stream",
     "text": [
      "pred: 0  true: 5  ❌\n"
     ]
    },
    {
     "name": "stderr",
     "output_type": "stream",
     "text": [
      "propagate in video:  63%|██████▎   | 1128/1786 [01:02<00:36, 18.16it/s]"
     ]
    },
    {
     "name": "stdout",
     "output_type": "stream",
     "text": [
      "pred: 0  true: 5  ❌\n",
      "pred: 0  true: 5  ❌\n",
      "pred: 0  true: 5  ❌\n"
     ]
    },
    {
     "name": "stderr",
     "output_type": "stream",
     "text": [
      "propagate in video:  63%|██████▎   | 1130/1786 [01:02<00:36, 18.15it/s]"
     ]
    },
    {
     "name": "stdout",
     "output_type": "stream",
     "text": [
      "pred: 0  true: 5  ❌\n"
     ]
    },
    {
     "name": "stderr",
     "output_type": "stream",
     "text": [
      "propagate in video:  63%|██████▎   | 1132/1786 [01:02<00:36, 18.14it/s]"
     ]
    },
    {
     "name": "stdout",
     "output_type": "stream",
     "text": [
      "pred: 4  true: 5  ❌\n",
      "pred: 3  true: 5  ❌\n",
      "pred: 3  true: 5  ❌\n"
     ]
    },
    {
     "name": "stderr",
     "output_type": "stream",
     "text": [
      "propagate in video:  63%|██████▎   | 1134/1786 [01:02<00:35, 18.12it/s]"
     ]
    },
    {
     "name": "stdout",
     "output_type": "stream",
     "text": [
      "pred: 2  true: 5  ❌\n"
     ]
    },
    {
     "name": "stderr",
     "output_type": "stream",
     "text": [
      "propagate in video:  64%|██████▎   | 1136/1786 [01:02<00:35, 18.11it/s]"
     ]
    },
    {
     "name": "stdout",
     "output_type": "stream",
     "text": [
      "pred: 2  true: 5  ❌\n",
      "pred: 4  true: 5  ❌\n",
      "pred: 2  true: 5  ❌\n"
     ]
    },
    {
     "name": "stderr",
     "output_type": "stream",
     "text": [
      "propagate in video:  64%|██████▎   | 1138/1786 [01:02<00:35, 18.13it/s]"
     ]
    },
    {
     "name": "stdout",
     "output_type": "stream",
     "text": [
      "pred: 2  true: 5  ❌\n"
     ]
    },
    {
     "name": "stderr",
     "output_type": "stream",
     "text": [
      "propagate in video:  64%|██████▍   | 1140/1786 [01:02<00:35, 18.13it/s]"
     ]
    },
    {
     "name": "stdout",
     "output_type": "stream",
     "text": [
      "pred: 5  true: 5  ✅\n",
      "pred: 6  true: 5  ❌\n",
      "pred: 2  true: 5  ❌\n"
     ]
    },
    {
     "name": "stderr",
     "output_type": "stream",
     "text": [
      "propagate in video:  64%|██████▍   | 1142/1786 [01:02<00:35, 18.13it/s]"
     ]
    },
    {
     "name": "stdout",
     "output_type": "stream",
     "text": [
      "pred: 2  true: 5  ❌\n"
     ]
    },
    {
     "name": "stderr",
     "output_type": "stream",
     "text": [
      "propagate in video:  64%|██████▍   | 1144/1786 [01:02<00:35, 18.12it/s]"
     ]
    },
    {
     "name": "stdout",
     "output_type": "stream",
     "text": [
      "pred: 2  true: 5  ❌\n",
      "pred: 3  true: 5  ❌\n",
      "pred: 3  true: 5  ❌\n"
     ]
    },
    {
     "name": "stderr",
     "output_type": "stream",
     "text": [
      "propagate in video:  64%|██████▍   | 1146/1786 [01:03<00:35, 18.10it/s]"
     ]
    },
    {
     "name": "stdout",
     "output_type": "stream",
     "text": [
      "pred: 2  true: 5  ❌\n"
     ]
    },
    {
     "name": "stderr",
     "output_type": "stream",
     "text": [
      "propagate in video:  64%|██████▍   | 1148/1786 [01:03<00:35, 18.08it/s]"
     ]
    },
    {
     "name": "stdout",
     "output_type": "stream",
     "text": [
      "pred: 2  true: 5  ❌\n",
      "pred: 2  true: 5  ❌\n",
      "pred: 6  true: 5  ❌\n"
     ]
    },
    {
     "name": "stderr",
     "output_type": "stream",
     "text": [
      "propagate in video:  64%|██████▍   | 1150/1786 [01:03<00:35, 18.10it/s]"
     ]
    },
    {
     "name": "stdout",
     "output_type": "stream",
     "text": [
      "pred: 2  true: 5  ❌\n"
     ]
    },
    {
     "name": "stderr",
     "output_type": "stream",
     "text": [
      "propagate in video:  65%|██████▍   | 1152/1786 [01:03<00:34, 18.12it/s]"
     ]
    },
    {
     "name": "stdout",
     "output_type": "stream",
     "text": [
      "pred: 2  true: 5  ❌\n",
      "pred: 0  true: 5  ❌\n",
      "pred: 0  true: 5  ❌\n"
     ]
    },
    {
     "name": "stderr",
     "output_type": "stream",
     "text": [
      "propagate in video:  65%|██████▍   | 1154/1786 [01:03<00:34, 18.12it/s]"
     ]
    },
    {
     "name": "stdout",
     "output_type": "stream",
     "text": [
      "pred: 0  true: 5  ❌\n"
     ]
    },
    {
     "name": "stderr",
     "output_type": "stream",
     "text": [
      "propagate in video:  65%|██████▍   | 1156/1786 [01:03<00:34, 18.10it/s]"
     ]
    },
    {
     "name": "stdout",
     "output_type": "stream",
     "text": [
      "pred: 0  true: 5  ❌\n",
      "pred: 2  true: 5  ❌\n",
      "pred: 0  true: 5  ❌\n"
     ]
    },
    {
     "name": "stderr",
     "output_type": "stream",
     "text": [
      "propagate in video:  65%|██████▍   | 1158/1786 [01:03<00:34, 18.11it/s]"
     ]
    },
    {
     "name": "stdout",
     "output_type": "stream",
     "text": [
      "pred: 2  true: 5  ❌\n"
     ]
    },
    {
     "name": "stderr",
     "output_type": "stream",
     "text": [
      "propagate in video:  65%|██████▍   | 1160/1786 [01:03<00:34, 18.12it/s]"
     ]
    },
    {
     "name": "stdout",
     "output_type": "stream",
     "text": [
      "pred: 0  true: 5  ❌\n",
      "pred: 2  true: 5  ❌\n",
      "pred: 0  true: 5  ❌\n"
     ]
    },
    {
     "name": "stderr",
     "output_type": "stream",
     "text": [
      "propagate in video:  65%|██████▌   | 1162/1786 [01:03<00:34, 18.11it/s]"
     ]
    },
    {
     "name": "stdout",
     "output_type": "stream",
     "text": [
      "pred: 0  true: 5  ❌\n"
     ]
    },
    {
     "name": "stderr",
     "output_type": "stream",
     "text": [
      "propagate in video:  65%|██████▌   | 1164/1786 [01:04<00:34, 18.11it/s]"
     ]
    },
    {
     "name": "stdout",
     "output_type": "stream",
     "text": [
      "pred: 2  true: 5  ❌\n",
      "pred: 2  true: 5  ❌\n",
      "pred: 2  true: 5  ❌\n"
     ]
    },
    {
     "name": "stderr",
     "output_type": "stream",
     "text": [
      "propagate in video:  65%|██████▌   | 1166/1786 [01:04<00:34, 18.09it/s]"
     ]
    },
    {
     "name": "stdout",
     "output_type": "stream",
     "text": [
      "pred: 2  true: 5  ❌\n"
     ]
    },
    {
     "name": "stderr",
     "output_type": "stream",
     "text": [
      "propagate in video:  65%|██████▌   | 1168/1786 [01:04<00:34, 18.07it/s]"
     ]
    },
    {
     "name": "stdout",
     "output_type": "stream",
     "text": [
      "pred: 2  true: 5  ❌\n",
      "pred: 2  true: 5  ❌\n",
      "pred: 2  true: 5  ❌\n"
     ]
    },
    {
     "name": "stderr",
     "output_type": "stream",
     "text": [
      "propagate in video:  66%|██████▌   | 1170/1786 [01:04<00:34, 18.07it/s]"
     ]
    },
    {
     "name": "stdout",
     "output_type": "stream",
     "text": [
      "pred: 2  true: 5  ❌\n"
     ]
    },
    {
     "name": "stderr",
     "output_type": "stream",
     "text": [
      "propagate in video:  66%|██████▌   | 1172/1786 [01:04<00:33, 18.06it/s]"
     ]
    },
    {
     "name": "stdout",
     "output_type": "stream",
     "text": [
      "pred: 2  true: 5  ❌\n",
      "pred: 0  true: 5  ❌\n",
      "pred: 2  true: 5  ❌\n"
     ]
    },
    {
     "name": "stderr",
     "output_type": "stream",
     "text": [
      "propagate in video:  66%|██████▌   | 1174/1786 [01:04<00:33, 18.06it/s]"
     ]
    },
    {
     "name": "stdout",
     "output_type": "stream",
     "text": [
      "pred: 2  true: 5  ❌\n"
     ]
    },
    {
     "name": "stderr",
     "output_type": "stream",
     "text": [
      "propagate in video:  66%|██████▌   | 1176/1786 [01:04<00:33, 18.06it/s]"
     ]
    },
    {
     "name": "stdout",
     "output_type": "stream",
     "text": [
      "pred: 2  true: 5  ❌\n",
      "pred: 5  true: 5  ✅\n",
      "pred: 5  true: 5  ✅\n"
     ]
    },
    {
     "name": "stderr",
     "output_type": "stream",
     "text": [
      "propagate in video:  66%|██████▌   | 1178/1786 [01:04<00:33, 18.06it/s]"
     ]
    },
    {
     "name": "stdout",
     "output_type": "stream",
     "text": [
      "pred: 2  true: 5  ❌\n"
     ]
    },
    {
     "name": "stderr",
     "output_type": "stream",
     "text": [
      "propagate in video:  66%|██████▌   | 1180/1786 [01:04<00:33, 18.05it/s]"
     ]
    },
    {
     "name": "stdout",
     "output_type": "stream",
     "text": [
      "pred: 2  true: 5  ❌\n",
      "pred: 5  true: 5  ✅\n",
      "pred: 5  true: 5  ✅\n"
     ]
    },
    {
     "name": "stderr",
     "output_type": "stream",
     "text": [
      "propagate in video:  66%|██████▌   | 1182/1786 [01:05<00:33, 18.04it/s]"
     ]
    },
    {
     "name": "stdout",
     "output_type": "stream",
     "text": [
      "pred: 2  true: 5  ❌\n"
     ]
    },
    {
     "name": "stderr",
     "output_type": "stream",
     "text": [
      "propagate in video:  66%|██████▋   | 1184/1786 [01:05<00:33, 18.04it/s]"
     ]
    },
    {
     "name": "stdout",
     "output_type": "stream",
     "text": [
      "pred: 2  true: 5  ❌\n",
      "pred: 2  true: 5  ❌\n",
      "pred: 2  true: 5  ❌\n"
     ]
    },
    {
     "name": "stderr",
     "output_type": "stream",
     "text": [
      "propagate in video:  66%|██████▋   | 1186/1786 [01:05<00:33, 18.04it/s]"
     ]
    },
    {
     "name": "stdout",
     "output_type": "stream",
     "text": [
      "pred: 2  true: 5  ❌\n"
     ]
    },
    {
     "name": "stderr",
     "output_type": "stream",
     "text": [
      "propagate in video:  67%|██████▋   | 1188/1786 [01:05<00:33, 18.04it/s]"
     ]
    },
    {
     "name": "stdout",
     "output_type": "stream",
     "text": [
      "pred: 2  true: 5  ❌\n",
      "pred: 2  true: 5  ❌\n",
      "pred: 2  true: 5  ❌\n"
     ]
    },
    {
     "name": "stderr",
     "output_type": "stream",
     "text": [
      "propagate in video:  67%|██████▋   | 1190/1786 [01:05<00:33, 18.04it/s]"
     ]
    },
    {
     "name": "stdout",
     "output_type": "stream",
     "text": [
      "pred: 2  true: 5  ❌\n"
     ]
    },
    {
     "name": "stderr",
     "output_type": "stream",
     "text": [
      "propagate in video:  67%|██████▋   | 1192/1786 [01:05<00:32, 18.04it/s]"
     ]
    },
    {
     "name": "stdout",
     "output_type": "stream",
     "text": [
      "pred: 2  true: 5  ❌\n",
      "pred: 2  true: 5  ❌\n",
      "pred: 2  true: 5  ❌\n"
     ]
    },
    {
     "name": "stderr",
     "output_type": "stream",
     "text": [
      "propagate in video:  67%|██████▋   | 1194/1786 [01:05<00:32, 18.03it/s]"
     ]
    },
    {
     "name": "stdout",
     "output_type": "stream",
     "text": [
      "pred: 2  true: 5  ❌\n"
     ]
    },
    {
     "name": "stderr",
     "output_type": "stream",
     "text": [
      "propagate in video:  67%|██████▋   | 1196/1786 [01:05<00:32, 18.03it/s]"
     ]
    },
    {
     "name": "stdout",
     "output_type": "stream",
     "text": [
      "pred: 2  true: 5  ❌\n",
      "pred: 2  true: 5  ❌\n",
      "pred: 3  true: 5  ❌\n"
     ]
    },
    {
     "name": "stderr",
     "output_type": "stream",
     "text": [
      "propagate in video:  67%|██████▋   | 1198/1786 [01:05<00:32, 18.05it/s]"
     ]
    },
    {
     "name": "stdout",
     "output_type": "stream",
     "text": [
      "pred: 3  true: 5  ❌\n"
     ]
    },
    {
     "name": "stderr",
     "output_type": "stream",
     "text": [
      "propagate in video:  67%|██████▋   | 1200/1786 [01:06<00:32, 18.05it/s]"
     ]
    },
    {
     "name": "stdout",
     "output_type": "stream",
     "text": [
      "pred: 3  true: 5  ❌\n",
      "pred: 2  true: 5  ❌\n",
      "pred: 2  true: 5  ❌\n"
     ]
    },
    {
     "name": "stderr",
     "output_type": "stream",
     "text": [
      "propagate in video:  67%|██████▋   | 1202/1786 [01:06<00:32, 18.04it/s]"
     ]
    },
    {
     "name": "stdout",
     "output_type": "stream",
     "text": [
      "pred: 4  true: 5  ❌\n"
     ]
    },
    {
     "name": "stderr",
     "output_type": "stream",
     "text": [
      "propagate in video:  67%|██████▋   | 1204/1786 [01:06<00:32, 18.04it/s]"
     ]
    },
    {
     "name": "stdout",
     "output_type": "stream",
     "text": [
      "pred: 1  true: 5  ❌\n",
      "pred: 4  true: 5  ❌\n",
      "pred: 4  true: 5  ❌\n"
     ]
    },
    {
     "name": "stderr",
     "output_type": "stream",
     "text": [
      "propagate in video:  68%|██████▊   | 1206/1786 [01:06<00:32, 18.04it/s]"
     ]
    },
    {
     "name": "stdout",
     "output_type": "stream",
     "text": [
      "pred: 3  true: 5  ❌\n"
     ]
    },
    {
     "name": "stderr",
     "output_type": "stream",
     "text": [
      "propagate in video:  68%|██████▊   | 1208/1786 [01:06<00:32, 18.05it/s]"
     ]
    },
    {
     "name": "stdout",
     "output_type": "stream",
     "text": [
      "pred: 3  true: 5  ❌\n",
      "pred: 5  true: 5  ✅\n",
      "pred: 5  true: 5  ✅\n"
     ]
    },
    {
     "name": "stderr",
     "output_type": "stream",
     "text": [
      "propagate in video:  68%|██████▊   | 1210/1786 [01:06<00:31, 18.03it/s]"
     ]
    },
    {
     "name": "stdout",
     "output_type": "stream",
     "text": [
      "pred: 3  true: 5  ❌\n"
     ]
    },
    {
     "name": "stderr",
     "output_type": "stream",
     "text": [
      "propagate in video:  68%|██████▊   | 1212/1786 [01:06<00:31, 18.06it/s]"
     ]
    },
    {
     "name": "stdout",
     "output_type": "stream",
     "text": [
      "pred: 5  true: 5  ✅\n",
      "pred: 5  true: 5  ✅\n",
      "pred: 5  true: 5  ✅\n"
     ]
    },
    {
     "name": "stderr",
     "output_type": "stream",
     "text": [
      "propagate in video:  68%|██████▊   | 1214/1786 [01:06<00:31, 18.05it/s]"
     ]
    },
    {
     "name": "stdout",
     "output_type": "stream",
     "text": [
      "pred: 5  true: 5  ✅\n"
     ]
    },
    {
     "name": "stderr",
     "output_type": "stream",
     "text": [
      "propagate in video:  68%|██████▊   | 1216/1786 [01:06<00:31, 18.04it/s]"
     ]
    },
    {
     "name": "stdout",
     "output_type": "stream",
     "text": [
      "pred: 5  true: 5  ✅\n",
      "pred: 5  true: 5  ✅\n",
      "pred: 5  true: 5  ✅\n"
     ]
    },
    {
     "name": "stderr",
     "output_type": "stream",
     "text": [
      "propagate in video:  68%|██████▊   | 1218/1786 [01:07<00:31, 18.04it/s]"
     ]
    },
    {
     "name": "stdout",
     "output_type": "stream",
     "text": [
      "pred: 5  true: 5  ✅\n"
     ]
    },
    {
     "name": "stderr",
     "output_type": "stream",
     "text": [
      "propagate in video:  68%|██████▊   | 1220/1786 [01:07<00:31, 18.04it/s]"
     ]
    },
    {
     "name": "stdout",
     "output_type": "stream",
     "text": [
      "pred: 5  true: 5  ✅\n",
      "pred: 5  true: 5  ✅\n",
      "pred: 5  true: 5  ✅\n"
     ]
    },
    {
     "name": "stderr",
     "output_type": "stream",
     "text": [
      "propagate in video:  68%|██████▊   | 1222/1786 [01:07<00:31, 18.04it/s]"
     ]
    },
    {
     "name": "stdout",
     "output_type": "stream",
     "text": [
      "pred: 5  true: 5  ✅\n"
     ]
    },
    {
     "name": "stderr",
     "output_type": "stream",
     "text": [
      "propagate in video:  69%|██████▊   | 1224/1786 [01:07<00:31, 18.03it/s]"
     ]
    },
    {
     "name": "stdout",
     "output_type": "stream",
     "text": [
      "pred: 5  true: 5  ✅\n",
      "pred: 5  true: 5  ✅\n",
      "pred: 5  true: 5  ✅\n"
     ]
    },
    {
     "name": "stderr",
     "output_type": "stream",
     "text": [
      "propagate in video:  69%|██████▊   | 1226/1786 [01:07<00:31, 18.03it/s]"
     ]
    },
    {
     "name": "stdout",
     "output_type": "stream",
     "text": [
      "pred: 5  true: 5  ✅\n"
     ]
    },
    {
     "name": "stderr",
     "output_type": "stream",
     "text": [
      "propagate in video:  69%|██████▉   | 1228/1786 [01:07<00:30, 18.03it/s]"
     ]
    },
    {
     "name": "stdout",
     "output_type": "stream",
     "text": [
      "pred: 5  true: 5  ✅\n",
      "pred: 5  true: 5  ✅\n",
      "pred: 5  true: 5  ✅\n"
     ]
    },
    {
     "name": "stderr",
     "output_type": "stream",
     "text": [
      "propagate in video:  69%|██████▉   | 1230/1786 [01:07<00:30, 18.02it/s]"
     ]
    },
    {
     "name": "stdout",
     "output_type": "stream",
     "text": [
      "pred: 5  true: 5  ✅\n"
     ]
    },
    {
     "name": "stderr",
     "output_type": "stream",
     "text": [
      "propagate in video:  69%|██████▉   | 1232/1786 [01:07<00:30, 18.02it/s]"
     ]
    },
    {
     "name": "stdout",
     "output_type": "stream",
     "text": [
      "pred: 5  true: 5  ✅\n",
      "pred: 5  true: 5  ✅\n",
      "pred: 5  true: 5  ✅\n"
     ]
    },
    {
     "name": "stderr",
     "output_type": "stream",
     "text": [
      "propagate in video:  69%|██████▉   | 1234/1786 [01:07<00:30, 18.04it/s]"
     ]
    },
    {
     "name": "stdout",
     "output_type": "stream",
     "text": [
      "pred: 5  true: 5  ✅\n"
     ]
    },
    {
     "name": "stderr",
     "output_type": "stream",
     "text": [
      "propagate in video:  69%|██████▉   | 1236/1786 [01:08<00:30, 18.05it/s]"
     ]
    },
    {
     "name": "stdout",
     "output_type": "stream",
     "text": [
      "pred: 5  true: 5  ✅\n",
      "pred: 3  true: 5  ❌\n",
      "pred: 2  true: 5  ❌\n"
     ]
    },
    {
     "name": "stderr",
     "output_type": "stream",
     "text": [
      "propagate in video:  69%|██████▉   | 1238/1786 [01:08<00:30, 18.06it/s]"
     ]
    },
    {
     "name": "stdout",
     "output_type": "stream",
     "text": [
      "pred: 5  true: 5  ✅\n"
     ]
    },
    {
     "name": "stderr",
     "output_type": "stream",
     "text": [
      "propagate in video:  69%|██████▉   | 1240/1786 [01:08<00:30, 18.06it/s]"
     ]
    },
    {
     "name": "stdout",
     "output_type": "stream",
     "text": [
      "pred: 5  true: 5  ✅\n",
      "pred: 5  true: 5  ✅\n",
      "pred: 5  true: 5  ✅\n"
     ]
    },
    {
     "name": "stderr",
     "output_type": "stream",
     "text": [
      "propagate in video:  70%|██████▉   | 1242/1786 [01:08<00:30, 18.05it/s]"
     ]
    },
    {
     "name": "stdout",
     "output_type": "stream",
     "text": [
      "pred: 5  true: 5  ✅\n"
     ]
    },
    {
     "name": "stderr",
     "output_type": "stream",
     "text": [
      "propagate in video:  70%|██████▉   | 1244/1786 [01:08<00:30, 18.02it/s]"
     ]
    },
    {
     "name": "stdout",
     "output_type": "stream",
     "text": [
      "pred: 5  true: 5  ✅\n",
      "pred: 5  true: 5  ✅\n",
      "pred: 2  true: 5  ❌\n"
     ]
    },
    {
     "name": "stderr",
     "output_type": "stream",
     "text": [
      "propagate in video:  70%|██████▉   | 1246/1786 [01:08<00:29, 18.01it/s]"
     ]
    },
    {
     "name": "stdout",
     "output_type": "stream",
     "text": [
      "pred: 5  true: 5  ✅\n"
     ]
    },
    {
     "name": "stderr",
     "output_type": "stream",
     "text": [
      "propagate in video:  70%|██████▉   | 1248/1786 [01:08<00:29, 17.99it/s]"
     ]
    },
    {
     "name": "stdout",
     "output_type": "stream",
     "text": [
      "pred: 5  true: 5  ✅\n",
      "pred: 5  true: 5  ✅\n",
      "pred: 5  true: 5  ✅\n"
     ]
    },
    {
     "name": "stderr",
     "output_type": "stream",
     "text": [
      "propagate in video:  70%|██████▉   | 1250/1786 [01:08<00:29, 18.00it/s]"
     ]
    },
    {
     "name": "stdout",
     "output_type": "stream",
     "text": [
      "pred: 5  true: 5  ✅\n"
     ]
    },
    {
     "name": "stderr",
     "output_type": "stream",
     "text": [
      "propagate in video:  70%|███████   | 1252/1786 [01:08<00:29, 18.01it/s]"
     ]
    },
    {
     "name": "stdout",
     "output_type": "stream",
     "text": [
      "pred: 2  true: 5  ❌\n",
      "pred: 5  true: 5  ✅\n",
      "pred: 5  true: 5  ✅\n"
     ]
    },
    {
     "name": "stderr",
     "output_type": "stream",
     "text": [
      "propagate in video:  70%|███████   | 1254/1786 [01:09<00:29, 18.01it/s]"
     ]
    },
    {
     "name": "stdout",
     "output_type": "stream",
     "text": [
      "pred: 5  true: 5  ✅\n"
     ]
    },
    {
     "name": "stderr",
     "output_type": "stream",
     "text": [
      "propagate in video:  70%|███████   | 1256/1786 [01:09<00:29, 18.02it/s]"
     ]
    },
    {
     "name": "stdout",
     "output_type": "stream",
     "text": [
      "pred: 5  true: 5  ✅\n",
      "pred: 5  true: 5  ✅\n",
      "pred: 5  true: 5  ✅\n"
     ]
    },
    {
     "name": "stderr",
     "output_type": "stream",
     "text": [
      "propagate in video:  70%|███████   | 1258/1786 [01:09<00:29, 18.05it/s]"
     ]
    },
    {
     "name": "stdout",
     "output_type": "stream",
     "text": [
      "pred: 5  true: 5  ✅\n"
     ]
    },
    {
     "name": "stderr",
     "output_type": "stream",
     "text": [
      "propagate in video:  71%|███████   | 1260/1786 [01:09<00:29, 18.08it/s]"
     ]
    },
    {
     "name": "stdout",
     "output_type": "stream",
     "text": [
      "pred: 5  true: 5  ✅\n",
      "pred: 2  true: 5  ❌\n",
      "pred: 2  true: 5  ❌\n"
     ]
    },
    {
     "name": "stderr",
     "output_type": "stream",
     "text": [
      "propagate in video:  71%|███████   | 1262/1786 [01:09<00:28, 18.09it/s]"
     ]
    },
    {
     "name": "stdout",
     "output_type": "stream",
     "text": [
      "pred: 2  true: 5  ❌\n"
     ]
    },
    {
     "name": "stderr",
     "output_type": "stream",
     "text": [
      "propagate in video:  71%|███████   | 1264/1786 [01:09<00:28, 18.11it/s]"
     ]
    },
    {
     "name": "stdout",
     "output_type": "stream",
     "text": [
      "pred: 2  true: 5  ❌\n",
      "pred: 1  true: 5  ❌\n",
      "pred: 2  true: 5  ❌\n"
     ]
    },
    {
     "name": "stderr",
     "output_type": "stream",
     "text": [
      "propagate in video:  71%|███████   | 1266/1786 [01:09<00:28, 18.11it/s]"
     ]
    },
    {
     "name": "stdout",
     "output_type": "stream",
     "text": [
      "pred: 2  true: 5  ❌\n"
     ]
    },
    {
     "name": "stderr",
     "output_type": "stream",
     "text": [
      "propagate in video:  71%|███████   | 1268/1786 [01:09<00:28, 18.11it/s]"
     ]
    },
    {
     "name": "stdout",
     "output_type": "stream",
     "text": [
      "pred: 2  true: 5  ❌\n",
      "pred: 2  true: 5  ❌\n",
      "pred: 2  true: 5  ❌\n"
     ]
    },
    {
     "name": "stderr",
     "output_type": "stream",
     "text": [
      "propagate in video:  71%|███████   | 1270/1786 [01:09<00:28, 18.11it/s]"
     ]
    },
    {
     "name": "stdout",
     "output_type": "stream",
     "text": [
      "pred: 2  true: 5  ❌\n"
     ]
    },
    {
     "name": "stderr",
     "output_type": "stream",
     "text": [
      "propagate in video:  71%|███████   | 1272/1786 [01:10<00:28, 18.11it/s]"
     ]
    },
    {
     "name": "stdout",
     "output_type": "stream",
     "text": [
      "pred: 2  true: 5  ❌\n",
      "pred: 2  true: 5  ❌\n",
      "pred: 2  true: 5  ❌\n"
     ]
    },
    {
     "name": "stderr",
     "output_type": "stream",
     "text": [
      "propagate in video:  71%|███████▏  | 1274/1786 [01:10<00:28, 18.10it/s]"
     ]
    },
    {
     "name": "stdout",
     "output_type": "stream",
     "text": [
      "pred: 2  true: 5  ❌\n"
     ]
    },
    {
     "name": "stderr",
     "output_type": "stream",
     "text": [
      "propagate in video:  71%|███████▏  | 1276/1786 [01:10<00:28, 18.11it/s]"
     ]
    },
    {
     "name": "stdout",
     "output_type": "stream",
     "text": [
      "pred: 2  true: 5  ❌\n",
      "pred: 0  true: 5  ❌\n",
      "pred: 2  true: 5  ❌\n"
     ]
    },
    {
     "name": "stderr",
     "output_type": "stream",
     "text": [
      "propagate in video:  72%|███████▏  | 1278/1786 [01:10<00:28, 18.11it/s]"
     ]
    },
    {
     "name": "stdout",
     "output_type": "stream",
     "text": [
      "pred: 2  true: 5  ❌\n"
     ]
    },
    {
     "name": "stderr",
     "output_type": "stream",
     "text": [
      "propagate in video:  72%|███████▏  | 1280/1786 [01:10<00:27, 18.11it/s]"
     ]
    },
    {
     "name": "stdout",
     "output_type": "stream",
     "text": [
      "pred: 2  true: 5  ❌\n",
      "pred: 6  true: 5  ❌\n",
      "pred: 6  true: 5  ❌\n"
     ]
    },
    {
     "name": "stderr",
     "output_type": "stream",
     "text": [
      "propagate in video:  72%|███████▏  | 1282/1786 [01:10<00:27, 18.12it/s]"
     ]
    },
    {
     "name": "stdout",
     "output_type": "stream",
     "text": [
      "pred: 6  true: 5  ❌\n"
     ]
    },
    {
     "name": "stderr",
     "output_type": "stream",
     "text": [
      "propagate in video:  72%|███████▏  | 1284/1786 [01:10<00:27, 18.13it/s]"
     ]
    },
    {
     "name": "stdout",
     "output_type": "stream",
     "text": [
      "pred: 6  true: 5  ❌\n",
      "pred: 6  true: 5  ❌\n",
      "pred: 6  true: 5  ❌\n"
     ]
    },
    {
     "name": "stderr",
     "output_type": "stream",
     "text": [
      "propagate in video:  72%|███████▏  | 1286/1786 [01:10<00:27, 18.14it/s]"
     ]
    },
    {
     "name": "stdout",
     "output_type": "stream",
     "text": [
      "pred: 6  true: 5  ❌\n"
     ]
    },
    {
     "name": "stderr",
     "output_type": "stream",
     "text": [
      "propagate in video:  72%|███████▏  | 1288/1786 [01:10<00:27, 18.14it/s]"
     ]
    },
    {
     "name": "stdout",
     "output_type": "stream",
     "text": [
      "pred: 6  true: 5  ❌\n",
      "pred: 6  true: 5  ❌\n",
      "pred: 6  true: 5  ❌\n"
     ]
    },
    {
     "name": "stderr",
     "output_type": "stream",
     "text": [
      "propagate in video:  72%|███████▏  | 1290/1786 [01:11<00:27, 18.13it/s]"
     ]
    },
    {
     "name": "stdout",
     "output_type": "stream",
     "text": [
      "pred: 6  true: 5  ❌\n"
     ]
    },
    {
     "name": "stderr",
     "output_type": "stream",
     "text": [
      "propagate in video:  72%|███████▏  | 1292/1786 [01:11<00:27, 18.13it/s]"
     ]
    },
    {
     "name": "stdout",
     "output_type": "stream",
     "text": [
      "pred: 6  true: 5  ❌\n",
      "pred: 6  true: 5  ❌\n",
      "pred: 6  true: 5  ❌\n"
     ]
    },
    {
     "name": "stderr",
     "output_type": "stream",
     "text": [
      "propagate in video:  72%|███████▏  | 1294/1786 [01:11<00:27, 18.13it/s]"
     ]
    },
    {
     "name": "stdout",
     "output_type": "stream",
     "text": [
      "pred: 6  true: 5  ❌\n"
     ]
    },
    {
     "name": "stderr",
     "output_type": "stream",
     "text": [
      "propagate in video:  73%|███████▎  | 1296/1786 [01:11<00:27, 18.12it/s]"
     ]
    },
    {
     "name": "stdout",
     "output_type": "stream",
     "text": [
      "pred: 6  true: 5  ❌\n",
      "pred: 6  true: 5  ❌\n",
      "pred: 6  true: 5  ❌\n"
     ]
    },
    {
     "name": "stderr",
     "output_type": "stream",
     "text": [
      "propagate in video:  73%|███████▎  | 1298/1786 [01:11<00:26, 18.13it/s]"
     ]
    },
    {
     "name": "stdout",
     "output_type": "stream",
     "text": [
      "pred: 6  true: 5  ❌\n"
     ]
    },
    {
     "name": "stderr",
     "output_type": "stream",
     "text": [
      "propagate in video:  73%|███████▎  | 1300/1786 [01:11<00:26, 18.13it/s]"
     ]
    },
    {
     "name": "stdout",
     "output_type": "stream",
     "text": [
      "pred: 6  true: 5  ❌\n",
      "pred: 6  true: 5  ❌\n",
      "pred: 6  true: 5  ❌\n"
     ]
    },
    {
     "name": "stderr",
     "output_type": "stream",
     "text": [
      "propagate in video:  73%|███████▎  | 1302/1786 [01:11<00:26, 18.14it/s]"
     ]
    },
    {
     "name": "stdout",
     "output_type": "stream",
     "text": [
      "pred: 6  true: 6  ✅\n"
     ]
    },
    {
     "name": "stderr",
     "output_type": "stream",
     "text": [
      "propagate in video:  73%|███████▎  | 1304/1786 [01:11<00:26, 18.14it/s]"
     ]
    },
    {
     "name": "stdout",
     "output_type": "stream",
     "text": [
      "pred: 6  true: 6  ✅\n",
      "pred: 6  true: 6  ✅\n",
      "pred: 6  true: 6  ✅\n"
     ]
    },
    {
     "name": "stderr",
     "output_type": "stream",
     "text": [
      "propagate in video:  73%|███████▎  | 1306/1786 [01:11<00:26, 18.12it/s]"
     ]
    },
    {
     "name": "stdout",
     "output_type": "stream",
     "text": [
      "pred: 6  true: 6  ✅\n"
     ]
    },
    {
     "name": "stderr",
     "output_type": "stream",
     "text": [
      "propagate in video:  73%|███████▎  | 1308/1786 [01:12<00:26, 18.10it/s]"
     ]
    },
    {
     "name": "stdout",
     "output_type": "stream",
     "text": [
      "pred: 6  true: 6  ✅\n",
      "pred: 6  true: 6  ✅\n",
      "pred: 6  true: 6  ✅\n"
     ]
    },
    {
     "name": "stderr",
     "output_type": "stream",
     "text": [
      "propagate in video:  73%|███████▎  | 1310/1786 [01:12<00:26, 18.08it/s]"
     ]
    },
    {
     "name": "stdout",
     "output_type": "stream",
     "text": [
      "pred: 6  true: 6  ✅\n"
     ]
    },
    {
     "name": "stderr",
     "output_type": "stream",
     "text": [
      "propagate in video:  73%|███████▎  | 1312/1786 [01:12<00:26, 18.07it/s]"
     ]
    },
    {
     "name": "stdout",
     "output_type": "stream",
     "text": [
      "pred: 6  true: 6  ✅\n",
      "pred: 6  true: 6  ✅\n",
      "pred: 6  true: 6  ✅\n"
     ]
    },
    {
     "name": "stderr",
     "output_type": "stream",
     "text": [
      "propagate in video:  74%|███████▎  | 1314/1786 [01:12<00:26, 18.06it/s]"
     ]
    },
    {
     "name": "stdout",
     "output_type": "stream",
     "text": [
      "pred: 6  true: 6  ✅\n"
     ]
    },
    {
     "name": "stderr",
     "output_type": "stream",
     "text": [
      "propagate in video:  74%|███████▎  | 1316/1786 [01:12<00:26, 18.04it/s]"
     ]
    },
    {
     "name": "stdout",
     "output_type": "stream",
     "text": [
      "pred: 6  true: 6  ✅\n",
      "pred: 6  true: 6  ✅\n",
      "pred: 6  true: 6  ✅\n"
     ]
    },
    {
     "name": "stderr",
     "output_type": "stream",
     "text": [
      "propagate in video:  74%|███████▍  | 1318/1786 [01:12<00:25, 18.05it/s]"
     ]
    },
    {
     "name": "stdout",
     "output_type": "stream",
     "text": [
      "pred: 6  true: 6  ✅\n"
     ]
    },
    {
     "name": "stderr",
     "output_type": "stream",
     "text": [
      "propagate in video:  74%|███████▍  | 1320/1786 [01:12<00:25, 18.05it/s]"
     ]
    },
    {
     "name": "stdout",
     "output_type": "stream",
     "text": [
      "pred: 6  true: 6  ✅\n",
      "pred: 6  true: 6  ✅\n",
      "pred: 6  true: 6  ✅\n"
     ]
    },
    {
     "name": "stderr",
     "output_type": "stream",
     "text": [
      "propagate in video:  74%|███████▍  | 1322/1786 [01:12<00:25, 18.05it/s]"
     ]
    },
    {
     "name": "stdout",
     "output_type": "stream",
     "text": [
      "pred: 6  true: 6  ✅\n"
     ]
    },
    {
     "name": "stderr",
     "output_type": "stream",
     "text": [
      "propagate in video:  74%|███████▍  | 1324/1786 [01:12<00:25, 18.03it/s]"
     ]
    },
    {
     "name": "stdout",
     "output_type": "stream",
     "text": [
      "pred: 6  true: 6  ✅\n",
      "pred: 6  true: 6  ✅\n",
      "pred: 6  true: 6  ✅\n"
     ]
    },
    {
     "name": "stderr",
     "output_type": "stream",
     "text": [
      "propagate in video:  74%|███████▍  | 1326/1786 [01:13<00:25, 18.02it/s]"
     ]
    },
    {
     "name": "stdout",
     "output_type": "stream",
     "text": [
      "pred: 6  true: 6  ✅\n"
     ]
    },
    {
     "name": "stderr",
     "output_type": "stream",
     "text": [
      "propagate in video:  74%|███████▍  | 1328/1786 [01:13<00:25, 18.03it/s]"
     ]
    },
    {
     "name": "stdout",
     "output_type": "stream",
     "text": [
      "pred: 6  true: 6  ✅\n",
      "pred: 6  true: 6  ✅\n",
      "pred: 6  true: 6  ✅\n"
     ]
    },
    {
     "name": "stderr",
     "output_type": "stream",
     "text": [
      "propagate in video:  74%|███████▍  | 1330/1786 [01:13<00:25, 18.02it/s]"
     ]
    },
    {
     "name": "stdout",
     "output_type": "stream",
     "text": [
      "pred: 6  true: 6  ✅\n"
     ]
    },
    {
     "name": "stderr",
     "output_type": "stream",
     "text": [
      "propagate in video:  75%|███████▍  | 1332/1786 [01:13<00:25, 18.02it/s]"
     ]
    },
    {
     "name": "stdout",
     "output_type": "stream",
     "text": [
      "pred: 6  true: 6  ✅\n",
      "pred: 6  true: 6  ✅\n",
      "pred: 6  true: 6  ✅\n"
     ]
    },
    {
     "name": "stderr",
     "output_type": "stream",
     "text": [
      "propagate in video:  75%|███████▍  | 1334/1786 [01:13<00:25, 18.02it/s]"
     ]
    },
    {
     "name": "stdout",
     "output_type": "stream",
     "text": [
      "pred: 6  true: 6  ✅\n"
     ]
    },
    {
     "name": "stderr",
     "output_type": "stream",
     "text": [
      "propagate in video:  75%|███████▍  | 1336/1786 [01:13<00:24, 18.04it/s]"
     ]
    },
    {
     "name": "stdout",
     "output_type": "stream",
     "text": [
      "pred: 6  true: 6  ✅\n",
      "pred: 6  true: 6  ✅\n",
      "pred: 6  true: 6  ✅\n"
     ]
    },
    {
     "name": "stderr",
     "output_type": "stream",
     "text": [
      "propagate in video:  75%|███████▍  | 1338/1786 [01:13<00:24, 18.04it/s]"
     ]
    },
    {
     "name": "stdout",
     "output_type": "stream",
     "text": [
      "pred: 6  true: 6  ✅\n"
     ]
    },
    {
     "name": "stderr",
     "output_type": "stream",
     "text": [
      "propagate in video:  75%|███████▌  | 1340/1786 [01:13<00:24, 18.05it/s]"
     ]
    },
    {
     "name": "stdout",
     "output_type": "stream",
     "text": [
      "pred: 6  true: 6  ✅\n",
      "pred: 6  true: 6  ✅\n",
      "pred: 6  true: 6  ✅\n"
     ]
    },
    {
     "name": "stderr",
     "output_type": "stream",
     "text": [
      "propagate in video:  75%|███████▌  | 1342/1786 [01:13<00:24, 18.07it/s]"
     ]
    },
    {
     "name": "stdout",
     "output_type": "stream",
     "text": [
      "pred: 6  true: 6  ✅\n"
     ]
    },
    {
     "name": "stderr",
     "output_type": "stream",
     "text": [
      "propagate in video:  75%|███████▌  | 1344/1786 [01:14<00:24, 18.08it/s]"
     ]
    },
    {
     "name": "stdout",
     "output_type": "stream",
     "text": [
      "pred: 6  true: 6  ✅\n",
      "pred: 6  true: 6  ✅\n",
      "pred: 6  true: 6  ✅\n"
     ]
    },
    {
     "name": "stderr",
     "output_type": "stream",
     "text": [
      "propagate in video:  75%|███████▌  | 1346/1786 [01:14<00:24, 18.09it/s]"
     ]
    },
    {
     "name": "stdout",
     "output_type": "stream",
     "text": [
      "pred: 6  true: 6  ✅\n"
     ]
    },
    {
     "name": "stderr",
     "output_type": "stream",
     "text": [
      "propagate in video:  75%|███████▌  | 1348/1786 [01:14<00:24, 18.11it/s]"
     ]
    },
    {
     "name": "stdout",
     "output_type": "stream",
     "text": [
      "pred: 6  true: 6  ✅\n",
      "pred: 6  true: 6  ✅\n",
      "pred: 6  true: 6  ✅\n"
     ]
    },
    {
     "name": "stderr",
     "output_type": "stream",
     "text": [
      "propagate in video:  76%|███████▌  | 1350/1786 [01:14<00:24, 18.12it/s]"
     ]
    },
    {
     "name": "stdout",
     "output_type": "stream",
     "text": [
      "pred: 6  true: 6  ✅\n"
     ]
    },
    {
     "name": "stderr",
     "output_type": "stream",
     "text": [
      "propagate in video:  76%|███████▌  | 1352/1786 [01:14<00:23, 18.12it/s]"
     ]
    },
    {
     "name": "stdout",
     "output_type": "stream",
     "text": [
      "pred: 6  true: 6  ✅\n",
      "pred: 6  true: 6  ✅\n",
      "pred: 6  true: 6  ✅\n"
     ]
    },
    {
     "name": "stderr",
     "output_type": "stream",
     "text": [
      "propagate in video:  76%|███████▌  | 1354/1786 [01:14<00:23, 18.13it/s]"
     ]
    },
    {
     "name": "stdout",
     "output_type": "stream",
     "text": [
      "pred: 6  true: 6  ✅\n"
     ]
    },
    {
     "name": "stderr",
     "output_type": "stream",
     "text": [
      "propagate in video:  76%|███████▌  | 1356/1786 [01:14<00:23, 18.13it/s]"
     ]
    },
    {
     "name": "stdout",
     "output_type": "stream",
     "text": [
      "pred: 6  true: 6  ✅\n",
      "pred: 6  true: 6  ✅\n",
      "pred: 6  true: 6  ✅\n"
     ]
    },
    {
     "name": "stderr",
     "output_type": "stream",
     "text": [
      "propagate in video:  76%|███████▌  | 1358/1786 [01:14<00:23, 18.14it/s]"
     ]
    },
    {
     "name": "stdout",
     "output_type": "stream",
     "text": [
      "pred: 6  true: 6  ✅\n"
     ]
    },
    {
     "name": "stderr",
     "output_type": "stream",
     "text": [
      "propagate in video:  76%|███████▌  | 1360/1786 [01:14<00:23, 18.14it/s]"
     ]
    },
    {
     "name": "stdout",
     "output_type": "stream",
     "text": [
      "pred: 6  true: 6  ✅\n",
      "pred: 6  true: 6  ✅\n",
      "pred: 6  true: 6  ✅\n"
     ]
    },
    {
     "name": "stderr",
     "output_type": "stream",
     "text": [
      "propagate in video:  76%|███████▋  | 1362/1786 [01:15<00:23, 18.15it/s]"
     ]
    },
    {
     "name": "stdout",
     "output_type": "stream",
     "text": [
      "pred: 6  true: 6  ✅\n"
     ]
    },
    {
     "name": "stderr",
     "output_type": "stream",
     "text": [
      "propagate in video:  76%|███████▋  | 1364/1786 [01:15<00:23, 18.14it/s]"
     ]
    },
    {
     "name": "stdout",
     "output_type": "stream",
     "text": [
      "pred: 6  true: 6  ✅\n",
      "pred: 6  true: 6  ✅\n",
      "pred: 6  true: 6  ✅\n"
     ]
    },
    {
     "name": "stderr",
     "output_type": "stream",
     "text": [
      "propagate in video:  76%|███████▋  | 1366/1786 [01:15<00:23, 18.15it/s]"
     ]
    },
    {
     "name": "stdout",
     "output_type": "stream",
     "text": [
      "pred: 6  true: 6  ✅\n"
     ]
    },
    {
     "name": "stderr",
     "output_type": "stream",
     "text": [
      "propagate in video:  77%|███████▋  | 1368/1786 [01:15<00:23, 18.15it/s]"
     ]
    },
    {
     "name": "stdout",
     "output_type": "stream",
     "text": [
      "pred: 6  true: 6  ✅\n",
      "pred: 6  true: 6  ✅\n",
      "pred: 6  true: 6  ✅\n"
     ]
    },
    {
     "name": "stderr",
     "output_type": "stream",
     "text": [
      "propagate in video:  77%|███████▋  | 1370/1786 [01:15<00:22, 18.15it/s]"
     ]
    },
    {
     "name": "stdout",
     "output_type": "stream",
     "text": [
      "pred: 6  true: 6  ✅\n"
     ]
    },
    {
     "name": "stderr",
     "output_type": "stream",
     "text": [
      "propagate in video:  77%|███████▋  | 1372/1786 [01:15<00:22, 18.14it/s]"
     ]
    },
    {
     "name": "stdout",
     "output_type": "stream",
     "text": [
      "pred: 6  true: 6  ✅\n",
      "pred: 6  true: 6  ✅\n",
      "pred: 6  true: 6  ✅\n"
     ]
    },
    {
     "name": "stderr",
     "output_type": "stream",
     "text": [
      "propagate in video:  77%|███████▋  | 1374/1786 [01:15<00:22, 18.14it/s]"
     ]
    },
    {
     "name": "stdout",
     "output_type": "stream",
     "text": [
      "pred: 6  true: 6  ✅\n"
     ]
    },
    {
     "name": "stderr",
     "output_type": "stream",
     "text": [
      "propagate in video:  77%|███████▋  | 1376/1786 [01:15<00:22, 18.14it/s]"
     ]
    },
    {
     "name": "stdout",
     "output_type": "stream",
     "text": [
      "pred: 6  true: 6  ✅\n",
      "pred: 6  true: 6  ✅\n",
      "pred: 6  true: 6  ✅\n"
     ]
    },
    {
     "name": "stderr",
     "output_type": "stream",
     "text": [
      "propagate in video:  77%|███████▋  | 1378/1786 [01:15<00:22, 18.14it/s]"
     ]
    },
    {
     "name": "stdout",
     "output_type": "stream",
     "text": [
      "pred: 6  true: 6  ✅\n"
     ]
    },
    {
     "name": "stderr",
     "output_type": "stream",
     "text": [
      "propagate in video:  77%|███████▋  | 1380/1786 [01:16<00:22, 18.13it/s]"
     ]
    },
    {
     "name": "stdout",
     "output_type": "stream",
     "text": [
      "pred: 6  true: 6  ✅\n",
      "pred: 6  true: 6  ✅\n",
      "pred: 6  true: 7  ❌\n"
     ]
    },
    {
     "name": "stderr",
     "output_type": "stream",
     "text": [
      "propagate in video:  77%|███████▋  | 1382/1786 [01:16<00:22, 18.13it/s]"
     ]
    },
    {
     "name": "stdout",
     "output_type": "stream",
     "text": [
      "pred: 6  true: 7  ❌\n"
     ]
    },
    {
     "name": "stderr",
     "output_type": "stream",
     "text": [
      "propagate in video:  77%|███████▋  | 1384/1786 [01:16<00:22, 18.12it/s]"
     ]
    },
    {
     "name": "stdout",
     "output_type": "stream",
     "text": [
      "pred: 6  true: 7  ❌\n",
      "pred: 6  true: 7  ❌\n",
      "pred: 6  true: 7  ❌\n"
     ]
    },
    {
     "name": "stderr",
     "output_type": "stream",
     "text": [
      "propagate in video:  78%|███████▊  | 1386/1786 [01:16<00:22, 18.13it/s]"
     ]
    },
    {
     "name": "stdout",
     "output_type": "stream",
     "text": [
      "pred: 6  true: 7  ❌\n"
     ]
    },
    {
     "name": "stderr",
     "output_type": "stream",
     "text": [
      "propagate in video:  78%|███████▊  | 1388/1786 [01:16<00:21, 18.12it/s]"
     ]
    },
    {
     "name": "stdout",
     "output_type": "stream",
     "text": [
      "pred: 6  true: 7  ❌\n",
      "pred: 6  true: 7  ❌\n",
      "pred: 6  true: 7  ❌\n"
     ]
    },
    {
     "name": "stderr",
     "output_type": "stream",
     "text": [
      "propagate in video:  78%|███████▊  | 1390/1786 [01:16<00:21, 18.12it/s]"
     ]
    },
    {
     "name": "stdout",
     "output_type": "stream",
     "text": [
      "pred: 6  true: 7  ❌\n"
     ]
    },
    {
     "name": "stderr",
     "output_type": "stream",
     "text": [
      "propagate in video:  78%|███████▊  | 1392/1786 [01:16<00:21, 18.12it/s]"
     ]
    },
    {
     "name": "stdout",
     "output_type": "stream",
     "text": [
      "pred: 6  true: 7  ❌\n",
      "pred: 6  true: 7  ❌\n",
      "pred: 6  true: 7  ❌\n"
     ]
    },
    {
     "name": "stderr",
     "output_type": "stream",
     "text": [
      "propagate in video:  78%|███████▊  | 1394/1786 [01:16<00:21, 18.12it/s]"
     ]
    },
    {
     "name": "stdout",
     "output_type": "stream",
     "text": [
      "pred: 6  true: 7  ❌\n"
     ]
    },
    {
     "name": "stderr",
     "output_type": "stream",
     "text": [
      "propagate in video:  78%|███████▊  | 1396/1786 [01:16<00:21, 18.11it/s]"
     ]
    },
    {
     "name": "stdout",
     "output_type": "stream",
     "text": [
      "pred: 6  true: 7  ❌\n",
      "pred: 6  true: 7  ❌\n",
      "pred: 6  true: 7  ❌\n"
     ]
    },
    {
     "name": "stderr",
     "output_type": "stream",
     "text": [
      "propagate in video:  78%|███████▊  | 1398/1786 [01:16<00:21, 18.12it/s]"
     ]
    },
    {
     "name": "stdout",
     "output_type": "stream",
     "text": [
      "pred: 6  true: 7  ❌\n"
     ]
    },
    {
     "name": "stderr",
     "output_type": "stream",
     "text": [
      "propagate in video:  78%|███████▊  | 1400/1786 [01:17<00:21, 18.10it/s]"
     ]
    },
    {
     "name": "stdout",
     "output_type": "stream",
     "text": [
      "pred: 6  true: 7  ❌\n",
      "pred: 6  true: 7  ❌\n",
      "pred: 6  true: 7  ❌\n"
     ]
    },
    {
     "name": "stderr",
     "output_type": "stream",
     "text": [
      "propagate in video:  78%|███████▊  | 1402/1786 [01:17<00:21, 18.09it/s]"
     ]
    },
    {
     "name": "stdout",
     "output_type": "stream",
     "text": [
      "pred: 6  true: 7  ❌\n"
     ]
    },
    {
     "name": "stderr",
     "output_type": "stream",
     "text": [
      "propagate in video:  79%|███████▊  | 1404/1786 [01:17<00:21, 18.09it/s]"
     ]
    },
    {
     "name": "stdout",
     "output_type": "stream",
     "text": [
      "pred: 6  true: 7  ❌\n",
      "pred: 6  true: 7  ❌\n",
      "pred: 6  true: 7  ❌\n"
     ]
    },
    {
     "name": "stderr",
     "output_type": "stream",
     "text": [
      "propagate in video:  79%|███████▊  | 1406/1786 [01:17<00:21, 18.09it/s]"
     ]
    },
    {
     "name": "stdout",
     "output_type": "stream",
     "text": [
      "pred: 6  true: 7  ❌\n"
     ]
    },
    {
     "name": "stderr",
     "output_type": "stream",
     "text": [
      "propagate in video:  79%|███████▉  | 1408/1786 [01:17<00:20, 18.09it/s]"
     ]
    },
    {
     "name": "stdout",
     "output_type": "stream",
     "text": [
      "pred: 6  true: 7  ❌\n",
      "pred: 6  true: 7  ❌\n",
      "pred: 6  true: 7  ❌\n"
     ]
    },
    {
     "name": "stderr",
     "output_type": "stream",
     "text": [
      "propagate in video:  79%|███████▉  | 1410/1786 [01:17<00:20, 18.10it/s]"
     ]
    },
    {
     "name": "stdout",
     "output_type": "stream",
     "text": [
      "pred: 6  true: 7  ❌\n"
     ]
    },
    {
     "name": "stderr",
     "output_type": "stream",
     "text": [
      "propagate in video:  79%|███████▉  | 1412/1786 [01:17<00:20, 18.11it/s]"
     ]
    },
    {
     "name": "stdout",
     "output_type": "stream",
     "text": [
      "pred: 6  true: 7  ❌\n",
      "pred: 6  true: 7  ❌\n",
      "pred: 6  true: 7  ❌\n"
     ]
    },
    {
     "name": "stderr",
     "output_type": "stream",
     "text": [
      "propagate in video:  79%|███████▉  | 1414/1786 [01:17<00:20, 18.09it/s]"
     ]
    },
    {
     "name": "stdout",
     "output_type": "stream",
     "text": [
      "pred: 6  true: 7  ❌\n"
     ]
    },
    {
     "name": "stderr",
     "output_type": "stream",
     "text": [
      "propagate in video:  79%|███████▉  | 1416/1786 [01:17<00:20, 18.08it/s]"
     ]
    },
    {
     "name": "stdout",
     "output_type": "stream",
     "text": [
      "pred: 6  true: 7  ❌\n",
      "pred: 6  true: 7  ❌\n",
      "pred: 6  true: 7  ❌\n"
     ]
    },
    {
     "name": "stderr",
     "output_type": "stream",
     "text": [
      "propagate in video:  79%|███████▉  | 1418/1786 [01:18<00:20, 18.08it/s]"
     ]
    },
    {
     "name": "stdout",
     "output_type": "stream",
     "text": [
      "pred: 6  true: 7  ❌\n"
     ]
    },
    {
     "name": "stderr",
     "output_type": "stream",
     "text": [
      "propagate in video:  80%|███████▉  | 1420/1786 [01:18<00:20, 18.08it/s]"
     ]
    },
    {
     "name": "stdout",
     "output_type": "stream",
     "text": [
      "pred: 6  true: 7  ❌\n",
      "pred: 6  true: 7  ❌\n",
      "pred: 6  true: 7  ❌\n"
     ]
    },
    {
     "name": "stderr",
     "output_type": "stream",
     "text": [
      "propagate in video:  80%|███████▉  | 1422/1786 [01:18<00:20, 18.09it/s]"
     ]
    },
    {
     "name": "stdout",
     "output_type": "stream",
     "text": [
      "pred: 6  true: 7  ❌\n"
     ]
    },
    {
     "name": "stderr",
     "output_type": "stream",
     "text": [
      "propagate in video:  80%|███████▉  | 1424/1786 [01:18<00:20, 18.10it/s]"
     ]
    },
    {
     "name": "stdout",
     "output_type": "stream",
     "text": [
      "pred: 6  true: 7  ❌\n",
      "pred: 6  true: 7  ❌\n",
      "pred: 6  true: 7  ❌\n"
     ]
    },
    {
     "name": "stderr",
     "output_type": "stream",
     "text": [
      "propagate in video:  80%|███████▉  | 1426/1786 [01:18<00:19, 18.09it/s]"
     ]
    },
    {
     "name": "stdout",
     "output_type": "stream",
     "text": [
      "pred: 6  true: 7  ❌\n"
     ]
    },
    {
     "name": "stderr",
     "output_type": "stream",
     "text": [
      "propagate in video:  80%|███████▉  | 1428/1786 [01:18<00:19, 18.10it/s]"
     ]
    },
    {
     "name": "stdout",
     "output_type": "stream",
     "text": [
      "pred: 6  true: 7  ❌\n",
      "pred: 6  true: 7  ❌\n",
      "pred: 6  true: 7  ❌\n"
     ]
    },
    {
     "name": "stderr",
     "output_type": "stream",
     "text": [
      "propagate in video:  80%|████████  | 1430/1786 [01:18<00:19, 18.10it/s]"
     ]
    },
    {
     "name": "stdout",
     "output_type": "stream",
     "text": [
      "pred: 6  true: 7  ❌\n"
     ]
    },
    {
     "name": "stderr",
     "output_type": "stream",
     "text": [
      "propagate in video:  80%|████████  | 1432/1786 [01:18<00:19, 18.09it/s]"
     ]
    },
    {
     "name": "stdout",
     "output_type": "stream",
     "text": [
      "pred: 6  true: 7  ❌\n",
      "pred: 6  true: 7  ❌\n",
      "pred: 6  true: 7  ❌\n"
     ]
    },
    {
     "name": "stderr",
     "output_type": "stream",
     "text": [
      "propagate in video:  80%|████████  | 1434/1786 [01:18<00:19, 18.08it/s]"
     ]
    },
    {
     "name": "stdout",
     "output_type": "stream",
     "text": [
      "pred: 6  true: 7  ❌\n"
     ]
    },
    {
     "name": "stderr",
     "output_type": "stream",
     "text": [
      "propagate in video:  80%|████████  | 1436/1786 [01:19<00:19, 18.05it/s]"
     ]
    },
    {
     "name": "stdout",
     "output_type": "stream",
     "text": [
      "pred: 6  true: 7  ❌\n",
      "pred: 6  true: 7  ❌\n",
      "pred: 6  true: 7  ❌\n"
     ]
    },
    {
     "name": "stderr",
     "output_type": "stream",
     "text": [
      "propagate in video:  81%|████████  | 1438/1786 [01:19<00:19, 18.04it/s]"
     ]
    },
    {
     "name": "stdout",
     "output_type": "stream",
     "text": [
      "pred: 6  true: 7  ❌\n"
     ]
    },
    {
     "name": "stderr",
     "output_type": "stream",
     "text": [
      "propagate in video:  81%|████████  | 1440/1786 [01:19<00:19, 18.03it/s]"
     ]
    },
    {
     "name": "stdout",
     "output_type": "stream",
     "text": [
      "pred: 6  true: 7  ❌\n",
      "pred: 6  true: 7  ❌\n",
      "pred: 6  true: 7  ❌\n"
     ]
    },
    {
     "name": "stderr",
     "output_type": "stream",
     "text": [
      "propagate in video:  81%|████████  | 1442/1786 [01:19<00:19, 18.03it/s]"
     ]
    },
    {
     "name": "stdout",
     "output_type": "stream",
     "text": [
      "pred: 6  true: 7  ❌\n"
     ]
    },
    {
     "name": "stderr",
     "output_type": "stream",
     "text": [
      "propagate in video:  81%|████████  | 1444/1786 [01:19<00:18, 18.01it/s]"
     ]
    },
    {
     "name": "stdout",
     "output_type": "stream",
     "text": [
      "pred: 6  true: 7  ❌\n",
      "pred: 6  true: 7  ❌\n",
      "pred: 2  true: 7  ❌\n"
     ]
    },
    {
     "name": "stderr",
     "output_type": "stream",
     "text": [
      "propagate in video:  81%|████████  | 1446/1786 [01:19<00:18, 18.03it/s]"
     ]
    },
    {
     "name": "stdout",
     "output_type": "stream",
     "text": [
      "pred: 0  true: 7  ❌\n"
     ]
    },
    {
     "name": "stderr",
     "output_type": "stream",
     "text": [
      "propagate in video:  81%|████████  | 1448/1786 [01:19<00:18, 18.03it/s]"
     ]
    },
    {
     "name": "stdout",
     "output_type": "stream",
     "text": [
      "pred: 6  true: 7  ❌\n",
      "pred: 6  true: 7  ❌\n",
      "pred: 1  true: 7  ❌\n"
     ]
    },
    {
     "name": "stderr",
     "output_type": "stream",
     "text": [
      "propagate in video:  81%|████████  | 1450/1786 [01:19<00:18, 18.06it/s]"
     ]
    },
    {
     "name": "stdout",
     "output_type": "stream",
     "text": [
      "pred: 1  true: 7  ❌\n"
     ]
    },
    {
     "name": "stderr",
     "output_type": "stream",
     "text": [
      "propagate in video:  81%|████████▏ | 1452/1786 [01:19<00:18, 18.06it/s]"
     ]
    },
    {
     "name": "stdout",
     "output_type": "stream",
     "text": [
      "pred: 6  true: 7  ❌\n",
      "pred: 1  true: 7  ❌\n",
      "pred: 1  true: 7  ❌\n"
     ]
    },
    {
     "name": "stderr",
     "output_type": "stream",
     "text": [
      "propagate in video:  81%|████████▏ | 1454/1786 [01:20<00:18, 18.08it/s]"
     ]
    },
    {
     "name": "stdout",
     "output_type": "stream",
     "text": [
      "pred: 6  true: 7  ❌\n"
     ]
    },
    {
     "name": "stderr",
     "output_type": "stream",
     "text": [
      "propagate in video:  82%|████████▏ | 1456/1786 [01:20<00:18, 18.08it/s]"
     ]
    },
    {
     "name": "stdout",
     "output_type": "stream",
     "text": [
      "pred: 1  true: 7  ❌\n",
      "pred: 0  true: 7  ❌\n",
      "pred: 1  true: 7  ❌\n"
     ]
    },
    {
     "name": "stderr",
     "output_type": "stream",
     "text": [
      "propagate in video:  82%|████████▏ | 1458/1786 [01:20<00:18, 18.08it/s]"
     ]
    },
    {
     "name": "stdout",
     "output_type": "stream",
     "text": [
      "pred: 5  true: 7  ❌\n"
     ]
    },
    {
     "name": "stderr",
     "output_type": "stream",
     "text": [
      "propagate in video:  82%|████████▏ | 1460/1786 [01:20<00:18, 18.06it/s]"
     ]
    },
    {
     "name": "stdout",
     "output_type": "stream",
     "text": [
      "pred: 2  true: 7  ❌\n",
      "pred: 6  true: 7  ❌\n",
      "pred: 6  true: 7  ❌\n"
     ]
    },
    {
     "name": "stderr",
     "output_type": "stream",
     "text": [
      "propagate in video:  82%|████████▏ | 1462/1786 [01:20<00:17, 18.05it/s]"
     ]
    },
    {
     "name": "stdout",
     "output_type": "stream",
     "text": [
      "pred: 6  true: 7  ❌\n"
     ]
    },
    {
     "name": "stderr",
     "output_type": "stream",
     "text": [
      "propagate in video:  82%|████████▏ | 1464/1786 [01:20<00:17, 18.07it/s]"
     ]
    },
    {
     "name": "stdout",
     "output_type": "stream",
     "text": [
      "pred: 6  true: 7  ❌\n",
      "pred: 6  true: 7  ❌\n",
      "pred: 6  true: 7  ❌\n"
     ]
    },
    {
     "name": "stderr",
     "output_type": "stream",
     "text": [
      "propagate in video:  82%|████████▏ | 1466/1786 [01:20<00:17, 18.09it/s]"
     ]
    },
    {
     "name": "stdout",
     "output_type": "stream",
     "text": [
      "pred: 0  true: 7  ❌\n"
     ]
    },
    {
     "name": "stderr",
     "output_type": "stream",
     "text": [
      "propagate in video:  82%|████████▏ | 1468/1786 [01:20<00:17, 18.11it/s]"
     ]
    },
    {
     "name": "stdout",
     "output_type": "stream",
     "text": [
      "pred: 2  true: 7  ❌\n",
      "pred: 6  true: 7  ❌\n",
      "pred: 6  true: 7  ❌\n"
     ]
    },
    {
     "name": "stderr",
     "output_type": "stream",
     "text": [
      "propagate in video:  82%|████████▏ | 1470/1786 [01:20<00:17, 18.10it/s]"
     ]
    },
    {
     "name": "stdout",
     "output_type": "stream",
     "text": [
      "pred: 2  true: 7  ❌\n"
     ]
    },
    {
     "name": "stderr",
     "output_type": "stream",
     "text": [
      "propagate in video:  82%|████████▏ | 1472/1786 [01:21<00:17, 18.11it/s]"
     ]
    },
    {
     "name": "stdout",
     "output_type": "stream",
     "text": [
      "pred: 2  true: 7  ❌\n",
      "pred: 2  true: 7  ❌\n",
      "pred: 6  true: 7  ❌\n"
     ]
    },
    {
     "name": "stderr",
     "output_type": "stream",
     "text": [
      "propagate in video:  83%|████████▎ | 1474/1786 [01:21<00:17, 18.11it/s]"
     ]
    },
    {
     "name": "stdout",
     "output_type": "stream",
     "text": [
      "pred: 6  true: 7  ❌\n"
     ]
    },
    {
     "name": "stderr",
     "output_type": "stream",
     "text": [
      "propagate in video:  83%|████████▎ | 1476/1786 [01:21<00:17, 18.12it/s]"
     ]
    },
    {
     "name": "stdout",
     "output_type": "stream",
     "text": [
      "pred: 6  true: 7  ❌\n",
      "pred: 6  true: 7  ❌\n",
      "pred: 0  true: 7  ❌\n"
     ]
    },
    {
     "name": "stderr",
     "output_type": "stream",
     "text": [
      "propagate in video:  83%|████████▎ | 1478/1786 [01:21<00:16, 18.12it/s]"
     ]
    },
    {
     "name": "stdout",
     "output_type": "stream",
     "text": [
      "pred: 0  true: 7  ❌\n"
     ]
    },
    {
     "name": "stderr",
     "output_type": "stream",
     "text": [
      "propagate in video:  83%|████████▎ | 1480/1786 [01:21<00:16, 18.12it/s]"
     ]
    },
    {
     "name": "stdout",
     "output_type": "stream",
     "text": [
      "pred: 2  true: 7  ❌\n",
      "pred: 6  true: 7  ❌\n",
      "pred: 2  true: 7  ❌\n"
     ]
    },
    {
     "name": "stderr",
     "output_type": "stream",
     "text": [
      "propagate in video:  83%|████████▎ | 1482/1786 [01:21<00:16, 18.13it/s]"
     ]
    },
    {
     "name": "stdout",
     "output_type": "stream",
     "text": [
      "pred: 0  true: 7  ❌\n"
     ]
    },
    {
     "name": "stderr",
     "output_type": "stream",
     "text": [
      "propagate in video:  83%|████████▎ | 1484/1786 [01:21<00:16, 18.14it/s]"
     ]
    },
    {
     "name": "stdout",
     "output_type": "stream",
     "text": [
      "pred: 2  true: 7  ❌\n",
      "pred: 0  true: 7  ❌\n",
      "pred: 0  true: 7  ❌\n"
     ]
    },
    {
     "name": "stderr",
     "output_type": "stream",
     "text": [
      "propagate in video:  83%|████████▎ | 1486/1786 [01:21<00:16, 18.13it/s]"
     ]
    },
    {
     "name": "stdout",
     "output_type": "stream",
     "text": [
      "pred: 0  true: 7  ❌\n"
     ]
    },
    {
     "name": "stderr",
     "output_type": "stream",
     "text": [
      "propagate in video:  83%|████████▎ | 1488/1786 [01:21<00:16, 18.10it/s]"
     ]
    },
    {
     "name": "stdout",
     "output_type": "stream",
     "text": [
      "pred: 0  true: 7  ❌\n",
      "pred: 6  true: 7  ❌\n",
      "pred: 0  true: 7  ❌\n"
     ]
    },
    {
     "name": "stderr",
     "output_type": "stream",
     "text": [
      "propagate in video:  83%|████████▎ | 1490/1786 [01:22<00:16, 18.10it/s]"
     ]
    },
    {
     "name": "stdout",
     "output_type": "stream",
     "text": [
      "pred: 0  true: 7  ❌\n"
     ]
    },
    {
     "name": "stderr",
     "output_type": "stream",
     "text": [
      "propagate in video:  84%|████████▎ | 1492/1786 [01:22<00:16, 18.11it/s]"
     ]
    },
    {
     "name": "stdout",
     "output_type": "stream",
     "text": [
      "pred: 0  true: 7  ❌\n",
      "pred: 0  true: 7  ❌\n",
      "pred: 0  true: 7  ❌\n"
     ]
    },
    {
     "name": "stderr",
     "output_type": "stream",
     "text": [
      "propagate in video:  84%|████████▎ | 1494/1786 [01:22<00:16, 18.12it/s]"
     ]
    },
    {
     "name": "stdout",
     "output_type": "stream",
     "text": [
      "pred: 0  true: 7  ❌\n"
     ]
    },
    {
     "name": "stderr",
     "output_type": "stream",
     "text": [
      "propagate in video:  84%|████████▍ | 1496/1786 [01:22<00:15, 18.13it/s]"
     ]
    },
    {
     "name": "stdout",
     "output_type": "stream",
     "text": [
      "pred: 0  true: 7  ❌\n",
      "pred: 0  true: 7  ❌\n",
      "pred: 0  true: 7  ❌\n"
     ]
    },
    {
     "name": "stderr",
     "output_type": "stream",
     "text": [
      "propagate in video:  84%|████████▍ | 1498/1786 [01:22<00:15, 18.14it/s]"
     ]
    },
    {
     "name": "stdout",
     "output_type": "stream",
     "text": [
      "pred: 0  true: 7  ❌\n"
     ]
    },
    {
     "name": "stderr",
     "output_type": "stream",
     "text": [
      "propagate in video:  84%|████████▍ | 1500/1786 [01:22<00:15, 18.15it/s]"
     ]
    },
    {
     "name": "stdout",
     "output_type": "stream",
     "text": [
      "pred: 0  true: 7  ❌\n",
      "pred: 0  true: 7  ❌\n",
      "pred: 0  true: 7  ❌\n"
     ]
    },
    {
     "name": "stderr",
     "output_type": "stream",
     "text": [
      "propagate in video:  84%|████████▍ | 1502/1786 [01:22<00:15, 18.15it/s]"
     ]
    },
    {
     "name": "stdout",
     "output_type": "stream",
     "text": [
      "pred: 2  true: 7  ❌\n"
     ]
    },
    {
     "name": "stderr",
     "output_type": "stream",
     "text": [
      "propagate in video:  84%|████████▍ | 1504/1786 [01:22<00:15, 18.17it/s]"
     ]
    },
    {
     "name": "stdout",
     "output_type": "stream",
     "text": [
      "pred: 2  true: 7  ❌\n",
      "pred: 2  true: 7  ❌\n",
      "pred: 2  true: 7  ❌\n"
     ]
    },
    {
     "name": "stderr",
     "output_type": "stream",
     "text": [
      "propagate in video:  84%|████████▍ | 1506/1786 [01:22<00:15, 18.17it/s]"
     ]
    },
    {
     "name": "stdout",
     "output_type": "stream",
     "text": [
      "pred: 2  true: 7  ❌\n"
     ]
    },
    {
     "name": "stderr",
     "output_type": "stream",
     "text": [
      "propagate in video:  84%|████████▍ | 1508/1786 [01:23<00:15, 18.17it/s]"
     ]
    },
    {
     "name": "stdout",
     "output_type": "stream",
     "text": [
      "pred: 6  true: 7  ❌\n",
      "pred: 0  true: 7  ❌\n",
      "pred: 0  true: 7  ❌\n"
     ]
    },
    {
     "name": "stderr",
     "output_type": "stream",
     "text": [
      "propagate in video:  85%|████████▍ | 1510/1786 [01:23<00:15, 18.16it/s]"
     ]
    },
    {
     "name": "stdout",
     "output_type": "stream",
     "text": [
      "pred: 0  true: 7  ❌\n"
     ]
    },
    {
     "name": "stderr",
     "output_type": "stream",
     "text": [
      "propagate in video:  85%|████████▍ | 1512/1786 [01:23<00:15, 18.15it/s]"
     ]
    },
    {
     "name": "stdout",
     "output_type": "stream",
     "text": [
      "pred: 0  true: 7  ❌\n",
      "pred: 6  true: 7  ❌\n",
      "pred: 6  true: 7  ❌\n"
     ]
    },
    {
     "name": "stderr",
     "output_type": "stream",
     "text": [
      "propagate in video:  85%|████████▍ | 1514/1786 [01:23<00:14, 18.14it/s]"
     ]
    },
    {
     "name": "stdout",
     "output_type": "stream",
     "text": [
      "pred: 6  true: 7  ❌\n"
     ]
    },
    {
     "name": "stderr",
     "output_type": "stream",
     "text": [
      "propagate in video:  85%|████████▍ | 1516/1786 [01:23<00:14, 18.15it/s]"
     ]
    },
    {
     "name": "stdout",
     "output_type": "stream",
     "text": [
      "pred: 0  true: 7  ❌\n",
      "pred: 0  true: 7  ❌\n",
      "pred: 1  true: 7  ❌\n"
     ]
    },
    {
     "name": "stderr",
     "output_type": "stream",
     "text": [
      "propagate in video:  85%|████████▍ | 1518/1786 [01:23<00:14, 18.10it/s]"
     ]
    },
    {
     "name": "stdout",
     "output_type": "stream",
     "text": [
      "pred: 1  true: 7  ❌\n"
     ]
    },
    {
     "name": "stderr",
     "output_type": "stream",
     "text": [
      "propagate in video:  85%|████████▌ | 1520/1786 [01:23<00:14, 18.08it/s]"
     ]
    },
    {
     "name": "stdout",
     "output_type": "stream",
     "text": [
      "pred: 0  true: 7  ❌\n",
      "pred: 0  true: 7  ❌\n",
      "pred: 7  true: 7  ✅\n"
     ]
    },
    {
     "name": "stderr",
     "output_type": "stream",
     "text": [
      "propagate in video:  85%|████████▌ | 1522/1786 [01:23<00:14, 18.07it/s]"
     ]
    },
    {
     "name": "stdout",
     "output_type": "stream",
     "text": [
      "pred: 6  true: 7  ❌\n"
     ]
    },
    {
     "name": "stderr",
     "output_type": "stream",
     "text": [
      "propagate in video:  85%|████████▌ | 1524/1786 [01:23<00:14, 18.08it/s]"
     ]
    },
    {
     "name": "stdout",
     "output_type": "stream",
     "text": [
      "pred: 6  true: 7  ❌\n",
      "pred: 6  true: 7  ❌\n",
      "pred: 6  true: 7  ❌\n"
     ]
    },
    {
     "name": "stderr",
     "output_type": "stream",
     "text": [
      "propagate in video:  85%|████████▌ | 1526/1786 [01:24<00:14, 18.08it/s]"
     ]
    },
    {
     "name": "stdout",
     "output_type": "stream",
     "text": [
      "pred: 5  true: 7  ❌\n"
     ]
    },
    {
     "name": "stderr",
     "output_type": "stream",
     "text": [
      "propagate in video:  86%|████████▌ | 1528/1786 [01:24<00:14, 18.08it/s]"
     ]
    },
    {
     "name": "stdout",
     "output_type": "stream",
     "text": [
      "pred: 6  true: 7  ❌\n",
      "pred: 6  true: 7  ❌\n",
      "pred: 6  true: 7  ❌\n"
     ]
    },
    {
     "name": "stderr",
     "output_type": "stream",
     "text": [
      "propagate in video:  86%|████████▌ | 1530/1786 [01:24<00:14, 18.07it/s]"
     ]
    },
    {
     "name": "stdout",
     "output_type": "stream",
     "text": [
      "pred: 6  true: 7  ❌\n"
     ]
    },
    {
     "name": "stderr",
     "output_type": "stream",
     "text": [
      "propagate in video:  86%|████████▌ | 1532/1786 [01:24<00:14, 18.06it/s]"
     ]
    },
    {
     "name": "stdout",
     "output_type": "stream",
     "text": [
      "pred: 6  true: 7  ❌\n",
      "pred: 6  true: 7  ❌\n",
      "pred: 6  true: 7  ❌\n"
     ]
    },
    {
     "name": "stderr",
     "output_type": "stream",
     "text": [
      "propagate in video:  86%|████████▌ | 1534/1786 [01:24<00:13, 18.06it/s]"
     ]
    },
    {
     "name": "stdout",
     "output_type": "stream",
     "text": [
      "pred: 6  true: 7  ❌\n"
     ]
    },
    {
     "name": "stderr",
     "output_type": "stream",
     "text": [
      "propagate in video:  86%|████████▌ | 1536/1786 [01:24<00:13, 18.06it/s]"
     ]
    },
    {
     "name": "stdout",
     "output_type": "stream",
     "text": [
      "pred: 6  true: 7  ❌\n",
      "pred: 6  true: 7  ❌\n",
      "pred: 6  true: 7  ❌\n"
     ]
    },
    {
     "name": "stderr",
     "output_type": "stream",
     "text": [
      "propagate in video:  86%|████████▌ | 1538/1786 [01:24<00:13, 18.06it/s]"
     ]
    },
    {
     "name": "stdout",
     "output_type": "stream",
     "text": [
      "pred: 6  true: 7  ❌\n"
     ]
    },
    {
     "name": "stderr",
     "output_type": "stream",
     "text": [
      "propagate in video:  86%|████████▌ | 1540/1786 [01:24<00:13, 18.05it/s]"
     ]
    },
    {
     "name": "stdout",
     "output_type": "stream",
     "text": [
      "pred: 6  true: 7  ❌\n",
      "pred: 6  true: 7  ❌\n",
      "pred: 6  true: 7  ❌\n"
     ]
    },
    {
     "name": "stderr",
     "output_type": "stream",
     "text": [
      "propagate in video:  86%|████████▋ | 1542/1786 [01:24<00:13, 18.07it/s]"
     ]
    },
    {
     "name": "stdout",
     "output_type": "stream",
     "text": [
      "pred: 6  true: 7  ❌\n"
     ]
    },
    {
     "name": "stderr",
     "output_type": "stream",
     "text": [
      "propagate in video:  86%|████████▋ | 1544/1786 [01:25<00:13, 18.07it/s]"
     ]
    },
    {
     "name": "stdout",
     "output_type": "stream",
     "text": [
      "pred: 6  true: 7  ❌\n",
      "pred: 6  true: 7  ❌\n",
      "pred: 6  true: 7  ❌\n"
     ]
    },
    {
     "name": "stderr",
     "output_type": "stream",
     "text": [
      "propagate in video:  87%|████████▋ | 1546/1786 [01:25<00:13, 18.08it/s]"
     ]
    },
    {
     "name": "stdout",
     "output_type": "stream",
     "text": [
      "pred: 6  true: 7  ❌\n"
     ]
    },
    {
     "name": "stderr",
     "output_type": "stream",
     "text": [
      "propagate in video:  87%|████████▋ | 1548/1786 [01:25<00:13, 18.08it/s]"
     ]
    },
    {
     "name": "stdout",
     "output_type": "stream",
     "text": [
      "pred: 6  true: 7  ❌\n",
      "pred: 6  true: 7  ❌\n",
      "pred: 6  true: 7  ❌\n"
     ]
    },
    {
     "name": "stderr",
     "output_type": "stream",
     "text": [
      "propagate in video:  87%|████████▋ | 1550/1786 [01:25<00:13, 18.08it/s]"
     ]
    },
    {
     "name": "stdout",
     "output_type": "stream",
     "text": [
      "pred: 6  true: 7  ❌\n"
     ]
    },
    {
     "name": "stderr",
     "output_type": "stream",
     "text": [
      "propagate in video:  87%|████████▋ | 1552/1786 [01:25<00:12, 18.08it/s]"
     ]
    },
    {
     "name": "stdout",
     "output_type": "stream",
     "text": [
      "pred: 6  true: 7  ❌\n",
      "pred: 6  true: 7  ❌\n",
      "pred: 6  true: 7  ❌\n"
     ]
    },
    {
     "name": "stderr",
     "output_type": "stream",
     "text": [
      "propagate in video:  87%|████████▋ | 1554/1786 [01:25<00:12, 18.10it/s]"
     ]
    },
    {
     "name": "stdout",
     "output_type": "stream",
     "text": [
      "pred: 2  true: 7  ❌\n"
     ]
    },
    {
     "name": "stderr",
     "output_type": "stream",
     "text": [
      "propagate in video:  87%|████████▋ | 1556/1786 [01:25<00:12, 18.12it/s]"
     ]
    },
    {
     "name": "stdout",
     "output_type": "stream",
     "text": [
      "pred: 2  true: 7  ❌\n",
      "pred: 2  true: 7  ❌\n",
      "pred: 2  true: 7  ❌\n"
     ]
    },
    {
     "name": "stderr",
     "output_type": "stream",
     "text": [
      "propagate in video:  87%|████████▋ | 1558/1786 [01:25<00:12, 18.14it/s]"
     ]
    },
    {
     "name": "stdout",
     "output_type": "stream",
     "text": [
      "pred: 0  true: 7  ❌\n"
     ]
    },
    {
     "name": "stderr",
     "output_type": "stream",
     "text": [
      "propagate in video:  87%|████████▋ | 1560/1786 [01:25<00:12, 18.12it/s]"
     ]
    },
    {
     "name": "stdout",
     "output_type": "stream",
     "text": [
      "pred: 0  true: 7  ❌\n",
      "pred: 2  true: 7  ❌\n",
      "pred: 2  true: 7  ❌\n"
     ]
    },
    {
     "name": "stderr",
     "output_type": "stream",
     "text": [
      "propagate in video:  87%|████████▋ | 1562/1786 [01:26<00:12, 18.10it/s]"
     ]
    },
    {
     "name": "stdout",
     "output_type": "stream",
     "text": [
      "pred: 2  true: 7  ❌\n"
     ]
    },
    {
     "name": "stderr",
     "output_type": "stream",
     "text": [
      "propagate in video:  88%|████████▊ | 1564/1786 [01:26<00:12, 18.11it/s]"
     ]
    },
    {
     "name": "stdout",
     "output_type": "stream",
     "text": [
      "pred: 2  true: 7  ❌\n",
      "pred: 3  true: 7  ❌\n",
      "pred: 2  true: 7  ❌\n"
     ]
    },
    {
     "name": "stderr",
     "output_type": "stream",
     "text": [
      "propagate in video:  88%|████████▊ | 1566/1786 [01:26<00:12, 18.11it/s]"
     ]
    },
    {
     "name": "stdout",
     "output_type": "stream",
     "text": [
      "pred: 0  true: 7  ❌\n"
     ]
    },
    {
     "name": "stderr",
     "output_type": "stream",
     "text": [
      "propagate in video:  88%|████████▊ | 1568/1786 [01:26<00:12, 18.11it/s]"
     ]
    },
    {
     "name": "stdout",
     "output_type": "stream",
     "text": [
      "pred: 0  true: 7  ❌\n",
      "pred: 0  true: 7  ❌\n",
      "pred: 2  true: 7  ❌\n"
     ]
    },
    {
     "name": "stderr",
     "output_type": "stream",
     "text": [
      "propagate in video:  88%|████████▊ | 1570/1786 [01:26<00:11, 18.12it/s]"
     ]
    },
    {
     "name": "stdout",
     "output_type": "stream",
     "text": [
      "pred: 3  true: 7  ❌\n"
     ]
    },
    {
     "name": "stderr",
     "output_type": "stream",
     "text": [
      "propagate in video:  88%|████████▊ | 1572/1786 [01:26<00:11, 18.12it/s]"
     ]
    },
    {
     "name": "stdout",
     "output_type": "stream",
     "text": [
      "pred: 3  true: 7  ❌\n",
      "pred: 6  true: 7  ❌\n",
      "pred: 6  true: 7  ❌\n"
     ]
    },
    {
     "name": "stderr",
     "output_type": "stream",
     "text": [
      "propagate in video:  88%|████████▊ | 1574/1786 [01:26<00:11, 18.13it/s]"
     ]
    },
    {
     "name": "stdout",
     "output_type": "stream",
     "text": [
      "pred: 6  true: 7  ❌\n"
     ]
    },
    {
     "name": "stderr",
     "output_type": "stream",
     "text": [
      "propagate in video:  88%|████████▊ | 1576/1786 [01:26<00:11, 18.13it/s]"
     ]
    },
    {
     "name": "stdout",
     "output_type": "stream",
     "text": [
      "pred: 6  true: 7  ❌\n",
      "pred: 6  true: 7  ❌\n",
      "pred: 6  true: 7  ❌\n"
     ]
    },
    {
     "name": "stderr",
     "output_type": "stream",
     "text": [
      "propagate in video:  88%|████████▊ | 1578/1786 [01:26<00:11, 18.12it/s]"
     ]
    },
    {
     "name": "stdout",
     "output_type": "stream",
     "text": [
      "pred: 6  true: 7  ❌\n"
     ]
    },
    {
     "name": "stderr",
     "output_type": "stream",
     "text": [
      "propagate in video:  88%|████████▊ | 1580/1786 [01:27<00:11, 18.12it/s]"
     ]
    },
    {
     "name": "stdout",
     "output_type": "stream",
     "text": [
      "pred: 6  true: 7  ❌\n",
      "pred: 6  true: 7  ❌\n",
      "pred: 6  true: 7  ❌\n"
     ]
    },
    {
     "name": "stderr",
     "output_type": "stream",
     "text": [
      "propagate in video:  89%|████████▊ | 1582/1786 [01:27<00:11, 18.13it/s]"
     ]
    },
    {
     "name": "stdout",
     "output_type": "stream",
     "text": [
      "pred: 6  true: 7  ❌\n"
     ]
    },
    {
     "name": "stderr",
     "output_type": "stream",
     "text": [
      "propagate in video:  89%|████████▊ | 1584/1786 [01:27<00:11, 18.11it/s]"
     ]
    },
    {
     "name": "stdout",
     "output_type": "stream",
     "text": [
      "pred: 6  true: 7  ❌\n",
      "pred: 6  true: 7  ❌\n",
      "pred: 6  true: 7  ❌\n"
     ]
    },
    {
     "name": "stderr",
     "output_type": "stream",
     "text": [
      "propagate in video:  89%|████████▉ | 1586/1786 [01:27<00:11, 18.12it/s]"
     ]
    },
    {
     "name": "stdout",
     "output_type": "stream",
     "text": [
      "pred: 6  true: 7  ❌\n"
     ]
    },
    {
     "name": "stderr",
     "output_type": "stream",
     "text": [
      "propagate in video:  89%|████████▉ | 1588/1786 [01:27<00:10, 18.12it/s]"
     ]
    },
    {
     "name": "stdout",
     "output_type": "stream",
     "text": [
      "pred: 6  true: 7  ❌\n",
      "pred: 6  true: 7  ❌\n",
      "pred: 6  true: 7  ❌\n"
     ]
    },
    {
     "name": "stderr",
     "output_type": "stream",
     "text": [
      "propagate in video:  89%|████████▉ | 1590/1786 [01:27<00:10, 18.13it/s]"
     ]
    },
    {
     "name": "stdout",
     "output_type": "stream",
     "text": [
      "pred: 6  true: 7  ❌\n"
     ]
    },
    {
     "name": "stderr",
     "output_type": "stream",
     "text": [
      "propagate in video:  89%|████████▉ | 1592/1786 [01:27<00:10, 18.12it/s]"
     ]
    },
    {
     "name": "stdout",
     "output_type": "stream",
     "text": [
      "pred: 6  true: 7  ❌\n",
      "pred: 6  true: 7  ❌\n",
      "pred: 6  true: 7  ❌\n"
     ]
    },
    {
     "name": "stderr",
     "output_type": "stream",
     "text": [
      "propagate in video:  89%|████████▉ | 1594/1786 [01:27<00:10, 18.11it/s]"
     ]
    },
    {
     "name": "stdout",
     "output_type": "stream",
     "text": [
      "pred: 6  true: 7  ❌\n"
     ]
    },
    {
     "name": "stderr",
     "output_type": "stream",
     "text": [
      "propagate in video:  89%|████████▉ | 1596/1786 [01:27<00:10, 18.11it/s]"
     ]
    },
    {
     "name": "stdout",
     "output_type": "stream",
     "text": [
      "pred: 6  true: 7  ❌\n",
      "pred: 6  true: 7  ❌\n",
      "pred: 6  true: 7  ❌\n"
     ]
    },
    {
     "name": "stderr",
     "output_type": "stream",
     "text": [
      "propagate in video:  89%|████████▉ | 1598/1786 [01:28<00:10, 18.11it/s]"
     ]
    },
    {
     "name": "stdout",
     "output_type": "stream",
     "text": [
      "pred: 6  true: 7  ❌\n"
     ]
    },
    {
     "name": "stderr",
     "output_type": "stream",
     "text": [
      "propagate in video:  90%|████████▉ | 1600/1786 [01:28<00:10, 18.12it/s]"
     ]
    },
    {
     "name": "stdout",
     "output_type": "stream",
     "text": [
      "pred: 6  true: 7  ❌\n",
      "pred: 6  true: 7  ❌\n",
      "pred: 6  true: 7  ❌\n"
     ]
    },
    {
     "name": "stderr",
     "output_type": "stream",
     "text": [
      "propagate in video:  90%|████████▉ | 1602/1786 [01:28<00:10, 18.13it/s]"
     ]
    },
    {
     "name": "stdout",
     "output_type": "stream",
     "text": [
      "pred: 6  true: 7  ❌\n"
     ]
    },
    {
     "name": "stderr",
     "output_type": "stream",
     "text": [
      "propagate in video:  90%|████████▉ | 1604/1786 [01:28<00:10, 18.12it/s]"
     ]
    },
    {
     "name": "stdout",
     "output_type": "stream",
     "text": [
      "pred: 6  true: 7  ❌\n",
      "pred: 6  true: 7  ❌\n",
      "pred: 6  true: 7  ❌\n"
     ]
    },
    {
     "name": "stderr",
     "output_type": "stream",
     "text": [
      "propagate in video:  90%|████████▉ | 1606/1786 [01:28<00:09, 18.11it/s]"
     ]
    },
    {
     "name": "stdout",
     "output_type": "stream",
     "text": [
      "pred: 6  true: 7  ❌\n"
     ]
    },
    {
     "name": "stderr",
     "output_type": "stream",
     "text": [
      "propagate in video:  90%|█████████ | 1608/1786 [01:28<00:09, 18.10it/s]"
     ]
    },
    {
     "name": "stdout",
     "output_type": "stream",
     "text": [
      "pred: 6  true: 7  ❌\n",
      "pred: 6  true: 7  ❌\n",
      "pred: 6  true: 7  ❌\n"
     ]
    },
    {
     "name": "stderr",
     "output_type": "stream",
     "text": [
      "propagate in video:  90%|█████████ | 1610/1786 [01:28<00:09, 18.10it/s]"
     ]
    },
    {
     "name": "stdout",
     "output_type": "stream",
     "text": [
      "pred: 6  true: 7  ❌\n"
     ]
    },
    {
     "name": "stderr",
     "output_type": "stream",
     "text": [
      "propagate in video:  90%|█████████ | 1612/1786 [01:28<00:09, 18.09it/s]"
     ]
    },
    {
     "name": "stdout",
     "output_type": "stream",
     "text": [
      "pred: 6  true: 7  ❌\n",
      "pred: 6  true: 7  ❌\n",
      "pred: 6  true: 7  ❌\n"
     ]
    },
    {
     "name": "stderr",
     "output_type": "stream",
     "text": [
      "propagate in video:  90%|█████████ | 1614/1786 [01:28<00:09, 18.09it/s]"
     ]
    },
    {
     "name": "stdout",
     "output_type": "stream",
     "text": [
      "pred: 6  true: 7  ❌\n"
     ]
    },
    {
     "name": "stderr",
     "output_type": "stream",
     "text": [
      "propagate in video:  90%|█████████ | 1616/1786 [01:29<00:09, 18.09it/s]"
     ]
    },
    {
     "name": "stdout",
     "output_type": "stream",
     "text": [
      "pred: 6  true: 7  ❌\n",
      "pred: 6  true: 7  ❌\n",
      "pred: 6  true: 7  ❌\n"
     ]
    },
    {
     "name": "stderr",
     "output_type": "stream",
     "text": [
      "propagate in video:  91%|█████████ | 1618/1786 [01:29<00:09, 18.08it/s]"
     ]
    },
    {
     "name": "stdout",
     "output_type": "stream",
     "text": [
      "pred: 6  true: 7  ❌\n"
     ]
    },
    {
     "name": "stderr",
     "output_type": "stream",
     "text": [
      "propagate in video:  91%|█████████ | 1620/1786 [01:29<00:09, 18.07it/s]"
     ]
    },
    {
     "name": "stdout",
     "output_type": "stream",
     "text": [
      "pred: 6  true: 7  ❌\n",
      "pred: 6  true: 7  ❌\n",
      "pred: 6  true: 7  ❌\n"
     ]
    },
    {
     "name": "stderr",
     "output_type": "stream",
     "text": [
      "propagate in video:  91%|█████████ | 1622/1786 [01:29<00:09, 18.08it/s]"
     ]
    },
    {
     "name": "stdout",
     "output_type": "stream",
     "text": [
      "pred: 6  true: 7  ❌\n"
     ]
    },
    {
     "name": "stderr",
     "output_type": "stream",
     "text": [
      "propagate in video:  91%|█████████ | 1624/1786 [01:29<00:08, 18.07it/s]"
     ]
    },
    {
     "name": "stdout",
     "output_type": "stream",
     "text": [
      "pred: 6  true: 7  ❌\n",
      "pred: 6  true: 7  ❌\n",
      "pred: 6  true: 7  ❌\n"
     ]
    },
    {
     "name": "stderr",
     "output_type": "stream",
     "text": [
      "propagate in video:  91%|█████████ | 1626/1786 [01:29<00:08, 18.08it/s]"
     ]
    },
    {
     "name": "stdout",
     "output_type": "stream",
     "text": [
      "pred: 6  true: 7  ❌\n"
     ]
    },
    {
     "name": "stderr",
     "output_type": "stream",
     "text": [
      "propagate in video:  91%|█████████ | 1628/1786 [01:29<00:08, 18.08it/s]"
     ]
    },
    {
     "name": "stdout",
     "output_type": "stream",
     "text": [
      "pred: 6  true: 7  ❌\n",
      "pred: 6  true: 7  ❌\n",
      "pred: 6  true: 7  ❌\n"
     ]
    },
    {
     "name": "stderr",
     "output_type": "stream",
     "text": [
      "propagate in video:  91%|█████████▏| 1630/1786 [01:29<00:08, 18.08it/s]"
     ]
    },
    {
     "name": "stdout",
     "output_type": "stream",
     "text": [
      "pred: 6  true: 7  ❌\n"
     ]
    },
    {
     "name": "stderr",
     "output_type": "stream",
     "text": [
      "propagate in video:  91%|█████████▏| 1632/1786 [01:29<00:08, 18.07it/s]"
     ]
    },
    {
     "name": "stdout",
     "output_type": "stream",
     "text": [
      "pred: 6  true: 7  ❌\n",
      "pred: 6  true: 7  ❌\n",
      "pred: 6  true: 7  ❌\n"
     ]
    },
    {
     "name": "stderr",
     "output_type": "stream",
     "text": [
      "propagate in video:  91%|█████████▏| 1634/1786 [01:30<00:08, 18.08it/s]"
     ]
    },
    {
     "name": "stdout",
     "output_type": "stream",
     "text": [
      "pred: 6  true: 7  ❌\n"
     ]
    },
    {
     "name": "stderr",
     "output_type": "stream",
     "text": [
      "propagate in video:  92%|█████████▏| 1636/1786 [01:30<00:08, 18.07it/s]"
     ]
    },
    {
     "name": "stdout",
     "output_type": "stream",
     "text": [
      "pred: 6  true: 7  ❌\n",
      "pred: 6  true: 7  ❌\n",
      "pred: 6  true: 7  ❌\n"
     ]
    },
    {
     "name": "stderr",
     "output_type": "stream",
     "text": [
      "propagate in video:  92%|█████████▏| 1638/1786 [01:30<00:08, 18.07it/s]"
     ]
    },
    {
     "name": "stdout",
     "output_type": "stream",
     "text": [
      "pred: 6  true: 7  ❌\n"
     ]
    },
    {
     "name": "stderr",
     "output_type": "stream",
     "text": [
      "propagate in video:  92%|█████████▏| 1640/1786 [01:30<00:08, 18.08it/s]"
     ]
    },
    {
     "name": "stdout",
     "output_type": "stream",
     "text": [
      "pred: 6  true: 7  ❌\n",
      "pred: 6  true: 7  ❌\n",
      "pred: 6  true: 7  ❌\n"
     ]
    },
    {
     "name": "stderr",
     "output_type": "stream",
     "text": [
      "propagate in video:  92%|█████████▏| 1642/1786 [01:30<00:07, 18.09it/s]"
     ]
    },
    {
     "name": "stdout",
     "output_type": "stream",
     "text": [
      "pred: 6  true: 7  ❌\n"
     ]
    },
    {
     "name": "stderr",
     "output_type": "stream",
     "text": [
      "propagate in video:  92%|█████████▏| 1644/1786 [01:30<00:07, 18.09it/s]"
     ]
    },
    {
     "name": "stdout",
     "output_type": "stream",
     "text": [
      "pred: 6  true: 7  ❌\n",
      "pred: 6  true: 7  ❌\n",
      "pred: 6  true: 7  ❌\n"
     ]
    },
    {
     "name": "stderr",
     "output_type": "stream",
     "text": [
      "propagate in video:  92%|█████████▏| 1646/1786 [01:30<00:07, 18.08it/s]"
     ]
    },
    {
     "name": "stdout",
     "output_type": "stream",
     "text": [
      "pred: 6  true: 7  ❌\n"
     ]
    },
    {
     "name": "stderr",
     "output_type": "stream",
     "text": [
      "propagate in video:  92%|█████████▏| 1648/1786 [01:30<00:07, 18.06it/s]"
     ]
    },
    {
     "name": "stdout",
     "output_type": "stream",
     "text": [
      "pred: 6  true: 7  ❌\n",
      "pred: 6  true: 7  ❌\n",
      "pred: 6  true: 7  ❌\n"
     ]
    },
    {
     "name": "stderr",
     "output_type": "stream",
     "text": [
      "propagate in video:  92%|█████████▏| 1650/1786 [01:30<00:07, 18.06it/s]"
     ]
    },
    {
     "name": "stdout",
     "output_type": "stream",
     "text": [
      "pred: 6  true: 7  ❌\n"
     ]
    },
    {
     "name": "stderr",
     "output_type": "stream",
     "text": [
      "propagate in video:  92%|█████████▏| 1652/1786 [01:31<00:07, 18.06it/s]"
     ]
    },
    {
     "name": "stdout",
     "output_type": "stream",
     "text": [
      "pred: 6  true: 7  ❌\n",
      "pred: 6  true: 7  ❌\n",
      "pred: 6  true: 7  ❌\n"
     ]
    },
    {
     "name": "stderr",
     "output_type": "stream",
     "text": [
      "propagate in video:  93%|█████████▎| 1654/1786 [01:31<00:07, 18.05it/s]"
     ]
    },
    {
     "name": "stdout",
     "output_type": "stream",
     "text": [
      "pred: 6  true: 7  ❌\n"
     ]
    },
    {
     "name": "stderr",
     "output_type": "stream",
     "text": [
      "propagate in video:  93%|█████████▎| 1656/1786 [01:31<00:07, 18.05it/s]"
     ]
    },
    {
     "name": "stdout",
     "output_type": "stream",
     "text": [
      "pred: 6  true: 7  ❌\n",
      "pred: 6  true: 7  ❌\n",
      "pred: 6  true: 7  ❌\n"
     ]
    },
    {
     "name": "stderr",
     "output_type": "stream",
     "text": [
      "propagate in video:  93%|█████████▎| 1658/1786 [01:31<00:07, 18.05it/s]"
     ]
    },
    {
     "name": "stdout",
     "output_type": "stream",
     "text": [
      "pred: 6  true: 7  ❌\n"
     ]
    },
    {
     "name": "stderr",
     "output_type": "stream",
     "text": [
      "propagate in video:  93%|█████████▎| 1660/1786 [01:31<00:06, 18.06it/s]"
     ]
    },
    {
     "name": "stdout",
     "output_type": "stream",
     "text": [
      "pred: 6  true: 7  ❌\n",
      "pred: 6  true: 7  ❌\n",
      "pred: 6  true: 7  ❌\n"
     ]
    },
    {
     "name": "stderr",
     "output_type": "stream",
     "text": [
      "propagate in video:  93%|█████████▎| 1662/1786 [01:31<00:06, 18.05it/s]"
     ]
    },
    {
     "name": "stdout",
     "output_type": "stream",
     "text": [
      "pred: 6  true: 7  ❌\n"
     ]
    },
    {
     "name": "stderr",
     "output_type": "stream",
     "text": [
      "propagate in video:  93%|█████████▎| 1664/1786 [01:31<00:06, 18.06it/s]"
     ]
    },
    {
     "name": "stdout",
     "output_type": "stream",
     "text": [
      "pred: 6  true: 7  ❌\n",
      "pred: 6  true: 7  ❌\n",
      "pred: 2  true: 7  ❌\n"
     ]
    },
    {
     "name": "stderr",
     "output_type": "stream",
     "text": [
      "propagate in video:  93%|█████████▎| 1666/1786 [01:31<00:06, 18.06it/s]"
     ]
    },
    {
     "name": "stdout",
     "output_type": "stream",
     "text": [
      "pred: 2  true: 7  ❌\n"
     ]
    },
    {
     "name": "stderr",
     "output_type": "stream",
     "text": [
      "propagate in video:  93%|█████████▎| 1668/1786 [01:31<00:06, 18.05it/s]"
     ]
    },
    {
     "name": "stdout",
     "output_type": "stream",
     "text": [
      "pred: 6  true: 7  ❌\n",
      "pred: 6  true: 7  ❌\n",
      "pred: 6  true: 7  ❌\n"
     ]
    },
    {
     "name": "stderr",
     "output_type": "stream",
     "text": [
      "propagate in video:  94%|█████████▎| 1670/1786 [01:32<00:06, 18.05it/s]"
     ]
    },
    {
     "name": "stdout",
     "output_type": "stream",
     "text": [
      "pred: 6  true: 7  ❌\n"
     ]
    },
    {
     "name": "stderr",
     "output_type": "stream",
     "text": [
      "propagate in video:  94%|█████████▎| 1672/1786 [01:32<00:06, 18.03it/s]"
     ]
    },
    {
     "name": "stdout",
     "output_type": "stream",
     "text": [
      "pred: 6  true: 7  ❌\n",
      "pred: 6  true: 7  ❌\n",
      "pred: 6  true: 7  ❌\n"
     ]
    },
    {
     "name": "stderr",
     "output_type": "stream",
     "text": [
      "propagate in video:  94%|█████████▎| 1674/1786 [01:32<00:06, 18.03it/s]"
     ]
    },
    {
     "name": "stdout",
     "output_type": "stream",
     "text": [
      "pred: 6  true: 7  ❌\n"
     ]
    },
    {
     "name": "stderr",
     "output_type": "stream",
     "text": [
      "propagate in video:  94%|█████████▍| 1676/1786 [01:32<00:06, 18.03it/s]"
     ]
    },
    {
     "name": "stdout",
     "output_type": "stream",
     "text": [
      "pred: 6  true: 7  ❌\n",
      "pred: 6  true: 7  ❌\n",
      "pred: 6  true: 7  ❌\n"
     ]
    },
    {
     "name": "stderr",
     "output_type": "stream",
     "text": [
      "propagate in video:  94%|█████████▍| 1678/1786 [01:32<00:05, 18.04it/s]"
     ]
    },
    {
     "name": "stdout",
     "output_type": "stream",
     "text": [
      "pred: 6  true: 7  ❌\n"
     ]
    },
    {
     "name": "stderr",
     "output_type": "stream",
     "text": [
      "propagate in video:  94%|█████████▍| 1680/1786 [01:32<00:05, 18.03it/s]"
     ]
    },
    {
     "name": "stdout",
     "output_type": "stream",
     "text": [
      "pred: 6  true: 7  ❌\n",
      "pred: 6  true: 7  ❌\n",
      "pred: 6  true: 7  ❌\n"
     ]
    },
    {
     "name": "stderr",
     "output_type": "stream",
     "text": [
      "propagate in video:  94%|█████████▍| 1682/1786 [01:32<00:05, 18.04it/s]"
     ]
    },
    {
     "name": "stdout",
     "output_type": "stream",
     "text": [
      "pred: 6  true: 7  ❌\n"
     ]
    },
    {
     "name": "stderr",
     "output_type": "stream",
     "text": [
      "propagate in video:  94%|█████████▍| 1684/1786 [01:32<00:05, 18.02it/s]"
     ]
    },
    {
     "name": "stdout",
     "output_type": "stream",
     "text": [
      "pred: 6  true: 7  ❌\n",
      "pred: 6  true: 7  ❌\n",
      "pred: 6  true: 7  ❌\n"
     ]
    },
    {
     "name": "stderr",
     "output_type": "stream",
     "text": [
      "propagate in video:  94%|█████████▍| 1686/1786 [01:32<00:05, 18.03it/s]"
     ]
    },
    {
     "name": "stdout",
     "output_type": "stream",
     "text": [
      "pred: 6  true: 7  ❌\n"
     ]
    },
    {
     "name": "stderr",
     "output_type": "stream",
     "text": [
      "propagate in video:  95%|█████████▍| 1688/1786 [01:33<00:05, 18.03it/s]"
     ]
    },
    {
     "name": "stdout",
     "output_type": "stream",
     "text": [
      "pred: 6  true: 7  ❌\n",
      "pred: 6  true: 7  ❌\n",
      "pred: 6  true: 7  ❌\n"
     ]
    },
    {
     "name": "stderr",
     "output_type": "stream",
     "text": [
      "propagate in video:  95%|█████████▍| 1690/1786 [01:33<00:05, 18.02it/s]"
     ]
    },
    {
     "name": "stdout",
     "output_type": "stream",
     "text": [
      "pred: 6  true: 7  ❌\n"
     ]
    },
    {
     "name": "stderr",
     "output_type": "stream",
     "text": [
      "propagate in video:  95%|█████████▍| 1692/1786 [01:33<00:05, 18.01it/s]"
     ]
    },
    {
     "name": "stdout",
     "output_type": "stream",
     "text": [
      "pred: 6  true: 7  ❌\n",
      "pred: 6  true: 7  ❌\n",
      "pred: 6  true: 7  ❌\n"
     ]
    },
    {
     "name": "stderr",
     "output_type": "stream",
     "text": [
      "propagate in video:  95%|█████████▍| 1694/1786 [01:33<00:05, 18.00it/s]"
     ]
    },
    {
     "name": "stdout",
     "output_type": "stream",
     "text": [
      "pred: 6  true: 7  ❌\n"
     ]
    },
    {
     "name": "stderr",
     "output_type": "stream",
     "text": [
      "propagate in video:  95%|█████████▍| 1696/1786 [01:33<00:04, 18.01it/s]"
     ]
    },
    {
     "name": "stdout",
     "output_type": "stream",
     "text": [
      "pred: 6  true: 7  ❌\n",
      "pred: 6  true: 7  ❌\n",
      "pred: 6  true: 7  ❌\n"
     ]
    },
    {
     "name": "stderr",
     "output_type": "stream",
     "text": [
      "propagate in video:  95%|█████████▌| 1698/1786 [01:33<00:04, 18.02it/s]"
     ]
    },
    {
     "name": "stdout",
     "output_type": "stream",
     "text": [
      "pred: 6  true: 7  ❌\n"
     ]
    },
    {
     "name": "stderr",
     "output_type": "stream",
     "text": [
      "propagate in video:  95%|█████████▌| 1700/1786 [01:33<00:04, 18.03it/s]"
     ]
    },
    {
     "name": "stdout",
     "output_type": "stream",
     "text": [
      "pred: 6  true: 7  ❌\n",
      "pred: 6  true: 7  ❌\n",
      "pred: 6  true: 7  ❌\n"
     ]
    },
    {
     "name": "stderr",
     "output_type": "stream",
     "text": [
      "propagate in video:  95%|█████████▌| 1702/1786 [01:33<00:04, 18.04it/s]"
     ]
    },
    {
     "name": "stdout",
     "output_type": "stream",
     "text": [
      "pred: 6  true: 7  ❌\n"
     ]
    },
    {
     "name": "stderr",
     "output_type": "stream",
     "text": [
      "propagate in video:  95%|█████████▌| 1704/1786 [01:33<00:04, 18.05it/s]"
     ]
    },
    {
     "name": "stdout",
     "output_type": "stream",
     "text": [
      "pred: 6  true: 7  ❌\n",
      "pred: 6  true: 7  ❌\n",
      "pred: 6  true: 7  ❌\n"
     ]
    },
    {
     "name": "stderr",
     "output_type": "stream",
     "text": [
      "propagate in video:  96%|█████████▌| 1706/1786 [01:34<00:04, 18.05it/s]"
     ]
    },
    {
     "name": "stdout",
     "output_type": "stream",
     "text": [
      "pred: 6  true: 7  ❌\n"
     ]
    },
    {
     "name": "stderr",
     "output_type": "stream",
     "text": [
      "propagate in video:  96%|█████████▌| 1708/1786 [01:34<00:04, 18.05it/s]"
     ]
    },
    {
     "name": "stdout",
     "output_type": "stream",
     "text": [
      "pred: 6  true: 7  ❌\n",
      "pred: 6  true: 7  ❌\n",
      "pred: 6  true: 7  ❌\n"
     ]
    },
    {
     "name": "stderr",
     "output_type": "stream",
     "text": [
      "propagate in video:  96%|█████████▌| 1710/1786 [01:34<00:04, 18.05it/s]"
     ]
    },
    {
     "name": "stdout",
     "output_type": "stream",
     "text": [
      "pred: 6  true: 7  ❌\n"
     ]
    },
    {
     "name": "stderr",
     "output_type": "stream",
     "text": [
      "propagate in video:  96%|█████████▌| 1712/1786 [01:34<00:04, 18.04it/s]"
     ]
    },
    {
     "name": "stdout",
     "output_type": "stream",
     "text": [
      "pred: 6  true: 7  ❌\n",
      "pred: 6  true: 7  ❌\n",
      "pred: 6  true: 7  ❌\n"
     ]
    },
    {
     "name": "stderr",
     "output_type": "stream",
     "text": [
      "propagate in video:  96%|█████████▌| 1714/1786 [01:34<00:03, 18.05it/s]"
     ]
    },
    {
     "name": "stdout",
     "output_type": "stream",
     "text": [
      "pred: 6  true: 7  ❌\n"
     ]
    },
    {
     "name": "stderr",
     "output_type": "stream",
     "text": [
      "propagate in video:  96%|█████████▌| 1716/1786 [01:34<00:03, 18.05it/s]"
     ]
    },
    {
     "name": "stdout",
     "output_type": "stream",
     "text": [
      "pred: 6  true: 7  ❌\n",
      "pred: 5  true: 7  ❌\n",
      "pred: 5  true: 7  ❌\n"
     ]
    },
    {
     "name": "stderr",
     "output_type": "stream",
     "text": [
      "propagate in video:  96%|█████████▌| 1718/1786 [01:34<00:03, 18.05it/s]"
     ]
    },
    {
     "name": "stdout",
     "output_type": "stream",
     "text": [
      "pred: 5  true: 7  ❌\n"
     ]
    },
    {
     "name": "stderr",
     "output_type": "stream",
     "text": [
      "propagate in video:  96%|█████████▋| 1720/1786 [01:34<00:03, 18.03it/s]"
     ]
    },
    {
     "name": "stdout",
     "output_type": "stream",
     "text": [
      "pred: 5  true: 7  ❌\n",
      "pred: 6  true: 7  ❌\n",
      "pred: 6  true: 7  ❌\n"
     ]
    },
    {
     "name": "stderr",
     "output_type": "stream",
     "text": [
      "propagate in video:  96%|█████████▋| 1722/1786 [01:34<00:03, 18.04it/s]"
     ]
    },
    {
     "name": "stdout",
     "output_type": "stream",
     "text": [
      "pred: 6  true: 7  ❌\n"
     ]
    },
    {
     "name": "stderr",
     "output_type": "stream",
     "text": [
      "propagate in video:  97%|█████████▋| 1724/1786 [01:35<00:03, 18.03it/s]"
     ]
    },
    {
     "name": "stdout",
     "output_type": "stream",
     "text": [
      "pred: 5  true: 7  ❌\n",
      "pred: 5  true: 7  ❌\n",
      "pred: 5  true: 7  ❌\n"
     ]
    },
    {
     "name": "stderr",
     "output_type": "stream",
     "text": [
      "propagate in video:  97%|█████████▋| 1726/1786 [01:35<00:03, 18.03it/s]"
     ]
    },
    {
     "name": "stdout",
     "output_type": "stream",
     "text": [
      "pred: 5  true: 7  ❌\n"
     ]
    },
    {
     "name": "stderr",
     "output_type": "stream",
     "text": [
      "propagate in video:  97%|█████████▋| 1728/1786 [01:35<00:03, 18.03it/s]"
     ]
    },
    {
     "name": "stdout",
     "output_type": "stream",
     "text": [
      "pred: 6  true: 7  ❌\n",
      "pred: 6  true: 7  ❌\n",
      "pred: 6  true: 7  ❌\n"
     ]
    },
    {
     "name": "stderr",
     "output_type": "stream",
     "text": [
      "propagate in video:  97%|█████████▋| 1730/1786 [01:35<00:03, 18.04it/s]"
     ]
    },
    {
     "name": "stdout",
     "output_type": "stream",
     "text": [
      "pred: 6  true: 7  ❌\n"
     ]
    },
    {
     "name": "stderr",
     "output_type": "stream",
     "text": [
      "propagate in video:  97%|█████████▋| 1732/1786 [01:35<00:02, 18.04it/s]"
     ]
    },
    {
     "name": "stdout",
     "output_type": "stream",
     "text": [
      "pred: 6  true: 7  ❌\n",
      "pred: 6  true: 7  ❌\n",
      "pred: 6  true: 7  ❌\n"
     ]
    },
    {
     "name": "stderr",
     "output_type": "stream",
     "text": [
      "propagate in video:  97%|█████████▋| 1734/1786 [01:35<00:02, 18.05it/s]"
     ]
    },
    {
     "name": "stdout",
     "output_type": "stream",
     "text": [
      "pred: 6  true: 7  ❌\n"
     ]
    },
    {
     "name": "stderr",
     "output_type": "stream",
     "text": [
      "propagate in video:  97%|█████████▋| 1736/1786 [01:35<00:02, 18.05it/s]"
     ]
    },
    {
     "name": "stdout",
     "output_type": "stream",
     "text": [
      "pred: 6  true: 7  ❌\n",
      "pred: 6  true: 7  ❌\n",
      "pred: 6  true: 7  ❌\n"
     ]
    },
    {
     "name": "stderr",
     "output_type": "stream",
     "text": [
      "propagate in video:  97%|█████████▋| 1738/1786 [01:35<00:02, 18.05it/s]"
     ]
    },
    {
     "name": "stdout",
     "output_type": "stream",
     "text": [
      "pred: 6  true: 7  ❌\n"
     ]
    },
    {
     "name": "stderr",
     "output_type": "stream",
     "text": [
      "propagate in video:  97%|█████████▋| 1740/1786 [01:35<00:02, 18.05it/s]"
     ]
    },
    {
     "name": "stdout",
     "output_type": "stream",
     "text": [
      "pred: 6  true: 7  ❌\n",
      "pred: 6  true: 7  ❌\n",
      "pred: 6  true: 7  ❌\n"
     ]
    },
    {
     "name": "stderr",
     "output_type": "stream",
     "text": [
      "propagate in video:  98%|█████████▊| 1742/1786 [01:36<00:02, 18.04it/s]"
     ]
    },
    {
     "name": "stdout",
     "output_type": "stream",
     "text": [
      "pred: 6  true: 7  ❌\n"
     ]
    },
    {
     "name": "stderr",
     "output_type": "stream",
     "text": [
      "propagate in video:  98%|█████████▊| 1744/1786 [01:36<00:02, 18.05it/s]"
     ]
    },
    {
     "name": "stdout",
     "output_type": "stream",
     "text": [
      "pred: 6  true: 7  ❌\n",
      "pred: 6  true: 7  ❌\n",
      "pred: 6  true: 7  ❌\n"
     ]
    },
    {
     "name": "stderr",
     "output_type": "stream",
     "text": [
      "propagate in video:  98%|█████████▊| 1746/1786 [01:36<00:02, 18.05it/s]"
     ]
    },
    {
     "name": "stdout",
     "output_type": "stream",
     "text": [
      "pred: 6  true: 7  ❌\n"
     ]
    },
    {
     "name": "stderr",
     "output_type": "stream",
     "text": [
      "propagate in video:  98%|█████████▊| 1748/1786 [01:36<00:02, 18.05it/s]"
     ]
    },
    {
     "name": "stdout",
     "output_type": "stream",
     "text": [
      "pred: 6  true: 7  ❌\n",
      "pred: 6  true: 7  ❌\n",
      "pred: 6  true: 7  ❌\n"
     ]
    },
    {
     "name": "stderr",
     "output_type": "stream",
     "text": [
      "propagate in video:  98%|█████████▊| 1750/1786 [01:36<00:01, 18.04it/s]"
     ]
    },
    {
     "name": "stdout",
     "output_type": "stream",
     "text": [
      "pred: 6  true: 7  ❌\n"
     ]
    },
    {
     "name": "stderr",
     "output_type": "stream",
     "text": [
      "propagate in video:  98%|█████████▊| 1752/1786 [01:36<00:01, 18.03it/s]"
     ]
    },
    {
     "name": "stdout",
     "output_type": "stream",
     "text": [
      "pred: 6  true: 7  ❌\n",
      "pred: 6  true: 7  ❌\n",
      "pred: 6  true: 7  ❌\n"
     ]
    },
    {
     "name": "stderr",
     "output_type": "stream",
     "text": [
      "propagate in video:  98%|█████████▊| 1754/1786 [01:36<00:01, 18.03it/s]"
     ]
    },
    {
     "name": "stdout",
     "output_type": "stream",
     "text": [
      "pred: 6  true: 7  ❌\n"
     ]
    },
    {
     "name": "stderr",
     "output_type": "stream",
     "text": [
      "propagate in video:  98%|█████████▊| 1756/1786 [01:36<00:01, 18.03it/s]"
     ]
    },
    {
     "name": "stdout",
     "output_type": "stream",
     "text": [
      "pred: 6  true: 7  ❌\n",
      "pred: 6  true: 7  ❌\n",
      "pred: 6  true: 7  ❌\n"
     ]
    },
    {
     "name": "stderr",
     "output_type": "stream",
     "text": [
      "propagate in video:  98%|█████████▊| 1758/1786 [01:36<00:01, 18.03it/s]"
     ]
    },
    {
     "name": "stdout",
     "output_type": "stream",
     "text": [
      "pred: 6  true: 7  ❌\n"
     ]
    },
    {
     "name": "stderr",
     "output_type": "stream",
     "text": [
      "propagate in video:  99%|█████████▊| 1760/1786 [01:37<00:01, 18.03it/s]"
     ]
    },
    {
     "name": "stdout",
     "output_type": "stream",
     "text": [
      "pred: 6  true: 7  ❌\n",
      "pred: 6  true: 7  ❌\n",
      "pred: 6  true: 7  ❌\n"
     ]
    },
    {
     "name": "stderr",
     "output_type": "stream",
     "text": [
      "propagate in video:  99%|█████████▊| 1762/1786 [01:37<00:01, 18.03it/s]"
     ]
    },
    {
     "name": "stdout",
     "output_type": "stream",
     "text": [
      "pred: 6  true: 7  ❌\n"
     ]
    },
    {
     "name": "stderr",
     "output_type": "stream",
     "text": [
      "propagate in video:  99%|█████████▉| 1764/1786 [01:37<00:01, 18.03it/s]"
     ]
    },
    {
     "name": "stdout",
     "output_type": "stream",
     "text": [
      "pred: 6  true: 7  ❌\n",
      "pred: 6  true: 7  ❌\n",
      "pred: 6  true: 7  ❌\n"
     ]
    },
    {
     "name": "stderr",
     "output_type": "stream",
     "text": [
      "propagate in video:  99%|█████████▉| 1766/1786 [01:37<00:01, 18.04it/s]"
     ]
    },
    {
     "name": "stdout",
     "output_type": "stream",
     "text": [
      "pred: 6  true: 7  ❌\n"
     ]
    },
    {
     "name": "stderr",
     "output_type": "stream",
     "text": [
      "propagate in video:  99%|█████████▉| 1768/1786 [01:37<00:00, 18.03it/s]"
     ]
    },
    {
     "name": "stdout",
     "output_type": "stream",
     "text": [
      "pred: 6  true: 7  ❌\n",
      "pred: 6  true: 7  ❌\n",
      "pred: 6  true: 7  ❌\n"
     ]
    },
    {
     "name": "stderr",
     "output_type": "stream",
     "text": [
      "propagate in video:  99%|█████████▉| 1770/1786 [01:37<00:00, 18.04it/s]"
     ]
    },
    {
     "name": "stdout",
     "output_type": "stream",
     "text": [
      "pred: 6  true: 7  ❌\n"
     ]
    },
    {
     "name": "stderr",
     "output_type": "stream",
     "text": [
      "propagate in video:  99%|█████████▉| 1772/1786 [01:37<00:00, 18.04it/s]"
     ]
    },
    {
     "name": "stdout",
     "output_type": "stream",
     "text": [
      "pred: 6  true: 7  ❌\n",
      "pred: 6  true: 7  ❌\n",
      "pred: 6  true: 7  ❌\n"
     ]
    },
    {
     "name": "stderr",
     "output_type": "stream",
     "text": [
      "propagate in video:  99%|█████████▉| 1774/1786 [01:37<00:00, 18.04it/s]"
     ]
    },
    {
     "name": "stdout",
     "output_type": "stream",
     "text": [
      "pred: 6  true: 7  ❌\n"
     ]
    },
    {
     "name": "stderr",
     "output_type": "stream",
     "text": [
      "propagate in video:  99%|█████████▉| 1776/1786 [01:37<00:00, 18.04it/s]"
     ]
    },
    {
     "name": "stdout",
     "output_type": "stream",
     "text": [
      "pred: 6  true: 7  ❌\n",
      "pred: 6  true: 7  ❌\n",
      "pred: 6  true: 7  ❌\n"
     ]
    },
    {
     "name": "stderr",
     "output_type": "stream",
     "text": [
      "propagate in video: 100%|█████████▉| 1778/1786 [01:38<00:00, 18.03it/s]"
     ]
    },
    {
     "name": "stdout",
     "output_type": "stream",
     "text": [
      "pred: 6  true: 7  ❌\n"
     ]
    },
    {
     "name": "stderr",
     "output_type": "stream",
     "text": [
      "propagate in video: 100%|█████████▉| 1780/1786 [01:38<00:00, 18.03it/s]"
     ]
    },
    {
     "name": "stdout",
     "output_type": "stream",
     "text": [
      "pred: 6  true: 7  ❌\n",
      "pred: 6  true: 7  ❌\n",
      "pred: 6  true: 7  ❌\n"
     ]
    },
    {
     "name": "stderr",
     "output_type": "stream",
     "text": [
      "propagate in video: 100%|█████████▉| 1782/1786 [01:38<00:00, 18.03it/s]"
     ]
    },
    {
     "name": "stdout",
     "output_type": "stream",
     "text": [
      "pred: 6  true: 7  ❌\n"
     ]
    },
    {
     "name": "stderr",
     "output_type": "stream",
     "text": [
      "propagate in video: 100%|█████████▉| 1784/1786 [01:38<00:00, 18.03it/s]"
     ]
    },
    {
     "name": "stdout",
     "output_type": "stream",
     "text": [
      "pred: 6  true: 7  ❌\n",
      "pred: 6  true: 7  ❌\n",
      "pred: 6  true: 7  ❌\n"
     ]
    },
    {
     "name": "stderr",
     "output_type": "stream",
     "text": [
      "propagate in video: 100%|██████████| 1786/1786 [01:38<00:00, 18.14it/s]"
     ]
    },
    {
     "name": "stdout",
     "output_type": "stream",
     "text": [
      "pred: 6  true: 7  ❌\n",
      "\n",
      "Evaluation Summary\n",
      "  evaluated: 1781\n",
      "  correct:   506\n",
      "  accuracy:  28.41%\n"
     ]
    },
    {
     "name": "stderr",
     "output_type": "stream",
     "text": [
      "\n"
     ]
    }
   ],
   "source": [
    "correct_predictions = 0\n",
    "total_predictions   = 0\n",
    "print(frame_to_class)\n",
    "for f_idx, _, logits_map in vid_pred.propagate_in_video(state):\n",
    "\tif f_idx < skip_frames:\n",
    "\t\tcontinue\n",
    "\n",
    "\t# ── binary mask ──────────────────────────────────────────────────────────\n",
    "\tmask_2d = logits_map.sigmoid()[0].squeeze(0) > 0.5\n",
    "\tif not mask_2d.any():\n",
    "\t\tcontinue\n",
    "\n",
    "\t# ── crop the bounding box ───────────────────────────────────────────────\n",
    "\tys, xs = np.where(mask_2d.cpu().numpy())\n",
    "\tx0, y0, x1, y1 = xs.min(), ys.min(), xs.max(), ys.max()\n",
    "\tcrop_rgb = frames[f_idx][y0:y1, x0:x1]\t\t  # H×W×3, uint8\n",
    "\t# display(crop_rgb)\n",
    "\n",
    "\t# ── DINO-style inference on the crop ────────────────────────────────────\n",
    "\tbatch\t\t = processor(images=crop_rgb, return_tensors=\"pt\").to(device)\n",
    "\twith torch.no_grad():\n",
    "\t\tlogits = model(pixel_values=batch[\"pixel_values\"]).logits.squeeze(0)  # (C,)\n",
    "\n",
    "\tprobs\t\t   = torch.softmax(logits, dim=-1).cpu()   # tensor -> CPU\n",
    "\tpredicted_label = probs.argmax().item()\n",
    "\ttrue_label = frame_to_class[f_idx]\t\t\t\t  # <- however you load it\n",
    "\n",
    "\t# ── print per-frame info ────────────────────────────────────────────────\n",
    "\t# print(f\"\\nFrame {f_idx} — class probabilities:\")\n",
    "\t# print(probs.tolist())\t\t  # one line per frame\n",
    "\tprint(f\"pred: {predicted_label}  true: {true_label}\"\n",
    "\t\t  f\"  {'✅' if predicted_label == true_label else '❌'}\")\n",
    "\n",
    "\t# ── bookkeeping ─────────────────────────────────────────────────────────\n",
    "\tcorrect_predictions += 1 if predicted_label == true_label else 0\n",
    "\ttotal_predictions   += 1\n",
    "\n",
    "# ── summary ─────────────────────────────────────────────────────────────────\n",
    "accuracy = correct_predictions / total_predictions if total_predictions else 0\n",
    "print(\"\\nEvaluation Summary\")\n",
    "print(f\"  evaluated: {total_predictions}\")\n",
    "print(f\"  correct:   {correct_predictions}\")\n",
    "print(f\"  accuracy:  {accuracy:.2%}\")\n",
    "\n"
   ]
  },
  {
   "cell_type": "code",
   "execution_count": null,
   "metadata": {
    "jupyter": {
     "source_hidden": true
    }
   },
   "outputs": [],
   "source": [
    "# correct_predictions = 0\n",
    "# total_predictions = 0\n",
    "\n",
    "# for image_path in image_files:\n",
    "# \t# Infer annotation file path\n",
    "# \tfilename = os.path.splitext(os.path.basename(image_path))[0]\n",
    "# \tanno_path = os.path.join(anno_dir, f\"{filename}.txt\")\n",
    "# \tprint(anno_path)\n",
    "# \tif not os.path.exists(anno_path):\n",
    "# \t\tprint(f\"Annotation not found for {filename}, skipping.\")\n",
    "# \t\tcontinue\n",
    "\n",
    "# \t# Read true class label\n",
    "# \twith open(anno_path, \"r\") as f:\n",
    "# \t\ttry:\n",
    "# \t\t\ttrue_label = int(f.readline().strip())\n",
    "# \t\texcept ValueError:\n",
    "# \t\t\tprint(f\"Invalid label in {anno_path}, skipping.\")\n",
    "# \t\t\tcontinue\n",
    "\n",
    "# \t# Load image\n",
    "# \timage = Image.open(image_path).convert(\"RGB\")\n",
    "# \tdisplay(image)\n",
    "\n",
    "# \t# Process image\n",
    "# \tinputs = processor(images=image, return_tensors=\"pt\")\n",
    "# \tpixel_values = inputs[\"pixel_values\"].to(device)\n",
    "# \twith torch.no_grad():\n",
    "# \t\toutputs = model(pixel_values=pixel_values)\n",
    "\t\n",
    "# \tlogits = outputs[\"logits\"]\n",
    "# \tprobs = torch.softmax(logits, dim=-1)\n",
    "# \tprint(\"Probabilities:\", probs)\n",
    "# \tpredicted_label = logits.argmax(-1).item()\n",
    "\n",
    "# \t# Inside your loop:\n",
    "# \tis_correct = labels_match(predicted_label, true_label)\n",
    "# \tif is_correct:\n",
    "# \t\tcorrect_predictions += 1\n",
    "# \ttotal_predictions += 1\n",
    "\n",
    "# \tprint(f\"{filename}:\")\n",
    "# \tprint(f\"\tTrue:\t{true_label}\")\n",
    "# \tprint(f\"\tPredicted: {predicted_label}\")\n",
    "# \tprint(f\"\tCorrect:\t {'✅ Yes' if is_correct else '❌ No'}\")\n",
    "# \tprint(\"-\" * 30)\n",
    "\n",
    "# accuracy = correct_predictions / total_predictions if total_predictions > 0 else 0\n",
    "# print(\"\\nEvaluation Summary:\")\n",
    "# print(f\"\tTotal evaluated: {total_predictions}\")\n",
    "# print(f\"\tCorrect:\t\t {correct_predictions}\")\n",
    "# print(f\"\tAccuracy:\t\t{accuracy:.2f}\")"
   ]
  },
  {
   "cell_type": "markdown",
   "metadata": {},
   "source": [
    "# Qwen VL"
   ]
  },
  {
   "cell_type": "code",
   "execution_count": null,
   "metadata": {},
   "outputs": [],
   "source": [
    "from transformers import Qwen2_5_VLForConditionalGeneration, AutoTokenizer, AutoProcessor\n",
    "from qwen_vl_utils import process_vision_info\n",
    "\n",
    "\n",
    "states = {\n",
    "\t'state_0': 'Base block metal piece',\n",
    "\t'state_1': 'Cylinder metal piece which gets stick on the base block stage_0',\n",
    "\t'state_2': 'A Big metal piece which gets stick on the cylinder piece of stage_1',\n",
    "\t'state_3': 'A smaller thin metal piece which gets put onto the center of the big metal piece of stage_2',\n",
    "\t'state_4': 'A tiny metal ring which gets placed onto the center of the thing metal piece of stage_3',\n",
    "\t'state_5': '3 screws now get screwed onto the piece',\n",
    "\t'state_6': 'A darker metal plate now gets placed on top of the piece',\n",
    "\t'state_7': '5 screws now get screwed onto the piece',\n",
    "}\n",
    "\n",
    "# We recommend enabling flash_attention_2 for better acceleration and memory saving, especially in multi-image and video scenarios.\n",
    "qwen_vl_model = Qwen2_5_VLForConditionalGeneration.from_pretrained(\n",
    "\t\"Qwen/Qwen2.5-VL-7B-Instruct\",\n",
    "\ttorch_dtype=torch.bfloat16,\n",
    "\t# attn_implementation=\"flash_attention_2\",\n",
    "\tdevice_map=\"auto\",\n",
    ")\n",
    "\n",
    "# default processer\n",
    "qwen_vl_processor = AutoProcessor.from_pretrained(\"Qwen/Qwen2.5-VL-7B-Instruct\")\n",
    "\n",
    "# Messages containing a local video path and a text query"
   ]
  },
  {
   "cell_type": "code",
   "execution_count": null,
   "metadata": {},
   "outputs": [],
   "source": [
    "# Messages containing a local video path and a text query\n",
    "\n",
    "def display_images_horizontal(image_paths, size=(100, 100)):\n",
    "\thtml = '<div style=\"display: flex; flex-direction: row;\">'\n",
    "\tfor path in image_paths:\n",
    "\t\timg = Image.open(path).resize(size)\n",
    "\t\tbuffer = io.BytesIO()\n",
    "\t\timg.save(buffer, format='PNG')\n",
    "\t\timg_str = base64.b64encode(buffer.getvalue()).decode(\"utf-8\")\n",
    "\t\thtml += f'<img src=\"data:image/png;base64,{img_str}\" style=\"margin:2px;\" />'\n",
    "\thtml += '</div>'\n",
    "\tdisplay(HTML(html))\n",
    "\t\n",
    "def qwen_vl(image_paths: list[str], current_dino_state: str, previous_qwen_state: str, previous_information: str):\n",
    "\t\"\"\"\n",
    "\t[\n",
    "\t\t\"file:///path/to/frame1.jpg\",\n",
    "\t\t\"file:///path/to/frame2.jpg\",\n",
    "\t\t\"file:///path/to/frame3.jpg\",\n",
    "\t\t\"file:///path/to/frame4.jpg\",\n",
    "\t],\n",
    "\t\"\"\"\n",
    "\tmessages = [\n",
    "\t\t{\n",
    "\t\t\t\"role\": \"user\",\n",
    "\t\t\t\"content\": [\n",
    "\t\t\t{\n",
    "\t\t\t\t\"type\": \"video\",\n",
    "\t\t\t\t\"video\": image_paths\n",
    "\t\t\t},\n",
    "\t\t\t{\n",
    "\t\t\t\t\"type\": \"text\",\n",
    "\t\t\t\t\"text\": f'''\n",
    "\t\t\t\t\tYou are given a short video clip of a person assembling an object. The clip is part of a longer clip of the person assembling the object.\n",
    "\t\t\t\t\tYour task is it to tell me what you see in the video and based on that and the previous action, some more information below make a prediction on which state the piece is at the end of the clip.\n",
    "\t\t\t\t\tNote that the clip may end while the person is still in the middle of an action.\n",
    "\t\t\t\t\tIf the state is in between two states, return the state it was in before, so if the person is moving the cylinder piece to the base block, return state_0, only when the cylinder piece is on the base block, return state_1.\n",
    "\t\t\t\t\tHere are the possible states:\n",
    "\t\t\t\t\t\t'state_0': 'First part of the object: Base block metal piece',\n",
    "\t\t\t\t\t\t'state_1': 'Second part of the object: Cylinder metal piece which gets stick on the base block stage_0',\n",
    "\t\t\t\t\t\t'state_2': 'Third part of the object: A Big metal piece which gets stick on the cylinder piece of stage_1',\n",
    "\t\t\t\t\t\t'state_3': 'Fourth part of the object: A smaller thin metal piece which gets put onto the center of the big metal piece of stage_2',\n",
    "\t\t\t\t\t\t'state_4': 'Fifth part of the object: A tiny metal ring which gets placed onto the center of the thing metal piece of stage_3',\n",
    "\t\t\t\t\t\t'state_5': 'Sixth part of the object: 3 screws now get screwed onto the piece',\n",
    "\t\t\t\t\t\t'state_6': 'Seventh part of the object: A darker metal plate now gets placed on top of the piece',\n",
    "\t\t\t\t\t\t'state_7': 'Eighth part of the object: 5 screws now get screwed onto the piece'\n",
    "\t\t\t\t\tAdditionally I will give you the state in which the classifier thinks the piece is at.\n",
    "\t\t\t\t\tHere is the information (it might be none id it didnt predict anything):\n",
    "\t\t\t\t\t\t{current_dino_state}\n",
    "\t\t\t\t\tAdditionally I will give you the state in which the classifier thinks the piece was at at the beginning of the clip.\n",
    "\t\t\t\t\tHere is the information ((it might be none id it didnt predict anything)):\n",
    "\t\t\t\t\t\t{previous_qwen_state}\n",
    "\t\t\t\t\tAdditionally, I will give you some information about what the person did 5 seconds before the clip starts.\n",
    "\t\t\t\t\tHere is the information:\n",
    "\t\t\t\t\t\t{previous_information}\n",
    "\n",
    "\t\t\t\t\tPlease return the output in the following format:\n",
    "\t\t\t\t\t{{\n",
    "\t\t\t\t\t\t\"state\": \"state_name\",\n",
    "\t\t\t\t\t\t\"action_description\": \"action_description\"\n",
    "\t\t\t\t\t}}\n",
    "\t\t\t\t'''},\n",
    "\t\t\t\t],\n",
    "\t\t\t}\n",
    "\t\t]\n",
    "\n",
    "\ttext = qwen_vl_processor.apply_chat_template(\n",
    "\t\tmessages, tokenize=False, add_generation_prompt=True\n",
    "\t)\n",
    "\timage_inputs, video_inputs = process_vision_info(messages)\n",
    "\tinputs = qwen_vl_processor(\n",
    "\t\ttext=[text],\n",
    "\t\timages=image_inputs,\n",
    "\t\tvideos=video_inputs,\n",
    "\t\tfps=fps,\n",
    "\t\tpadding=True,\n",
    "\t\treturn_tensors=\"pt\",\n",
    "\t\t\n",
    "\t)\n",
    "\tinputs = inputs.to(\"cuda\")\n",
    "\n",
    "\t# Inference\n",
    "\tgenerated_ids = qwen_vl_model.generate(**inputs, max_new_tokens=128)\n",
    "\tgenerated_ids_trimmed = [\n",
    "\t\tout_ids[len(in_ids) :] for in_ids, out_ids in zip(inputs.input_ids, generated_ids)\n",
    "\t]\n",
    "\toutput_text = qwen_vl_processor.batch_decode(\n",
    "\t\tgenerated_ids_trimmed, skip_special_tokens=True, clean_up_tokenization_spaces=False\n",
    "\t)\n",
    "\tprint(output_text)\n",
    "\treturn output_text\n",
    "\n",
    "previous_qwen_state = \"None because its the first clip\"\n",
    "previous_information = \"None because its the first clip\"\n",
    "current_dino_state = \"None because its the first clip\"\n",
    "\n",
    "correct_predictions = 0\n",
    "total_predictions = 0\n",
    "\n",
    "for idx in range(0, len(frames_to_process), 9):\n",
    "\timage_paths = []\n",
    "\tfor frame_idx, frame in frames_to_process[idx:idx+9]:\n",
    "\t\tframe_rgb = cv2.cvtColor(frame, cv2.COLOR_BGR2RGB)\n",
    "\t\timage = Image.fromarray(frame_rgb)\n",
    "\t\timage_path = os.path.join(temp_images_dir, f\"frame_{frame_idx}_original.jpg\")\n",
    "\t\timage.save(image_path)\n",
    "\t\timage_paths.append(f'file://{image_path}')\n",
    "\tprint(\"image_paths:\", image_paths)\n",
    "\t# yolo_results = yolo_model(frame)\n",
    "\t# skip_to_qwen = False\n",
    "\t# if len(yolo_results) == 0 or len(yolo_results[0].boxes) == 0:\n",
    "\t# \tprint(f\"Frame {frame_idx}: No detection found. Skipping frame.\")\n",
    "\t# \tskip_to_qwen = True\n",
    "\ttrue_label = frame_to_class[frame_idx]\n",
    "\ttrue_label_name = category_id_to_name.get(true_label, f\"Class_{true_label}\")\n",
    "\tif not True:\n",
    "\t\tboxes = yolo_results[0].boxes.data\t# Each row: [x1, y1, x2, y2, conf, cls]\n",
    "\n",
    "\t\t# Find the box with the highest confidence\n",
    "\t\thighest_conf_idx = -1\n",
    "\t\thighest_conf = 0\n",
    "\n",
    "\t\tfor idx, box in enumerate(boxes):\n",
    "\t\t\tconfidence = box[4].item()\n",
    "\t\t\tif confidence < YOL_THRESHOLD:\n",
    "\t\t\t\tcontinue\n",
    "\t\t\t\n",
    "\t\t\tif confidence > highest_conf:\n",
    "\t\t\t\thighest_conf = confidence\n",
    "\t\t\t\thighest_conf_idx = idx\n",
    "\t\t\n",
    "\t\tif highest_conf_idx >= 0:\n",
    "\t\t\tbox = boxes[highest_conf_idx]\n",
    "\t\t\tconfidence = box[4].item()\n",
    "\t\t\tpredicted_label = int(box[5].item())\n",
    "\t\t\tcurrent_dino_state = category_id_to_name.get(predicted_label, f\"Class_{predicted_label}\")\n",
    "\t\t\t\n",
    "\t\t\tx1, y1, x2, y2 = map(int, box[:4].tolist())\n",
    "\t\t\tx1 = max(0, x1)\n",
    "\t\t\ty1 = max(0, y1)\n",
    "\t\t\tx2 = min(image.width, x2)\n",
    "\t\t\ty2 = min(image.height, y2)\n",
    "\t\t\t\n",
    "\t\t\tcropped_image = image.crop((x1, y1, x2, y2))\n",
    "\t\t\tcropped_path = os.path.join(temp_images_dir, f\"frame_{frame_idx}.jpg\")\n",
    "\t\t\tcropped_image.save(cropped_path)\n",
    "\t\t\t\n",
    "\t\t\tprint(f\"Saved cropped image: {cropped_path}\")\n",
    "\t\telse:\n",
    "\t\t\tcurrent_dino_state = \"None, Dino didnt make a prediction\"\n",
    "\t\t\t\n",
    "\tdisplay_images_horizontal([img.replace('file://', '') for img in image_paths])\n",
    "\tres = qwen_vl(image_paths, current_dino_state, previous_qwen_state, previous_information)[0]\n",
    "\tres = json.loads(res)\n",
    "\n",
    "\tprevious_qwen_state = res[\"state\"]\n",
    "\tprevious_information = res[\"action_description\"]\n",
    "\tpredicted_label = previous_qwen_state\n",
    "\tis_correct = labels_match(previous_qwen_state, true_label)\n",
    "\tif is_correct:\n",
    "\t\tcorrect_predictions += 1\n",
    "\ttotal_predictions += 1\n",
    "\n",
    "\tprint(f\"Frame {frame_idx}\")\n",
    "\tprint(f\"\tTrue:\t{true_label}\")\n",
    "\tprint(f\"\tPredicted: {predicted_label}\")\n",
    "\tprint(f\"\tCorrect:\t {'✅ Yes' if is_correct else '❌ No'}\")\n",
    "\tprint(\"-\" * 30)\n",
    "\n",
    "\n",
    "\n",
    "accuracy = correct_predictions / total_predictions if total_predictions > 0 else 0\n",
    "print(\"\\nEvaluation Summary:\")\n",
    "print(f\"\tTotal predictions: {total_predictions}\")\n",
    "print(f\"\tCorrect predictions: {correct_predictions}\")\n",
    "print(f\"\tAccuracy: {accuracy:.2f}\")\n"
   ]
  },
  {
   "cell_type": "code",
   "execution_count": null,
   "metadata": {},
   "outputs": [],
   "source": []
  }
 ],
 "metadata": {
  "kernelspec": {
   "display_name": "Python 3",
   "language": "python",
   "name": "python3"
  },
  "language_info": {
   "codemirror_mode": {
    "name": "ipython",
    "version": 3
   },
   "file_extension": ".py",
   "mimetype": "text/x-python",
   "name": "python",
   "nbconvert_exporter": "python",
   "pygments_lexer": "ipython3",
   "version": "3.11.11"
  }
 },
 "nbformat": 4,
 "nbformat_minor": 4
}
